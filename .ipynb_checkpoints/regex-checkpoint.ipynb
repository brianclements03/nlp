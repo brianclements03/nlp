{
 "cells": [
  {
   "cell_type": "code",
   "execution_count": 1,
   "id": "4947fd96",
   "metadata": {},
   "outputs": [],
   "source": [
    "import re"
   ]
  },
  {
   "cell_type": "markdown",
   "id": "988e5f77",
   "metadata": {},
   "source": [
    "## Write a function named is_vowel. It should accept a string as input and use a regular expression to determine if the passed string is a vowel. While not explicity mentioned in the lesson, you can treat the result of re.search as a boolean value that indicates whether or not the regular expression matches the given string."
   ]
  },
  {
   "cell_type": "code",
   "execution_count": 3,
   "id": "a0885e05",
   "metadata": {},
   "outputs": [
    {
     "data": {
      "text/plain": [
       "<re.Match object; span=(0, 1), match='a'>"
      ]
     },
     "execution_count": 3,
     "metadata": {},
     "output_type": "execute_result"
    }
   ],
   "source": [
    "re.search(r\"^[aeiou]{1}$\", \"a\", re.IGNORECASE)"
   ]
  },
  {
   "cell_type": "code",
   "execution_count": 11,
   "id": "cc50dcc1",
   "metadata": {},
   "outputs": [],
   "source": [
    "def is_vowel(x):\n",
    "    '''\n",
    "    Function that accepts a string as input and uses a regular expression to determine if the passed string is a vowel\n",
    "    '''\n",
    "    if bool(re.search(r\"^[aeiou]{1}$\", x, re.IGNORECASE)) == True:\n",
    "        print(f'{x} is a vowel')\n",
    "    else:\n",
    "        print(f'{x} is not a vowel')\n",
    "    "
   ]
  },
  {
   "cell_type": "code",
   "execution_count": 20,
   "id": "d0c8ceea",
   "metadata": {},
   "outputs": [
    {
     "name": "stdout",
     "output_type": "stream",
     "text": [
      "A is a vowel\n",
      "boo is not a vowel\n",
      "aaA is not a vowel\n",
      "z is not a vowel\n",
      "123 is not a vowel\n",
      "e is a vowel\n"
     ]
    }
   ],
   "source": [
    "is_vowel('A')\n",
    "is_vowel('boo')\n",
    "is_vowel('aaA')\n",
    "is_vowel('z')\n",
    "is_vowel('123')\n",
    "is_vowel('e')"
   ]
  },
  {
   "cell_type": "markdown",
   "id": "157a5f0a",
   "metadata": {},
   "source": [
    "## Write a function named is_valid_username that accepts a string as input. A valid username starts with a lowercase letter, and only consists of lowercase letters, numbers, or the _ character. It should also be no longer than 32 characters. The function should return either True or False depending on whether the passed string is a valid username.\n",
    "\n",
    "       - starts with a lowercase letter\n",
    "       - only has lowercase letters, numbers or _\n",
    "       - 32 chars or less"
   ]
  },
  {
   "cell_type": "code",
   "execution_count": 63,
   "id": "8d31555e",
   "metadata": {},
   "outputs": [
    {
     "data": {
      "text/plain": [
       "True"
      ]
     },
     "execution_count": 63,
     "metadata": {},
     "output_type": "execute_result"
    }
   ],
   "source": [
    "string = 'this_is_tough'\n",
    "bool(re.search(r\"^[a-z]\",string))"
   ]
  },
  {
   "cell_type": "code",
   "execution_count": 64,
   "id": "d6ee1b4c",
   "metadata": {},
   "outputs": [],
   "source": [
    "def starts_with_lowercase_letter(x):\n",
    "    '''\n",
    "    Function to check that a string x begins with a lowercase letter\n",
    "    '''\n",
    "    return bool(re.search(r\"^[a-z]\",x))"
   ]
  },
  {
   "cell_type": "code",
   "execution_count": 68,
   "id": "04dcb0b1",
   "metadata": {},
   "outputs": [
    {
     "data": {
      "text/plain": [
       "True"
      ]
     },
     "execution_count": 68,
     "metadata": {},
     "output_type": "execute_result"
    }
   ],
   "source": [
    "starts_with_lowercase_letter('apples_to_apples')"
   ]
  },
  {
   "cell_type": "code",
   "execution_count": 93,
   "id": "c0e0e9e1",
   "metadata": {},
   "outputs": [],
   "source": [
    "def only_has_lowercase_letters_numbers_or_underscore(x):\n",
    "    '''\n",
    "    Function to check a string has only lowercase letters, numbers or the underscore character\n",
    "    '''\n",
    "    return bool(re.search(r\"^[a-z0-9_]*$\",x))"
   ]
  },
  {
   "cell_type": "code",
   "execution_count": 92,
   "id": "8908b629",
   "metadata": {},
   "outputs": [
    {
     "data": {
      "text/plain": [
       "<re.Match object; span=(0, 13), match='this_is_tough'>"
      ]
     },
     "execution_count": 92,
     "metadata": {},
     "output_type": "execute_result"
    }
   ],
   "source": [
    "string = 'this_is_tough'\n",
    "re.search(r\"^[a-z0-9_]*$\",string)"
   ]
  },
  {
   "cell_type": "code",
   "execution_count": 96,
   "id": "5f3c3f98",
   "metadata": {},
   "outputs": [
    {
     "data": {
      "text/plain": [
       "False"
      ]
     },
     "execution_count": 96,
     "metadata": {},
     "output_type": "execute_result"
    }
   ],
   "source": [
    "only_has_lowercase_letters_numbers_or_underscore('Wow, I could have never done that alone')"
   ]
  },
  {
   "cell_type": "code",
   "execution_count": 95,
   "id": "eba36c94",
   "metadata": {},
   "outputs": [
    {
     "data": {
      "text/plain": [
       "True"
      ]
     },
     "execution_count": 95,
     "metadata": {},
     "output_type": "execute_result"
    }
   ],
   "source": [
    "only_has_lowercase_letters_numbers_or_underscore('wow_ryan_is_a_great_teacher')"
   ]
  },
  {
   "cell_type": "code",
   "execution_count": 97,
   "id": "73578ca3",
   "metadata": {},
   "outputs": [],
   "source": [
    "def correct_length(x):\n",
    "    '''\n",
    "    Function that returns True of the length of a string is 32 characters or less\n",
    "    '''\n",
    "    return bool(len(x)<=32)"
   ]
  },
  {
   "cell_type": "code",
   "execution_count": 136,
   "id": "961fa75c",
   "metadata": {},
   "outputs": [
    {
     "data": {
      "text/plain": [
       "False"
      ]
     },
     "execution_count": 136,
     "metadata": {},
     "output_type": "execute_result"
    }
   ],
   "source": [
    "correct_length('my_name_is_brian_and_this_username_is_absolutely_enormous')"
   ]
  },
  {
   "cell_type": "code",
   "execution_count": 100,
   "id": "15cea644",
   "metadata": {},
   "outputs": [
    {
     "data": {
      "text/plain": [
       "True"
      ]
     },
     "execution_count": 100,
     "metadata": {},
     "output_type": "execute_result"
    }
   ],
   "source": [
    "correct_length(';;;lakefjapoiejf')"
   ]
  },
  {
   "cell_type": "code",
   "execution_count": 203,
   "id": "106138d1",
   "metadata": {},
   "outputs": [],
   "source": [
    "def is_valid_username(x):\n",
    "    '''\n",
    "    Function that accepts a string as input and returns either true or false depending on whether the string\n",
    "    meets the criteria (starts with a lowercase letter; only consists of lowercase letters, numbers, or the _\n",
    "    character; should be no longer than 32 characters)\n",
    "    '''\n",
    "    if starts_with_lowercase_letter(x) == True and \\\n",
    "        only_has_lowercase_letters_numbers_or_underscore(x) == True and \\\n",
    "            correct_length(x) == True:\n",
    "                print(f'The username {x} is valid')\n",
    "    else:\n",
    "        print(f'The username {x} is not valid')"
   ]
  },
  {
   "cell_type": "code",
   "execution_count": 204,
   "id": "67b573f8",
   "metadata": {
    "scrolled": true
   },
   "outputs": [
    {
     "name": "stdout",
     "output_type": "stream",
     "text": [
      "The username My_name_is_br!@n is not valid\n"
     ]
    }
   ],
   "source": [
    "is_valid_username(\"My_name_is_br!@n\")"
   ]
  },
  {
   "cell_type": "code",
   "execution_count": 205,
   "id": "8e025329",
   "metadata": {
    "scrolled": true
   },
   "outputs": [
    {
     "name": "stdout",
     "output_type": "stream",
     "text": [
      "The username my_name_is_brian is valid\n"
     ]
    }
   ],
   "source": [
    "is_valid_username(\"my_name_is_brian\")"
   ]
  },
  {
   "cell_type": "code",
   "execution_count": 206,
   "id": "9b3ce984",
   "metadata": {
    "scrolled": true
   },
   "outputs": [
    {
     "name": "stdout",
     "output_type": "stream",
     "text": [
      "The username my_name_is_brian_and_this_username_is_absolutely_enormous is not valid\n"
     ]
    }
   ],
   "source": [
    "is_valid_username(\"my_name_is_brian_and_this_username_is_absolutely_enormous\")"
   ]
  },
  {
   "cell_type": "code",
   "execution_count": 207,
   "id": "2aca57f2",
   "metadata": {
    "scrolled": true
   },
   "outputs": [
    {
     "name": "stdout",
     "output_type": "stream",
     "text": [
      "The username my_nAme_is_brian_and_This_username_is_absolutely_enormous is not valid\n"
     ]
    }
   ],
   "source": [
    "is_valid_username(\"my_nAme_is_brian_and_This_username_is_absolutely_enormous\")"
   ]
  },
  {
   "cell_type": "code",
   "execution_count": 151,
   "id": "f03f9ad9",
   "metadata": {},
   "outputs": [
    {
     "data": {
      "text/plain": [
       "True"
      ]
     },
     "execution_count": 151,
     "metadata": {},
     "output_type": "execute_result"
    }
   ],
   "source": [
    "regex = r'^[a-z][a-z0-9_]{,31}$'\n",
    "bool(re.search(regex, string))"
   ]
  },
  {
   "cell_type": "code",
   "execution_count": 212,
   "id": "833efea0",
   "metadata": {},
   "outputs": [],
   "source": [
    "def alternate_user_name_validation(x):\n",
    "    regex = r'^[a-z][a-z0-9_]{,31}$'\n",
    "    return bool(re.search(regex, x))"
   ]
  },
  {
   "cell_type": "code",
   "execution_count": 213,
   "id": "a01e1e81",
   "metadata": {},
   "outputs": [
    {
     "data": {
      "text/plain": [
       "False"
      ]
     },
     "execution_count": 213,
     "metadata": {},
     "output_type": "execute_result"
    }
   ],
   "source": [
    "alternate_user_name_validation(\"my_name_is_brian_and_this_username_is_absolutely_enormous\")"
   ]
  },
  {
   "cell_type": "code",
   "execution_count": 154,
   "id": "427bf36c",
   "metadata": {},
   "outputs": [
    {
     "name": "stdout",
     "output_type": "stream",
     "text": [
      "The username aaaaaaaaaaaaaaaaaaaaaaaaaaaaaaaaa is not valid\n",
      "The username codeup is valid\n",
      "The username Codeup is not valid\n",
      "The username codeup123 is valid\n",
      "The username 1codeup is not valid\n"
     ]
    },
    {
     "data": {
      "text/plain": [
       "False"
      ]
     },
     "execution_count": 154,
     "metadata": {},
     "output_type": "execute_result"
    }
   ],
   "source": [
    "# for testing of your function\n",
    ">>> is_valid_username('aaaaaaaaaaaaaaaaaaaaaaaaaaaaaaaaa')\n",
    "False\n",
    ">>> is_valid_username('codeup')\n",
    "True\n",
    ">>> is_valid_username('Codeup')\n",
    "False\n",
    ">>> is_valid_username('codeup123')\n",
    "True\n",
    ">>> is_valid_username('1codeup')\n",
    "False"
   ]
  },
  {
   "cell_type": "code",
   "execution_count": null,
   "id": "48d96cbc",
   "metadata": {},
   "outputs": [],
   "source": []
  },
  {
   "cell_type": "code",
   "execution_count": null,
   "id": "59432ae0",
   "metadata": {},
   "outputs": [],
   "source": []
  },
  {
   "cell_type": "code",
   "execution_count": null,
   "id": "bfac29c9",
   "metadata": {},
   "outputs": [],
   "source": []
  },
  {
   "cell_type": "markdown",
   "id": "2220f636",
   "metadata": {},
   "source": [
    "## Write a regular expression to capture phone numbers. It should match all of the following:\n",
    "\n",
    "- (210) 867 5309\n",
    "- +1 210.867.5309\n",
    "- 867-5309\n",
    "- 210-867-5309"
   ]
  },
  {
   "cell_type": "code",
   "execution_count": 296,
   "id": "2798479c",
   "metadata": {},
   "outputs": [],
   "source": [
    "regex = r\"^(([+]?\\d{,3})?([\\D]?\\d{3}[\\D]?))?.?\\d{3}.*\\d{4}\""
   ]
  },
  {
   "cell_type": "code",
   "execution_count": 297,
   "id": "59332239",
   "metadata": {},
   "outputs": [
    {
     "data": {
      "text/plain": [
       "<re.Match object; span=(0, 14), match='(210) 867 5309'>"
      ]
     },
     "execution_count": 297,
     "metadata": {},
     "output_type": "execute_result"
    }
   ],
   "source": [
    "re.search(regex, '(210) 867 5309')"
   ]
  },
  {
   "cell_type": "code",
   "execution_count": 298,
   "id": "4bf309e0",
   "metadata": {},
   "outputs": [
    {
     "data": {
      "text/plain": [
       "<re.Match object; span=(0, 15), match='+1 210.867.5309'>"
      ]
     },
     "execution_count": 298,
     "metadata": {},
     "output_type": "execute_result"
    }
   ],
   "source": [
    "re.search(regex, '+1 210.867.5309')"
   ]
  },
  {
   "cell_type": "code",
   "execution_count": 299,
   "id": "4accbeb4",
   "metadata": {},
   "outputs": [
    {
     "data": {
      "text/plain": [
       "<re.Match object; span=(0, 8), match='867-5309'>"
      ]
     },
     "execution_count": 299,
     "metadata": {},
     "output_type": "execute_result"
    }
   ],
   "source": [
    "re.search(regex, '867-5309')"
   ]
  },
  {
   "cell_type": "code",
   "execution_count": 300,
   "id": "aa1d0982",
   "metadata": {},
   "outputs": [
    {
     "data": {
      "text/plain": [
       "<re.Match object; span=(0, 14), match='(210) 867 5309'>"
      ]
     },
     "execution_count": 300,
     "metadata": {},
     "output_type": "execute_result"
    }
   ],
   "source": [
    "re.search(regex, '(210) 867 5309')"
   ]
  },
  {
   "cell_type": "code",
   "execution_count": null,
   "id": "d030f0fa",
   "metadata": {},
   "outputs": [],
   "source": []
  },
  {
   "cell_type": "code",
   "execution_count": null,
   "id": "b2fdf0e2",
   "metadata": {},
   "outputs": [],
   "source": []
  },
  {
   "cell_type": "markdown",
   "id": "474798bb",
   "metadata": {},
   "source": [
    "## Use regular expressions to convert the dates below to the standardized year-month-day format.\n",
    "\n",
    "- 02/04/19\n",
    "- 02/05/19\n",
    "- 02/06/19\n",
    "- 02/07/19\n",
    "- 02/08/19\n",
    "- 02/09/19\n",
    "- 02/10/19\n"
   ]
  },
  {
   "cell_type": "markdown",
   "id": "fe83a221",
   "metadata": {},
   "source": [
    "- here's a thought on how to crack this one: break the dates down into groups and use the groups in a replace type statement\n",
    "\n",
    "- match.groupdict()\n"
   ]
  },
  {
   "cell_type": "code",
   "execution_count": 367,
   "id": "3580469f",
   "metadata": {},
   "outputs": [],
   "source": [
    "date = '02/04/19'"
   ]
  },
  {
   "cell_type": "code",
   "execution_count": 368,
   "id": "1c6e81cd",
   "metadata": {},
   "outputs": [
    {
     "data": {
      "text/plain": [
       "<re.Match object; span=(0, 8), match='02/04/19'>"
      ]
     },
     "execution_count": 368,
     "metadata": {},
     "output_type": "execute_result"
    }
   ],
   "source": [
    "group_regex = r\"(?P<month>\\d{2})/(?P<day>\\d{2})/(?P<year>\\d{2})\"\n",
    "re.search(group_regex, date)"
   ]
  },
  {
   "cell_type": "code",
   "execution_count": 369,
   "id": "b138f111",
   "metadata": {},
   "outputs": [],
   "source": [
    "\n",
    "match = re.search(group_regex, date)"
   ]
  },
  {
   "cell_type": "code",
   "execution_count": 370,
   "id": "1c82e38f",
   "metadata": {},
   "outputs": [
    {
     "data": {
      "text/plain": [
       "('02', '04', '19')"
      ]
     },
     "execution_count": 370,
     "metadata": {},
     "output_type": "execute_result"
    }
   ],
   "source": [
    "match.groups()"
   ]
  },
  {
   "cell_type": "code",
   "execution_count": 371,
   "id": "f19b520d",
   "metadata": {},
   "outputs": [
    {
     "data": {
      "text/plain": [
       "{'month': '02', 'day': '04', 'year': '19'}"
      ]
     },
     "execution_count": 371,
     "metadata": {},
     "output_type": "execute_result"
    }
   ],
   "source": [
    "match.groupdict()"
   ]
  },
  {
   "cell_type": "code",
   "execution_count": 372,
   "id": "a4ca9643",
   "metadata": {},
   "outputs": [
    {
     "data": {
      "text/plain": [
       "'19-02-04'"
      ]
     },
     "execution_count": 372,
     "metadata": {},
     "output_type": "execute_result"
    }
   ],
   "source": [
    "formated_date = year+'-'+month+'-'+day\n",
    "formated_date"
   ]
  },
  {
   "cell_type": "code",
   "execution_count": 379,
   "id": "11d598c5",
   "metadata": {},
   "outputs": [],
   "source": [
    "dates = [\n",
    "'02/04/19',\n",
    "'02/05/19',\n",
    "'02/06/19',\n",
    "'02/07/19',\n",
    "'02/08/19',\n",
    "'02/09/19',\n",
    "'02/10/19',\n",
    "]"
   ]
  },
  {
   "cell_type": "code",
   "execution_count": 380,
   "id": "71180d58",
   "metadata": {},
   "outputs": [
    {
     "name": "stdout",
     "output_type": "stream",
     "text": [
      "02/04/19's  formated date is 19-02-04\n",
      "02/05/19's  formated date is 19-02-05\n",
      "02/06/19's  formated date is 19-02-06\n",
      "02/07/19's  formated date is 19-02-07\n",
      "02/08/19's  formated date is 19-02-08\n",
      "02/09/19's  formated date is 19-02-09\n",
      "02/10/19's  formated date is 19-02-10\n"
     ]
    }
   ],
   "source": [
    "\n",
    "for date in dates:\n",
    "    group_regex = r\"(?P<month>\\d{2})/(?P<day>\\d{2})/(?P<year>\\d{2})\"\n",
    "    month, day, year = re.search(group_regex, date).groups()\n",
    "    formated_date = year+'-'+month+'-'+day\n",
    "    print(f\"{date}'s  formated date is {formated_date}\")"
   ]
  },
  {
   "cell_type": "markdown",
   "id": "68a048a3",
   "metadata": {},
   "source": [
    "## Write a regex to extract the various parts of these logfile lines:\n",
    "\n",
    "- GET /api/v1/sales?page=86 [16/Apr/2019:193452+0000] HTTP/1.1 {200} 510348 \"python-requests/2.21.0\" 97.105.19.58\n",
    "- POST /users_accounts/file-upload [16/Apr/2019:193452+0000] HTTP/1.1 {201} 42 \"User-Agent: Mozilla/5.0 (X11; Fedora; Fedora; Linux x86_64) AppleWebKit/537.36 (KHTML, like Gecko) Chrome/73.0.3683.86 Safari/537.36\" 97.105.19.58\n",
    "- GET /api/v1/items?page=3 [16/Apr/2019:193453+0000] HTTP/1.1 {429} 3561 \"python-requests/2.21.0\" 97.105.19.58\n"
   ]
  },
  {
   "cell_type": "markdown",
   "id": "532c52ec",
   "metadata": {},
   "source": [
    "- first of all...what are all the various parts?\n",
    "1. capitalized letters and a space (followed by /)\n",
    "2. api (or users_accounts)--this is lowercase and _ only [/]\n",
    "2. ** possibly an api version number\n",
    "3. alphanumeric. some special characters here and there\n",
    "4. [datetime]\n",
    "5. HTTP/\n",
    "6. 1.1 {status message} 'x number of numbers' \n",
    "7. \"a bunch of Different Case alphanumeric data of indeterminate length\"\n",
    "8. and ip address"
   ]
  },
  {
   "cell_type": "code",
   "execution_count": 386,
   "id": "335fd6a1",
   "metadata": {},
   "outputs": [
    {
     "data": {
      "text/plain": [
       "<re.Match object; span=(0, 5), match='GET /'>"
      ]
     },
     "execution_count": 386,
     "metadata": {},
     "output_type": "execute_result"
    }
   ],
   "source": [
    "# 1:\n",
    "# r\"(^[A-Z]{,4}[ ]\")\n",
    "re.search(r\"^([A-Z]{,4}[ ]/)\",\"\"\"GET /api/v1/sales?page=86 [16/Apr/2019:193452+0000] HTTP/1.1 {200} \n",
    "510348 \"python-requests/2.21.0\" 97.105.19.58\"\"\")\n",
    "# number 1 looks good"
   ]
  },
  {
   "cell_type": "code",
   "execution_count": 405,
   "id": "f681d251",
   "metadata": {},
   "outputs": [
    {
     "data": {
      "text/plain": [
       "<re.Match object; span=(0, 12), match='GET /api/v1/'>"
      ]
     },
     "execution_count": 405,
     "metadata": {},
     "output_type": "execute_result"
    }
   ],
   "source": [
    "# 2:\n",
    "#r\"([a-z_]*/)\"\n",
    "re.search(r\"^([A-Z]{,4}[ ]/)([a-z_]*/)\",\"\"\"GET /api/v1/sales?page=86 [16/Apr/2019:193452+0000] HTTP/1.1 {200} \n",
    "510348 \"python-requests/2.21.0\" 97.105.19.58\"\"\")\n",
    "# so far, so good\n",
    "\n",
    "# 2* possible version number\n",
    "#(\\w*/)?\n",
    "re.search(r\"^([A-Z]{,4}[ ]/)([a-z_]*/)([\\w*]{,2}/)?\",\"\"\"GET /api/v1/sales?page=86 [16/Apr/2019:193452+0000] HTTP/1.1 {200} \n",
    "510348 \"python-requests/2.21.0\" 97.105.19.58\"\"\")\n",
    "#check"
   ]
  },
  {
   "cell_type": "code",
   "execution_count": 409,
   "id": "083fc949",
   "metadata": {},
   "outputs": [],
   "source": [
    "# 3: alphanumeric. some other characters here and there, including sp chars\n",
    "# 'page=86' in this case\n",
    "# (\\w+.[ ])\n",
    "re.search(r\"^([A-Z]{,4}[ ]/)([a-z_]*/)([\\w*]{,2}/)?([\\w]*.[\\w]*[ ])\",\"\"\"GET /api/v1/sales?page=86 [16/Apr/2019:193452+0000] HTTP/1.1 {200} \n",
    "510348 \"python-requests/2.21.0\" 97.105.19.58\"\"\")"
   ]
  },
  {
   "cell_type": "code",
   "execution_count": 410,
   "id": "158cd7e6",
   "metadata": {},
   "outputs": [],
   "source": [
    "re.search(r\"[\\w]*.[\\w]*[ ]\",'page=86')"
   ]
  },
  {
   "cell_type": "code",
   "execution_count": null,
   "id": "3c286e7b",
   "metadata": {},
   "outputs": [],
   "source": []
  }
 ],
 "metadata": {
  "kernelspec": {
   "display_name": "Python 3",
   "language": "python",
   "name": "python3"
  },
  "language_info": {
   "codemirror_mode": {
    "name": "ipython",
    "version": 3
   },
   "file_extension": ".py",
   "mimetype": "text/x-python",
   "name": "python",
   "nbconvert_exporter": "python",
   "pygments_lexer": "ipython3",
   "version": "3.8.8"
  }
 },
 "nbformat": 4,
 "nbformat_minor": 5
}
