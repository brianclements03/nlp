{
 "cells": [
  {
   "cell_type": "code",
   "execution_count": 1,
   "id": "b4e2e975",
   "metadata": {},
   "outputs": [],
   "source": [
    "import re"
   ]
  },
  {
   "cell_type": "markdown",
   "id": "3c8aaac6",
   "metadata": {},
   "source": [
    "## Write a function named is_vowel. It should accept a string as input and use a regular expression to determine if the passed string is a vowel. While not explicity mentioned in the lesson, you can treat the result of re.search as a boolean value that indicates whether or not the regular expression matches the given string."
   ]
  },
  {
   "cell_type": "code",
   "execution_count": 3,
   "id": "914c2624",
   "metadata": {},
   "outputs": [
    {
     "data": {
      "text/plain": [
       "<re.Match object; span=(0, 1), match='a'>"
      ]
     },
     "execution_count": 3,
     "metadata": {},
     "output_type": "execute_result"
    }
   ],
   "source": [
    "re.search(r\"^[aeiou]{1}$\", \"a\", re.IGNORECASE)"
   ]
  },
  {
   "cell_type": "code",
   "execution_count": 11,
   "id": "c10ad8f9",
   "metadata": {},
   "outputs": [],
   "source": [
    "def is_vowel(x):\n",
    "    '''\n",
    "    Function that accepts a string as input and uses a regular expression to determine if the passed string is a vowel\n",
    "    '''\n",
    "    if bool(re.search(r\"^[aeiou]{1}$\", x, re.IGNORECASE)) == True:\n",
    "        print(f'{x} is a vowel')\n",
    "    else:\n",
    "        print(f'{x} is not a vowel')\n",
    "    "
   ]
  },
  {
   "cell_type": "code",
   "execution_count": 20,
   "id": "8897c24e",
   "metadata": {},
   "outputs": [
    {
     "name": "stdout",
     "output_type": "stream",
     "text": [
      "A is a vowel\n",
      "boo is not a vowel\n",
      "aaA is not a vowel\n",
      "z is not a vowel\n",
      "123 is not a vowel\n",
      "e is a vowel\n"
     ]
    }
   ],
   "source": [
    "is_vowel('A')\n",
    "is_vowel('boo')\n",
    "is_vowel('aaA')\n",
    "is_vowel('z')\n",
    "is_vowel('123')\n",
    "is_vowel('e')"
   ]
  },
  {
   "cell_type": "markdown",
   "id": "ae6ff9e4",
   "metadata": {},
   "source": [
    "## Write a function named is_valid_username that accepts a string as input. A valid username starts with a lowercase letter, and only consists of lowercase letters, numbers, or the _ character. It should also be no longer than 32 characters. The function should return either True or False depending on whether the passed string is a valid username.\n",
    "\n",
    "       - starts with a lowercase letter\n",
    "       - only has lowercase letters, numbers or _\n",
    "       - 32 chars or less"
   ]
  },
  {
   "cell_type": "code",
   "execution_count": 63,
   "id": "ba7a68c2",
   "metadata": {},
   "outputs": [
    {
     "data": {
      "text/plain": [
       "True"
      ]
     },
     "execution_count": 63,
     "metadata": {},
     "output_type": "execute_result"
    }
   ],
   "source": [
    "string = 'this_is_tough'\n",
    "bool(re.search(r\"^[a-z]\",string))"
   ]
  },
  {
   "cell_type": "code",
   "execution_count": 64,
   "id": "29be8ae4",
   "metadata": {},
   "outputs": [],
   "source": [
    "def starts_with_lowercase_letter(x):\n",
    "    '''\n",
    "    Function to check that a string x begins with a lowercase letter\n",
    "    '''\n",
    "    return bool(re.search(r\"^[a-z]\",x))"
   ]
  },
  {
   "cell_type": "code",
   "execution_count": 68,
   "id": "ebf5a1f2",
   "metadata": {},
   "outputs": [
    {
     "data": {
      "text/plain": [
       "True"
      ]
     },
     "execution_count": 68,
     "metadata": {},
     "output_type": "execute_result"
    }
   ],
   "source": [
    "starts_with_lowercase_letter('apples_to_apples')"
   ]
  },
  {
   "cell_type": "code",
   "execution_count": 93,
   "id": "afa50d11",
   "metadata": {},
   "outputs": [],
   "source": [
    "def only_has_lowercase_letters_numbers_or_underscore(x):\n",
    "    '''\n",
    "    Function to check a string has only lowercase letters, numbers or the underscore character\n",
    "    '''\n",
    "    return bool(re.search(r\"^[a-z0-9_]*$\",x))"
   ]
  },
  {
   "cell_type": "code",
   "execution_count": 92,
   "id": "d946df5c",
   "metadata": {},
   "outputs": [
    {
     "data": {
      "text/plain": [
       "<re.Match object; span=(0, 13), match='this_is_tough'>"
      ]
     },
     "execution_count": 92,
     "metadata": {},
     "output_type": "execute_result"
    }
   ],
   "source": [
    "string = 'this_is_tough'\n",
    "re.search(r\"^[a-z0-9_]*$\",string)"
   ]
  },
  {
   "cell_type": "code",
   "execution_count": 96,
   "id": "c1836e1e",
   "metadata": {},
   "outputs": [
    {
     "data": {
      "text/plain": [
       "False"
      ]
     },
     "execution_count": 96,
     "metadata": {},
     "output_type": "execute_result"
    }
   ],
   "source": [
    "only_has_lowercase_letters_numbers_or_underscore('Wow, I could have never done that alone')"
   ]
  },
  {
   "cell_type": "code",
   "execution_count": 95,
   "id": "a0117b90",
   "metadata": {},
   "outputs": [
    {
     "data": {
      "text/plain": [
       "True"
      ]
     },
     "execution_count": 95,
     "metadata": {},
     "output_type": "execute_result"
    }
   ],
   "source": [
    "only_has_lowercase_letters_numbers_or_underscore('wow_ryan_is_a_great_teacher')"
   ]
  },
  {
   "cell_type": "code",
   "execution_count": 97,
   "id": "5557554f",
   "metadata": {},
   "outputs": [],
   "source": [
    "def correct_length(x):\n",
    "    '''\n",
    "    Function that returns True of the length of a string is 32 characters or less\n",
    "    '''\n",
    "    return bool(len(x)<=32)"
   ]
  },
  {
   "cell_type": "code",
   "execution_count": 136,
   "id": "b0f28a6a",
   "metadata": {},
   "outputs": [
    {
     "data": {
      "text/plain": [
       "False"
      ]
     },
     "execution_count": 136,
     "metadata": {},
     "output_type": "execute_result"
    }
   ],
   "source": [
    "correct_length('my_name_is_brian_and_this_username_is_absolutely_enormous')"
   ]
  },
  {
   "cell_type": "code",
   "execution_count": 100,
   "id": "2d940407",
   "metadata": {},
   "outputs": [
    {
     "data": {
      "text/plain": [
       "True"
      ]
     },
     "execution_count": 100,
     "metadata": {},
     "output_type": "execute_result"
    }
   ],
   "source": [
    "correct_length(';;;lakefjapoiejf')"
   ]
  },
  {
   "cell_type": "code",
   "execution_count": 146,
   "id": "4c5721a4",
   "metadata": {},
   "outputs": [],
   "source": [
    "def is_valid_username(x):\n",
    "    '''\n",
    "    Function that accepts a string as input and returns either true or false depending on whether the string\n",
    "    meets the criteria (starts with a lowercase letter; only consists of lowercase letters, numbers, or the _\n",
    "    character; should be no longer than 32 characters)\n",
    "    '''\n",
    "    if starts_with_lowercase_letter(x) == True:\n",
    "        if only_has_lowercase_letters_numbers_or_underscore(x) == True:\n",
    "            if correct_length(x) == True:\n",
    "                print(f'The username {x} is valid')\n",
    "            else:\n",
    "                print(f'The username {x} is not valid')\n",
    "        else:\n",
    "            print(f'The username {x} is not valid')\n",
    "    else:\n",
    "        print(f'The username {x} is not valid')"
   ]
  },
  {
   "cell_type": "code",
   "execution_count": 203,
   "id": "cca3222b",
   "metadata": {},
   "outputs": [],
   "source": [
    "def is_valid_username(x):\n",
    "    '''\n",
    "    Function that accepts a string as input and returns either true or false depending on whether the string\n",
    "    meets the criteria (starts with a lowercase letter; only consists of lowercase letters, numbers, or the _\n",
    "    character; should be no longer than 32 characters)\n",
    "    '''\n",
    "    if starts_with_lowercase_letter(x) == True and \\\n",
    "        only_has_lowercase_letters_numbers_or_underscore(x) == True and \\\n",
    "            correct_length(x) == True:\n",
    "                print(f'The username {x} is valid')\n",
    "    else:\n",
    "        print(f'The username {x} is not valid')"
   ]
  },
  {
   "cell_type": "code",
   "execution_count": 204,
   "id": "1f00d9b3",
   "metadata": {
    "scrolled": true
   },
   "outputs": [
    {
     "name": "stdout",
     "output_type": "stream",
     "text": [
      "The username My_name_is_br!@n is not valid\n"
     ]
    }
   ],
   "source": [
    "is_valid_username(\"My_name_is_br!@n\")"
   ]
  },
  {
   "cell_type": "code",
   "execution_count": 205,
   "id": "47eae9d9",
   "metadata": {
    "scrolled": true
   },
   "outputs": [
    {
     "name": "stdout",
     "output_type": "stream",
     "text": [
      "The username my_name_is_brian is valid\n"
     ]
    }
   ],
   "source": [
    "is_valid_username(\"my_name_is_brian\")"
   ]
  },
  {
   "cell_type": "code",
   "execution_count": 206,
   "id": "c7ce33fa",
   "metadata": {
    "scrolled": true
   },
   "outputs": [
    {
     "name": "stdout",
     "output_type": "stream",
     "text": [
      "The username my_name_is_brian_and_this_username_is_absolutely_enormous is not valid\n"
     ]
    }
   ],
   "source": [
    "is_valid_username(\"my_name_is_brian_and_this_username_is_absolutely_enormous\")"
   ]
  },
  {
   "cell_type": "code",
   "execution_count": 207,
   "id": "22d41b0e",
   "metadata": {
    "scrolled": true
   },
   "outputs": [
    {
     "name": "stdout",
     "output_type": "stream",
     "text": [
      "The username my_nAme_is_brian_and_This_username_is_absolutely_enormous is not valid\n"
     ]
    }
   ],
   "source": [
    "is_valid_username(\"my_nAme_is_brian_and_This_username_is_absolutely_enormous\")"
   ]
  },
  {
   "cell_type": "code",
   "execution_count": 151,
   "id": "da8d1c9d",
   "metadata": {},
   "outputs": [
    {
     "data": {
      "text/plain": [
       "True"
      ]
     },
     "execution_count": 151,
     "metadata": {},
     "output_type": "execute_result"
    }
   ],
   "source": [
    "regex = r'^[a-z][a-z0-9_]{,31}$'\n",
    "bool(re.search(regex, string))"
   ]
  },
  {
   "cell_type": "code",
   "execution_count": 212,
   "id": "2ceff73d",
   "metadata": {},
   "outputs": [],
   "source": [
    "def alternate_user_name_validation(x):\n",
    "    regex = r'^[a-z][a-z0-9_]{,31}$'\n",
    "    return bool(re.search(regex, x))"
   ]
  },
  {
   "cell_type": "code",
   "execution_count": 213,
   "id": "fefd9c78",
   "metadata": {},
   "outputs": [
    {
     "data": {
      "text/plain": [
       "False"
      ]
     },
     "execution_count": 213,
     "metadata": {},
     "output_type": "execute_result"
    }
   ],
   "source": [
    "alternate_user_name_validation(\"my_name_is_brian_and_this_username_is_absolutely_enormous\")"
   ]
  },
  {
   "cell_type": "code",
   "execution_count": 154,
   "id": "2f176754",
   "metadata": {},
   "outputs": [
    {
     "name": "stdout",
     "output_type": "stream",
     "text": [
      "The username aaaaaaaaaaaaaaaaaaaaaaaaaaaaaaaaa is not valid\n",
      "The username codeup is valid\n",
      "The username Codeup is not valid\n",
      "The username codeup123 is valid\n",
      "The username 1codeup is not valid\n"
     ]
    },
    {
     "data": {
      "text/plain": [
       "False"
      ]
     },
     "execution_count": 154,
     "metadata": {},
     "output_type": "execute_result"
    }
   ],
   "source": [
    "# for testing of your function\n",
    ">>> is_valid_username('aaaaaaaaaaaaaaaaaaaaaaaaaaaaaaaaa')\n",
    "False\n",
    ">>> is_valid_username('codeup')\n",
    "True\n",
    ">>> is_valid_username('Codeup')\n",
    "False\n",
    ">>> is_valid_username('codeup123')\n",
    "True\n",
    ">>> is_valid_username('1codeup')\n",
    "False"
   ]
  },
  {
   "cell_type": "code",
   "execution_count": null,
   "id": "85004198",
   "metadata": {},
   "outputs": [],
   "source": []
  },
  {
   "cell_type": "code",
   "execution_count": null,
   "id": "7f481503",
   "metadata": {},
   "outputs": [],
   "source": []
  },
  {
   "cell_type": "code",
   "execution_count": null,
   "id": "efd8609e",
   "metadata": {},
   "outputs": [],
   "source": []
  },
  {
   "cell_type": "markdown",
   "id": "f90d57f9",
   "metadata": {},
   "source": [
    "## Write a regular expression to capture phone numbers. It should match all of the following:\n",
    "\n",
    "- (210) 867 5309\n",
    "- +1 210.867.5309\n",
    "- 867-5309\n",
    "- 210-867-5309"
   ]
  },
  {
   "cell_type": "code",
   "execution_count": 296,
   "id": "c35f2c78",
   "metadata": {},
   "outputs": [],
   "source": [
    "regex = r\"^(([+]?\\d{,3})?([\\D]?\\d{3}[\\D]?))?.?\\d{3}.*\\d{4}\""
   ]
  },
  {
   "cell_type": "code",
   "execution_count": 297,
   "id": "8a7e87c0",
   "metadata": {},
   "outputs": [
    {
     "data": {
      "text/plain": [
       "<re.Match object; span=(0, 14), match='(210) 867 5309'>"
      ]
     },
     "execution_count": 297,
     "metadata": {},
     "output_type": "execute_result"
    }
   ],
   "source": [
    "re.search(regex, '(210) 867 5309')"
   ]
  },
  {
   "cell_type": "code",
   "execution_count": 298,
   "id": "f2a7f790",
   "metadata": {},
   "outputs": [
    {
     "data": {
      "text/plain": [
       "<re.Match object; span=(0, 15), match='+1 210.867.5309'>"
      ]
     },
     "execution_count": 298,
     "metadata": {},
     "output_type": "execute_result"
    }
   ],
   "source": [
    "re.search(regex, '+1 210.867.5309')"
   ]
  },
  {
   "cell_type": "code",
   "execution_count": 299,
   "id": "0ba14fe7",
   "metadata": {},
   "outputs": [
    {
     "data": {
      "text/plain": [
       "<re.Match object; span=(0, 8), match='867-5309'>"
      ]
     },
     "execution_count": 299,
     "metadata": {},
     "output_type": "execute_result"
    }
   ],
   "source": [
    "re.search(regex, '867-5309')"
   ]
  },
  {
   "cell_type": "code",
   "execution_count": 300,
   "id": "a27bb503",
   "metadata": {},
   "outputs": [
    {
     "data": {
      "text/plain": [
       "<re.Match object; span=(0, 14), match='(210) 867 5309'>"
      ]
     },
     "execution_count": 300,
     "metadata": {},
     "output_type": "execute_result"
    }
   ],
   "source": [
    "re.search(regex, '(210) 867 5309')"
   ]
  },
  {
   "cell_type": "code",
   "execution_count": null,
   "id": "a2da8c7e",
   "metadata": {},
   "outputs": [],
   "source": []
  },
  {
   "cell_type": "code",
   "execution_count": null,
   "id": "dcf0c24a",
   "metadata": {},
   "outputs": [],
   "source": []
  },
  {
   "cell_type": "markdown",
   "id": "6046f86d",
   "metadata": {},
   "source": [
    "## Use regular expressions to convert the dates below to the standardized year-month-day format.\n",
    "\n",
    "- 02/04/19\n",
    "- 02/05/19\n",
    "- 02/06/19\n",
    "- 02/07/19\n",
    "- 02/08/19\n",
    "- 02/09/19\n",
    "- 02/10/19\n"
   ]
  },
  {
   "cell_type": "markdown",
   "id": "77c893b0",
   "metadata": {},
   "source": [
    "- here's a thought on how to crack this one: break the dates down into groups and use the groups in a replace type statement"
   ]
  },
  {
   "cell_type": "code",
   "execution_count": 306,
   "id": "692d762d",
   "metadata": {},
   "outputs": [],
   "source": [
    "date = '02/04/19'\n",
    "date_regex = r\"^P<day>\\d{2}[/]P<month>\\d{2}[/]P<year>\\d{2}\""
   ]
  },
  {
   "cell_type": "code",
   "execution_count": 308,
   "id": "b1c811c3",
   "metadata": {},
   "outputs": [
    {
     "ename": "AttributeError",
     "evalue": "'NoneType' object has no attribute 'groups'",
     "output_type": "error",
     "traceback": [
      "\u001b[0;31m---------------------------------------------------------------------------\u001b[0m",
      "\u001b[0;31mAttributeError\u001b[0m                            Traceback (most recent call last)",
      "\u001b[0;32m<ipython-input-308-8fca88c6c06a>\u001b[0m in \u001b[0;36m<module>\u001b[0;34m\u001b[0m\n\u001b[0;32m----> 1\u001b[0;31m \u001b[0mre\u001b[0m\u001b[0;34m.\u001b[0m\u001b[0msearch\u001b[0m\u001b[0;34m(\u001b[0m\u001b[0mdate_regex\u001b[0m\u001b[0;34m,\u001b[0m\u001b[0mdate\u001b[0m\u001b[0;34m)\u001b[0m\u001b[0;34m.\u001b[0m\u001b[0mgroups\u001b[0m\u001b[0;34m(\u001b[0m\u001b[0;34m)\u001b[0m\u001b[0;34m\u001b[0m\u001b[0;34m\u001b[0m\u001b[0m\n\u001b[0m",
      "\u001b[0;31mAttributeError\u001b[0m: 'NoneType' object has no attribute 'groups'"
     ]
    }
   ],
   "source": [
    "re.search(date_regex,date).groups()"
   ]
  },
  {
   "cell_type": "code",
   "execution_count": 304,
   "id": "aba2b78a",
   "metadata": {},
   "outputs": [
    {
     "ename": "ValueError",
     "evalue": "not enough values to unpack (expected 3, got 0)",
     "output_type": "error",
     "traceback": [
      "\u001b[0;31m---------------------------------------------------------------------------\u001b[0m",
      "\u001b[0;31mValueError\u001b[0m                                Traceback (most recent call last)",
      "\u001b[0;32m<ipython-input-304-cf209953276c>\u001b[0m in \u001b[0;36m<module>\u001b[0;34m\u001b[0m\n\u001b[0;32m----> 1\u001b[0;31m \u001b[0mday\u001b[0m\u001b[0;34m,\u001b[0m \u001b[0mmonth\u001b[0m\u001b[0;34m,\u001b[0m \u001b[0myear\u001b[0m \u001b[0;34m=\u001b[0m \u001b[0mre\u001b[0m\u001b[0;34m.\u001b[0m\u001b[0msearch\u001b[0m\u001b[0;34m(\u001b[0m\u001b[0mdate_regex\u001b[0m\u001b[0;34m,\u001b[0m \u001b[0mdate\u001b[0m\u001b[0;34m)\u001b[0m\u001b[0;34m.\u001b[0m\u001b[0mgroups\u001b[0m\u001b[0;34m(\u001b[0m\u001b[0;34m)\u001b[0m\u001b[0;34m\u001b[0m\u001b[0;34m\u001b[0m\u001b[0m\n\u001b[0m\u001b[1;32m      2\u001b[0m \u001b[0;34m\u001b[0m\u001b[0m\n\u001b[1;32m      3\u001b[0m print(f'''\n\u001b[1;32m      4\u001b[0m \u001b[0mday\u001b[0m\u001b[0;34m:\u001b[0m \u001b[0;34m{\u001b[0m\u001b[0mday\u001b[0m\u001b[0;34m}\u001b[0m\u001b[0;34m\u001b[0m\u001b[0;34m\u001b[0m\u001b[0m\n\u001b[1;32m      5\u001b[0m \u001b[0mmonth\u001b[0m\u001b[0;34m:\u001b[0m   \u001b[0;34m{\u001b[0m\u001b[0mmonth\u001b[0m\u001b[0;34m}\u001b[0m\u001b[0;34m\u001b[0m\u001b[0;34m\u001b[0m\u001b[0m\n",
      "\u001b[0;31mValueError\u001b[0m: not enough values to unpack (expected 3, got 0)"
     ]
    }
   ],
   "source": [
    "\n",
    "day, month, year = re.search(date_regex, date).groups()\n",
    "\n",
    "print(f'''\n",
    "day: {day}\n",
    "month:   {month}\n",
    "year:      {year}\n",
    "''')"
   ]
  },
  {
   "cell_type": "code",
   "execution_count": null,
   "id": "12ad6be3",
   "metadata": {},
   "outputs": [],
   "source": []
  }
 ],
 "metadata": {
  "kernelspec": {
   "display_name": "Python 3",
   "language": "python",
   "name": "python3"
  },
  "language_info": {
   "codemirror_mode": {
    "name": "ipython",
    "version": 3
   },
   "file_extension": ".py",
   "mimetype": "text/x-python",
   "name": "python",
   "nbconvert_exporter": "python",
   "pygments_lexer": "ipython3",
   "version": "3.8.8"
  }
 },
 "nbformat": 4,
 "nbformat_minor": 5
}
