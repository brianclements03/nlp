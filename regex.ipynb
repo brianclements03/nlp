{
 "cells": [
  {
   "cell_type": "code",
   "execution_count": 1,
   "id": "f051098d",
   "metadata": {},
   "outputs": [],
   "source": [
    "import re"
   ]
  },
  {
   "cell_type": "markdown",
   "id": "865783a6",
   "metadata": {},
   "source": [
    "## Write a function named is_vowel. It should accept a string as input and use a regular expression to determine if the passed string is a vowel. While not explicity mentioned in the lesson, you can treat the result of re.search as a boolean value that indicates whether or not the regular expression matches the given string."
   ]
  },
  {
   "cell_type": "code",
   "execution_count": 3,
   "id": "507bd7c5",
   "metadata": {},
   "outputs": [
    {
     "data": {
      "text/plain": [
       "<re.Match object; span=(0, 1), match='a'>"
      ]
     },
     "execution_count": 3,
     "metadata": {},
     "output_type": "execute_result"
    }
   ],
   "source": [
    "re.search(r\"^[aeiou]{1}$\", \"a\", re.IGNORECASE)"
   ]
  },
  {
   "cell_type": "code",
   "execution_count": 11,
   "id": "4272566b",
   "metadata": {},
   "outputs": [],
   "source": [
    "def is_vowel(x):\n",
    "    '''\n",
    "    Function that accepts a string as input and uses a regular expression to determine if the passed string is a vowel\n",
    "    '''\n",
    "    if bool(re.search(r\"^[aeiou]{1}$\", x, re.IGNORECASE)) == True:\n",
    "        print(f'{x} is a vowel')\n",
    "    else:\n",
    "        print(f'{x} is not a vowel')\n",
    "    "
   ]
  },
  {
   "cell_type": "code",
   "execution_count": 20,
   "id": "3834966f",
   "metadata": {},
   "outputs": [
    {
     "name": "stdout",
     "output_type": "stream",
     "text": [
      "A is a vowel\n",
      "boo is not a vowel\n",
      "aaA is not a vowel\n",
      "z is not a vowel\n",
      "123 is not a vowel\n",
      "e is a vowel\n"
     ]
    }
   ],
   "source": [
    "is_vowel('A')\n",
    "is_vowel('boo')\n",
    "is_vowel('aaA')\n",
    "is_vowel('z')\n",
    "is_vowel('123')\n",
    "is_vowel('e')"
   ]
  },
  {
   "cell_type": "markdown",
   "id": "7c33cac0",
   "metadata": {},
   "source": [
    "## Write a function named is_valid_username that accepts a string as input. A valid username starts with a lowercase letter, and only consists of lowercase letters, numbers, or the _ character. It should also be no longer than 32 characters. The function should return either True or False depending on whether the passed string is a valid username.\n",
    "\n",
    "       - starts with a lowercase letter\n",
    "       - only has lowercase letters, numbers or _\n",
    "       - 32 chars or less"
   ]
  },
  {
   "cell_type": "code",
   "execution_count": 63,
   "id": "07fbbd32",
   "metadata": {},
   "outputs": [
    {
     "data": {
      "text/plain": [
       "True"
      ]
     },
     "execution_count": 63,
     "metadata": {},
     "output_type": "execute_result"
    }
   ],
   "source": [
    "string = 'this_is_tough'\n",
    "bool(re.search(r\"^[a-z]\",string))"
   ]
  },
  {
   "cell_type": "code",
   "execution_count": 64,
   "id": "bae218e6",
   "metadata": {},
   "outputs": [],
   "source": [
    "def starts_with_lowercase_letter(x):\n",
    "    '''\n",
    "    Function to check that a string x begins with a lowercase letter\n",
    "    '''\n",
    "    return bool(re.search(r\"^[a-z]\",x))"
   ]
  },
  {
   "cell_type": "code",
   "execution_count": 68,
   "id": "ed8f8fef",
   "metadata": {},
   "outputs": [
    {
     "data": {
      "text/plain": [
       "True"
      ]
     },
     "execution_count": 68,
     "metadata": {},
     "output_type": "execute_result"
    }
   ],
   "source": [
    "starts_with_lowercase_letter('apples_to_apples')"
   ]
  },
  {
   "cell_type": "code",
   "execution_count": 93,
   "id": "584d9c0e",
   "metadata": {},
   "outputs": [],
   "source": [
    "def only_has_lowercase_letters_numbers_or_underscore(x):\n",
    "    '''\n",
    "    Function to check a string has only lowercase letters, numbers or the underscore character\n",
    "    '''\n",
    "    return bool(re.search(r\"^[a-z0-9_]*$\",x))"
   ]
  },
  {
   "cell_type": "code",
   "execution_count": 92,
   "id": "39e33685",
   "metadata": {},
   "outputs": [
    {
     "data": {
      "text/plain": [
       "<re.Match object; span=(0, 13), match='this_is_tough'>"
      ]
     },
     "execution_count": 92,
     "metadata": {},
     "output_type": "execute_result"
    }
   ],
   "source": [
    "string = 'this_is_tough'\n",
    "re.search(r\"^[a-z0-9_]*$\",string)"
   ]
  },
  {
   "cell_type": "code",
   "execution_count": 96,
   "id": "40abea5b",
   "metadata": {},
   "outputs": [
    {
     "data": {
      "text/plain": [
       "False"
      ]
     },
     "execution_count": 96,
     "metadata": {},
     "output_type": "execute_result"
    }
   ],
   "source": [
    "only_has_lowercase_letters_numbers_or_underscore('Wow, I could have never done that alone')"
   ]
  },
  {
   "cell_type": "code",
   "execution_count": 95,
   "id": "7c3479f7",
   "metadata": {},
   "outputs": [
    {
     "data": {
      "text/plain": [
       "True"
      ]
     },
     "execution_count": 95,
     "metadata": {},
     "output_type": "execute_result"
    }
   ],
   "source": [
    "only_has_lowercase_letters_numbers_or_underscore('wow_ryan_is_a_great_teacher')"
   ]
  },
  {
   "cell_type": "code",
   "execution_count": 97,
   "id": "5ebecc70",
   "metadata": {},
   "outputs": [],
   "source": [
    "def correct_length(x):\n",
    "    '''\n",
    "    Function that returns True of the length of a string is 32 characters or less\n",
    "    '''\n",
    "    return bool(len(x)<=32)"
   ]
  },
  {
   "cell_type": "code",
   "execution_count": 136,
   "id": "a7fe27bc",
   "metadata": {},
   "outputs": [
    {
     "data": {
      "text/plain": [
       "False"
      ]
     },
     "execution_count": 136,
     "metadata": {},
     "output_type": "execute_result"
    }
   ],
   "source": [
    "correct_length('my_name_is_brian_and_this_username_is_absolutely_enormous')"
   ]
  },
  {
   "cell_type": "code",
   "execution_count": 100,
   "id": "928b5551",
   "metadata": {},
   "outputs": [
    {
     "data": {
      "text/plain": [
       "True"
      ]
     },
     "execution_count": 100,
     "metadata": {},
     "output_type": "execute_result"
    }
   ],
   "source": [
    "correct_length(';;;lakefjapoiejf')"
   ]
  },
  {
   "cell_type": "code",
   "execution_count": 146,
   "id": "c209228d",
   "metadata": {},
   "outputs": [],
   "source": [
    "def is_valid_username(x):\n",
    "    '''\n",
    "    Function that accepts a string as input and returns either true or false depending on whether the string\n",
    "    meets the criteria (starts with a lowercase letter; only consists of lowercase letters, numbers, or the _\n",
    "    character; should be no longer than 32 characters)\n",
    "    '''\n",
    "    if starts_with_lowercase_letter(x) == True:\n",
    "        if only_has_lowercase_letters_numbers_or_underscore(x) == True:\n",
    "            if correct_length(x) == True:\n",
    "                print(f'The username {x} is valid')\n",
    "            else:\n",
    "                print(f'The username {x} is not valid')\n",
    "        else:\n",
    "            print(f'The username {x} is not valid')\n",
    "    else:\n",
    "        print(f'The username {x} is not valid')"
   ]
  },
  {
   "cell_type": "code",
   "execution_count": 147,
   "id": "1284916a",
   "metadata": {
    "scrolled": true
   },
   "outputs": [
    {
     "name": "stdout",
     "output_type": "stream",
     "text": [
      "The username My_name_is_br!@n is not valid\n"
     ]
    }
   ],
   "source": [
    "is_valid_username(\"My_name_is_br!@n\")"
   ]
  },
  {
   "cell_type": "code",
   "execution_count": 148,
   "id": "8af68a66",
   "metadata": {
    "scrolled": true
   },
   "outputs": [
    {
     "name": "stdout",
     "output_type": "stream",
     "text": [
      "The username my_name_is_brian is valid\n"
     ]
    }
   ],
   "source": [
    "is_valid_username(\"my_name_is_brian\")"
   ]
  },
  {
   "cell_type": "code",
   "execution_count": 149,
   "id": "096fae89",
   "metadata": {
    "scrolled": true
   },
   "outputs": [
    {
     "name": "stdout",
     "output_type": "stream",
     "text": [
      "The username my_name_is_brian_and_this_username_is_absolutely_enormous is not valid\n"
     ]
    }
   ],
   "source": [
    "is_valid_username(\"my_name_is_brian_and_this_username_is_absolutely_enormous\")"
   ]
  },
  {
   "cell_type": "code",
   "execution_count": 150,
   "id": "7a7a3c8d",
   "metadata": {
    "scrolled": true
   },
   "outputs": [
    {
     "name": "stdout",
     "output_type": "stream",
     "text": [
      "The username my_nAme_is_brian_and_This_username_is_absolutely_enormous is not valid\n"
     ]
    }
   ],
   "source": [
    "is_valid_username(\"my_nAme_is_brian_and_This_username_is_absolutely_enormous\")"
   ]
  },
  {
   "cell_type": "code",
   "execution_count": 151,
   "id": "b7cb1358",
   "metadata": {},
   "outputs": [
    {
     "data": {
      "text/plain": [
       "True"
      ]
     },
     "execution_count": 151,
     "metadata": {},
     "output_type": "execute_result"
    }
   ],
   "source": [
    "regex = r'^[a-z][a-z0-9_]{,31}$'\n",
    "bool(re.search(regex, string))"
   ]
  },
  {
   "cell_type": "code",
   "execution_count": 152,
   "id": "8edc7355",
   "metadata": {},
   "outputs": [],
   "source": [
    "def alternate_user_name_validation(x):\n",
    "    regex = r'^[a-z][a-z0-9_]{,31}$'\n",
    "    return bool(re.search(regex, string))"
   ]
  },
  {
   "cell_type": "code",
   "execution_count": 153,
   "id": "0d227e02",
   "metadata": {},
   "outputs": [
    {
     "data": {
      "text/plain": [
       "True"
      ]
     },
     "execution_count": 153,
     "metadata": {},
     "output_type": "execute_result"
    }
   ],
   "source": [
    "alternate_user_name_validation(\"my_name_is_brian_and_this_username_is_absolutely_enormous\")"
   ]
  },
  {
   "cell_type": "code",
   "execution_count": 154,
   "id": "a3f1a636",
   "metadata": {},
   "outputs": [
    {
     "name": "stdout",
     "output_type": "stream",
     "text": [
      "The username aaaaaaaaaaaaaaaaaaaaaaaaaaaaaaaaa is not valid\n",
      "The username codeup is valid\n",
      "The username Codeup is not valid\n",
      "The username codeup123 is valid\n",
      "The username 1codeup is not valid\n"
     ]
    },
    {
     "data": {
      "text/plain": [
       "False"
      ]
     },
     "execution_count": 154,
     "metadata": {},
     "output_type": "execute_result"
    }
   ],
   "source": [
    "# for testing of your function\n",
    ">>> is_valid_username('aaaaaaaaaaaaaaaaaaaaaaaaaaaaaaaaa')\n",
    "False\n",
    ">>> is_valid_username('codeup')\n",
    "True\n",
    ">>> is_valid_username('Codeup')\n",
    "False\n",
    ">>> is_valid_username('codeup123')\n",
    "True\n",
    ">>> is_valid_username('1codeup')\n",
    "False"
   ]
  },
  {
   "cell_type": "code",
   "execution_count": null,
   "id": "f445bead",
   "metadata": {},
   "outputs": [],
   "source": []
  },
  {
   "cell_type": "code",
   "execution_count": null,
   "id": "d0f09904",
   "metadata": {},
   "outputs": [],
   "source": []
  },
  {
   "cell_type": "code",
   "execution_count": null,
   "id": "df2836a2",
   "metadata": {},
   "outputs": [],
   "source": []
  },
  {
   "cell_type": "code",
   "execution_count": null,
   "id": "710b4844",
   "metadata": {},
   "outputs": [],
   "source": []
  },
  {
   "cell_type": "markdown",
   "id": "03e8c2c4",
   "metadata": {},
   "source": [
    "- for part three aparently"
   ]
  },
  {
   "cell_type": "code",
   "execution_count": 135,
   "id": "fea5d481",
   "metadata": {},
   "outputs": [
    {
     "ename": "SyntaxError",
     "evalue": "EOL while scanning string literal (<ipython-input-135-7aca74103dfc>, line 1)",
     "output_type": "error",
     "traceback": [
      "\u001b[0;36m  File \u001b[0;32m\"<ipython-input-135-7aca74103dfc>\"\u001b[0;36m, line \u001b[0;32m1\u001b[0m\n\u001b[0;31m    r\"(/d{3})?\u001b[0m\n\u001b[0m              ^\u001b[0m\n\u001b[0;31mSyntaxError\u001b[0m\u001b[0;31m:\u001b[0m EOL while scanning string literal\n"
     ]
    }
   ],
   "source": [
    "r\"(/d{3})?\n",
    "# the ? refers to the whole parentheses\n",
    "r\"h.?t\"\n",
    "h(/w{2})?t #the parentheses is a single expression"
   ]
  },
  {
   "cell_type": "code",
   "execution_count": null,
   "id": "848956e2",
   "metadata": {},
   "outputs": [],
   "source": []
  }
 ],
 "metadata": {
  "kernelspec": {
   "display_name": "Python 3",
   "language": "python",
   "name": "python3"
  },
  "language_info": {
   "codemirror_mode": {
    "name": "ipython",
    "version": 3
   },
   "file_extension": ".py",
   "mimetype": "text/x-python",
   "name": "python",
   "nbconvert_exporter": "python",
   "pygments_lexer": "ipython3",
   "version": "3.8.8"
  }
 },
 "nbformat": 4,
 "nbformat_minor": 5
}
