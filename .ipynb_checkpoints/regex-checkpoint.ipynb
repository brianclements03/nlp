{
 "cells": [
  {
   "cell_type": "code",
   "execution_count": 1,
   "id": "9ee200b9",
   "metadata": {},
   "outputs": [],
   "source": [
    "import re"
   ]
  },
  {
   "cell_type": "markdown",
   "id": "0ffd3dc8",
   "metadata": {},
   "source": [
    "## Write a function named is_vowel. It should accept a string as input and use a regular expression to determine if the passed string is a vowel. While not explicity mentioned in the lesson, you can treat the result of re.search as a boolean value that indicates whether or not the regular expression matches the given string."
   ]
  },
  {
   "cell_type": "code",
   "execution_count": 3,
   "id": "d3c4436c",
   "metadata": {},
   "outputs": [
    {
     "data": {
      "text/plain": [
       "<re.Match object; span=(0, 1), match='a'>"
      ]
     },
     "execution_count": 3,
     "metadata": {},
     "output_type": "execute_result"
    }
   ],
   "source": [
    "re.search(r\"^[aeiou]{1}$\", \"a\", re.IGNORECASE)"
   ]
  },
  {
   "cell_type": "code",
   "execution_count": 11,
   "id": "f2c65842",
   "metadata": {},
   "outputs": [],
   "source": [
    "def is_vowel(x):\n",
    "    '''\n",
    "    Function that accepts a string as input and uses a regular expression to determine if the passed string is a vowel\n",
    "    '''\n",
    "    if bool(re.search(r\"^[aeiou]{1}$\", x, re.IGNORECASE)) == True:\n",
    "        print(f'{x} is a vowel')\n",
    "    else:\n",
    "        print(f'{x} is not a vowel')\n",
    "    "
   ]
  },
  {
   "cell_type": "code",
   "execution_count": 20,
   "id": "cf4c0e1a",
   "metadata": {},
   "outputs": [
    {
     "name": "stdout",
     "output_type": "stream",
     "text": [
      "A is a vowel\n",
      "boo is not a vowel\n",
      "aaA is not a vowel\n",
      "z is not a vowel\n",
      "123 is not a vowel\n",
      "e is a vowel\n"
     ]
    }
   ],
   "source": [
    "is_vowel('A')\n",
    "is_vowel('boo')\n",
    "is_vowel('aaA')\n",
    "is_vowel('z')\n",
    "is_vowel('123')\n",
    "is_vowel('e')"
   ]
  },
  {
   "cell_type": "markdown",
   "id": "19cf7e68",
   "metadata": {},
   "source": [
    "## Write a function named is_valid_username that accepts a string as input. A valid username starts with a lowercase letter, and only consists of lowercase letters, numbers, or the _ character. It should also be no longer than 32 characters. The function should return either True or False depending on whether the passed string is a valid username.\n",
    "\n",
    "       - starts with a lowercase letter\n",
    "       - only has lowercase letters, numbers or _\n",
    "       - 32 chars or less"
   ]
  },
  {
   "cell_type": "code",
   "execution_count": 63,
   "id": "8689afb7",
   "metadata": {},
   "outputs": [
    {
     "data": {
      "text/plain": [
       "True"
      ]
     },
     "execution_count": 63,
     "metadata": {},
     "output_type": "execute_result"
    }
   ],
   "source": [
    "string = 'this_is_tough'\n",
    "bool(re.search(r\"^[a-z]\",string))"
   ]
  },
  {
   "cell_type": "code",
   "execution_count": 64,
   "id": "e063553b",
   "metadata": {},
   "outputs": [],
   "source": [
    "def starts_with_lowercase_letter(x):\n",
    "    '''\n",
    "    Function to check that a string x begins with a lowercase letter\n",
    "    '''\n",
    "    return bool(re.search(r\"^[a-z]\",x))"
   ]
  },
  {
   "cell_type": "code",
   "execution_count": 68,
   "id": "b8e58b8f",
   "metadata": {},
   "outputs": [
    {
     "data": {
      "text/plain": [
       "True"
      ]
     },
     "execution_count": 68,
     "metadata": {},
     "output_type": "execute_result"
    }
   ],
   "source": [
    "starts_with_lowercase_letter('apples_to_apples')"
   ]
  },
  {
   "cell_type": "code",
   "execution_count": 93,
   "id": "561a4cab",
   "metadata": {},
   "outputs": [],
   "source": [
    "def only_has_lowercase_letters_numbers_or_underscore(x):\n",
    "    '''\n",
    "    Function to check a string has only lowercase letters, numbers or the underscore character\n",
    "    '''\n",
    "    return bool(re.search(r\"^[a-z0-9_]*$\",x))"
   ]
  },
  {
   "cell_type": "code",
   "execution_count": 92,
   "id": "59151f9c",
   "metadata": {},
   "outputs": [
    {
     "data": {
      "text/plain": [
       "<re.Match object; span=(0, 13), match='this_is_tough'>"
      ]
     },
     "execution_count": 92,
     "metadata": {},
     "output_type": "execute_result"
    }
   ],
   "source": [
    "string = 'this_is_tough'\n",
    "re.search(r\"^[a-z0-9_]*$\",string)"
   ]
  },
  {
   "cell_type": "code",
   "execution_count": 96,
   "id": "04bd7e03",
   "metadata": {},
   "outputs": [
    {
     "data": {
      "text/plain": [
       "False"
      ]
     },
     "execution_count": 96,
     "metadata": {},
     "output_type": "execute_result"
    }
   ],
   "source": [
    "only_has_lowercase_letters_numbers_or_underscore('Wow, I could have never done that alone')"
   ]
  },
  {
   "cell_type": "code",
   "execution_count": 95,
   "id": "5a35d75e",
   "metadata": {},
   "outputs": [
    {
     "data": {
      "text/plain": [
       "True"
      ]
     },
     "execution_count": 95,
     "metadata": {},
     "output_type": "execute_result"
    }
   ],
   "source": [
    "only_has_lowercase_letters_numbers_or_underscore('wow_ryan_is_a_great_teacher')"
   ]
  },
  {
   "cell_type": "code",
   "execution_count": 97,
   "id": "0acbd601",
   "metadata": {},
   "outputs": [],
   "source": [
    "def correct_length(x):\n",
    "    '''\n",
    "    Function that returns True of the length of a string is 32 characters or less\n",
    "    '''\n",
    "    return bool(len(x)<=32)"
   ]
  },
  {
   "cell_type": "code",
   "execution_count": 136,
   "id": "7ba39615",
   "metadata": {},
   "outputs": [
    {
     "data": {
      "text/plain": [
       "False"
      ]
     },
     "execution_count": 136,
     "metadata": {},
     "output_type": "execute_result"
    }
   ],
   "source": [
    "correct_length('my_name_is_brian_and_this_username_is_absolutely_enormous')"
   ]
  },
  {
   "cell_type": "code",
   "execution_count": 100,
   "id": "902ef966",
   "metadata": {},
   "outputs": [
    {
     "data": {
      "text/plain": [
       "True"
      ]
     },
     "execution_count": 100,
     "metadata": {},
     "output_type": "execute_result"
    }
   ],
   "source": [
    "correct_length(';;;lakefjapoiejf')"
   ]
  },
  {
   "cell_type": "code",
   "execution_count": 146,
   "id": "313319b3",
   "metadata": {},
   "outputs": [],
   "source": [
    "def is_valid_username(x):\n",
    "    '''\n",
    "    Function that accepts a string as input and returns either true or false depending on whether the string\n",
    "    meets the criteria (starts with a lowercase letter; only consists of lowercase letters, numbers, or the _\n",
    "    character; should be no longer than 32 characters)\n",
    "    '''\n",
    "    if starts_with_lowercase_letter(x) == True:\n",
    "        if only_has_lowercase_letters_numbers_or_underscore(x) == True:\n",
    "            if correct_length(x) == True:\n",
    "                print(f'The username {x} is valid')\n",
    "            else:\n",
    "                print(f'The username {x} is not valid')\n",
    "        else:\n",
    "            print(f'The username {x} is not valid')\n",
    "    else:\n",
    "        print(f'The username {x} is not valid')"
   ]
  },
  {
   "cell_type": "code",
   "execution_count": 203,
   "id": "76d9a89e",
   "metadata": {},
   "outputs": [],
   "source": [
    "def is_valid_username(x):\n",
    "    '''\n",
    "    Function that accepts a string as input and returns either true or false depending on whether the string\n",
    "    meets the criteria (starts with a lowercase letter; only consists of lowercase letters, numbers, or the _\n",
    "    character; should be no longer than 32 characters)\n",
    "    '''\n",
    "    if starts_with_lowercase_letter(x) == True and \\\n",
    "        only_has_lowercase_letters_numbers_or_underscore(x) == True and \\\n",
    "            correct_length(x) == True:\n",
    "                print(f'The username {x} is valid')\n",
    "    else:\n",
    "        print(f'The username {x} is not valid')"
   ]
  },
  {
   "cell_type": "code",
   "execution_count": 204,
   "id": "caa6c4f7",
   "metadata": {
    "scrolled": true
   },
   "outputs": [
    {
     "name": "stdout",
     "output_type": "stream",
     "text": [
      "The username My_name_is_br!@n is not valid\n"
     ]
    }
   ],
   "source": [
    "is_valid_username(\"My_name_is_br!@n\")"
   ]
  },
  {
   "cell_type": "code",
   "execution_count": 205,
   "id": "d543f6ce",
   "metadata": {
    "scrolled": true
   },
   "outputs": [
    {
     "name": "stdout",
     "output_type": "stream",
     "text": [
      "The username my_name_is_brian is valid\n"
     ]
    }
   ],
   "source": [
    "is_valid_username(\"my_name_is_brian\")"
   ]
  },
  {
   "cell_type": "code",
   "execution_count": 206,
   "id": "275d4e61",
   "metadata": {
    "scrolled": true
   },
   "outputs": [
    {
     "name": "stdout",
     "output_type": "stream",
     "text": [
      "The username my_name_is_brian_and_this_username_is_absolutely_enormous is not valid\n"
     ]
    }
   ],
   "source": [
    "is_valid_username(\"my_name_is_brian_and_this_username_is_absolutely_enormous\")"
   ]
  },
  {
   "cell_type": "code",
   "execution_count": 207,
   "id": "583c3d68",
   "metadata": {
    "scrolled": true
   },
   "outputs": [
    {
     "name": "stdout",
     "output_type": "stream",
     "text": [
      "The username my_nAme_is_brian_and_This_username_is_absolutely_enormous is not valid\n"
     ]
    }
   ],
   "source": [
    "is_valid_username(\"my_nAme_is_brian_and_This_username_is_absolutely_enormous\")"
   ]
  },
  {
   "cell_type": "code",
   "execution_count": 151,
   "id": "af4f4740",
   "metadata": {},
   "outputs": [
    {
     "data": {
      "text/plain": [
       "True"
      ]
     },
     "execution_count": 151,
     "metadata": {},
     "output_type": "execute_result"
    }
   ],
   "source": [
    "regex = r'^[a-z][a-z0-9_]{,31}$'\n",
    "bool(re.search(regex, string))"
   ]
  },
  {
   "cell_type": "code",
   "execution_count": 212,
   "id": "b0388bfa",
   "metadata": {},
   "outputs": [],
   "source": [
    "def alternate_user_name_validation(x):\n",
    "    regex = r'^[a-z][a-z0-9_]{,31}$'\n",
    "    return bool(re.search(regex, x))"
   ]
  },
  {
   "cell_type": "code",
   "execution_count": 213,
   "id": "7c40b941",
   "metadata": {},
   "outputs": [
    {
     "data": {
      "text/plain": [
       "False"
      ]
     },
     "execution_count": 213,
     "metadata": {},
     "output_type": "execute_result"
    }
   ],
   "source": [
    "alternate_user_name_validation(\"my_name_is_brian_and_this_username_is_absolutely_enormous\")"
   ]
  },
  {
   "cell_type": "code",
   "execution_count": 154,
   "id": "4591e7af",
   "metadata": {},
   "outputs": [
    {
     "name": "stdout",
     "output_type": "stream",
     "text": [
      "The username aaaaaaaaaaaaaaaaaaaaaaaaaaaaaaaaa is not valid\n",
      "The username codeup is valid\n",
      "The username Codeup is not valid\n",
      "The username codeup123 is valid\n",
      "The username 1codeup is not valid\n"
     ]
    },
    {
     "data": {
      "text/plain": [
       "False"
      ]
     },
     "execution_count": 154,
     "metadata": {},
     "output_type": "execute_result"
    }
   ],
   "source": [
    "# for testing of your function\n",
    ">>> is_valid_username('aaaaaaaaaaaaaaaaaaaaaaaaaaaaaaaaa')\n",
    "False\n",
    ">>> is_valid_username('codeup')\n",
    "True\n",
    ">>> is_valid_username('Codeup')\n",
    "False\n",
    ">>> is_valid_username('codeup123')\n",
    "True\n",
    ">>> is_valid_username('1codeup')\n",
    "False"
   ]
  },
  {
   "cell_type": "code",
   "execution_count": null,
   "id": "7186506b",
   "metadata": {},
   "outputs": [],
   "source": []
  },
  {
   "cell_type": "code",
   "execution_count": null,
   "id": "ab362969",
   "metadata": {},
   "outputs": [],
   "source": []
  },
  {
   "cell_type": "code",
   "execution_count": null,
   "id": "11fe4844",
   "metadata": {},
   "outputs": [],
   "source": []
  },
  {
   "cell_type": "markdown",
   "id": "0c8212b4",
   "metadata": {},
   "source": [
    "## Write a regular expression to capture phone numbers. It should match all of the following:\n",
    "\n",
    "- (210) 867 5309\n",
    "- +1 210.867.5309\n",
    "- 867-5309\n",
    "- 210-867-5309"
   ]
  },
  {
   "cell_type": "code",
   "execution_count": 296,
   "id": "96ed88a2",
   "metadata": {},
   "outputs": [],
   "source": [
    "regex = r\"^(([+]?\\d{,3})?([\\D]?\\d{3}[\\D]?))?.?\\d{3}.*\\d{4}\""
   ]
  },
  {
   "cell_type": "code",
   "execution_count": 297,
   "id": "87593509",
   "metadata": {},
   "outputs": [
    {
     "data": {
      "text/plain": [
       "<re.Match object; span=(0, 14), match='(210) 867 5309'>"
      ]
     },
     "execution_count": 297,
     "metadata": {},
     "output_type": "execute_result"
    }
   ],
   "source": [
    "re.search(regex, '(210) 867 5309')"
   ]
  },
  {
   "cell_type": "code",
   "execution_count": 298,
   "id": "9622a715",
   "metadata": {},
   "outputs": [
    {
     "data": {
      "text/plain": [
       "<re.Match object; span=(0, 15), match='+1 210.867.5309'>"
      ]
     },
     "execution_count": 298,
     "metadata": {},
     "output_type": "execute_result"
    }
   ],
   "source": [
    "re.search(regex, '+1 210.867.5309')"
   ]
  },
  {
   "cell_type": "code",
   "execution_count": 299,
   "id": "53e04717",
   "metadata": {},
   "outputs": [
    {
     "data": {
      "text/plain": [
       "<re.Match object; span=(0, 8), match='867-5309'>"
      ]
     },
     "execution_count": 299,
     "metadata": {},
     "output_type": "execute_result"
    }
   ],
   "source": [
    "re.search(regex, '867-5309')"
   ]
  },
  {
   "cell_type": "code",
   "execution_count": 300,
   "id": "fab96f38",
   "metadata": {},
   "outputs": [
    {
     "data": {
      "text/plain": [
       "<re.Match object; span=(0, 14), match='(210) 867 5309'>"
      ]
     },
     "execution_count": 300,
     "metadata": {},
     "output_type": "execute_result"
    }
   ],
   "source": [
    "re.search(regex, '(210) 867 5309')"
   ]
  },
  {
   "cell_type": "code",
   "execution_count": null,
   "id": "2b9aa51c",
   "metadata": {},
   "outputs": [],
   "source": []
  },
  {
   "cell_type": "code",
   "execution_count": null,
   "id": "84024d2d",
   "metadata": {},
   "outputs": [],
   "source": []
  },
  {
   "cell_type": "markdown",
   "id": "2c275a2f",
   "metadata": {},
   "source": [
    "## Use regular expressions to convert the dates below to the standardized year-month-day format.\n",
    "\n",
    "- 02/04/19\n",
    "- 02/05/19\n",
    "- 02/06/19\n",
    "- 02/07/19\n",
    "- 02/08/19\n",
    "- 02/09/19\n",
    "- 02/10/19\n"
   ]
  },
  {
   "cell_type": "markdown",
   "id": "4ae62aed",
   "metadata": {},
   "source": [
    "- here's a thought on how to crack this one: break the dates down into groups and use the groups in a replace type statement\n",
    "\n",
    "- match.groupdict()\n"
   ]
  },
  {
   "cell_type": "code",
   "execution_count": 367,
   "id": "e1916016",
   "metadata": {},
   "outputs": [],
   "source": [
    "date = '02/04/19'"
   ]
  },
  {
   "cell_type": "code",
   "execution_count": 368,
   "id": "d7785b04",
   "metadata": {},
   "outputs": [
    {
     "data": {
      "text/plain": [
       "<re.Match object; span=(0, 8), match='02/04/19'>"
      ]
     },
     "execution_count": 368,
     "metadata": {},
     "output_type": "execute_result"
    }
   ],
   "source": [
    "group_regex = r\"(?P<month>\\d{2})/(?P<day>\\d{2})/(?P<year>\\d{2})\"\n",
    "re.search(group_regex, date)"
   ]
  },
  {
   "cell_type": "code",
   "execution_count": 369,
   "id": "954a16ad",
   "metadata": {},
   "outputs": [],
   "source": [
    "\n",
    "match = re.search(group_regex, date)"
   ]
  },
  {
   "cell_type": "code",
   "execution_count": 370,
   "id": "d36a1650",
   "metadata": {},
   "outputs": [
    {
     "data": {
      "text/plain": [
       "('02', '04', '19')"
      ]
     },
     "execution_count": 370,
     "metadata": {},
     "output_type": "execute_result"
    }
   ],
   "source": [
    "match.groups()"
   ]
  },
  {
   "cell_type": "code",
   "execution_count": 371,
   "id": "6844fb11",
   "metadata": {},
   "outputs": [
    {
     "data": {
      "text/plain": [
       "{'month': '02', 'day': '04', 'year': '19'}"
      ]
     },
     "execution_count": 371,
     "metadata": {},
     "output_type": "execute_result"
    }
   ],
   "source": [
    "match.groupdict()"
   ]
  },
  {
   "cell_type": "code",
   "execution_count": 372,
   "id": "865b0c14",
   "metadata": {},
   "outputs": [
    {
     "data": {
      "text/plain": [
       "'19-02-04'"
      ]
     },
     "execution_count": 372,
     "metadata": {},
     "output_type": "execute_result"
    }
   ],
   "source": [
    "formated_date = year+'-'+month+'-'+day\n",
    "formated_date"
   ]
  },
  {
   "cell_type": "code",
   "execution_count": 379,
   "id": "e1783233",
   "metadata": {},
   "outputs": [],
   "source": [
    "dates = [\n",
    "'02/04/19',\n",
    "'02/05/19',\n",
    "'02/06/19',\n",
    "'02/07/19',\n",
    "'02/08/19',\n",
    "'02/09/19',\n",
    "'02/10/19',\n",
    "]"
   ]
  },
  {
   "cell_type": "code",
   "execution_count": 380,
   "id": "c659bc84",
   "metadata": {},
   "outputs": [
    {
     "name": "stdout",
     "output_type": "stream",
     "text": [
      "02/04/19's  formated date is 19-02-04\n",
      "02/05/19's  formated date is 19-02-05\n",
      "02/06/19's  formated date is 19-02-06\n",
      "02/07/19's  formated date is 19-02-07\n",
      "02/08/19's  formated date is 19-02-08\n",
      "02/09/19's  formated date is 19-02-09\n",
      "02/10/19's  formated date is 19-02-10\n"
     ]
    }
   ],
   "source": [
    "\n",
    "for date in dates:\n",
    "    group_regex = r\"(?P<month>\\d{2})/(?P<day>\\d{2})/(?P<year>\\d{2})\"\n",
    "    month, day, year = re.search(group_regex, date).groups()\n",
    "    formated_date = year+'-'+month+'-'+day\n",
    "    print(f\"{date}'s  formated date is {formated_date}\")"
   ]
  },
  {
   "cell_type": "code",
   "execution_count": null,
   "id": "53643de0",
   "metadata": {},
   "outputs": [],
   "source": []
  }
 ],
 "metadata": {
  "kernelspec": {
   "display_name": "Python 3",
   "language": "python",
   "name": "python3"
  },
  "language_info": {
   "codemirror_mode": {
    "name": "ipython",
    "version": 3
   },
   "file_extension": ".py",
   "mimetype": "text/x-python",
   "name": "python",
   "nbconvert_exporter": "python",
   "pygments_lexer": "ipython3",
   "version": "3.8.8"
  }
 },
 "nbformat": 4,
 "nbformat_minor": 5
}
