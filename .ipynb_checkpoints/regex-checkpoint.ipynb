{
 "cells": [
  {
   "cell_type": "code",
   "execution_count": 1,
   "id": "9c7cdf16",
   "metadata": {},
   "outputs": [],
   "source": [
    "import re"
   ]
  },
  {
   "cell_type": "markdown",
   "id": "1563b82d",
   "metadata": {},
   "source": [
    "## Write a function named is_vowel. It should accept a string as input and use a regular expression to determine if the passed string is a vowel. While not explicity mentioned in the lesson, you can treat the result of re.search as a boolean value that indicates whether or not the regular expression matches the given string."
   ]
  },
  {
   "cell_type": "code",
   "execution_count": 3,
   "id": "a17d2cab",
   "metadata": {},
   "outputs": [
    {
     "data": {
      "text/plain": [
       "<re.Match object; span=(0, 1), match='a'>"
      ]
     },
     "execution_count": 3,
     "metadata": {},
     "output_type": "execute_result"
    }
   ],
   "source": [
    "re.search(r\"^[aeiou]{1}$\", \"a\", re.IGNORECASE)"
   ]
  },
  {
   "cell_type": "code",
   "execution_count": 11,
   "id": "19594686",
   "metadata": {},
   "outputs": [],
   "source": [
    "def is_vowel(x):\n",
    "    '''\n",
    "    Function that accepts a string as input and uses a regular expression to determine if the passed string is a vowel\n",
    "    '''\n",
    "    if bool(re.search(r\"^[aeiou]{1}$\", x, re.IGNORECASE)) == True:\n",
    "        print(f'{x} is a vowel')\n",
    "    else:\n",
    "        print(f'{x} is not a vowel')\n",
    "    "
   ]
  },
  {
   "cell_type": "code",
   "execution_count": 20,
   "id": "2a29d70e",
   "metadata": {},
   "outputs": [
    {
     "name": "stdout",
     "output_type": "stream",
     "text": [
      "A is a vowel\n",
      "boo is not a vowel\n",
      "aaA is not a vowel\n",
      "z is not a vowel\n",
      "123 is not a vowel\n",
      "e is a vowel\n"
     ]
    }
   ],
   "source": [
    "is_vowel('A')\n",
    "is_vowel('boo')\n",
    "is_vowel('aaA')\n",
    "is_vowel('z')\n",
    "is_vowel('123')\n",
    "is_vowel('e')"
   ]
  },
  {
   "cell_type": "markdown",
   "id": "82c6fe44",
   "metadata": {},
   "source": [
    "## Write a function named is_valid_username that accepts a string as input. A valid username starts with a lowercase letter, and only consists of lowercase letters, numbers, or the _ character. It should also be no longer than 32 characters. The function should return either True or False depending on whether the passed string is a valid username."
   ]
  },
  {
   "cell_type": "code",
   "execution_count": null,
   "id": "2c280a51",
   "metadata": {},
   "outputs": [],
   "source": []
  },
  {
   "cell_type": "code",
   "execution_count": null,
   "id": "9e32c9d4",
   "metadata": {},
   "outputs": [],
   "source": [
    "def is_valid_username(x):\n",
    "    '''\n",
    "    Function that accepts a string as input and returns either true or false depending on whether the string\n",
    "    meets the criteria (starts with a lowercase letter; only consists of lowercase letters, numbers, or the _\n",
    "    character; should be no longer than 32 characters)\n",
    "    '''"
   ]
  },
  {
   "cell_type": "code",
   "execution_count": null,
   "id": "35ff0dbd",
   "metadata": {},
   "outputs": [],
   "source": []
  },
  {
   "cell_type": "code",
   "execution_count": null,
   "id": "4c842491",
   "metadata": {},
   "outputs": [],
   "source": [
    "def user_name(string):\n",
    "    regex = r'^[a-z][a-z0-9_]{,31}$'\n",
    "    return bool(re.search(regex, string))"
   ]
  },
  {
   "cell_type": "code",
   "execution_count": null,
   "id": "840b8387",
   "metadata": {},
   "outputs": [],
   "source": [
    "r\"^[a-z][a-z0-9_]{,31}$\""
   ]
  },
  {
   "cell_type": "code",
   "execution_count": 22,
   "id": "b302d641",
   "metadata": {},
   "outputs": [
    {
     "ename": "NameError",
     "evalue": "name 'is_valid_username' is not defined",
     "output_type": "error",
     "traceback": [
      "\u001b[0;31m---------------------------------------------------------------------------\u001b[0m",
      "\u001b[0;31mNameError\u001b[0m                                 Traceback (most recent call last)",
      "\u001b[0;32m<ipython-input-22-13ba21c60f36>\u001b[0m in \u001b[0;36m<module>\u001b[0;34m\u001b[0m\n\u001b[1;32m      1\u001b[0m \u001b[0;31m# for testing of your function\u001b[0m\u001b[0;34m\u001b[0m\u001b[0;34m\u001b[0m\u001b[0;34m\u001b[0m\u001b[0m\n\u001b[0;32m----> 2\u001b[0;31m \u001b[0mis_valid_username\u001b[0m\u001b[0;34m(\u001b[0m\u001b[0;34m'aaaaaaaaaaaaaaaaaaaaaaaaaaaaaaaaa'\u001b[0m\u001b[0;34m)\u001b[0m\u001b[0;34m\u001b[0m\u001b[0;34m\u001b[0m\u001b[0m\n\u001b[0m\u001b[1;32m      3\u001b[0m \u001b[0;32mFalse\u001b[0m\u001b[0;34m\u001b[0m\u001b[0;34m\u001b[0m\u001b[0m\n\u001b[1;32m      4\u001b[0m \u001b[0mis_valid_username\u001b[0m\u001b[0;34m(\u001b[0m\u001b[0;34m'codeup'\u001b[0m\u001b[0;34m)\u001b[0m\u001b[0;34m\u001b[0m\u001b[0;34m\u001b[0m\u001b[0m\n\u001b[1;32m      5\u001b[0m \u001b[0;32mTrue\u001b[0m\u001b[0;34m\u001b[0m\u001b[0;34m\u001b[0m\u001b[0m\n",
      "\u001b[0;31mNameError\u001b[0m: name 'is_valid_username' is not defined"
     ]
    }
   ],
   "source": [
    "# for testing of your function\n",
    ">>> is_valid_username('aaaaaaaaaaaaaaaaaaaaaaaaaaaaaaaaa')\n",
    "False\n",
    ">>> is_valid_username('codeup')\n",
    "True\n",
    ">>> is_valid_username('Codeup')\n",
    "False\n",
    ">>> is_valid_username('codeup123')\n",
    "True\n",
    ">>> is_valid_username('1codeup')\n",
    "False"
   ]
  },
  {
   "cell_type": "code",
   "execution_count": null,
   "id": "4e9e5b7e",
   "metadata": {},
   "outputs": [],
   "source": []
  }
 ],
 "metadata": {
  "kernelspec": {
   "display_name": "Python 3",
   "language": "python",
   "name": "python3"
  },
  "language_info": {
   "codemirror_mode": {
    "name": "ipython",
    "version": 3
   },
   "file_extension": ".py",
   "mimetype": "text/x-python",
   "name": "python",
   "nbconvert_exporter": "python",
   "pygments_lexer": "ipython3",
   "version": "3.8.8"
  }
 },
 "nbformat": 4,
 "nbformat_minor": 5
}
