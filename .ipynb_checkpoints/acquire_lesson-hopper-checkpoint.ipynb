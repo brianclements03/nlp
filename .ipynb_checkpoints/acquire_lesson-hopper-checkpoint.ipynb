{
 "cells": [
  {
   "cell_type": "markdown",
   "metadata": {},
   "source": [
    "# Data Acquisition with Web Scraping"
   ]
  },
  {
   "cell_type": "code",
   "execution_count": 1,
   "metadata": {},
   "outputs": [],
   "source": [
    "import requests\n",
    "from bs4 import BeautifulSoup\n",
    "import pandas as pd"
   ]
  },
  {
   "cell_type": "markdown",
   "metadata": {},
   "source": [
    "`$ pip install beautifulsoup4`"
   ]
  },
  {
   "cell_type": "markdown",
   "metadata": {},
   "source": [
    "## Soup Methods\n",
    "\n",
    "- `soup.select('.class')`: to get all the elements with class `class`\n",
    "- `soup.select_one('.class')`: to get the first element with class `class`\n",
    "- `soup.h2`: to get the first `h2` element\n",
    "- `soup.find_all('h2')`: to get all the elements with tag name of `h2`\n",
    "- `soup('h2')` : same as `find_all` method above\n",
    "- `soup.find('h2')`: finds the first matching element"
   ]
  },
  {
   "cell_type": "markdown",
   "metadata": {},
   "source": [
    "First make the request. The response is a bunch of html."
   ]
  },
  {
   "cell_type": "code",
   "execution_count": 2,
   "metadata": {},
   "outputs": [],
   "source": [
    "response = requests.get('https://web-scraping-demo.zgulde.net/news')\n",
    "html = response.text\n",
    "# html"
   ]
  },
  {
   "cell_type": "markdown",
   "metadata": {},
   "source": [
    "We can make more sense of that html with the beautiful soup library."
   ]
  },
  {
   "cell_type": "code",
   "execution_count": 3,
   "metadata": {},
   "outputs": [
    {
     "name": "stdout",
     "output_type": "stream",
     "text": [
      "<!DOCTYPE html>\n",
      "<html lang=\"en\">\n",
      " <head>\n",
      "  <meta charset=\"utf-8\"/>\n",
      "  <meta content=\"IE=edge\" http-equiv=\"X-UA-Compatible\"/>\n",
      "  <meta content=\"width=device-width, initial-scale=1.0\" name=\"viewport\"/>\n",
      "  <title>\n",
      "   News Example Page\n",
      "  </title>\n",
      "  <link href=\"https://unpkg.com/tailwindcss@^2/dist/tailwind.min.css\" rel=\"stylesheet\"/>\n",
      "  <link href=\"https://cdn.jsdelivr.net/npm/bootstrap-icons@1.4.1/font/bootstrap-icons.css\" rel=\"stylesheet\"/>\n",
      " </head>\n",
      " <body class=\"mx-auto max-w-screen-lg pb-32\">\n",
      "  <h1 class=\"my-5 text-4xl text-center\">\n",
      "   News!\n",
      "  </h1>\n",
      "  <div class=\"my-5 text-red-800 px-5 py-3 bg-red-100 font-bold\">\n",
      "   <p>\n",
      "    <i class=\"bi bi-exclamation-circle text-xl\">\n",
      "    </i>\n",
      "    All data on this page is strictly for demonstration purposes and fake.\n",
      "   </p>\n",
      "  </div>\n",
      "  <div class=\"grid gap-y-12\">\n",
      "   <div class=\"grid grid-cols-4 gap-x-4 border rounded pr-3 bg-green-50 hover:shadow-lg transition duration-500\">\n",
      "    <img src=\"/static/placeholder.png\"/>\n",
      "    <div class=\"col-span-3 space-y-3 py-3\">\n",
      "     <h2 class=\"text-2xl text-green-900\">\n",
      "      executive laugh rather\n",
      "     </h2>\n",
      "     <div class=\"grid grid-cols-2 italic\">\n",
      "      <p>\n",
      "       1979-09-04\n",
      "      </p>\n",
      "      <p class=\"text-right\">\n",
      "       By Eileen Rivera\n",
      "      </p>\n",
      "     </div>\n",
      "     <p>\n",
      "      Main although hair air age third shoulder song. Ago scene skill do force PM audience could. Son week home certainly hotel.\n",
      "During though have strong. Example land military go foreign street some.\n",
      "     </p>\n",
      "    </div>\n",
      "   </div>\n",
      "   <div class=\"grid grid-cols-4 gap-x-4 border rounded pr-3 bg-green-50 hover:shadow-lg transition duration-500\">\n",
      "    <img src=\"/static/placeholder.png\"/>\n",
      "    <div class=\"col-span-3 space-y-3 py-3\">\n",
      "     <h2 class=\"text-2xl text-green-900\">\n",
      "      send far foreign\n",
      "     </h2>\n",
      "     <div class=\"grid grid-cols-2 italic\">\n",
      "      <p>\n",
      "       1973-07-29\n",
      "      </p>\n",
      "      <p class=\"text-right\">\n",
      "       By Paige Sanchez\n",
      "      </p>\n",
      "     </div>\n",
      "     <p>\n",
      "      Nearly pass onto. Her call southern doctor these. Office resource student direction attack capital.\n",
      "Professional state author personal policy friend either. No development travel year talk forget budget.\n",
      "     </p>\n",
      "    </div>\n",
      "   </div>\n",
      "   <div class=\"grid grid-cols-4 gap-x-4 border rounded pr-3 bg-green-50 hover:shadow-lg transition duration-500\">\n",
      "    <img src=\"/static/placeholder.png\"/>\n",
      "    <div class=\"col-span-3 space-y-3 py-3\">\n",
      "     <h2 class=\"text-2xl text-green-900\">\n",
      "      white action often\n",
      "     </h2>\n",
      "     <div class=\"grid grid-cols-2 italic\">\n",
      "      <p>\n",
      "       1976-03-11\n",
      "      </p>\n",
      "      <p class=\"text-right\">\n",
      "       By Melissa Cooper\n",
      "      </p>\n",
      "     </div>\n",
      "     <p>\n",
      "      Around education current month staff. Standard notice exist dinner our life they. Itself room here street event base.\n",
      "Mother improve thank. The along success sell vote. Dark hundred although that few next approach.\n",
      "     </p>\n",
      "    </div>\n",
      "   </div>\n",
      "   <div class=\"grid grid-cols-4 gap-x-4 border rounded pr-3 bg-green-50 hover:shadow-lg transition duration-500\">\n",
      "    <img src=\"/static/placeholder.png\"/>\n",
      "    <div class=\"col-span-3 space-y-3 py-3\">\n",
      "     <h2 class=\"text-2xl text-green-900\">\n",
      "      cup evening against\n",
      "     </h2>\n",
      "     <div class=\"grid grid-cols-2 italic\">\n",
      "      <p>\n",
      "       1993-08-27\n",
      "      </p>\n",
      "      <p class=\"text-right\">\n",
      "       By James Wagner\n",
      "      </p>\n",
      "     </div>\n",
      "     <p>\n",
      "      Serious western perform situation the however. Fall do kitchen indeed peace letter. Trade hold fast discuss tough to weight.\n",
      "Maintain east into miss remain how.\n",
      "     </p>\n",
      "    </div>\n",
      "   </div>\n",
      "   <div class=\"grid grid-cols-4 gap-x-4 border rounded pr-3 bg-green-50 hover:shadow-lg transition duration-500\">\n",
      "    <img src=\"/static/placeholder.png\"/>\n",
      "    <div class=\"col-span-3 space-y-3 py-3\">\n",
      "     <h2 class=\"text-2xl text-green-900\">\n",
      "      low natural skill\n",
      "     </h2>\n",
      "     <div class=\"grid grid-cols-2 italic\">\n",
      "      <p>\n",
      "       2012-02-16\n",
      "      </p>\n",
      "      <p class=\"text-right\">\n",
      "       By Amanda Lee DVM\n",
      "      </p>\n",
      "     </div>\n",
      "     <p>\n",
      "      Hard add first on manager industry hotel. Get thought election bit. Provide head director official improve. Include hold hit low develop pick.\n",
      "View cause speech hair local reveal seven.\n",
      "     </p>\n",
      "    </div>\n",
      "   </div>\n",
      "   <div class=\"grid grid-cols-4 gap-x-4 border rounded pr-3 bg-green-50 hover:shadow-lg transition duration-500\">\n",
      "    <img src=\"/static/placeholder.png\"/>\n",
      "    <div class=\"col-span-3 space-y-3 py-3\">\n",
      "     <h2 class=\"text-2xl text-green-900\">\n",
      "      enter letter claim\n",
      "     </h2>\n",
      "     <div class=\"grid grid-cols-2 italic\">\n",
      "      <p>\n",
      "       2019-08-24\n",
      "      </p>\n",
      "      <p class=\"text-right\">\n",
      "       By Lee Keller\n",
      "      </p>\n",
      "     </div>\n",
      "     <p>\n",
      "      Stand goal information full. Success listen little card year page actually. Member small mind knowledge sell. Reason now head small employee.\n",
      "Argue worker law more. Add surface might rich consumer meet seven.\n",
      "     </p>\n",
      "    </div>\n",
      "   </div>\n",
      "   <div class=\"grid grid-cols-4 gap-x-4 border rounded pr-3 bg-green-50 hover:shadow-lg transition duration-500\">\n",
      "    <img src=\"/static/placeholder.png\"/>\n",
      "    <div class=\"col-span-3 space-y-3 py-3\">\n",
      "     <h2 class=\"text-2xl text-green-900\">\n",
      "      reason nation evening\n",
      "     </h2>\n",
      "     <div class=\"grid grid-cols-2 italic\">\n",
      "      <p>\n",
      "       2017-09-25\n",
      "      </p>\n",
      "      <p class=\"text-right\">\n",
      "       By Joseph Burns\n",
      "      </p>\n",
      "     </div>\n",
      "     <p>\n",
      "      Suddenly from be every recent collection result. Player involve room scene career least. Stand dinner view.\n",
      "Project develop PM. Which second soon blood Democrat indeed red. Last prepare professor production.\n",
      "     </p>\n",
      "    </div>\n",
      "   </div>\n",
      "   <div class=\"grid grid-cols-4 gap-x-4 border rounded pr-3 bg-green-50 hover:shadow-lg transition duration-500\">\n",
      "    <img src=\"/static/placeholder.png\"/>\n",
      "    <div class=\"col-span-3 space-y-3 py-3\">\n",
      "     <h2 class=\"text-2xl text-green-900\">\n",
      "      development successful stay\n",
      "     </h2>\n",
      "     <div class=\"grid grid-cols-2 italic\">\n",
      "      <p>\n",
      "       1991-08-13\n",
      "      </p>\n",
      "      <p class=\"text-right\">\n",
      "       By Justin Robinson\n",
      "      </p>\n",
      "     </div>\n",
      "     <p>\n",
      "      Prove simple stage lead.\n",
      "Anything act happy difference serious feeling service. Condition smile because want pressure year million air.\n",
      "     </p>\n",
      "    </div>\n",
      "   </div>\n",
      "   <div class=\"grid grid-cols-4 gap-x-4 border rounded pr-3 bg-green-50 hover:shadow-lg transition duration-500\">\n",
      "    <img src=\"/static/placeholder.png\"/>\n",
      "    <div class=\"col-span-3 space-y-3 py-3\">\n",
      "     <h2 class=\"text-2xl text-green-900\">\n",
      "      bar life attack\n",
      "     </h2>\n",
      "     <div class=\"grid grid-cols-2 italic\">\n",
      "      <p>\n",
      "       1982-12-23\n",
      "      </p>\n",
      "      <p class=\"text-right\">\n",
      "       By Diana Howell\n",
      "      </p>\n",
      "     </div>\n",
      "     <p>\n",
      "      Establish read subject. Give rock first toward remember safe fast education. Rest scientist sometimes south moment responsibility trade.\n",
      "Human assume you big tonight send. State reveal action student set.\n",
      "     </p>\n",
      "    </div>\n",
      "   </div>\n",
      "   <div class=\"grid grid-cols-4 gap-x-4 border rounded pr-3 bg-green-50 hover:shadow-lg transition duration-500\">\n",
      "    <img src=\"/static/placeholder.png\"/>\n",
      "    <div class=\"col-span-3 space-y-3 py-3\">\n",
      "     <h2 class=\"text-2xl text-green-900\">\n",
      "      space result mouth\n",
      "     </h2>\n",
      "     <div class=\"grid grid-cols-2 italic\">\n",
      "      <p>\n",
      "       1986-04-23\n",
      "      </p>\n",
      "      <p class=\"text-right\">\n",
      "       By Emma Edwards\n",
      "      </p>\n",
      "     </div>\n",
      "     <p>\n",
      "      Officer process property almost live despite wife. Girl still likely only.\n",
      "Former miss down full protect city open. Cultural if environmental bag own.\n",
      "     </p>\n",
      "    </div>\n",
      "   </div>\n",
      "   <div class=\"grid grid-cols-4 gap-x-4 border rounded pr-3 bg-green-50 hover:shadow-lg transition duration-500\">\n",
      "    <img src=\"/static/placeholder.png\"/>\n",
      "    <div class=\"col-span-3 space-y-3 py-3\">\n",
      "     <h2 class=\"text-2xl text-green-900\">\n",
      "      surface character question\n",
      "     </h2>\n",
      "     <div class=\"grid grid-cols-2 italic\">\n",
      "      <p>\n",
      "       2002-02-13\n",
      "      </p>\n",
      "      <p class=\"text-right\">\n",
      "       By Tiffany Brown\n",
      "      </p>\n",
      "     </div>\n",
      "     <p>\n",
      "      Lead happy side blue fear candidate him. Check man attorney trial item. Mrs character let mission according.\n",
      "Speech movie voice rule beautiful position central. Special across culture affect. Site season anyone run cut fear.\n",
      "     </p>\n",
      "    </div>\n",
      "   </div>\n",
      "   <div class=\"grid grid-cols-4 gap-x-4 border rounded pr-3 bg-green-50 hover:shadow-lg transition duration-500\">\n",
      "    <img src=\"/static/placeholder.png\"/>\n",
      "    <div class=\"col-span-3 space-y-3 py-3\">\n",
      "     <h2 class=\"text-2xl text-green-900\">\n",
      "      democratic free often\n",
      "     </h2>\n",
      "     <div class=\"grid grid-cols-2 italic\">\n",
      "      <p>\n",
      "       1975-03-13\n",
      "      </p>\n",
      "      <p class=\"text-right\">\n",
      "       By Joseph Franklin\n",
      "      </p>\n",
      "     </div>\n",
      "     <p>\n",
      "      Just beat two necessary. Evidence candidate natural structure help.\n",
      "Instead carry left here story word poor. Front book thank significant response speech others. Senior second environment commercial sort coach personal.\n",
      "     </p>\n",
      "    </div>\n",
      "   </div>\n",
      "  </div>\n",
      " </body>\n",
      "</html>\n"
     ]
    }
   ],
   "source": [
    "soup = BeautifulSoup(html)\n",
    "print(soup.prettify())"
   ]
  },
  {
   "cell_type": "markdown",
   "metadata": {},
   "source": [
    "From here we can switch between the browser and python and try out different ways of getting different parts of the html document.\n",
    "\n",
    "We can leverage Google Chrome's developer tools by right clicking and choosing \"Inspect\". We can then use this html document inspector to help us with our web scraping."
   ]
  },
  {
   "cell_type": "code",
   "execution_count": 4,
   "metadata": {},
   "outputs": [],
   "source": [
    "# Use beautifulsoup methods to extract necessary content from an article"
   ]
  },
  {
   "cell_type": "code",
   "execution_count": 5,
   "metadata": {},
   "outputs": [
    {
     "data": {
      "text/plain": [
       "[<div class=\"grid grid-cols-4 gap-x-4 border rounded pr-3 bg-green-50 hover:shadow-lg transition duration-500\">\n",
       " <img src=\"/static/placeholder.png\"/>\n",
       " <div class=\"col-span-3 space-y-3 py-3\">\n",
       " <h2 class=\"text-2xl text-green-900\">executive laugh rather</h2>\n",
       " <div class=\"grid grid-cols-2 italic\">\n",
       " <p> 1979-09-04 </p>\n",
       " <p class=\"text-right\">By Eileen Rivera </p>\n",
       " </div>\n",
       " <p>Main although hair air age third shoulder song. Ago scene skill do force PM audience could. Son week home certainly hotel.\n",
       " During though have strong. Example land military go foreign street some.</p>\n",
       " </div>\n",
       " </div>,\n",
       " <div class=\"grid grid-cols-4 gap-x-4 border rounded pr-3 bg-green-50 hover:shadow-lg transition duration-500\">\n",
       " <img src=\"/static/placeholder.png\"/>\n",
       " <div class=\"col-span-3 space-y-3 py-3\">\n",
       " <h2 class=\"text-2xl text-green-900\">send far foreign</h2>\n",
       " <div class=\"grid grid-cols-2 italic\">\n",
       " <p> 1973-07-29 </p>\n",
       " <p class=\"text-right\">By Paige Sanchez </p>\n",
       " </div>\n",
       " <p>Nearly pass onto. Her call southern doctor these. Office resource student direction attack capital.\n",
       " Professional state author personal policy friend either. No development travel year talk forget budget.</p>\n",
       " </div>\n",
       " </div>,\n",
       " <div class=\"grid grid-cols-4 gap-x-4 border rounded pr-3 bg-green-50 hover:shadow-lg transition duration-500\">\n",
       " <img src=\"/static/placeholder.png\"/>\n",
       " <div class=\"col-span-3 space-y-3 py-3\">\n",
       " <h2 class=\"text-2xl text-green-900\">white action often</h2>\n",
       " <div class=\"grid grid-cols-2 italic\">\n",
       " <p> 1976-03-11 </p>\n",
       " <p class=\"text-right\">By Melissa Cooper </p>\n",
       " </div>\n",
       " <p>Around education current month staff. Standard notice exist dinner our life they. Itself room here street event base.\n",
       " Mother improve thank. The along success sell vote. Dark hundred although that few next approach.</p>\n",
       " </div>\n",
       " </div>,\n",
       " <div class=\"grid grid-cols-4 gap-x-4 border rounded pr-3 bg-green-50 hover:shadow-lg transition duration-500\">\n",
       " <img src=\"/static/placeholder.png\"/>\n",
       " <div class=\"col-span-3 space-y-3 py-3\">\n",
       " <h2 class=\"text-2xl text-green-900\">cup evening against</h2>\n",
       " <div class=\"grid grid-cols-2 italic\">\n",
       " <p> 1993-08-27 </p>\n",
       " <p class=\"text-right\">By James Wagner </p>\n",
       " </div>\n",
       " <p>Serious western perform situation the however. Fall do kitchen indeed peace letter. Trade hold fast discuss tough to weight.\n",
       " Maintain east into miss remain how.</p>\n",
       " </div>\n",
       " </div>,\n",
       " <div class=\"grid grid-cols-4 gap-x-4 border rounded pr-3 bg-green-50 hover:shadow-lg transition duration-500\">\n",
       " <img src=\"/static/placeholder.png\"/>\n",
       " <div class=\"col-span-3 space-y-3 py-3\">\n",
       " <h2 class=\"text-2xl text-green-900\">low natural skill</h2>\n",
       " <div class=\"grid grid-cols-2 italic\">\n",
       " <p> 2012-02-16 </p>\n",
       " <p class=\"text-right\">By Amanda Lee DVM </p>\n",
       " </div>\n",
       " <p>Hard add first on manager industry hotel. Get thought election bit. Provide head director official improve. Include hold hit low develop pick.\n",
       " View cause speech hair local reveal seven.</p>\n",
       " </div>\n",
       " </div>,\n",
       " <div class=\"grid grid-cols-4 gap-x-4 border rounded pr-3 bg-green-50 hover:shadow-lg transition duration-500\">\n",
       " <img src=\"/static/placeholder.png\"/>\n",
       " <div class=\"col-span-3 space-y-3 py-3\">\n",
       " <h2 class=\"text-2xl text-green-900\">enter letter claim</h2>\n",
       " <div class=\"grid grid-cols-2 italic\">\n",
       " <p> 2019-08-24 </p>\n",
       " <p class=\"text-right\">By Lee Keller </p>\n",
       " </div>\n",
       " <p>Stand goal information full. Success listen little card year page actually. Member small mind knowledge sell. Reason now head small employee.\n",
       " Argue worker law more. Add surface might rich consumer meet seven.</p>\n",
       " </div>\n",
       " </div>,\n",
       " <div class=\"grid grid-cols-4 gap-x-4 border rounded pr-3 bg-green-50 hover:shadow-lg transition duration-500\">\n",
       " <img src=\"/static/placeholder.png\"/>\n",
       " <div class=\"col-span-3 space-y-3 py-3\">\n",
       " <h2 class=\"text-2xl text-green-900\">reason nation evening</h2>\n",
       " <div class=\"grid grid-cols-2 italic\">\n",
       " <p> 2017-09-25 </p>\n",
       " <p class=\"text-right\">By Joseph Burns </p>\n",
       " </div>\n",
       " <p>Suddenly from be every recent collection result. Player involve room scene career least. Stand dinner view.\n",
       " Project develop PM. Which second soon blood Democrat indeed red. Last prepare professor production.</p>\n",
       " </div>\n",
       " </div>,\n",
       " <div class=\"grid grid-cols-4 gap-x-4 border rounded pr-3 bg-green-50 hover:shadow-lg transition duration-500\">\n",
       " <img src=\"/static/placeholder.png\"/>\n",
       " <div class=\"col-span-3 space-y-3 py-3\">\n",
       " <h2 class=\"text-2xl text-green-900\">development successful stay</h2>\n",
       " <div class=\"grid grid-cols-2 italic\">\n",
       " <p> 1991-08-13 </p>\n",
       " <p class=\"text-right\">By Justin Robinson </p>\n",
       " </div>\n",
       " <p>Prove simple stage lead.\n",
       " Anything act happy difference serious feeling service. Condition smile because want pressure year million air.</p>\n",
       " </div>\n",
       " </div>,\n",
       " <div class=\"grid grid-cols-4 gap-x-4 border rounded pr-3 bg-green-50 hover:shadow-lg transition duration-500\">\n",
       " <img src=\"/static/placeholder.png\"/>\n",
       " <div class=\"col-span-3 space-y-3 py-3\">\n",
       " <h2 class=\"text-2xl text-green-900\">bar life attack</h2>\n",
       " <div class=\"grid grid-cols-2 italic\">\n",
       " <p> 1982-12-23 </p>\n",
       " <p class=\"text-right\">By Diana Howell </p>\n",
       " </div>\n",
       " <p>Establish read subject. Give rock first toward remember safe fast education. Rest scientist sometimes south moment responsibility trade.\n",
       " Human assume you big tonight send. State reveal action student set.</p>\n",
       " </div>\n",
       " </div>,\n",
       " <div class=\"grid grid-cols-4 gap-x-4 border rounded pr-3 bg-green-50 hover:shadow-lg transition duration-500\">\n",
       " <img src=\"/static/placeholder.png\"/>\n",
       " <div class=\"col-span-3 space-y-3 py-3\">\n",
       " <h2 class=\"text-2xl text-green-900\">space result mouth</h2>\n",
       " <div class=\"grid grid-cols-2 italic\">\n",
       " <p> 1986-04-23 </p>\n",
       " <p class=\"text-right\">By Emma Edwards </p>\n",
       " </div>\n",
       " <p>Officer process property almost live despite wife. Girl still likely only.\n",
       " Former miss down full protect city open. Cultural if environmental bag own.</p>\n",
       " </div>\n",
       " </div>,\n",
       " <div class=\"grid grid-cols-4 gap-x-4 border rounded pr-3 bg-green-50 hover:shadow-lg transition duration-500\">\n",
       " <img src=\"/static/placeholder.png\"/>\n",
       " <div class=\"col-span-3 space-y-3 py-3\">\n",
       " <h2 class=\"text-2xl text-green-900\">surface character question</h2>\n",
       " <div class=\"grid grid-cols-2 italic\">\n",
       " <p> 2002-02-13 </p>\n",
       " <p class=\"text-right\">By Tiffany Brown </p>\n",
       " </div>\n",
       " <p>Lead happy side blue fear candidate him. Check man attorney trial item. Mrs character let mission according.\n",
       " Speech movie voice rule beautiful position central. Special across culture affect. Site season anyone run cut fear.</p>\n",
       " </div>\n",
       " </div>,\n",
       " <div class=\"grid grid-cols-4 gap-x-4 border rounded pr-3 bg-green-50 hover:shadow-lg transition duration-500\">\n",
       " <img src=\"/static/placeholder.png\"/>\n",
       " <div class=\"col-span-3 space-y-3 py-3\">\n",
       " <h2 class=\"text-2xl text-green-900\">democratic free often</h2>\n",
       " <div class=\"grid grid-cols-2 italic\">\n",
       " <p> 1975-03-13 </p>\n",
       " <p class=\"text-right\">By Joseph Franklin </p>\n",
       " </div>\n",
       " <p>Just beat two necessary. Evidence candidate natural structure help.\n",
       " Instead carry left here story word poor. Front book thank significant response speech others. Senior second environment commercial sort coach personal.</p>\n",
       " </div>\n",
       " </div>]"
      ]
     },
     "execution_count": 5,
     "metadata": {},
     "output_type": "execute_result"
    }
   ],
   "source": [
    "articles = soup.select('.grid-cols-4')\n",
    "articles"
   ]
  },
  {
   "cell_type": "code",
   "execution_count": 6,
   "metadata": {},
   "outputs": [
    {
     "data": {
      "text/plain": [
       "<div class=\"grid grid-cols-4 gap-x-4 border rounded pr-3 bg-green-50 hover:shadow-lg transition duration-500\">\n",
       "<img src=\"/static/placeholder.png\"/>\n",
       "<div class=\"col-span-3 space-y-3 py-3\">\n",
       "<h2 class=\"text-2xl text-green-900\">executive laugh rather</h2>\n",
       "<div class=\"grid grid-cols-2 italic\">\n",
       "<p> 1979-09-04 </p>\n",
       "<p class=\"text-right\">By Eileen Rivera </p>\n",
       "</div>\n",
       "<p>Main although hair air age third shoulder song. Ago scene skill do force PM audience could. Son week home certainly hotel.\n",
       "During though have strong. Example land military go foreign street some.</p>\n",
       "</div>\n",
       "</div>"
      ]
     },
     "execution_count": 6,
     "metadata": {},
     "output_type": "execute_result"
    }
   ],
   "source": [
    "article = articles[0]\n",
    "article"
   ]
  },
  {
   "cell_type": "code",
   "execution_count": 7,
   "metadata": {},
   "outputs": [
    {
     "data": {
      "text/plain": [
       "'executive laugh rather'"
      ]
     },
     "execution_count": 7,
     "metadata": {},
     "output_type": "execute_result"
    }
   ],
   "source": [
    "# soupmethod.tagname.text\n",
    "headline = article.h2.text\n",
    "headline"
   ]
  },
  {
   "cell_type": "code",
   "execution_count": 8,
   "metadata": {},
   "outputs": [
    {
     "data": {
      "text/plain": [
       "'1979-09-04'"
      ]
     },
     "execution_count": 8,
     "metadata": {},
     "output_type": "execute_result"
    }
   ],
   "source": [
    "# get the date\n",
    "# there was some white space that we stripped out\n",
    "date = article.p.text.strip()\n",
    "date"
   ]
  },
  {
   "cell_type": "code",
   "execution_count": 9,
   "metadata": {},
   "outputs": [
    {
     "data": {
      "text/plain": [
       "'Eileen Rivera'"
      ]
     },
     "execution_count": 9,
     "metadata": {},
     "output_type": "execute_result"
    }
   ],
   "source": [
    "# the dot before text is a notation to use before selecting the class and is required\n",
    "author = article.select('.text-right')[0].text.strip()[3:]\n",
    "author"
   ]
  },
  {
   "cell_type": "code",
   "execution_count": 10,
   "metadata": {},
   "outputs": [
    {
     "data": {
      "text/plain": [
       "'Main although hair air age third shoulder song. Ago scene skill do force PM audience could. Son week home certainly hotel.\\nDuring though have strong. Example land military go foreign street some.'"
      ]
     },
     "execution_count": 10,
     "metadata": {},
     "output_type": "execute_result"
    }
   ],
   "source": [
    "# getting the actual content\n",
    "content = article.select('p')[-1].text\n",
    "content"
   ]
  },
  {
   "cell_type": "markdown",
   "metadata": {},
   "source": [
    "Bringing it all together: Make a function"
   ]
  },
  {
   "cell_type": "code",
   "execution_count": 11,
   "metadata": {},
   "outputs": [],
   "source": [
    "def parse_news(article):\n",
    "    headline = article.h2.text\n",
    "    date = article.p.text.strip()\n",
    "    author = article.select('.text-right')[0].text.strip()[3:]\n",
    "    content = article.select('p')[-1].text\n",
    "    \n",
    "    return {\n",
    "        'headline': headline, 'date': date, 'author': author,\n",
    "        'content': content\n",
    "    }"
   ]
  },
  {
   "cell_type": "code",
   "execution_count": 12,
   "metadata": {},
   "outputs": [
    {
     "data": {
      "text/plain": [
       "{'headline': 'executive laugh rather',\n",
       " 'date': '1979-09-04',\n",
       " 'author': 'Eileen Rivera',\n",
       " 'content': 'Main although hair air age third shoulder song. Ago scene skill do force PM audience could. Son week home certainly hotel.\\nDuring though have strong. Example land military go foreign street some.'}"
      ]
     },
     "execution_count": 12,
     "metadata": {},
     "output_type": "execute_result"
    }
   ],
   "source": [
    "\n",
    "parse_news(article)"
   ]
  },
  {
   "cell_type": "code",
   "execution_count": 14,
   "metadata": {
    "scrolled": true
   },
   "outputs": [
    {
     "data": {
      "text/plain": [
       "[{'headline': 'executive laugh rather',\n",
       "  'date': '1979-09-04',\n",
       "  'author': 'Eileen Rivera',\n",
       "  'content': 'Main although hair air age third shoulder song. Ago scene skill do force PM audience could. Son week home certainly hotel.\\nDuring though have strong. Example land military go foreign street some.'},\n",
       " {'headline': 'send far foreign',\n",
       "  'date': '1973-07-29',\n",
       "  'author': 'Paige Sanchez',\n",
       "  'content': 'Nearly pass onto. Her call southern doctor these. Office resource student direction attack capital.\\nProfessional state author personal policy friend either. No development travel year talk forget budget.'},\n",
       " {'headline': 'white action often',\n",
       "  'date': '1976-03-11',\n",
       "  'author': 'Melissa Cooper',\n",
       "  'content': 'Around education current month staff. Standard notice exist dinner our life they. Itself room here street event base.\\nMother improve thank. The along success sell vote. Dark hundred although that few next approach.'},\n",
       " {'headline': 'cup evening against',\n",
       "  'date': '1993-08-27',\n",
       "  'author': 'James Wagner',\n",
       "  'content': 'Serious western perform situation the however. Fall do kitchen indeed peace letter. Trade hold fast discuss tough to weight.\\nMaintain east into miss remain how.'},\n",
       " {'headline': 'low natural skill',\n",
       "  'date': '2012-02-16',\n",
       "  'author': 'Amanda Lee DVM',\n",
       "  'content': 'Hard add first on manager industry hotel. Get thought election bit. Provide head director official improve. Include hold hit low develop pick.\\nView cause speech hair local reveal seven.'},\n",
       " {'headline': 'enter letter claim',\n",
       "  'date': '2019-08-24',\n",
       "  'author': 'Lee Keller',\n",
       "  'content': 'Stand goal information full. Success listen little card year page actually. Member small mind knowledge sell. Reason now head small employee.\\nArgue worker law more. Add surface might rich consumer meet seven.'},\n",
       " {'headline': 'reason nation evening',\n",
       "  'date': '2017-09-25',\n",
       "  'author': 'Joseph Burns',\n",
       "  'content': 'Suddenly from be every recent collection result. Player involve room scene career least. Stand dinner view.\\nProject develop PM. Which second soon blood Democrat indeed red. Last prepare professor production.'},\n",
       " {'headline': 'development successful stay',\n",
       "  'date': '1991-08-13',\n",
       "  'author': 'Justin Robinson',\n",
       "  'content': 'Prove simple stage lead.\\nAnything act happy difference serious feeling service. Condition smile because want pressure year million air.'},\n",
       " {'headline': 'bar life attack',\n",
       "  'date': '1982-12-23',\n",
       "  'author': 'Diana Howell',\n",
       "  'content': 'Establish read subject. Give rock first toward remember safe fast education. Rest scientist sometimes south moment responsibility trade.\\nHuman assume you big tonight send. State reveal action student set.'},\n",
       " {'headline': 'space result mouth',\n",
       "  'date': '1986-04-23',\n",
       "  'author': 'Emma Edwards',\n",
       "  'content': 'Officer process property almost live despite wife. Girl still likely only.\\nFormer miss down full protect city open. Cultural if environmental bag own.'},\n",
       " {'headline': 'surface character question',\n",
       "  'date': '2002-02-13',\n",
       "  'author': 'Tiffany Brown',\n",
       "  'content': 'Lead happy side blue fear candidate him. Check man attorney trial item. Mrs character let mission according.\\nSpeech movie voice rule beautiful position central. Special across culture affect. Site season anyone run cut fear.'},\n",
       " {'headline': 'democratic free often',\n",
       "  'date': '1975-03-13',\n",
       "  'author': 'Joseph Franklin',\n",
       "  'content': 'Just beat two necessary. Evidence candidate natural structure help.\\nInstead carry left here story word poor. Front book thank significant response speech others. Senior second environment commercial sort coach personal.'}]"
      ]
     },
     "execution_count": 14,
     "metadata": {},
     "output_type": "execute_result"
    }
   ],
   "source": [
    "# loop through all the articles\n",
    "[parse_news(article) for article in articles]"
   ]
  },
  {
   "cell_type": "code",
   "execution_count": 17,
   "metadata": {},
   "outputs": [
    {
     "data": {
      "text/html": [
       "<div>\n",
       "<style scoped>\n",
       "    .dataframe tbody tr th:only-of-type {\n",
       "        vertical-align: middle;\n",
       "    }\n",
       "\n",
       "    .dataframe tbody tr th {\n",
       "        vertical-align: top;\n",
       "    }\n",
       "\n",
       "    .dataframe thead th {\n",
       "        text-align: right;\n",
       "    }\n",
       "</style>\n",
       "<table border=\"1\" class=\"dataframe\">\n",
       "  <thead>\n",
       "    <tr style=\"text-align: right;\">\n",
       "      <th></th>\n",
       "      <th>headline</th>\n",
       "      <th>date</th>\n",
       "      <th>author</th>\n",
       "      <th>content</th>\n",
       "    </tr>\n",
       "  </thead>\n",
       "  <tbody>\n",
       "    <tr>\n",
       "      <th>0</th>\n",
       "      <td>executive laugh rather</td>\n",
       "      <td>1979-09-04</td>\n",
       "      <td>Eileen Rivera</td>\n",
       "      <td>Main although hair air age third shoulder song...</td>\n",
       "    </tr>\n",
       "    <tr>\n",
       "      <th>1</th>\n",
       "      <td>send far foreign</td>\n",
       "      <td>1973-07-29</td>\n",
       "      <td>Paige Sanchez</td>\n",
       "      <td>Nearly pass onto. Her call southern doctor the...</td>\n",
       "    </tr>\n",
       "    <tr>\n",
       "      <th>2</th>\n",
       "      <td>white action often</td>\n",
       "      <td>1976-03-11</td>\n",
       "      <td>Melissa Cooper</td>\n",
       "      <td>Around education current month staff. Standard...</td>\n",
       "    </tr>\n",
       "    <tr>\n",
       "      <th>3</th>\n",
       "      <td>cup evening against</td>\n",
       "      <td>1993-08-27</td>\n",
       "      <td>James Wagner</td>\n",
       "      <td>Serious western perform situation the however....</td>\n",
       "    </tr>\n",
       "    <tr>\n",
       "      <th>4</th>\n",
       "      <td>low natural skill</td>\n",
       "      <td>2012-02-16</td>\n",
       "      <td>Amanda Lee DVM</td>\n",
       "      <td>Hard add first on manager industry hotel. Get ...</td>\n",
       "    </tr>\n",
       "    <tr>\n",
       "      <th>5</th>\n",
       "      <td>enter letter claim</td>\n",
       "      <td>2019-08-24</td>\n",
       "      <td>Lee Keller</td>\n",
       "      <td>Stand goal information full. Success listen li...</td>\n",
       "    </tr>\n",
       "    <tr>\n",
       "      <th>6</th>\n",
       "      <td>reason nation evening</td>\n",
       "      <td>2017-09-25</td>\n",
       "      <td>Joseph Burns</td>\n",
       "      <td>Suddenly from be every recent collection resul...</td>\n",
       "    </tr>\n",
       "    <tr>\n",
       "      <th>7</th>\n",
       "      <td>development successful stay</td>\n",
       "      <td>1991-08-13</td>\n",
       "      <td>Justin Robinson</td>\n",
       "      <td>Prove simple stage lead.\\nAnything act happy d...</td>\n",
       "    </tr>\n",
       "    <tr>\n",
       "      <th>8</th>\n",
       "      <td>bar life attack</td>\n",
       "      <td>1982-12-23</td>\n",
       "      <td>Diana Howell</td>\n",
       "      <td>Establish read subject. Give rock first toward...</td>\n",
       "    </tr>\n",
       "    <tr>\n",
       "      <th>9</th>\n",
       "      <td>space result mouth</td>\n",
       "      <td>1986-04-23</td>\n",
       "      <td>Emma Edwards</td>\n",
       "      <td>Officer process property almost live despite w...</td>\n",
       "    </tr>\n",
       "    <tr>\n",
       "      <th>10</th>\n",
       "      <td>surface character question</td>\n",
       "      <td>2002-02-13</td>\n",
       "      <td>Tiffany Brown</td>\n",
       "      <td>Lead happy side blue fear candidate him. Check...</td>\n",
       "    </tr>\n",
       "    <tr>\n",
       "      <th>11</th>\n",
       "      <td>democratic free often</td>\n",
       "      <td>1975-03-13</td>\n",
       "      <td>Joseph Franklin</td>\n",
       "      <td>Just beat two necessary. Evidence candidate na...</td>\n",
       "    </tr>\n",
       "  </tbody>\n",
       "</table>\n",
       "</div>"
      ],
      "text/plain": [
       "                       headline        date           author  \\\n",
       "0        executive laugh rather  1979-09-04    Eileen Rivera   \n",
       "1              send far foreign  1973-07-29    Paige Sanchez   \n",
       "2            white action often  1976-03-11   Melissa Cooper   \n",
       "3           cup evening against  1993-08-27     James Wagner   \n",
       "4             low natural skill  2012-02-16   Amanda Lee DVM   \n",
       "5            enter letter claim  2019-08-24       Lee Keller   \n",
       "6         reason nation evening  2017-09-25     Joseph Burns   \n",
       "7   development successful stay  1991-08-13  Justin Robinson   \n",
       "8               bar life attack  1982-12-23     Diana Howell   \n",
       "9            space result mouth  1986-04-23     Emma Edwards   \n",
       "10   surface character question  2002-02-13    Tiffany Brown   \n",
       "11        democratic free often  1975-03-13  Joseph Franklin   \n",
       "\n",
       "                                              content  \n",
       "0   Main although hair air age third shoulder song...  \n",
       "1   Nearly pass onto. Her call southern doctor the...  \n",
       "2   Around education current month staff. Standard...  \n",
       "3   Serious western perform situation the however....  \n",
       "4   Hard add first on manager industry hotel. Get ...  \n",
       "5   Stand goal information full. Success listen li...  \n",
       "6   Suddenly from be every recent collection resul...  \n",
       "7   Prove simple stage lead.\\nAnything act happy d...  \n",
       "8   Establish read subject. Give rock first toward...  \n",
       "9   Officer process property almost live despite w...  \n",
       "10  Lead happy side blue fear candidate him. Check...  \n",
       "11  Just beat two necessary. Evidence candidate na...  "
      ]
     },
     "execution_count": 17,
     "metadata": {},
     "output_type": "execute_result"
    }
   ],
   "source": [
    "# loop through all the articles\n",
    "pd.DataFrame([parse_news(article) for article in articles])"
   ]
  },
  {
   "cell_type": "markdown",
   "metadata": {},
   "source": [
    "## Scraping People"
   ]
  },
  {
   "cell_type": "code",
   "execution_count": null,
   "metadata": {},
   "outputs": [],
   "source": [
    "response = requests.get('https://web-scraping-demo.zgulde.net/people', headers={'user-agent': 'Codeup DS Hoppper'})\n",
    "soup = BeautifulSoup(response.text)"
   ]
  },
  {
   "cell_type": "code",
   "execution_count": null,
   "metadata": {},
   "outputs": [],
   "source": []
  },
  {
   "cell_type": "code",
   "execution_count": null,
   "metadata": {},
   "outputs": [],
   "source": [
    "# def parse_person(person):\n",
    "#     name = \n",
    "#     quote = \n",
    "#     email = \n",
    "#     phone = \n",
    "#     address = \n",
    "\n",
    "    \n",
    "#     return {\n",
    "#         'name': name, 'quote': quote, 'email': email,\n",
    "#         'phone': phone,\n",
    "#         'address': address\n",
    "#     }"
   ]
  },
  {
   "cell_type": "code",
   "execution_count": null,
   "metadata": {},
   "outputs": [],
   "source": [
    "# loop through all the persons\n"
   ]
  },
  {
   "cell_type": "markdown",
   "metadata": {},
   "source": [
    "## Web Scraping Etiquitte\n",
    "\n",
    "- respect the `robots.txt` file if present\n",
    "\n",
    "    * [Wikipedia: Robots exclusion standard](https://en.wikipedia.org/wiki/Robots_exclusion_standard)\n",
    "    * [robotstxt.org](http://www.robotstxt.org/robotstxt.html)\n",
    "    * [codeup's robots.txt](https://codeup.com/robots.txt)\n",
    "\n",
    "- use a descriptive user agent\n",
    "\n",
    "    ```python\n",
    "    requests.get('http://example.com', headers={'user-agent': 'codeup data science germain cohort'})\n",
    "    ```"
   ]
  },
  {
   "cell_type": "markdown",
   "metadata": {},
   "source": [
    "## Exercises\n",
    "\n",
    "#### Codeup Blog Articles\n",
    "\n",
    "Visit Codeup's Blog(http://codeup.com/blog/) and record the urls for at least 5 distinct blog posts. For each post, you should scrape at least the post's title and content.\n",
    "\n",
    "Encapsulate your work in a function named get_blog_articles that will return a list of dictionaries, with each dictionary representing one article. The shape of each dictionary should look like this:"
   ]
  },
  {
   "cell_type": "code",
   "execution_count": null,
   "metadata": {},
   "outputs": [],
   "source": [
    "response = requests.get('https://codeup.com/blog/', headers={'user-agent': 'Codeup DS Hopper'})\n",
    "soup = BeautifulSoup(response.text)"
   ]
  },
  {
   "cell_type": "code",
   "execution_count": null,
   "metadata": {},
   "outputs": [],
   "source": []
  }
 ],
 "metadata": {
  "interpreter": {
   "hash": "38cca0c38332a56087b24af0bc80247f4fced29cb4f7f437d91dc159adec9c4e"
  },
  "kernelspec": {
   "display_name": "Python 3",
   "language": "python",
   "name": "python3"
  },
  "language_info": {
   "codemirror_mode": {
    "name": "ipython",
    "version": 3
   },
   "file_extension": ".py",
   "mimetype": "text/x-python",
   "name": "python",
   "nbconvert_exporter": "python",
   "pygments_lexer": "ipython3",
   "version": "3.8.8"
  }
 },
 "nbformat": 4,
 "nbformat_minor": 4
}
