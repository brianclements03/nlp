{
 "cells": [
  {
   "cell_type": "code",
   "execution_count": 1,
   "id": "8472d527",
   "metadata": {},
   "outputs": [
    {
     "name": "stderr",
     "output_type": "stream",
     "text": [
      "<ipython-input-1-7e378cf14cb2>:12: FutureWarning: Passing a negative integer is deprecated in version 1.0 and will not be supported in future version. Instead, use None to not limit the column width.\n",
      "  pd.set_option('display.max_colwidth', -1)\n"
     ]
    }
   ],
   "source": [
    "import matplotlib.pyplot as plt\n",
    "import seaborn as sns\n",
    "import pandas as pd\n",
    "import nltk\n",
    "import unicodedata\n",
    "import re\n",
    "import env\n",
    "import acquire\n",
    "import prepare\n",
    "from wordcloud import WordCloud\n",
    "import nltk.sentiment\n",
    "pd.set_option('display.max_colwidth', -1)"
   ]
  },
  {
   "cell_type": "markdown",
   "id": "b2636515",
   "metadata": {},
   "source": [
    "# 1. Spam Data\n",
    "\n",
    "## a. Load the spam data set."
   ]
  },
  {
   "cell_type": "code",
   "execution_count": 2,
   "id": "64cf96ce",
   "metadata": {
    "scrolled": true
   },
   "outputs": [
    {
     "data": {
      "text/html": [
       "<div>\n",
       "<style scoped>\n",
       "    .dataframe tbody tr th:only-of-type {\n",
       "        vertical-align: middle;\n",
       "    }\n",
       "\n",
       "    .dataframe tbody tr th {\n",
       "        vertical-align: top;\n",
       "    }\n",
       "\n",
       "    .dataframe thead th {\n",
       "        text-align: right;\n",
       "    }\n",
       "</style>\n",
       "<table border=\"1\" class=\"dataframe\">\n",
       "  <thead>\n",
       "    <tr style=\"text-align: right;\">\n",
       "      <th></th>\n",
       "      <th>label</th>\n",
       "      <th>text</th>\n",
       "    </tr>\n",
       "  </thead>\n",
       "  <tbody>\n",
       "    <tr>\n",
       "      <th>0</th>\n",
       "      <td>ham</td>\n",
       "      <td>Go until jurong point, crazy.. Available only in bugis n great world la e buffet... Cine there got amore wat...</td>\n",
       "    </tr>\n",
       "    <tr>\n",
       "      <th>1</th>\n",
       "      <td>ham</td>\n",
       "      <td>Ok lar... Joking wif u oni...</td>\n",
       "    </tr>\n",
       "    <tr>\n",
       "      <th>2</th>\n",
       "      <td>spam</td>\n",
       "      <td>Free entry in 2 a wkly comp to win FA Cup final tkts 21st May 2005. Text FA to 87121 to receive entry question(std txt rate)T&amp;C's apply 08452810075over18's</td>\n",
       "    </tr>\n",
       "    <tr>\n",
       "      <th>3</th>\n",
       "      <td>ham</td>\n",
       "      <td>U dun say so early hor... U c already then say...</td>\n",
       "    </tr>\n",
       "    <tr>\n",
       "      <th>4</th>\n",
       "      <td>ham</td>\n",
       "      <td>Nah I don't think he goes to usf, he lives around here though</td>\n",
       "    </tr>\n",
       "  </tbody>\n",
       "</table>\n",
       "</div>"
      ],
      "text/plain": [
       "  label  \\\n",
       "0  ham    \n",
       "1  ham    \n",
       "2  spam   \n",
       "3  ham    \n",
       "4  ham    \n",
       "\n",
       "                                                                                                                                                          text  \n",
       "0  Go until jurong point, crazy.. Available only in bugis n great world la e buffet... Cine there got amore wat...                                              \n",
       "1  Ok lar... Joking wif u oni...                                                                                                                                \n",
       "2  Free entry in 2 a wkly comp to win FA Cup final tkts 21st May 2005. Text FA to 87121 to receive entry question(std txt rate)T&C's apply 08452810075over18's  \n",
       "3  U dun say so early hor... U c already then say...                                                                                                            \n",
       "4  Nah I don't think he goes to usf, he lives around here though                                                                                                "
      ]
     },
     "execution_count": 2,
     "metadata": {},
     "output_type": "execute_result"
    }
   ],
   "source": [
    "#acquire data from spam_db\n",
    "\n",
    "from env import user, password, host\n",
    "\n",
    "# def get_db_url(database, host=host, user=user, password=password):\n",
    "#     return f'mysql+pymysql://{user}:{password}@{host}/{database}'\n",
    "\n",
    "\n",
    "# url = get_db_url(\"spam_db\")\n",
    "# sql = \"SELECT * FROM spam\"\n",
    "\n",
    "# df = pd.read_sql(sql, url, index_col=\"id\")\n",
    "\n",
    "raw = pd.read_csv(\"spam_clean - spam_clean.csv\")\n",
    "\n",
    "raw.head()"
   ]
  },
  {
   "cell_type": "code",
   "execution_count": 3,
   "id": "11a39ec9",
   "metadata": {
    "scrolled": true
   },
   "outputs": [],
   "source": [
    "import prepare\n",
    "raw['cleaned']=raw.text.apply(prepare.basic_clean).apply(prepare.tokenize)\\\n",
    ".apply(prepare.remove_stopwords, extra_words=[], \n",
    "                                   exclude_words=[])\n",
    "# df.head()"
   ]
  },
  {
   "cell_type": "code",
   "execution_count": 4,
   "id": "d035719b",
   "metadata": {},
   "outputs": [],
   "source": [
    "raw['stemmed'] = raw.cleaned.apply(prepare.stem)\n",
    "# df.head()"
   ]
  },
  {
   "cell_type": "code",
   "execution_count": 5,
   "id": "516146bc",
   "metadata": {},
   "outputs": [],
   "source": [
    "raw['lemmatized']= raw.cleaned.apply(prepare.lemmatize)"
   ]
  },
  {
   "cell_type": "code",
   "execution_count": 6,
   "id": "2a68529d",
   "metadata": {},
   "outputs": [
    {
     "data": {
      "text/html": [
       "<div>\n",
       "<style scoped>\n",
       "    .dataframe tbody tr th:only-of-type {\n",
       "        vertical-align: middle;\n",
       "    }\n",
       "\n",
       "    .dataframe tbody tr th {\n",
       "        vertical-align: top;\n",
       "    }\n",
       "\n",
       "    .dataframe thead th {\n",
       "        text-align: right;\n",
       "    }\n",
       "</style>\n",
       "<table border=\"1\" class=\"dataframe\">\n",
       "  <thead>\n",
       "    <tr style=\"text-align: right;\">\n",
       "      <th></th>\n",
       "      <th>label</th>\n",
       "      <th>text</th>\n",
       "      <th>cleaned</th>\n",
       "      <th>stemmed</th>\n",
       "      <th>lemmatized</th>\n",
       "    </tr>\n",
       "  </thead>\n",
       "  <tbody>\n",
       "    <tr>\n",
       "      <th>0</th>\n",
       "      <td>ham</td>\n",
       "      <td>Go until jurong point, crazy.. Available only in bugis n great world la e buffet... Cine there got amore wat...</td>\n",
       "      <td>go jurong point crazy available bugis n great world la e buffet cine got amore wat</td>\n",
       "      <td>go jurong point crazi avail bugi n great world la e buffet cine got amor wat</td>\n",
       "      <td>go jurong point crazy available bugis n great world la e buffet cine got amore wat</td>\n",
       "    </tr>\n",
       "    <tr>\n",
       "      <th>1</th>\n",
       "      <td>ham</td>\n",
       "      <td>Ok lar... Joking wif u oni...</td>\n",
       "      <td>ok lar joking wif u oni</td>\n",
       "      <td>ok lar joke wif u oni</td>\n",
       "      <td>ok lar joking wif u oni</td>\n",
       "    </tr>\n",
       "    <tr>\n",
       "      <th>2</th>\n",
       "      <td>spam</td>\n",
       "      <td>Free entry in 2 a wkly comp to win FA Cup final tkts 21st May 2005. Text FA to 87121 to receive entry question(std txt rate)T&amp;C's apply 08452810075over18's</td>\n",
       "      <td>free entry 2 wkly comp win fa cup final tkts 21st may 2005 text fa 87121 receive entry questionstd txt ratetcs apply 08452810075over18s</td>\n",
       "      <td>free entri 2 wkli comp win fa cup final tkt 21st may 2005 text fa 87121 receiv entri questionstd txt ratetc appli 08452810075over18</td>\n",
       "      <td>free entry 2 wkly comp win fa cup final tkts 21st may 2005 text fa 87121 receive entry questionstd txt ratetcs apply 08452810075over18s</td>\n",
       "    </tr>\n",
       "    <tr>\n",
       "      <th>3</th>\n",
       "      <td>ham</td>\n",
       "      <td>U dun say so early hor... U c already then say...</td>\n",
       "      <td>u dun say early hor u c already say</td>\n",
       "      <td>u dun say earli hor u c alreadi say</td>\n",
       "      <td>u dun say early hor u c already say</td>\n",
       "    </tr>\n",
       "    <tr>\n",
       "      <th>4</th>\n",
       "      <td>ham</td>\n",
       "      <td>Nah I don't think he goes to usf, he lives around here though</td>\n",
       "      <td>nah dont think goes usf lives around though</td>\n",
       "      <td>nah dont think goe usf live around though</td>\n",
       "      <td>nah dont think go usf life around though</td>\n",
       "    </tr>\n",
       "  </tbody>\n",
       "</table>\n",
       "</div>"
      ],
      "text/plain": [
       "  label  \\\n",
       "0  ham    \n",
       "1  ham    \n",
       "2  spam   \n",
       "3  ham    \n",
       "4  ham    \n",
       "\n",
       "                                                                                                                                                          text  \\\n",
       "0  Go until jurong point, crazy.. Available only in bugis n great world la e buffet... Cine there got amore wat...                                               \n",
       "1  Ok lar... Joking wif u oni...                                                                                                                                 \n",
       "2  Free entry in 2 a wkly comp to win FA Cup final tkts 21st May 2005. Text FA to 87121 to receive entry question(std txt rate)T&C's apply 08452810075over18's   \n",
       "3  U dun say so early hor... U c already then say...                                                                                                             \n",
       "4  Nah I don't think he goes to usf, he lives around here though                                                                                                 \n",
       "\n",
       "                                                                                                                                   cleaned  \\\n",
       "0  go jurong point crazy available bugis n great world la e buffet cine got amore wat                                                        \n",
       "1  ok lar joking wif u oni                                                                                                                   \n",
       "2  free entry 2 wkly comp win fa cup final tkts 21st may 2005 text fa 87121 receive entry questionstd txt ratetcs apply 08452810075over18s   \n",
       "3  u dun say early hor u c already say                                                                                                       \n",
       "4  nah dont think goes usf lives around though                                                                                               \n",
       "\n",
       "                                                                                                                               stemmed  \\\n",
       "0  go jurong point crazi avail bugi n great world la e buffet cine got amor wat                                                          \n",
       "1  ok lar joke wif u oni                                                                                                                 \n",
       "2  free entri 2 wkli comp win fa cup final tkt 21st may 2005 text fa 87121 receiv entri questionstd txt ratetc appli 08452810075over18   \n",
       "3  u dun say earli hor u c alreadi say                                                                                                   \n",
       "4  nah dont think goe usf live around though                                                                                             \n",
       "\n",
       "                                                                                                                                lemmatized  \n",
       "0  go jurong point crazy available bugis n great world la e buffet cine got amore wat                                                       \n",
       "1  ok lar joking wif u oni                                                                                                                  \n",
       "2  free entry 2 wkly comp win fa cup final tkts 21st may 2005 text fa 87121 receive entry questionstd txt ratetcs apply 08452810075over18s  \n",
       "3  u dun say early hor u c already say                                                                                                      \n",
       "4  nah dont think go usf life around though                                                                                                 "
      ]
     },
     "execution_count": 6,
     "metadata": {},
     "output_type": "execute_result"
    }
   ],
   "source": [
    "raw.head()"
   ]
  },
  {
   "cell_type": "code",
   "execution_count": 7,
   "id": "366713fa",
   "metadata": {
    "scrolled": true
   },
   "outputs": [
    {
     "data": {
      "text/plain": [
       "ham     0.865937\n",
       "spam    0.134063\n",
       "Name: label, dtype: float64"
      ]
     },
     "execution_count": 7,
     "metadata": {},
     "output_type": "execute_result"
    }
   ],
   "source": [
    "raw.label.value_counts(normalize = True)"
   ]
  },
  {
   "cell_type": "code",
   "execution_count": 8,
   "id": "ce2d037a",
   "metadata": {},
   "outputs": [
    {
     "data": {
      "text/html": [
       "<div>\n",
       "<style scoped>\n",
       "    .dataframe tbody tr th:only-of-type {\n",
       "        vertical-align: middle;\n",
       "    }\n",
       "\n",
       "    .dataframe tbody tr th {\n",
       "        vertical-align: top;\n",
       "    }\n",
       "\n",
       "    .dataframe thead th {\n",
       "        text-align: right;\n",
       "    }\n",
       "</style>\n",
       "<table border=\"1\" class=\"dataframe\">\n",
       "  <thead>\n",
       "    <tr style=\"text-align: right;\">\n",
       "      <th></th>\n",
       "      <th>label</th>\n",
       "      <th>lemmatized</th>\n",
       "    </tr>\n",
       "  </thead>\n",
       "  <tbody>\n",
       "    <tr>\n",
       "      <th>0</th>\n",
       "      <td>ham</td>\n",
       "      <td>go jurong point crazy available bugis n great world la e buffet cine got amore wat</td>\n",
       "    </tr>\n",
       "  </tbody>\n",
       "</table>\n",
       "</div>"
      ],
      "text/plain": [
       "  label  \\\n",
       "0  ham    \n",
       "\n",
       "                                                                           lemmatized  \n",
       "0  go jurong point crazy available bugis n great world la e buffet cine got amore wat  "
      ]
     },
     "execution_count": 8,
     "metadata": {},
     "output_type": "execute_result"
    }
   ],
   "source": [
    "lemmatized_df = raw.drop(columns=['text','cleaned','stemmed'])\n",
    "lemmatized_df.head(1)"
   ]
  },
  {
   "cell_type": "code",
   "execution_count": 9,
   "id": "0081d6e8",
   "metadata": {},
   "outputs": [],
   "source": [
    "# def clean(text):\n",
    "#     '''Simplified text cleaning function'''\n",
    "#     text = text.lower()\n",
    "#     text = unicodedata.normalize('NFKD', text).encode('ascii', 'ignore').decode('utf-8', 'ignore')\n",
    "#     return re.sub(r\"[^a-z0-9\\s]\", '', text)"
   ]
  },
  {
   "cell_type": "code",
   "execution_count": null,
   "id": "d03fb96c",
   "metadata": {},
   "outputs": [],
   "source": []
  },
  {
   "cell_type": "code",
   "execution_count": 10,
   "id": "c91cc803",
   "metadata": {
    "scrolled": true
   },
   "outputs": [],
   "source": [
    "# combine all messages in single string by label\n",
    "\n",
    "ham_words = (' '.join(raw[raw.label == 'ham'].lemmatized))\n",
    "spam_words = (' '.join(raw[raw.label == 'spam'].lemmatized))\n",
    "all_words = (' '.join(raw.lemmatized))"
   ]
  },
  {
   "cell_type": "code",
   "execution_count": 11,
   "id": "1616c771",
   "metadata": {},
   "outputs": [],
   "source": [
    "# ham_words"
   ]
  },
  {
   "cell_type": "markdown",
   "id": "cf4b9b61",
   "metadata": {},
   "source": [
    "## b. Create and explore bigrams for the spam data. Visualize them with a word cloud. How do they compare with the ham bigrams?"
   ]
  },
  {
   "cell_type": "code",
   "execution_count": 12,
   "id": "e6eb8e82",
   "metadata": {},
   "outputs": [
    {
     "data": {
      "text/plain": [
       "<AxesSubplot:>"
      ]
     },
     "execution_count": 12,
     "metadata": {},
     "output_type": "execute_result"
    },
    {
     "data": {
      "image/png": "[encoded data removed]",
      "text/plain": [
       "<Figure size 432x288 with 1 Axes>"
      ]
     },
     "metadata": {
      "needs_background": "light"
     },
     "output_type": "display_data"
    }
   ],
   "source": [
    "pd.Series(nltk.bigrams(spam_words.split())).value_counts().head(10).plot.barh()"
   ]
  },
  {
   "cell_type": "code",
   "execution_count": 13,
   "id": "9262d832",
   "metadata": {
    "scrolled": true
   },
   "outputs": [
    {
     "data": {
      "text/plain": [
       "(0    (free, entry)\n",
       " 1    (entry, 2)   \n",
       " 2    (2, wkly)    \n",
       " 3    (wkly, comp) \n",
       " 4    (comp, win)  \n",
       " 5    (win, fa)    \n",
       " 6    (fa, cup)    \n",
       " 7    (cup, final) \n",
       " 8    (final, tkts)\n",
       " 9    (tkts, 21st) \n",
       " dtype: object,)"
      ]
     },
     "execution_count": 13,
     "metadata": {},
     "output_type": "execute_result"
    }
   ],
   "source": [
    "spam_bigrams = pd.Series(nltk.bigrams(spam_words.split()))\n",
    "# ham_bigrams = nltk.ngrams(ham_words.split(), 2)\n",
    "spam_bigrams.head(10),"
   ]
  },
  {
   "cell_type": "code",
   "execution_count": 14,
   "id": "6666ec03",
   "metadata": {},
   "outputs": [],
   "source": [
    "# data = {k[0] + ' ' + k[1]: v for k, v in spam_bigrams.to_dict().items()}"
   ]
  },
  {
   "cell_type": "code",
   "execution_count": 15,
   "id": "a4c0896a",
   "metadata": {},
   "outputs": [],
   "source": [
    "# len(data)"
   ]
  },
  {
   "cell_type": "code",
   "execution_count": 16,
   "id": "b1f68b11",
   "metadata": {},
   "outputs": [],
   "source": [
    "sia = nltk.sentiment.SentimentIntensityAnalyzer()"
   ]
  },
  {
   "cell_type": "code",
   "execution_count": 17,
   "id": "164e14e8",
   "metadata": {},
   "outputs": [],
   "source": [
    "def make_bigrams_list(series):\n",
    "    bigrams_list = []\n",
    "    for bigram in series:\n",
    "        bigram = list(bigram)\n",
    "        bigram = ' '.join(bigram)\n",
    "        bigrams_list.append(bigram)\n",
    "    return bigrams_list"
   ]
  },
  {
   "cell_type": "code",
   "execution_count": 18,
   "id": "c38ef9dd",
   "metadata": {},
   "outputs": [],
   "source": [
    "# make_bigrams_list(spam_bigrams)"
   ]
  },
  {
   "cell_type": "code",
   "execution_count": 19,
   "id": "ebbb8516",
   "metadata": {},
   "outputs": [],
   "source": [
    "# this code was working earlier and helped me create the above function. \n",
    "# commenting out and moving forwar for now\n",
    "\n",
    "\n",
    "# for bigram in spam_bigrams:\n",
    "#     biggy = list(bigram)\n",
    "#     biggy = ' '.join(biggy)\n",
    "#     print(biggy)\n"
   ]
  },
  {
   "cell_type": "markdown",
   "id": "100a79bc",
   "metadata": {},
   "source": [
    "#### Ok good work getting the VADER analysis on each bigram. Now, get it in a DF"
   ]
  },
  {
   "cell_type": "code",
   "execution_count": 24,
   "id": "05e36c71",
   "metadata": {},
   "outputs": [
    {
     "data": {
      "text/html": [
       "<div>\n",
       "<style scoped>\n",
       "    .dataframe tbody tr th:only-of-type {\n",
       "        vertical-align: middle;\n",
       "    }\n",
       "\n",
       "    .dataframe tbody tr th {\n",
       "        vertical-align: top;\n",
       "    }\n",
       "\n",
       "    .dataframe thead th {\n",
       "        text-align: right;\n",
       "    }\n",
       "</style>\n",
       "<table border=\"1\" class=\"dataframe\">\n",
       "  <thead>\n",
       "    <tr style=\"text-align: right;\">\n",
       "      <th></th>\n",
       "      <th>bigram</th>\n",
       "    </tr>\n",
       "  </thead>\n",
       "  <tbody>\n",
       "    <tr>\n",
       "      <th>0</th>\n",
       "      <td>free entry</td>\n",
       "    </tr>\n",
       "    <tr>\n",
       "      <th>1</th>\n",
       "      <td>entry 2</td>\n",
       "    </tr>\n",
       "    <tr>\n",
       "      <th>2</th>\n",
       "      <td>2 wkly</td>\n",
       "    </tr>\n",
       "    <tr>\n",
       "      <th>3</th>\n",
       "      <td>wkly comp</td>\n",
       "    </tr>\n",
       "    <tr>\n",
       "      <th>4</th>\n",
       "      <td>comp win</td>\n",
       "    </tr>\n",
       "  </tbody>\n",
       "</table>\n",
       "</div>"
      ],
      "text/plain": [
       "       bigram\n",
       "0  free entry\n",
       "1  entry 2   \n",
       "2  2 wkly    \n",
       "3  wkly comp \n",
       "4  comp win  "
      ]
     },
     "execution_count": 24,
     "metadata": {},
     "output_type": "execute_result"
    }
   ],
   "source": [
    "# test = pd.DataFrame(pd.Series(pd.Series(nltk.bigrams(spam_words.split()))),columns=['bigram'])\n",
    "# test.head()\n",
    "\n",
    "big_spam_df = pd.DataFrame(pd.Series(make_bigrams_list(spam_bigrams)),columns=['bigram'])\n",
    "big_spam_df.head()"
   ]
  },
  {
   "cell_type": "code",
   "execution_count": 25,
   "id": "0c782916",
   "metadata": {},
   "outputs": [
    {
     "data": {
      "text/plain": [
       "(12504, 1)"
      ]
     },
     "execution_count": 25,
     "metadata": {},
     "output_type": "execute_result"
    }
   ],
   "source": [
    "\n",
    "big_spam_df.shape"
   ]
  },
  {
   "cell_type": "code",
   "execution_count": 26,
   "id": "89dd2768",
   "metadata": {},
   "outputs": [
    {
     "data": {
      "text/html": [
       "<div>\n",
       "<style scoped>\n",
       "    .dataframe tbody tr th:only-of-type {\n",
       "        vertical-align: middle;\n",
       "    }\n",
       "\n",
       "    .dataframe tbody tr th {\n",
       "        vertical-align: top;\n",
       "    }\n",
       "\n",
       "    .dataframe thead th {\n",
       "        text-align: right;\n",
       "    }\n",
       "</style>\n",
       "<table border=\"1\" class=\"dataframe\">\n",
       "  <thead>\n",
       "    <tr style=\"text-align: right;\">\n",
       "      <th></th>\n",
       "      <th>bigram</th>\n",
       "      <th>sentiment</th>\n",
       "      <th>label</th>\n",
       "    </tr>\n",
       "  </thead>\n",
       "  <tbody>\n",
       "    <tr>\n",
       "      <th>0</th>\n",
       "      <td>free entry</td>\n",
       "      <td>0.5106</td>\n",
       "      <td>spam</td>\n",
       "    </tr>\n",
       "    <tr>\n",
       "      <th>1</th>\n",
       "      <td>entry 2</td>\n",
       "      <td>0.0000</td>\n",
       "      <td>spam</td>\n",
       "    </tr>\n",
       "    <tr>\n",
       "      <th>2</th>\n",
       "      <td>2 wkly</td>\n",
       "      <td>0.0000</td>\n",
       "      <td>spam</td>\n",
       "    </tr>\n",
       "    <tr>\n",
       "      <th>3</th>\n",
       "      <td>wkly comp</td>\n",
       "      <td>0.0000</td>\n",
       "      <td>spam</td>\n",
       "    </tr>\n",
       "    <tr>\n",
       "      <th>4</th>\n",
       "      <td>comp win</td>\n",
       "      <td>0.5859</td>\n",
       "      <td>spam</td>\n",
       "    </tr>\n",
       "  </tbody>\n",
       "</table>\n",
       "</div>"
      ],
      "text/plain": [
       "       bigram  sentiment label\n",
       "0  free entry  0.5106     spam\n",
       "1  entry 2     0.0000     spam\n",
       "2  2 wkly      0.0000     spam\n",
       "3  wkly comp   0.0000     spam\n",
       "4  comp win    0.5859     spam"
      ]
     },
     "execution_count": 26,
     "metadata": {},
     "output_type": "execute_result"
    }
   ],
   "source": [
    "big_spam_df['sentiment'] = big_spam_df.bigram.apply(lambda doc: sia.polarity_scores(doc)['compound'])\n",
    "\n",
    "big_spam_df['label'] = 'spam'\n",
    "big_spam_df.head()\n"
   ]
  },
  {
   "cell_type": "markdown",
   "id": "6a8f0482",
   "metadata": {},
   "source": [
    "### Great work, got the VADER sentiment analysis for each bigram"
   ]
  },
  {
   "cell_type": "code",
   "execution_count": 27,
   "id": "661bce30",
   "metadata": {
    "scrolled": true
   },
   "outputs": [
    {
     "data": {
      "text/html": [
       "<div>\n",
       "<style scoped>\n",
       "    .dataframe tbody tr th:only-of-type {\n",
       "        vertical-align: middle;\n",
       "    }\n",
       "\n",
       "    .dataframe tbody tr th {\n",
       "        vertical-align: top;\n",
       "    }\n",
       "\n",
       "    .dataframe thead th {\n",
       "        text-align: right;\n",
       "    }\n",
       "</style>\n",
       "<table border=\"1\" class=\"dataframe\">\n",
       "  <thead>\n",
       "    <tr style=\"text-align: right;\">\n",
       "      <th></th>\n",
       "      <th>bigram</th>\n",
       "      <th>sentiment</th>\n",
       "      <th>label</th>\n",
       "    </tr>\n",
       "  </thead>\n",
       "  <tbody>\n",
       "    <tr>\n",
       "      <th>183</th>\n",
       "      <td>jersey devil</td>\n",
       "      <td>-0.6597</td>\n",
       "      <td>spam</td>\n",
       "    </tr>\n",
       "    <tr>\n",
       "      <th>184</th>\n",
       "      <td>devil detroit</td>\n",
       "      <td>-0.6597</td>\n",
       "      <td>spam</td>\n",
       "    </tr>\n",
       "    <tr>\n",
       "      <th>9811</th>\n",
       "      <td>potential abuse</td>\n",
       "      <td>-0.6369</td>\n",
       "      <td>spam</td>\n",
       "    </tr>\n",
       "    <tr>\n",
       "      <th>11216</th>\n",
       "      <td>tsunami disaster</td>\n",
       "      <td>-0.6249</td>\n",
       "      <td>spam</td>\n",
       "    </tr>\n",
       "    <tr>\n",
       "      <th>5706</th>\n",
       "      <td>bitch go</td>\n",
       "      <td>-0.5859</td>\n",
       "      <td>spam</td>\n",
       "    </tr>\n",
       "    <tr>\n",
       "      <th>...</th>\n",
       "      <td>...</td>\n",
       "      <td>...</td>\n",
       "      <td>...</td>\n",
       "    </tr>\n",
       "    <tr>\n",
       "      <th>5082</th>\n",
       "      <td>love satisfy</td>\n",
       "      <td>0.8020</td>\n",
       "      <td>spam</td>\n",
       "    </tr>\n",
       "    <tr>\n",
       "      <th>7670</th>\n",
       "      <td>fun great</td>\n",
       "      <td>0.8126</td>\n",
       "      <td>spam</td>\n",
       "    </tr>\n",
       "    <tr>\n",
       "      <th>4259</th>\n",
       "      <td>win winner</td>\n",
       "      <td>0.8225</td>\n",
       "      <td>spam</td>\n",
       "    </tr>\n",
       "    <tr>\n",
       "      <th>10579</th>\n",
       "      <td>win winner</td>\n",
       "      <td>0.8225</td>\n",
       "      <td>spam</td>\n",
       "    </tr>\n",
       "    <tr>\n",
       "      <th>10428</th>\n",
       "      <td>win super</td>\n",
       "      <td>0.8271</td>\n",
       "      <td>spam</td>\n",
       "    </tr>\n",
       "  </tbody>\n",
       "</table>\n",
       "<p>12504 rows × 3 columns</p>\n",
       "</div>"
      ],
      "text/plain": [
       "                 bigram  sentiment label\n",
       "183    jersey devil     -0.6597     spam\n",
       "184    devil detroit    -0.6597     spam\n",
       "9811   potential abuse  -0.6369     spam\n",
       "11216  tsunami disaster -0.6249     spam\n",
       "5706   bitch go         -0.5859     spam\n",
       "...         ...             ...      ...\n",
       "5082   love satisfy      0.8020     spam\n",
       "7670   fun great         0.8126     spam\n",
       "4259   win winner        0.8225     spam\n",
       "10579  win winner        0.8225     spam\n",
       "10428  win super         0.8271     spam\n",
       "\n",
       "[12504 rows x 3 columns]"
      ]
     },
     "execution_count": 27,
     "metadata": {},
     "output_type": "execute_result"
    }
   ],
   "source": [
    "big_spam_df.sort_values(by='sentiment')"
   ]
  },
  {
   "cell_type": "code",
   "execution_count": 28,
   "id": "f0b51369",
   "metadata": {},
   "outputs": [
    {
     "data": {
      "text/html": [
       "<div>\n",
       "<style scoped>\n",
       "    .dataframe tbody tr th:only-of-type {\n",
       "        vertical-align: middle;\n",
       "    }\n",
       "\n",
       "    .dataframe tbody tr th {\n",
       "        vertical-align: top;\n",
       "    }\n",
       "\n",
       "    .dataframe thead th {\n",
       "        text-align: right;\n",
       "    }\n",
       "</style>\n",
       "<table border=\"1\" class=\"dataframe\">\n",
       "  <thead>\n",
       "    <tr style=\"text-align: right;\">\n",
       "      <th></th>\n",
       "      <th>bigram</th>\n",
       "      <th>sentiment</th>\n",
       "      <th>label</th>\n",
       "    </tr>\n",
       "  </thead>\n",
       "  <tbody>\n",
       "    <tr>\n",
       "      <th>183</th>\n",
       "      <td>jersey devil</td>\n",
       "      <td>-0.6597</td>\n",
       "      <td>spam</td>\n",
       "    </tr>\n",
       "    <tr>\n",
       "      <th>184</th>\n",
       "      <td>devil detroit</td>\n",
       "      <td>-0.6597</td>\n",
       "      <td>spam</td>\n",
       "    </tr>\n",
       "    <tr>\n",
       "      <th>9811</th>\n",
       "      <td>potential abuse</td>\n",
       "      <td>-0.6369</td>\n",
       "      <td>spam</td>\n",
       "    </tr>\n",
       "    <tr>\n",
       "      <th>11216</th>\n",
       "      <td>tsunami disaster</td>\n",
       "      <td>-0.6249</td>\n",
       "      <td>spam</td>\n",
       "    </tr>\n",
       "    <tr>\n",
       "      <th>5706</th>\n",
       "      <td>bitch go</td>\n",
       "      <td>-0.5859</td>\n",
       "      <td>spam</td>\n",
       "    </tr>\n",
       "    <tr>\n",
       "      <th>5013</th>\n",
       "      <td>po box</td>\n",
       "      <td>-0.5574</td>\n",
       "      <td>spam</td>\n",
       "    </tr>\n",
       "    <tr>\n",
       "      <th>5113</th>\n",
       "      <td>uk po</td>\n",
       "      <td>-0.5574</td>\n",
       "      <td>spam</td>\n",
       "    </tr>\n",
       "    <tr>\n",
       "      <th>5114</th>\n",
       "      <td>po box</td>\n",
       "      <td>-0.5574</td>\n",
       "      <td>spam</td>\n",
       "    </tr>\n",
       "    <tr>\n",
       "      <th>5164</th>\n",
       "      <td>ntt po</td>\n",
       "      <td>-0.5574</td>\n",
       "      <td>spam</td>\n",
       "    </tr>\n",
       "    <tr>\n",
       "      <th>5165</th>\n",
       "      <td>po box</td>\n",
       "      <td>-0.5574</td>\n",
       "      <td>spam</td>\n",
       "    </tr>\n",
       "  </tbody>\n",
       "</table>\n",
       "</div>"
      ],
      "text/plain": [
       "                 bigram  sentiment label\n",
       "183    jersey devil     -0.6597     spam\n",
       "184    devil detroit    -0.6597     spam\n",
       "9811   potential abuse  -0.6369     spam\n",
       "11216  tsunami disaster -0.6249     spam\n",
       "5706   bitch go         -0.5859     spam\n",
       "5013   po box           -0.5574     spam\n",
       "5113   uk po            -0.5574     spam\n",
       "5114   po box           -0.5574     spam\n",
       "5164   ntt po           -0.5574     spam\n",
       "5165   po box           -0.5574     spam"
      ]
     },
     "execution_count": 28,
     "metadata": {},
     "output_type": "execute_result"
    }
   ],
   "source": [
    "big_spam_df[big_spam_df.sentiment < 0].sort_values(by='sentiment').head(10)"
   ]
  },
  {
   "cell_type": "code",
   "execution_count": 29,
   "id": "1e511c90",
   "metadata": {},
   "outputs": [
    {
     "data": {
      "text/html": [
       "<div>\n",
       "<style scoped>\n",
       "    .dataframe tbody tr th:only-of-type {\n",
       "        vertical-align: middle;\n",
       "    }\n",
       "\n",
       "    .dataframe tbody tr th {\n",
       "        vertical-align: top;\n",
       "    }\n",
       "\n",
       "    .dataframe thead th {\n",
       "        text-align: right;\n",
       "    }\n",
       "</style>\n",
       "<table border=\"1\" class=\"dataframe\">\n",
       "  <thead>\n",
       "    <tr style=\"text-align: right;\">\n",
       "      <th></th>\n",
       "      <th>bigram</th>\n",
       "      <th>sentiment</th>\n",
       "      <th>label</th>\n",
       "    </tr>\n",
       "  </thead>\n",
       "  <tbody>\n",
       "    <tr>\n",
       "      <th>8278</th>\n",
       "      <td>win free</td>\n",
       "      <td>0.7964</td>\n",
       "      <td>spam</td>\n",
       "    </tr>\n",
       "    <tr>\n",
       "      <th>6575</th>\n",
       "      <td>sunshine congratulation</td>\n",
       "      <td>0.7964</td>\n",
       "      <td>spam</td>\n",
       "    </tr>\n",
       "    <tr>\n",
       "      <th>3694</th>\n",
       "      <td>win free</td>\n",
       "      <td>0.7964</td>\n",
       "      <td>spam</td>\n",
       "    </tr>\n",
       "    <tr>\n",
       "      <th>4093</th>\n",
       "      <td>win vip</td>\n",
       "      <td>0.7964</td>\n",
       "      <td>spam</td>\n",
       "    </tr>\n",
       "    <tr>\n",
       "      <th>4178</th>\n",
       "      <td>win free</td>\n",
       "      <td>0.7964</td>\n",
       "      <td>spam</td>\n",
       "    </tr>\n",
       "    <tr>\n",
       "      <th>5082</th>\n",
       "      <td>love satisfy</td>\n",
       "      <td>0.8020</td>\n",
       "      <td>spam</td>\n",
       "    </tr>\n",
       "    <tr>\n",
       "      <th>7670</th>\n",
       "      <td>fun great</td>\n",
       "      <td>0.8126</td>\n",
       "      <td>spam</td>\n",
       "    </tr>\n",
       "    <tr>\n",
       "      <th>10579</th>\n",
       "      <td>win winner</td>\n",
       "      <td>0.8225</td>\n",
       "      <td>spam</td>\n",
       "    </tr>\n",
       "    <tr>\n",
       "      <th>4259</th>\n",
       "      <td>win winner</td>\n",
       "      <td>0.8225</td>\n",
       "      <td>spam</td>\n",
       "    </tr>\n",
       "    <tr>\n",
       "      <th>10428</th>\n",
       "      <td>win super</td>\n",
       "      <td>0.8271</td>\n",
       "      <td>spam</td>\n",
       "    </tr>\n",
       "  </tbody>\n",
       "</table>\n",
       "</div>"
      ],
      "text/plain": [
       "                        bigram  sentiment label\n",
       "8278   win free                 0.7964     spam\n",
       "6575   sunshine congratulation  0.7964     spam\n",
       "3694   win free                 0.7964     spam\n",
       "4093   win vip                  0.7964     spam\n",
       "4178   win free                 0.7964     spam\n",
       "5082   love satisfy             0.8020     spam\n",
       "7670   fun great                0.8126     spam\n",
       "10579  win winner               0.8225     spam\n",
       "4259   win winner               0.8225     spam\n",
       "10428  win super                0.8271     spam"
      ]
     },
     "execution_count": 29,
     "metadata": {},
     "output_type": "execute_result"
    }
   ],
   "source": [
    "big_spam_df[big_spam_df.sentiment > 0].sort_values(by='sentiment').tail(10)"
   ]
  },
  {
   "cell_type": "code",
   "execution_count": 30,
   "id": "aca5e361",
   "metadata": {
    "scrolled": true
   },
   "outputs": [
    {
     "data": {
      "text/plain": [
       "please call                       44\n",
       "customer service                  27\n",
       "contact u                         24\n",
       "po box                            24\n",
       "guaranteed call                   23\n",
       "                                  ..\n",
       "100 filthy                        1 \n",
       "back chat                         1 \n",
       "racal libertine                   1 \n",
       "150ppmpobox10183bhamb64xe xmas    1 \n",
       "every wktxt                       1 \n",
       "Name: bigram, Length: 7036, dtype: int64"
      ]
     },
     "execution_count": 30,
     "metadata": {},
     "output_type": "execute_result"
    }
   ],
   "source": [
    "big_spam_df.bigram.value_counts()"
   ]
  },
  {
   "cell_type": "markdown",
   "id": "da81d72d",
   "metadata": {},
   "source": [
    "### my dataframe is messed up, in that it is composed of the value_counts on the bigrams, not handy for further explo.  fixing now...\n",
    "\n",
    "### ALL FIXED"
   ]
  },
  {
   "cell_type": "code",
   "execution_count": 31,
   "id": "a6807f0a",
   "metadata": {},
   "outputs": [
    {
     "data": {
      "image/png": "[encoded data removed]",
      "text/plain": [
       "<Figure size 576x288 with 1 Axes>"
      ]
     },
     "metadata": {
      "needs_background": "light"
     },
     "output_type": "display_data"
    }
   ],
   "source": [
    "# value_counts bc we want the most commonly occuring bigrams at the forefront\n",
    "spam_bigrams = pd.Series(nltk.bigrams(spam_words.split())).value_counts()\n",
    "\n",
    "\n",
    "data = {k[0] + ' ' + k[1]: v for k, v in spam_bigrams.to_dict().items()}\n",
    "img = WordCloud(background_color='white', width=800, height=400).generate_from_frequencies(data)\n",
    "plt.figure(figsize=(8, 4))\n",
    "plt.imshow(img)\n",
    "plt.axis('off')\n",
    "plt.show()"
   ]
  },
  {
   "cell_type": "markdown",
   "id": "70e969ba",
   "metadata": {},
   "source": [
    "- that’s a dictionary comprehension - kinda like a list comprehension but w/ dictionary keys and values\n",
    "- the convention is `k` for the key name and `v` for the value that that particular key points to"
   ]
  },
  {
   "cell_type": "code",
   "execution_count": 32,
   "id": "7813d9d6",
   "metadata": {},
   "outputs": [],
   "source": [
    "# this would be to have a look at the ham bigrams\n",
    "# pd.Series(nltk.bigrams(ham_words.split())).value_counts()#.head(10).plot.barh()"
   ]
  },
  {
   "cell_type": "code",
   "execution_count": 33,
   "id": "f6745344",
   "metadata": {
    "scrolled": true
   },
   "outputs": [
    {
     "data": {
      "image/png": "[encoded data removed]",
      "text/plain": [
       "<Figure size 576x288 with 1 Axes>"
      ]
     },
     "metadata": {
      "needs_background": "light"
     },
     "output_type": "display_data"
    }
   ],
   "source": [
    "ham_bigrams = pd.Series(nltk.bigrams(ham_words.split())).value_counts()\n",
    "# ham_bigrams = nltk.ngrams(ham_words.split(), 2)\n",
    "# ham_bigrams.head()\n",
    "data = {k[0] + ' ' + k[1]: v for k, v in ham_bigrams.to_dict().items()}\n",
    "img = WordCloud(background_color='white', width=800, height=400).generate_from_frequencies(data)\n",
    "plt.figure(figsize=(8, 4))\n",
    "plt.imshow(img)\n",
    "plt.axis('off')\n",
    "plt.show()"
   ]
  },
  {
   "cell_type": "code",
   "execution_count": 34,
   "id": "f5b3ef25",
   "metadata": {
    "scrolled": true
   },
   "outputs": [
    {
     "data": {
      "text/plain": [
       "<AxesSubplot:>"
      ]
     },
     "execution_count": 34,
     "metadata": {},
     "output_type": "execute_result"
    },
    {
     "data": {
      "image/png": "[encoded data removed]",
      "text/plain": [
       "<Figure size 432x288 with 1 Axes>"
      ]
     },
     "metadata": {
      "needs_background": "light"
     },
     "output_type": "display_data"
    }
   ],
   "source": [
    "pd.Series(nltk.bigrams(ham_words.split())).value_counts().head(10).plot.barh()"
   ]
  },
  {
   "cell_type": "code",
   "execution_count": 35,
   "id": "2abd1897",
   "metadata": {
    "scrolled": true
   },
   "outputs": [
    {
     "data": {
      "text/plain": [
       "(0    (go, jurong)      \n",
       " 1    (jurong, point)   \n",
       " 2    (point, crazy)    \n",
       " 3    (crazy, available)\n",
       " 4    (available, bugis)\n",
       " dtype: object,)"
      ]
     },
     "execution_count": 35,
     "metadata": {},
     "output_type": "execute_result"
    }
   ],
   "source": [
    "ham_bigrams = pd.Series(nltk.bigrams(ham_words.split()))\n",
    "# ham_bigrams = nltk.ngrams(ham_words.split(), 2)\n",
    "ham_bigrams.head(),"
   ]
  },
  {
   "cell_type": "code",
   "execution_count": 36,
   "id": "da92156b",
   "metadata": {},
   "outputs": [
    {
     "data": {
      "text/html": [
       "<div>\n",
       "<style scoped>\n",
       "    .dataframe tbody tr th:only-of-type {\n",
       "        vertical-align: middle;\n",
       "    }\n",
       "\n",
       "    .dataframe tbody tr th {\n",
       "        vertical-align: top;\n",
       "    }\n",
       "\n",
       "    .dataframe thead th {\n",
       "        text-align: right;\n",
       "    }\n",
       "</style>\n",
       "<table border=\"1\" class=\"dataframe\">\n",
       "  <thead>\n",
       "    <tr style=\"text-align: right;\">\n",
       "      <th></th>\n",
       "      <th>bigram</th>\n",
       "    </tr>\n",
       "  </thead>\n",
       "  <tbody>\n",
       "    <tr>\n",
       "      <th>0</th>\n",
       "      <td>go jurong</td>\n",
       "    </tr>\n",
       "    <tr>\n",
       "      <th>1</th>\n",
       "      <td>jurong point</td>\n",
       "    </tr>\n",
       "    <tr>\n",
       "      <th>2</th>\n",
       "      <td>point crazy</td>\n",
       "    </tr>\n",
       "    <tr>\n",
       "      <th>3</th>\n",
       "      <td>crazy available</td>\n",
       "    </tr>\n",
       "    <tr>\n",
       "      <th>4</th>\n",
       "      <td>available bugis</td>\n",
       "    </tr>\n",
       "  </tbody>\n",
       "</table>\n",
       "</div>"
      ],
      "text/plain": [
       "            bigram\n",
       "0  go jurong      \n",
       "1  jurong point   \n",
       "2  point crazy    \n",
       "3  crazy available\n",
       "4  available bugis"
      ]
     },
     "execution_count": 36,
     "metadata": {},
     "output_type": "execute_result"
    }
   ],
   "source": [
    "# test = pd.DataFrame(pd.Series(pd.Series(nltk.bigrams(spam_words.split()))),columns=['bigram'])\n",
    "# test.head()\n",
    "\n",
    "big_ham_df = pd.DataFrame(pd.Series(make_bigrams_list(ham_bigrams)),columns=['bigram'])\n",
    "big_ham_df.head()\n"
   ]
  },
  {
   "cell_type": "code",
   "execution_count": 37,
   "id": "2b1a9f82",
   "metadata": {},
   "outputs": [
    {
     "data": {
      "text/plain": [
       "(39825, 1)"
      ]
     },
     "execution_count": 37,
     "metadata": {},
     "output_type": "execute_result"
    }
   ],
   "source": [
    "big_ham_df.shape"
   ]
  },
  {
   "cell_type": "code",
   "execution_count": 38,
   "id": "7ec5b5f0",
   "metadata": {
    "scrolled": true
   },
   "outputs": [
    {
     "name": "stdout",
     "output_type": "stream",
     "text": [
      "<class 'pandas.core.frame.DataFrame'>\n",
      "RangeIndex: 39825 entries, 0 to 39824\n",
      "Data columns (total 1 columns):\n",
      " #   Column  Non-Null Count  Dtype \n",
      "---  ------  --------------  ----- \n",
      " 0   bigram  39825 non-null  object\n",
      "dtypes: object(1)\n",
      "memory usage: 311.3+ KB\n"
     ]
    }
   ],
   "source": [
    "big_ham_df.info()"
   ]
  },
  {
   "cell_type": "code",
   "execution_count": 39,
   "id": "ad77e42b",
   "metadata": {
    "scrolled": true
   },
   "outputs": [
    {
     "data": {
      "text/html": [
       "<div>\n",
       "<style scoped>\n",
       "    .dataframe tbody tr th:only-of-type {\n",
       "        vertical-align: middle;\n",
       "    }\n",
       "\n",
       "    .dataframe tbody tr th {\n",
       "        vertical-align: top;\n",
       "    }\n",
       "\n",
       "    .dataframe thead th {\n",
       "        text-align: right;\n",
       "    }\n",
       "</style>\n",
       "<table border=\"1\" class=\"dataframe\">\n",
       "  <thead>\n",
       "    <tr style=\"text-align: right;\">\n",
       "      <th></th>\n",
       "      <th>bigram</th>\n",
       "      <th>sentiment</th>\n",
       "      <th>label</th>\n",
       "    </tr>\n",
       "  </thead>\n",
       "  <tbody>\n",
       "    <tr>\n",
       "      <th>0</th>\n",
       "      <td>go jurong</td>\n",
       "      <td>0.00</td>\n",
       "      <td>ham</td>\n",
       "    </tr>\n",
       "    <tr>\n",
       "      <th>1</th>\n",
       "      <td>jurong point</td>\n",
       "      <td>0.00</td>\n",
       "      <td>ham</td>\n",
       "    </tr>\n",
       "    <tr>\n",
       "      <th>2</th>\n",
       "      <td>point crazy</td>\n",
       "      <td>-0.34</td>\n",
       "      <td>ham</td>\n",
       "    </tr>\n",
       "    <tr>\n",
       "      <th>3</th>\n",
       "      <td>crazy available</td>\n",
       "      <td>-0.34</td>\n",
       "      <td>ham</td>\n",
       "    </tr>\n",
       "    <tr>\n",
       "      <th>4</th>\n",
       "      <td>available bugis</td>\n",
       "      <td>0.00</td>\n",
       "      <td>ham</td>\n",
       "    </tr>\n",
       "  </tbody>\n",
       "</table>\n",
       "</div>"
      ],
      "text/plain": [
       "            bigram  sentiment label\n",
       "0  go jurong        0.00       ham \n",
       "1  jurong point     0.00       ham \n",
       "2  point crazy     -0.34       ham \n",
       "3  crazy available -0.34       ham \n",
       "4  available bugis  0.00       ham "
      ]
     },
     "execution_count": 39,
     "metadata": {},
     "output_type": "execute_result"
    }
   ],
   "source": [
    "big_ham_df['sentiment'] = big_ham_df.bigram.apply(lambda doc: sia.polarity_scores(doc)['compound'])\n",
    "\n",
    "big_ham_df['label'] = 'ham'\n",
    "big_ham_df.head()\n"
   ]
  },
  {
   "cell_type": "code",
   "execution_count": 40,
   "id": "b9832a37",
   "metadata": {
    "scrolled": false
   },
   "outputs": [
    {
     "data": {
      "text/html": [
       "<div>\n",
       "<style scoped>\n",
       "    .dataframe tbody tr th:only-of-type {\n",
       "        vertical-align: middle;\n",
       "    }\n",
       "\n",
       "    .dataframe tbody tr th {\n",
       "        vertical-align: top;\n",
       "    }\n",
       "\n",
       "    .dataframe thead th {\n",
       "        text-align: right;\n",
       "    }\n",
       "</style>\n",
       "<table border=\"1\" class=\"dataframe\">\n",
       "  <thead>\n",
       "    <tr style=\"text-align: right;\">\n",
       "      <th></th>\n",
       "      <th>bigram</th>\n",
       "      <th>sentiment</th>\n",
       "      <th>label</th>\n",
       "    </tr>\n",
       "  </thead>\n",
       "  <tbody>\n",
       "    <tr>\n",
       "      <th>30607</th>\n",
       "      <td>motherfucker hurt</td>\n",
       "      <td>-0.8402</td>\n",
       "      <td>ham</td>\n",
       "    </tr>\n",
       "    <tr>\n",
       "      <th>23519</th>\n",
       "      <td>arrested murderer</td>\n",
       "      <td>-0.8271</td>\n",
       "      <td>ham</td>\n",
       "    </tr>\n",
       "    <tr>\n",
       "      <th>17302</th>\n",
       "      <td>arrested murderer</td>\n",
       "      <td>-0.8271</td>\n",
       "      <td>ham</td>\n",
       "    </tr>\n",
       "    <tr>\n",
       "      <th>19249</th>\n",
       "      <td>arrested murderer</td>\n",
       "      <td>-0.8271</td>\n",
       "      <td>ham</td>\n",
       "    </tr>\n",
       "    <tr>\n",
       "      <th>440</th>\n",
       "      <td>pain killing</td>\n",
       "      <td>-0.8271</td>\n",
       "      <td>ham</td>\n",
       "    </tr>\n",
       "    <tr>\n",
       "      <th>...</th>\n",
       "      <td>...</td>\n",
       "      <td>...</td>\n",
       "      <td>...</td>\n",
       "    </tr>\n",
       "    <tr>\n",
       "      <th>29353</th>\n",
       "      <td>love loving</td>\n",
       "      <td>0.8442</td>\n",
       "      <td>ham</td>\n",
       "    </tr>\n",
       "    <tr>\n",
       "      <th>14353</th>\n",
       "      <td>love lmao</td>\n",
       "      <td>0.8442</td>\n",
       "      <td>ham</td>\n",
       "    </tr>\n",
       "    <tr>\n",
       "      <th>35915</th>\n",
       "      <td>love great</td>\n",
       "      <td>0.8519</td>\n",
       "      <td>ham</td>\n",
       "    </tr>\n",
       "    <tr>\n",
       "      <th>25625</th>\n",
       "      <td>love great</td>\n",
       "      <td>0.8519</td>\n",
       "      <td>ham</td>\n",
       "    </tr>\n",
       "    <tr>\n",
       "      <th>31347</th>\n",
       "      <td>love greatest</td>\n",
       "      <td>0.8555</td>\n",
       "      <td>ham</td>\n",
       "    </tr>\n",
       "  </tbody>\n",
       "</table>\n",
       "<p>39825 rows × 3 columns</p>\n",
       "</div>"
      ],
      "text/plain": [
       "                  bigram  sentiment label\n",
       "30607  motherfucker hurt -0.8402     ham \n",
       "23519  arrested murderer -0.8271     ham \n",
       "17302  arrested murderer -0.8271     ham \n",
       "19249  arrested murderer -0.8271     ham \n",
       "440    pain killing      -0.8271     ham \n",
       "...             ...          ...     ... \n",
       "29353  love loving        0.8442     ham \n",
       "14353  love lmao          0.8442     ham \n",
       "35915  love great         0.8519     ham \n",
       "25625  love great         0.8519     ham \n",
       "31347  love greatest      0.8555     ham \n",
       "\n",
       "[39825 rows x 3 columns]"
      ]
     },
     "execution_count": 40,
     "metadata": {},
     "output_type": "execute_result"
    }
   ],
   "source": [
    "big_ham_df.sort_values(by='sentiment')"
   ]
  },
  {
   "cell_type": "code",
   "execution_count": 42,
   "id": "d7907ec4",
   "metadata": {
    "scrolled": true
   },
   "outputs": [
    {
     "data": {
      "text/plain": [
       "call later       52\n",
       "ill call         48\n",
       "let know         41\n",
       "sorry ill        39\n",
       "r u              37\n",
       "                 ..\n",
       "except gud       1 \n",
       "neglect msg      1 \n",
       "amp imf          1 \n",
       "stocked sorry    1 \n",
       "touch pls        1 \n",
       "Name: bigram, Length: 31377, dtype: int64"
      ]
     },
     "execution_count": 42,
     "metadata": {},
     "output_type": "execute_result"
    }
   ],
   "source": [
    "big_ham_df.bigram.value_counts()"
   ]
  },
  {
   "cell_type": "markdown",
   "id": "ffc31b85",
   "metadata": {},
   "source": [
    "## c. Is there any overlap in the bigrams for the spam data and the ham data?"
   ]
  },
  {
   "cell_type": "code",
   "execution_count": 50,
   "id": "0235d2e2",
   "metadata": {
    "scrolled": true
   },
   "outputs": [
    {
     "data": {
      "text/html": [
       "<div>\n",
       "<style scoped>\n",
       "    .dataframe tbody tr th:only-of-type {\n",
       "        vertical-align: middle;\n",
       "    }\n",
       "\n",
       "    .dataframe tbody tr th {\n",
       "        vertical-align: top;\n",
       "    }\n",
       "\n",
       "    .dataframe thead th {\n",
       "        text-align: right;\n",
       "    }\n",
       "</style>\n",
       "<table border=\"1\" class=\"dataframe\">\n",
       "  <thead>\n",
       "    <tr style=\"text-align: right;\">\n",
       "      <th></th>\n",
       "      <th>bigram</th>\n",
       "      <th>sentiment</th>\n",
       "      <th>label</th>\n",
       "    </tr>\n",
       "  </thead>\n",
       "  <tbody>\n",
       "    <tr>\n",
       "      <th>0</th>\n",
       "      <td>free entry</td>\n",
       "      <td>0.5106</td>\n",
       "      <td>spam</td>\n",
       "    </tr>\n",
       "    <tr>\n",
       "      <th>1</th>\n",
       "      <td>free entry</td>\n",
       "      <td>0.5106</td>\n",
       "      <td>spam</td>\n",
       "    </tr>\n",
       "    <tr>\n",
       "      <th>2</th>\n",
       "      <td>free entry</td>\n",
       "      <td>0.5106</td>\n",
       "      <td>spam</td>\n",
       "    </tr>\n",
       "    <tr>\n",
       "      <th>3</th>\n",
       "      <td>free entry</td>\n",
       "      <td>0.5106</td>\n",
       "      <td>spam</td>\n",
       "    </tr>\n",
       "    <tr>\n",
       "      <th>4</th>\n",
       "      <td>free entry</td>\n",
       "      <td>0.5106</td>\n",
       "      <td>spam</td>\n",
       "    </tr>\n",
       "  </tbody>\n",
       "</table>\n",
       "</div>"
      ],
      "text/plain": [
       "       bigram  sentiment label\n",
       "0  free entry  0.5106     spam\n",
       "1  free entry  0.5106     spam\n",
       "2  free entry  0.5106     spam\n",
       "3  free entry  0.5106     spam\n",
       "4  free entry  0.5106     spam"
      ]
     },
     "execution_count": 50,
     "metadata": {},
     "output_type": "execute_result"
    }
   ],
   "source": [
    "bigram_df = big_spam_df.merge(big_ham_df, how='outer')\n",
    "bigram_df.head()"
   ]
  },
  {
   "cell_type": "code",
   "execution_count": 52,
   "id": "9973902b",
   "metadata": {},
   "outputs": [
    {
     "data": {
      "text/plain": [
       "(52329, 3)"
      ]
     },
     "execution_count": 52,
     "metadata": {},
     "output_type": "execute_result"
    }
   ],
   "source": [
    "bigram_df.shape"
   ]
  },
  {
   "cell_type": "code",
   "execution_count": 54,
   "id": "7d035f56",
   "metadata": {},
   "outputs": [
    {
     "name": "stdout",
     "output_type": "stream",
     "text": [
      "<class 'pandas.core.frame.DataFrame'>\n",
      "Int64Index: 52329 entries, 0 to 52328\n",
      "Data columns (total 3 columns):\n",
      " #   Column     Non-Null Count  Dtype  \n",
      "---  ------     --------------  -----  \n",
      " 0   bigram     52329 non-null  object \n",
      " 1   sentiment  52329 non-null  float64\n",
      " 2   label      52329 non-null  object \n",
      "dtypes: float64(1), object(2)\n",
      "memory usage: 1.6+ MB\n"
     ]
    }
   ],
   "source": [
    "bigram_df.info()"
   ]
  },
  {
   "cell_type": "code",
   "execution_count": 55,
   "id": "25ef8089",
   "metadata": {},
   "outputs": [
    {
     "data": {
      "text/html": [
       "<div>\n",
       "<style scoped>\n",
       "    .dataframe tbody tr th:only-of-type {\n",
       "        vertical-align: middle;\n",
       "    }\n",
       "\n",
       "    .dataframe tbody tr th {\n",
       "        vertical-align: top;\n",
       "    }\n",
       "\n",
       "    .dataframe thead th {\n",
       "        text-align: right;\n",
       "    }\n",
       "</style>\n",
       "<table border=\"1\" class=\"dataframe\">\n",
       "  <thead>\n",
       "    <tr style=\"text-align: right;\">\n",
       "      <th></th>\n",
       "      <th>sentiment</th>\n",
       "    </tr>\n",
       "  </thead>\n",
       "  <tbody>\n",
       "    <tr>\n",
       "      <th>count</th>\n",
       "      <td>52329.000000</td>\n",
       "    </tr>\n",
       "    <tr>\n",
       "      <th>mean</th>\n",
       "      <td>0.059386</td>\n",
       "    </tr>\n",
       "    <tr>\n",
       "      <th>std</th>\n",
       "      <td>0.220289</td>\n",
       "    </tr>\n",
       "    <tr>\n",
       "      <th>min</th>\n",
       "      <td>-0.840200</td>\n",
       "    </tr>\n",
       "    <tr>\n",
       "      <th>25%</th>\n",
       "      <td>0.000000</td>\n",
       "    </tr>\n",
       "    <tr>\n",
       "      <th>50%</th>\n",
       "      <td>0.000000</td>\n",
       "    </tr>\n",
       "    <tr>\n",
       "      <th>75%</th>\n",
       "      <td>0.000000</td>\n",
       "    </tr>\n",
       "    <tr>\n",
       "      <th>max</th>\n",
       "      <td>0.855500</td>\n",
       "    </tr>\n",
       "  </tbody>\n",
       "</table>\n",
       "</div>"
      ],
      "text/plain": [
       "          sentiment\n",
       "count  52329.000000\n",
       "mean   0.059386    \n",
       "std    0.220289    \n",
       "min   -0.840200    \n",
       "25%    0.000000    \n",
       "50%    0.000000    \n",
       "75%    0.000000    \n",
       "max    0.855500    "
      ]
     },
     "execution_count": 55,
     "metadata": {},
     "output_type": "execute_result"
    }
   ],
   "source": [
    "bigram_df.describe()"
   ]
  },
  {
   "cell_type": "markdown",
   "id": "822fd0f1",
   "metadata": {},
   "source": [
    "- the average sentiment is just above neutral, and roughly equal max/min"
   ]
  },
  {
   "cell_type": "code",
   "execution_count": 56,
   "id": "6647e50f",
   "metadata": {},
   "outputs": [
    {
     "data": {
      "text/html": [
       "<div>\n",
       "<style scoped>\n",
       "    .dataframe tbody tr th:only-of-type {\n",
       "        vertical-align: middle;\n",
       "    }\n",
       "\n",
       "    .dataframe tbody tr th {\n",
       "        vertical-align: top;\n",
       "    }\n",
       "\n",
       "    .dataframe thead th {\n",
       "        text-align: right;\n",
       "    }\n",
       "</style>\n",
       "<table border=\"1\" class=\"dataframe\">\n",
       "  <thead>\n",
       "    <tr style=\"text-align: right;\">\n",
       "      <th></th>\n",
       "      <th>bigram</th>\n",
       "      <th>sentiment</th>\n",
       "      <th>label</th>\n",
       "    </tr>\n",
       "  </thead>\n",
       "  <tbody>\n",
       "    <tr>\n",
       "      <th>0</th>\n",
       "      <td>free entry</td>\n",
       "      <td>0.5106</td>\n",
       "      <td>spam</td>\n",
       "    </tr>\n",
       "    <tr>\n",
       "      <th>1</th>\n",
       "      <td>free entry</td>\n",
       "      <td>0.5106</td>\n",
       "      <td>spam</td>\n",
       "    </tr>\n",
       "  </tbody>\n",
       "</table>\n",
       "</div>"
      ],
      "text/plain": [
       "       bigram  sentiment label\n",
       "0  free entry  0.5106     spam\n",
       "1  free entry  0.5106     spam"
      ]
     },
     "execution_count": 56,
     "metadata": {},
     "output_type": "execute_result"
    }
   ],
   "source": [
    "bigram_df.head(2)"
   ]
  },
  {
   "cell_type": "code",
   "execution_count": 62,
   "id": "829074c9",
   "metadata": {},
   "outputs": [],
   "source": [
    "# bigram_df[bigram_df[bigram_df.label == 'spam'].bigram & bigram_df[bigram_df.label == 'ham'].bigram]"
   ]
  },
  {
   "cell_type": "code",
   "execution_count": 80,
   "id": "6b6e46af",
   "metadata": {},
   "outputs": [],
   "source": [
    "spam_bigrams = pd.Series(nltk.bigrams(spam_words.split()))\n",
    "\n",
    "\n",
    "ham_bigram_freq = pd.Series(make_bigrams_list(ham_bigrams)).value_counts()\n",
    "spam_bigram_freq = pd.Series(make_bigrams_list(spam_bigrams)).value_counts()\n",
    "# all_freq = pd.Series(all_words.split()).value_counts()"
   ]
  },
  {
   "cell_type": "code",
   "execution_count": 82,
   "id": "8d6a2bc4",
   "metadata": {},
   "outputs": [
    {
     "data": {
      "text/plain": [
       "please call                       44\n",
       "customer service                  27\n",
       "contact u                         24\n",
       "po box                            24\n",
       "guaranteed call                   23\n",
       "                                  ..\n",
       "100 filthy                        1 \n",
       "back chat                         1 \n",
       "racal libertine                   1 \n",
       "150ppmpobox10183bhamb64xe xmas    1 \n",
       "every wktxt                       1 \n",
       "Length: 7036, dtype: int64"
      ]
     },
     "execution_count": 82,
     "metadata": {},
     "output_type": "execute_result"
    }
   ],
   "source": [
    "spam_bigram_freq"
   ]
  },
  {
   "cell_type": "code",
   "execution_count": 83,
   "id": "401d11c3",
   "metadata": {},
   "outputs": [
    {
     "data": {
      "text/html": [
       "<div>\n",
       "<style scoped>\n",
       "    .dataframe tbody tr th:only-of-type {\n",
       "        vertical-align: middle;\n",
       "    }\n",
       "\n",
       "    .dataframe tbody tr th {\n",
       "        vertical-align: top;\n",
       "    }\n",
       "\n",
       "    .dataframe thead th {\n",
       "        text-align: right;\n",
       "    }\n",
       "</style>\n",
       "<table border=\"1\" class=\"dataframe\">\n",
       "  <thead>\n",
       "    <tr style=\"text-align: right;\">\n",
       "      <th></th>\n",
       "      <th>ham_bigram</th>\n",
       "      <th>spam_bigram</th>\n",
       "    </tr>\n",
       "  </thead>\n",
       "  <tbody>\n",
       "    <tr>\n",
       "      <th>call later</th>\n",
       "      <td>52</td>\n",
       "      <td>0</td>\n",
       "    </tr>\n",
       "    <tr>\n",
       "      <th>ill call</th>\n",
       "      <td>48</td>\n",
       "      <td>0</td>\n",
       "    </tr>\n",
       "    <tr>\n",
       "      <th>let know</th>\n",
       "      <td>41</td>\n",
       "      <td>0</td>\n",
       "    </tr>\n",
       "    <tr>\n",
       "      <th>sorry ill</th>\n",
       "      <td>39</td>\n",
       "      <td>0</td>\n",
       "    </tr>\n",
       "    <tr>\n",
       "      <th>r u</th>\n",
       "      <td>37</td>\n",
       "      <td>3</td>\n",
       "    </tr>\n",
       "  </tbody>\n",
       "</table>\n",
       "</div>"
      ],
      "text/plain": [
       "            ham_bigram  spam_bigram\n",
       "call later  52          0          \n",
       "ill call    48          0          \n",
       "let know    41          0          \n",
       "sorry ill   39          0          \n",
       "r u         37          3          "
      ]
     },
     "execution_count": 83,
     "metadata": {},
     "output_type": "execute_result"
    }
   ],
   "source": [
    "word_counts = pd.concat([ham_bigram_freq, spam_bigram_freq], axis=1).fillna(0).astype(int)\n",
    "word_counts.columns = ['ham_bigram', 'spam_bigram']\n",
    "word_counts.head()"
   ]
  },
  {
   "cell_type": "code",
   "execution_count": 87,
   "id": "da0d2303",
   "metadata": {},
   "outputs": [
    {
     "data": {
      "text/html": [
       "<div>\n",
       "<style scoped>\n",
       "    .dataframe tbody tr th:only-of-type {\n",
       "        vertical-align: middle;\n",
       "    }\n",
       "\n",
       "    .dataframe tbody tr th {\n",
       "        vertical-align: top;\n",
       "    }\n",
       "\n",
       "    .dataframe thead th {\n",
       "        text-align: right;\n",
       "    }\n",
       "</style>\n",
       "<table border=\"1\" class=\"dataframe\">\n",
       "  <thead>\n",
       "    <tr style=\"text-align: right;\">\n",
       "      <th></th>\n",
       "      <th>ham_bigram</th>\n",
       "      <th>spam_bigram</th>\n",
       "    </tr>\n",
       "  </thead>\n",
       "  <tbody>\n",
       "    <tr>\n",
       "      <th>u like</th>\n",
       "      <td>4</td>\n",
       "      <td>4</td>\n",
       "    </tr>\n",
       "    <tr>\n",
       "      <th>tonight want</th>\n",
       "      <td>2</td>\n",
       "      <td>2</td>\n",
       "    </tr>\n",
       "    <tr>\n",
       "      <th>send u</th>\n",
       "      <td>2</td>\n",
       "      <td>2</td>\n",
       "    </tr>\n",
       "    <tr>\n",
       "      <th>2 take</th>\n",
       "      <td>2</td>\n",
       "      <td>2</td>\n",
       "    </tr>\n",
       "    <tr>\n",
       "      <th>4 1</th>\n",
       "      <td>1</td>\n",
       "      <td>1</td>\n",
       "    </tr>\n",
       "    <tr>\n",
       "      <th>left message</th>\n",
       "      <td>1</td>\n",
       "      <td>1</td>\n",
       "    </tr>\n",
       "    <tr>\n",
       "      <th>reply free</th>\n",
       "      <td>1</td>\n",
       "      <td>1</td>\n",
       "    </tr>\n",
       "    <tr>\n",
       "      <th>little time</th>\n",
       "      <td>1</td>\n",
       "      <td>1</td>\n",
       "    </tr>\n",
       "    <tr>\n",
       "      <th>x u</th>\n",
       "      <td>1</td>\n",
       "      <td>1</td>\n",
       "    </tr>\n",
       "    <tr>\n",
       "      <th>text get</th>\n",
       "      <td>1</td>\n",
       "      <td>1</td>\n",
       "    </tr>\n",
       "    <tr>\n",
       "      <th>2 choose</th>\n",
       "      <td>1</td>\n",
       "      <td>1</td>\n",
       "    </tr>\n",
       "    <tr>\n",
       "      <th>nothing u</th>\n",
       "      <td>1</td>\n",
       "      <td>1</td>\n",
       "    </tr>\n",
       "    <tr>\n",
       "      <th>chat dont</th>\n",
       "      <td>1</td>\n",
       "      <td>1</td>\n",
       "    </tr>\n",
       "    <tr>\n",
       "      <th>u receive</th>\n",
       "      <td>1</td>\n",
       "      <td>1</td>\n",
       "    </tr>\n",
       "    <tr>\n",
       "      <th>babe make</th>\n",
       "      <td>1</td>\n",
       "      <td>1</td>\n",
       "    </tr>\n",
       "    <tr>\n",
       "      <th>u stop</th>\n",
       "      <td>1</td>\n",
       "      <td>1</td>\n",
       "    </tr>\n",
       "    <tr>\n",
       "      <th>ur dream</th>\n",
       "      <td>1</td>\n",
       "      <td>1</td>\n",
       "    </tr>\n",
       "    <tr>\n",
       "      <th>hi ya</th>\n",
       "      <td>1</td>\n",
       "      <td>1</td>\n",
       "    </tr>\n",
       "    <tr>\n",
       "      <th>one know</th>\n",
       "      <td>1</td>\n",
       "      <td>1</td>\n",
       "    </tr>\n",
       "    <tr>\n",
       "      <th>would love</th>\n",
       "      <td>1</td>\n",
       "      <td>1</td>\n",
       "    </tr>\n",
       "  </tbody>\n",
       "</table>\n",
       "</div>"
      ],
      "text/plain": [
       "              ham_bigram  spam_bigram\n",
       "u like        4           4          \n",
       "tonight want  2           2          \n",
       "send u        2           2          \n",
       "2 take        2           2          \n",
       "4 1           1           1          \n",
       "left message  1           1          \n",
       "reply free    1           1          \n",
       "little time   1           1          \n",
       "x u           1           1          \n",
       "text get      1           1          \n",
       "2 choose      1           1          \n",
       "nothing u     1           1          \n",
       "chat dont     1           1          \n",
       "u receive     1           1          \n",
       "babe make     1           1          \n",
       "u stop        1           1          \n",
       "ur dream      1           1          \n",
       "hi ya         1           1          \n",
       "one know      1           1          \n",
       "would love    1           1          "
      ]
     },
     "execution_count": 87,
     "metadata": {},
     "output_type": "execute_result"
    }
   ],
   "source": [
    "word_counts[word_counts.ham_bigram == word_counts.spam_bigram].head(20)"
   ]
  },
  {
   "cell_type": "code",
   "execution_count": null,
   "id": "ba99f0a8",
   "metadata": {},
   "outputs": [],
   "source": []
  },
  {
   "cell_type": "markdown",
   "id": "f82e3db8",
   "metadata": {},
   "source": [
    "## d. Create and explore with trigrams (i.e. a n-gram with an n of 3) for both the spam and ham data."
   ]
  },
  {
   "cell_type": "code",
   "execution_count": null,
   "id": "c0456178",
   "metadata": {},
   "outputs": [],
   "source": []
  },
  {
   "cell_type": "code",
   "execution_count": null,
   "id": "6813c82a",
   "metadata": {},
   "outputs": [],
   "source": []
  },
  {
   "cell_type": "code",
   "execution_count": null,
   "id": "db70d397",
   "metadata": {},
   "outputs": [],
   "source": []
  },
  {
   "cell_type": "code",
   "execution_count": null,
   "id": "ee89a0da",
   "metadata": {},
   "outputs": [],
   "source": []
  },
  {
   "cell_type": "markdown",
   "id": "243bc72c",
   "metadata": {},
   "source": [
    "Explore the blog articles using the techniques discussed in the exploration lesson.\n",
    "\n",
    "Explore the news articles using the techniques discussed in the exploration lesson. Use the category variable when exploring."
   ]
  },
  {
   "cell_type": "code",
   "execution_count": null,
   "id": "8d4e98f6",
   "metadata": {},
   "outputs": [],
   "source": []
  }
 ],
 "metadata": {
  "kernelspec": {
   "display_name": "Python 3",
   "language": "python",
   "name": "python3"
  },
  "language_info": {
   "codemirror_mode": {
    "name": "ipython",
    "version": 3
   },
   "file_extension": ".py",
   "mimetype": "text/x-python",
   "name": "python",
   "nbconvert_exporter": "python",
   "pygments_lexer": "ipython3",
   "version": "3.8.8"
  }
 },
 "nbformat": 4,
 "nbformat_minor": 5
}
