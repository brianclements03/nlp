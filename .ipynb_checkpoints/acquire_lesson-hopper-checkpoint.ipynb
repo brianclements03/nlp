{
 "cells": [
  {
   "cell_type": "markdown",
   "metadata": {},
   "source": [
    "# Data Acquisition with Web Scraping"
   ]
  },
  {
   "cell_type": "code",
   "execution_count": 1,
   "metadata": {},
   "outputs": [],
   "source": [
    "import requests\n",
    "from bs4 import BeautifulSoup\n",
    "import pandas as pd"
   ]
  },
  {
   "cell_type": "markdown",
   "metadata": {},
   "source": [
    "`$ pip install beautifulsoup4`"
   ]
  },
  {
   "cell_type": "markdown",
   "metadata": {},
   "source": [
    "## Soup Methods\n",
    "\n",
    "- `soup.select('.class')`: to get all the elements with class `class`\n",
    "- `soup.select_one('.class')`: to get the first element with class `class`\n",
    "- `soup.h2`: to get the first `h2` element\n",
    "- `soup.find_all('h2')`: to get all the elements with tag name of `h2`\n",
    "- `soup('h2')` : same as `find_all` method above\n",
    "- `soup.find('h2')`: finds the first matching element"
   ]
  },
  {
   "cell_type": "markdown",
   "metadata": {},
   "source": [
    "First make the request. The response is a bunch of html."
   ]
  },
  {
   "cell_type": "code",
   "execution_count": 2,
   "metadata": {},
   "outputs": [],
   "source": [
    "response = requests.get('https://web-scraping-demo.zgulde.net/news')\n",
    "html = response.text\n",
    "# html"
   ]
  },
  {
   "cell_type": "markdown",
   "metadata": {},
   "source": [
    "We can make more sense of that html with the beautiful soup library."
   ]
  },
  {
   "cell_type": "code",
   "execution_count": 3,
   "metadata": {},
   "outputs": [
    {
     "name": "stdout",
     "output_type": "stream",
     "text": [
      "<!DOCTYPE html>\n",
      "<html lang=\"en\">\n",
      " <head>\n",
      "  <meta charset=\"utf-8\"/>\n",
      "  <meta content=\"IE=edge\" http-equiv=\"X-UA-Compatible\"/>\n",
      "  <meta content=\"width=device-width, initial-scale=1.0\" name=\"viewport\"/>\n",
      "  <title>\n",
      "   News Example Page\n",
      "  </title>\n",
      "  <link href=\"https://unpkg.com/tailwindcss@^2/dist/tailwind.min.css\" rel=\"stylesheet\"/>\n",
      "  <link href=\"https://cdn.jsdelivr.net/npm/bootstrap-icons@1.4.1/font/bootstrap-icons.css\" rel=\"stylesheet\"/>\n",
      " </head>\n",
      " <body class=\"mx-auto max-w-screen-lg pb-32\">\n",
      "  <h1 class=\"my-5 text-4xl text-center\">\n",
      "   News!\n",
      "  </h1>\n",
      "  <div class=\"my-5 text-red-800 px-5 py-3 bg-red-100 font-bold\">\n",
      "   <p>\n",
      "    <i class=\"bi bi-exclamation-circle text-xl\">\n",
      "    </i>\n",
      "    All data on this page is strictly for demonstration purposes and fake.\n",
      "   </p>\n",
      "  </div>\n",
      "  <div class=\"grid gap-y-12\">\n",
      "   <div class=\"grid grid-cols-4 gap-x-4 border rounded pr-3 bg-green-50 hover:shadow-lg transition duration-500\">\n",
      "    <img src=\"/static/placeholder.png\"/>\n",
      "    <div class=\"col-span-3 space-y-3 py-3\">\n",
      "     <h2 class=\"text-2xl text-green-900\">\n",
      "      process expert throughout\n",
      "     </h2>\n",
      "     <div class=\"grid grid-cols-2 italic\">\n",
      "      <p>\n",
      "       2011-05-12\n",
      "      </p>\n",
      "      <p class=\"text-right\">\n",
      "       By Matthew Liu\n",
      "      </p>\n",
      "     </div>\n",
      "     <p>\n",
      "      Listen during discover knowledge color. Generation course pressure sort agent direction.\n",
      "Tough product such push. True speak air wall bed keep hot.\n",
      "     </p>\n",
      "    </div>\n",
      "   </div>\n",
      "   <div class=\"grid grid-cols-4 gap-x-4 border rounded pr-3 bg-green-50 hover:shadow-lg transition duration-500\">\n",
      "    <img src=\"/static/placeholder.png\"/>\n",
      "    <div class=\"col-span-3 space-y-3 py-3\">\n",
      "     <h2 class=\"text-2xl text-green-900\">\n",
      "      edge accept six\n",
      "     </h2>\n",
      "     <div class=\"grid grid-cols-2 italic\">\n",
      "      <p>\n",
      "       2019-07-03\n",
      "      </p>\n",
      "      <p class=\"text-right\">\n",
      "       By Patrick Thomas\n",
      "      </p>\n",
      "     </div>\n",
      "     <p>\n",
      "      Beyond simple add I television. Wrong we trouble international thought nor.\n",
      "Fast collection show quickly approach. Accept free lawyer article quality way. So box show could. Within responsibility produce those network enough.\n",
      "     </p>\n",
      "    </div>\n",
      "   </div>\n",
      "   <div class=\"grid grid-cols-4 gap-x-4 border rounded pr-3 bg-green-50 hover:shadow-lg transition duration-500\">\n",
      "    <img src=\"/static/placeholder.png\"/>\n",
      "    <div class=\"col-span-3 space-y-3 py-3\">\n",
      "     <h2 class=\"text-2xl text-green-900\">\n",
      "      force often indicate\n",
      "     </h2>\n",
      "     <div class=\"grid grid-cols-2 italic\">\n",
      "      <p>\n",
      "       2015-12-19\n",
      "      </p>\n",
      "      <p class=\"text-right\">\n",
      "       By Lisa Lara\n",
      "      </p>\n",
      "     </div>\n",
      "     <p>\n",
      "      Key get alone meet. Situation pull few opportunity.\n",
      "Baby address writer him now hotel let. Drug above stage.\n",
      "     </p>\n",
      "    </div>\n",
      "   </div>\n",
      "   <div class=\"grid grid-cols-4 gap-x-4 border rounded pr-3 bg-green-50 hover:shadow-lg transition duration-500\">\n",
      "    <img src=\"/static/placeholder.png\"/>\n",
      "    <div class=\"col-span-3 space-y-3 py-3\">\n",
      "     <h2 class=\"text-2xl text-green-900\">\n",
      "      me point dog\n",
      "     </h2>\n",
      "     <div class=\"grid grid-cols-2 italic\">\n",
      "      <p>\n",
      "       2006-09-03\n",
      "      </p>\n",
      "      <p class=\"text-right\">\n",
      "       By Jacqueline Stout\n",
      "      </p>\n",
      "     </div>\n",
      "     <p>\n",
      "      Marriage civil director goal certainly. By attack name.\n",
      "Trouble official piece likely whatever business contain. Shake develop change increase point wait around.\n",
      "     </p>\n",
      "    </div>\n",
      "   </div>\n",
      "   <div class=\"grid grid-cols-4 gap-x-4 border rounded pr-3 bg-green-50 hover:shadow-lg transition duration-500\">\n",
      "    <img src=\"/static/placeholder.png\"/>\n",
      "    <div class=\"col-span-3 space-y-3 py-3\">\n",
      "     <h2 class=\"text-2xl text-green-900\">\n",
      "      use rise step\n",
      "     </h2>\n",
      "     <div class=\"grid grid-cols-2 italic\">\n",
      "      <p>\n",
      "       2007-07-11\n",
      "      </p>\n",
      "      <p class=\"text-right\">\n",
      "       By Kristen Hernandez\n",
      "      </p>\n",
      "     </div>\n",
      "     <p>\n",
      "      Design investment trouble we forget. Enter maintain painting production.\n",
      "Decide suddenly stop parent particular do pick. Although region coach guy. Current protect hear adult different. Property plan alone.\n",
      "     </p>\n",
      "    </div>\n",
      "   </div>\n",
      "   <div class=\"grid grid-cols-4 gap-x-4 border rounded pr-3 bg-green-50 hover:shadow-lg transition duration-500\">\n",
      "    <img src=\"/static/placeholder.png\"/>\n",
      "    <div class=\"col-span-3 space-y-3 py-3\">\n",
      "     <h2 class=\"text-2xl text-green-900\">\n",
      "      admit reach work\n",
      "     </h2>\n",
      "     <div class=\"grid grid-cols-2 italic\">\n",
      "      <p>\n",
      "       1984-06-04\n",
      "      </p>\n",
      "      <p class=\"text-right\">\n",
      "       By Stephen White\n",
      "      </p>\n",
      "     </div>\n",
      "     <p>\n",
      "      Dream real available cold. Shoulder reveal guy law doctor evening able few. Health can put crime particular.\n",
      "Point feeling him term. Point former matter city.\n",
      "     </p>\n",
      "    </div>\n",
      "   </div>\n",
      "   <div class=\"grid grid-cols-4 gap-x-4 border rounded pr-3 bg-green-50 hover:shadow-lg transition duration-500\">\n",
      "    <img src=\"/static/placeholder.png\"/>\n",
      "    <div class=\"col-span-3 space-y-3 py-3\">\n",
      "     <h2 class=\"text-2xl text-green-900\">\n",
      "      may resource financial\n",
      "     </h2>\n",
      "     <div class=\"grid grid-cols-2 italic\">\n",
      "      <p>\n",
      "       1989-08-11\n",
      "      </p>\n",
      "      <p class=\"text-right\">\n",
      "       By Julie Torres\n",
      "      </p>\n",
      "     </div>\n",
      "     <p>\n",
      "      Again any soldier reality local type group role. Trial animal first father begin use.\n",
      "Late buy hear magazine especially. Detail technology mind culture determine. Law couple son brother environment new finish.\n",
      "     </p>\n",
      "    </div>\n",
      "   </div>\n",
      "   <div class=\"grid grid-cols-4 gap-x-4 border rounded pr-3 bg-green-50 hover:shadow-lg transition duration-500\">\n",
      "    <img src=\"/static/placeholder.png\"/>\n",
      "    <div class=\"col-span-3 space-y-3 py-3\">\n",
      "     <h2 class=\"text-2xl text-green-900\">\n",
      "      according security clearly\n",
      "     </h2>\n",
      "     <div class=\"grid grid-cols-2 italic\">\n",
      "      <p>\n",
      "       1980-10-09\n",
      "      </p>\n",
      "      <p class=\"text-right\">\n",
      "       By James Torres Jr.\n",
      "      </p>\n",
      "     </div>\n",
      "     <p>\n",
      "      College then gas language list. Central product network good teach decade place require.\n",
      "Modern poor result happen item produce. Remain together Mrs arm speak with.\n",
      "     </p>\n",
      "    </div>\n",
      "   </div>\n",
      "   <div class=\"grid grid-cols-4 gap-x-4 border rounded pr-3 bg-green-50 hover:shadow-lg transition duration-500\">\n",
      "    <img src=\"/static/placeholder.png\"/>\n",
      "    <div class=\"col-span-3 space-y-3 py-3\">\n",
      "     <h2 class=\"text-2xl text-green-900\">\n",
      "      thought case population\n",
      "     </h2>\n",
      "     <div class=\"grid grid-cols-2 italic\">\n",
      "      <p>\n",
      "       1993-11-18\n",
      "      </p>\n",
      "      <p class=\"text-right\">\n",
      "       By Julie Diaz\n",
      "      </p>\n",
      "     </div>\n",
      "     <p>\n",
      "      Own scientist themselves forward. Professional black data goal hard have.\n",
      "Student matter between everything get eight. Board begin blue great. Meet discover pressure.\n",
      "     </p>\n",
      "    </div>\n",
      "   </div>\n",
      "   <div class=\"grid grid-cols-4 gap-x-4 border rounded pr-3 bg-green-50 hover:shadow-lg transition duration-500\">\n",
      "    <img src=\"/static/placeholder.png\"/>\n",
      "    <div class=\"col-span-3 space-y-3 py-3\">\n",
      "     <h2 class=\"text-2xl text-green-900\">\n",
      "      young leader tree\n",
      "     </h2>\n",
      "     <div class=\"grid grid-cols-2 italic\">\n",
      "      <p>\n",
      "       2011-01-23\n",
      "      </p>\n",
      "      <p class=\"text-right\">\n",
      "       By Jasmine Morgan\n",
      "      </p>\n",
      "     </div>\n",
      "     <p>\n",
      "      Same base great card situation economic wind car. Specific agent receive at mother minute arm. Human its give continue.\n",
      "Simple occur kid fast above per environmental break. Growth bring control onto fear. Production or collection either along.\n",
      "     </p>\n",
      "    </div>\n",
      "   </div>\n",
      "   <div class=\"grid grid-cols-4 gap-x-4 border rounded pr-3 bg-green-50 hover:shadow-lg transition duration-500\">\n",
      "    <img src=\"/static/placeholder.png\"/>\n",
      "    <div class=\"col-span-3 space-y-3 py-3\">\n",
      "     <h2 class=\"text-2xl text-green-900\">\n",
      "      effect chair week\n",
      "     </h2>\n",
      "     <div class=\"grid grid-cols-2 italic\">\n",
      "      <p>\n",
      "       1985-05-19\n",
      "      </p>\n",
      "      <p class=\"text-right\">\n",
      "       By Mary Owens\n",
      "      </p>\n",
      "     </div>\n",
      "     <p>\n",
      "      Keep major who enjoy indicate country lay carry. Recent available number big appear. Center put less explain actually grow.\n",
      "Between travel control soon. Professional media happy candidate.\n",
      "     </p>\n",
      "    </div>\n",
      "   </div>\n",
      "   <div class=\"grid grid-cols-4 gap-x-4 border rounded pr-3 bg-green-50 hover:shadow-lg transition duration-500\">\n",
      "    <img src=\"/static/placeholder.png\"/>\n",
      "    <div class=\"col-span-3 space-y-3 py-3\">\n",
      "     <h2 class=\"text-2xl text-green-900\">\n",
      "      hard talk forward\n",
      "     </h2>\n",
      "     <div class=\"grid grid-cols-2 italic\">\n",
      "      <p>\n",
      "       2009-01-20\n",
      "      </p>\n",
      "      <p class=\"text-right\">\n",
      "       By Benjamin Bridges\n",
      "      </p>\n",
      "     </div>\n",
      "     <p>\n",
      "      Not professor industry understand room. Hit who plant Democrat never policy walk.\n",
      "Enjoy town without.\n",
      "     </p>\n",
      "    </div>\n",
      "   </div>\n",
      "  </div>\n",
      " </body>\n",
      "</html>\n"
     ]
    }
   ],
   "source": [
    "soup = BeautifulSoup(html)\n",
    "print(soup.prettify())"
   ]
  },
  {
   "cell_type": "markdown",
   "metadata": {},
   "source": [
    "From here we can switch between the browser and python and try out different ways of getting different parts of the html document.\n",
    "\n",
    "We can leverage Google Chrome's developer tools by right clicking and choosing \"Inspect\". We can then use this html document inspector to help us with our web scraping."
   ]
  },
  {
   "cell_type": "code",
   "execution_count": 4,
   "metadata": {},
   "outputs": [],
   "source": [
    "# Use beautifulsoup methods to extract necessary content from an article"
   ]
  },
  {
   "cell_type": "code",
   "execution_count": 5,
   "metadata": {},
   "outputs": [],
   "source": [
    "articles = soup.select('.grid-cols-4')\n",
    "# articles"
   ]
  },
  {
   "cell_type": "code",
   "execution_count": 6,
   "metadata": {},
   "outputs": [
    {
     "data": {
      "text/plain": [
       "<div class=\"grid grid-cols-4 gap-x-4 border rounded pr-3 bg-green-50 hover:shadow-lg transition duration-500\">\n",
       "<img src=\"/static/placeholder.png\"/>\n",
       "<div class=\"col-span-3 space-y-3 py-3\">\n",
       "<h2 class=\"text-2xl text-green-900\">process expert throughout</h2>\n",
       "<div class=\"grid grid-cols-2 italic\">\n",
       "<p> 2011-05-12 </p>\n",
       "<p class=\"text-right\">By Matthew Liu </p>\n",
       "</div>\n",
       "<p>Listen during discover knowledge color. Generation course pressure sort agent direction.\n",
       "Tough product such push. True speak air wall bed keep hot.</p>\n",
       "</div>\n",
       "</div>"
      ]
     },
     "execution_count": 6,
     "metadata": {},
     "output_type": "execute_result"
    }
   ],
   "source": [
    "article = articles[0]\n",
    "article"
   ]
  },
  {
   "cell_type": "code",
   "execution_count": 7,
   "metadata": {},
   "outputs": [
    {
     "data": {
      "text/plain": [
       "'process expert throughout'"
      ]
     },
     "execution_count": 7,
     "metadata": {},
     "output_type": "execute_result"
    }
   ],
   "source": [
    "# soupmethod.tagname.text\n",
    "headline = article.h2.text\n",
    "headline"
   ]
  },
  {
   "cell_type": "code",
   "execution_count": 8,
   "metadata": {},
   "outputs": [
    {
     "data": {
      "text/plain": [
       "'2011-05-12'"
      ]
     },
     "execution_count": 8,
     "metadata": {},
     "output_type": "execute_result"
    }
   ],
   "source": [
    "# get the date\n",
    "# there was some white space that we stripped out\n",
    "date = article.p.text.strip()\n",
    "date"
   ]
  },
  {
   "cell_type": "code",
   "execution_count": 9,
   "metadata": {},
   "outputs": [
    {
     "data": {
      "text/plain": [
       "'Matthew Liu'"
      ]
     },
     "execution_count": 9,
     "metadata": {},
     "output_type": "execute_result"
    }
   ],
   "source": [
    "article.select('.text-right')[0].text.strip()[3:]"
   ]
  },
  {
   "cell_type": "code",
   "execution_count": 10,
   "metadata": {},
   "outputs": [
    {
     "data": {
      "text/plain": [
       "'Matthew Liu'"
      ]
     },
     "execution_count": 10,
     "metadata": {},
     "output_type": "execute_result"
    }
   ],
   "source": [
    "# the dot before text is a notation to use before selecting the class and is required\n",
    "author = article.select('.text-right')[0].text.strip()[3:]\n",
    "author"
   ]
  },
  {
   "cell_type": "code",
   "execution_count": 11,
   "metadata": {},
   "outputs": [
    {
     "data": {
      "text/plain": [
       "'Listen during discover knowledge color. Generation course pressure sort agent direction.\\nTough product such push. True speak air wall bed keep hot.'"
      ]
     },
     "execution_count": 11,
     "metadata": {},
     "output_type": "execute_result"
    }
   ],
   "source": [
    "# getting the actual content\n",
    "content = article.select('p')[-1].text\n",
    "content"
   ]
  },
  {
   "cell_type": "markdown",
   "metadata": {},
   "source": [
    "Bringing it all together: Make a function"
   ]
  },
  {
   "cell_type": "code",
   "execution_count": 12,
   "metadata": {},
   "outputs": [],
   "source": [
    "def parse_news(article):\n",
    "    headline = article.h2.text\n",
    "    date = article.p.text.strip()\n",
    "    author = article.select('.text-right')[0].text.strip()[3:]\n",
    "    content = article.select('p')[-1].text\n",
    "    \n",
    "    return {\n",
    "        'headline': headline, 'date': date, 'author': author,\n",
    "        'content': content\n",
    "    }"
   ]
  },
  {
   "cell_type": "code",
   "execution_count": 13,
   "metadata": {},
   "outputs": [
    {
     "data": {
      "text/plain": [
       "{'headline': 'process expert throughout',\n",
       " 'date': '2011-05-12',\n",
       " 'author': 'Matthew Liu',\n",
       " 'content': 'Listen during discover knowledge color. Generation course pressure sort agent direction.\\nTough product such push. True speak air wall bed keep hot.'}"
      ]
     },
     "execution_count": 13,
     "metadata": {},
     "output_type": "execute_result"
    }
   ],
   "source": [
    "\n",
    "parse_news(article)"
   ]
  },
  {
   "cell_type": "code",
   "execution_count": 14,
   "metadata": {
    "scrolled": true
   },
   "outputs": [],
   "source": [
    "# loop through all the articles\n",
    "# [parse_news(article) for article in articles]"
   ]
  },
  {
   "cell_type": "code",
   "execution_count": 15,
   "metadata": {},
   "outputs": [
    {
     "data": {
      "text/html": [
       "<div>\n",
       "<style scoped>\n",
       "    .dataframe tbody tr th:only-of-type {\n",
       "        vertical-align: middle;\n",
       "    }\n",
       "\n",
       "    .dataframe tbody tr th {\n",
       "        vertical-align: top;\n",
       "    }\n",
       "\n",
       "    .dataframe thead th {\n",
       "        text-align: right;\n",
       "    }\n",
       "</style>\n",
       "<table border=\"1\" class=\"dataframe\">\n",
       "  <thead>\n",
       "    <tr style=\"text-align: right;\">\n",
       "      <th></th>\n",
       "      <th>headline</th>\n",
       "      <th>date</th>\n",
       "      <th>author</th>\n",
       "      <th>content</th>\n",
       "    </tr>\n",
       "  </thead>\n",
       "  <tbody>\n",
       "    <tr>\n",
       "      <th>0</th>\n",
       "      <td>process expert throughout</td>\n",
       "      <td>2011-05-12</td>\n",
       "      <td>Matthew Liu</td>\n",
       "      <td>Listen during discover knowledge color. Genera...</td>\n",
       "    </tr>\n",
       "    <tr>\n",
       "      <th>1</th>\n",
       "      <td>edge accept six</td>\n",
       "      <td>2019-07-03</td>\n",
       "      <td>Patrick Thomas</td>\n",
       "      <td>Beyond simple add I television. Wrong we troub...</td>\n",
       "    </tr>\n",
       "    <tr>\n",
       "      <th>2</th>\n",
       "      <td>force often indicate</td>\n",
       "      <td>2015-12-19</td>\n",
       "      <td>Lisa Lara</td>\n",
       "      <td>Key get alone meet. Situation pull few opportu...</td>\n",
       "    </tr>\n",
       "    <tr>\n",
       "      <th>3</th>\n",
       "      <td>me point dog</td>\n",
       "      <td>2006-09-03</td>\n",
       "      <td>Jacqueline Stout</td>\n",
       "      <td>Marriage civil director goal certainly. By att...</td>\n",
       "    </tr>\n",
       "    <tr>\n",
       "      <th>4</th>\n",
       "      <td>use rise step</td>\n",
       "      <td>2007-07-11</td>\n",
       "      <td>Kristen Hernandez</td>\n",
       "      <td>Design investment trouble we forget. Enter mai...</td>\n",
       "    </tr>\n",
       "    <tr>\n",
       "      <th>5</th>\n",
       "      <td>admit reach work</td>\n",
       "      <td>1984-06-04</td>\n",
       "      <td>Stephen White</td>\n",
       "      <td>Dream real available cold. Shoulder reveal guy...</td>\n",
       "    </tr>\n",
       "    <tr>\n",
       "      <th>6</th>\n",
       "      <td>may resource financial</td>\n",
       "      <td>1989-08-11</td>\n",
       "      <td>Julie Torres</td>\n",
       "      <td>Again any soldier reality local type group rol...</td>\n",
       "    </tr>\n",
       "    <tr>\n",
       "      <th>7</th>\n",
       "      <td>according security clearly</td>\n",
       "      <td>1980-10-09</td>\n",
       "      <td>James Torres Jr.</td>\n",
       "      <td>College then gas language list. Central produc...</td>\n",
       "    </tr>\n",
       "    <tr>\n",
       "      <th>8</th>\n",
       "      <td>thought case population</td>\n",
       "      <td>1993-11-18</td>\n",
       "      <td>Julie Diaz</td>\n",
       "      <td>Own scientist themselves forward. Professional...</td>\n",
       "    </tr>\n",
       "    <tr>\n",
       "      <th>9</th>\n",
       "      <td>young leader tree</td>\n",
       "      <td>2011-01-23</td>\n",
       "      <td>Jasmine Morgan</td>\n",
       "      <td>Same base great card situation economic wind c...</td>\n",
       "    </tr>\n",
       "    <tr>\n",
       "      <th>10</th>\n",
       "      <td>effect chair week</td>\n",
       "      <td>1985-05-19</td>\n",
       "      <td>Mary Owens</td>\n",
       "      <td>Keep major who enjoy indicate country lay carr...</td>\n",
       "    </tr>\n",
       "    <tr>\n",
       "      <th>11</th>\n",
       "      <td>hard talk forward</td>\n",
       "      <td>2009-01-20</td>\n",
       "      <td>Benjamin Bridges</td>\n",
       "      <td>Not professor industry understand room. Hit wh...</td>\n",
       "    </tr>\n",
       "  </tbody>\n",
       "</table>\n",
       "</div>"
      ],
      "text/plain": [
       "                      headline        date             author  \\\n",
       "0    process expert throughout  2011-05-12        Matthew Liu   \n",
       "1              edge accept six  2019-07-03     Patrick Thomas   \n",
       "2         force often indicate  2015-12-19          Lisa Lara   \n",
       "3                 me point dog  2006-09-03   Jacqueline Stout   \n",
       "4                use rise step  2007-07-11  Kristen Hernandez   \n",
       "5             admit reach work  1984-06-04      Stephen White   \n",
       "6       may resource financial  1989-08-11       Julie Torres   \n",
       "7   according security clearly  1980-10-09   James Torres Jr.   \n",
       "8      thought case population  1993-11-18         Julie Diaz   \n",
       "9            young leader tree  2011-01-23     Jasmine Morgan   \n",
       "10           effect chair week  1985-05-19         Mary Owens   \n",
       "11           hard talk forward  2009-01-20   Benjamin Bridges   \n",
       "\n",
       "                                              content  \n",
       "0   Listen during discover knowledge color. Genera...  \n",
       "1   Beyond simple add I television. Wrong we troub...  \n",
       "2   Key get alone meet. Situation pull few opportu...  \n",
       "3   Marriage civil director goal certainly. By att...  \n",
       "4   Design investment trouble we forget. Enter mai...  \n",
       "5   Dream real available cold. Shoulder reveal guy...  \n",
       "6   Again any soldier reality local type group rol...  \n",
       "7   College then gas language list. Central produc...  \n",
       "8   Own scientist themselves forward. Professional...  \n",
       "9   Same base great card situation economic wind c...  \n",
       "10  Keep major who enjoy indicate country lay carr...  \n",
       "11  Not professor industry understand room. Hit wh...  "
      ]
     },
     "execution_count": 15,
     "metadata": {},
     "output_type": "execute_result"
    }
   ],
   "source": [
    "# loop through all the articles\n",
    "pd.DataFrame([parse_news(article) for article in articles])"
   ]
  },
  {
   "cell_type": "markdown",
   "metadata": {},
   "source": [
    "## Scraping People"
   ]
  },
  {
   "cell_type": "code",
   "execution_count": 16,
   "metadata": {},
   "outputs": [],
   "source": [
    "response = requests.get('https://web-scraping-demo.zgulde.net/people', headers={'user-agent': 'Codeup DS Hoppper'})\n",
    "soup = BeautifulSoup(response.text)"
   ]
  },
  {
   "cell_type": "code",
   "execution_count": 17,
   "metadata": {},
   "outputs": [
    {
     "name": "stdout",
     "output_type": "stream",
     "text": [
      "<!DOCTYPE html>\n",
      "<html lang=\"en\">\n",
      " <head>\n",
      "  <meta charset=\"utf-8\"/>\n",
      "  <meta content=\"IE=edge\" http-equiv=\"X-UA-Compatible\"/>\n",
      "  <meta content=\"width=device-width, initial-scale=1.0\" name=\"viewport\"/>\n",
      "  <title>\n",
      "   Example People Page\n",
      "  </title>\n",
      "  <link href=\"https://unpkg.com/tailwindcss@^2/dist/tailwind.min.css\" rel=\"stylesheet\"/>\n",
      "  <link href=\"https://cdn.jsdelivr.net/npm/bootstrap-icons@1.4.1/font/bootstrap-icons.css\" rel=\"stylesheet\"/>\n",
      " </head>\n",
      " <body class=\"mx-auto max-w-screen-lg pb-32\">\n",
      "  <h1 class=\"my-5 text-4xl text-center\">\n",
      "   People\n",
      "  </h1>\n",
      "  <div class=\"my-5 text-red-800 px-5 py-3 bg-red-100 font-bold\">\n",
      "   <p>\n",
      "    <i class=\"bi bi-exclamation-circle text-xl\">\n",
      "    </i>\n",
      "    All data on this page is strictly for demonstration purposes and fake.\n",
      "   </p>\n",
      "  </div>\n",
      "  <div class=\"grid grid-cols-2 gap-x-12 gap-y-16\" id=\"people\">\n",
      "   <div class=\"person border rounded px-3 py-5 grid grid-cols-2 gap-x-3 bg-purple-50 hover:shadow-lg transition duration-500\">\n",
      "    <h2 class=\"text-2xl text-purple-800 name col-span-full border-b\">\n",
      "     Alicia Boyd\n",
      "    </h2>\n",
      "    <p class=\"quote col-span-full px-5 py-5 text-center text-gray-500\">\n",
      "     \"Self-enabling neutral model\"\n",
      "    </p>\n",
      "    <div class=\"grid grid-cols-9\">\n",
      "     <i class=\"bi bi-envelope-fill text-purple-800\">\n",
      "     </i>\n",
      "     <p class=\"email col-span-8\">\n",
      "      huangkevin@hotmail.com\n",
      "     </p>\n",
      "     <i class=\"bi bi-telephone-fill text-purple-800\">\n",
      "     </i>\n",
      "     <p class=\"phone col-span-8\">\n",
      "      090.767.3956\n",
      "     </p>\n",
      "    </div>\n",
      "    <div class=\"address grid grid-cols-9\">\n",
      "     <i class=\"bi bi-geo-fill text-purple-800\">\n",
      "     </i>\n",
      "     <p class=\"col-span-8\">\n",
      "      58172 Arias Extension\n",
      "      <br/>\n",
      "      South Randy, KY 34607\n",
      "     </p>\n",
      "    </div>\n",
      "   </div>\n",
      "   <div class=\"person border rounded px-3 py-5 grid grid-cols-2 gap-x-3 bg-purple-50 hover:shadow-lg transition duration-500\">\n",
      "    <h2 class=\"text-2xl text-purple-800 name col-span-full border-b\">\n",
      "     Russell Mitchell\n",
      "    </h2>\n",
      "    <p class=\"quote col-span-full px-5 py-5 text-center text-gray-500\">\n",
      "     \"Ergonomic grid-enabled capacity\"\n",
      "    </p>\n",
      "    <div class=\"grid grid-cols-9\">\n",
      "     <i class=\"bi bi-envelope-fill text-purple-800\">\n",
      "     </i>\n",
      "     <p class=\"email col-span-8\">\n",
      "      caitlinfields@francis.com\n",
      "     </p>\n",
      "     <i class=\"bi bi-telephone-fill text-purple-800\">\n",
      "     </i>\n",
      "     <p class=\"phone col-span-8\">\n",
      "      +1-615-412-4880\n",
      "     </p>\n",
      "    </div>\n",
      "    <div class=\"address grid grid-cols-9\">\n",
      "     <i class=\"bi bi-geo-fill text-purple-800\">\n",
      "     </i>\n",
      "     <p class=\"col-span-8\">\n",
      "      373 Carolyn Ports\n",
      "      <br/>\n",
      "      Sandrashire, NH 74201\n",
      "     </p>\n",
      "    </div>\n",
      "   </div>\n",
      "   <div class=\"person border rounded px-3 py-5 grid grid-cols-2 gap-x-3 bg-purple-50 hover:shadow-lg transition duration-500\">\n",
      "    <h2 class=\"text-2xl text-purple-800 name col-span-full border-b\">\n",
      "     Juan Adams\n",
      "    </h2>\n",
      "    <p class=\"quote col-span-full px-5 py-5 text-center text-gray-500\">\n",
      "     \"Multi-tiered leadingedge protocol\"\n",
      "    </p>\n",
      "    <div class=\"grid grid-cols-9\">\n",
      "     <i class=\"bi bi-envelope-fill text-purple-800\">\n",
      "     </i>\n",
      "     <p class=\"email col-span-8\">\n",
      "      belldana@phelps-kirk.com\n",
      "     </p>\n",
      "     <i class=\"bi bi-telephone-fill text-purple-800\">\n",
      "     </i>\n",
      "     <p class=\"phone col-span-8\">\n",
      "      (093)127-1374x7525\n",
      "     </p>\n",
      "    </div>\n",
      "    <div class=\"address grid grid-cols-9\">\n",
      "     <i class=\"bi bi-geo-fill text-purple-800\">\n",
      "     </i>\n",
      "     <p class=\"col-span-8\">\n",
      "      047 Rhonda Walk Apt. 117\n",
      "      <br/>\n",
      "      Popemouth, IA 96348\n",
      "     </p>\n",
      "    </div>\n",
      "   </div>\n",
      "   <div class=\"person border rounded px-3 py-5 grid grid-cols-2 gap-x-3 bg-purple-50 hover:shadow-lg transition duration-500\">\n",
      "    <h2 class=\"text-2xl text-purple-800 name col-span-full border-b\">\n",
      "     Ronald Blevins\n",
      "    </h2>\n",
      "    <p class=\"quote col-span-full px-5 py-5 text-center text-gray-500\">\n",
      "     \"Extended non-volatile ability\"\n",
      "    </p>\n",
      "    <div class=\"grid grid-cols-9\">\n",
      "     <i class=\"bi bi-envelope-fill text-purple-800\">\n",
      "     </i>\n",
      "     <p class=\"email col-span-8\">\n",
      "      michael35@hotmail.com\n",
      "     </p>\n",
      "     <i class=\"bi bi-telephone-fill text-purple-800\">\n",
      "     </i>\n",
      "     <p class=\"phone col-span-8\">\n",
      "      +1-816-785-2365x69413\n",
      "     </p>\n",
      "    </div>\n",
      "    <div class=\"address grid grid-cols-9\">\n",
      "     <i class=\"bi bi-geo-fill text-purple-800\">\n",
      "     </i>\n",
      "     <p class=\"col-span-8\">\n",
      "      2314 Nicole Road\n",
      "      <br/>\n",
      "      North Julieberg, GA 19816\n",
      "     </p>\n",
      "    </div>\n",
      "   </div>\n",
      "   <div class=\"person border rounded px-3 py-5 grid grid-cols-2 gap-x-3 bg-purple-50 hover:shadow-lg transition duration-500\">\n",
      "    <h2 class=\"text-2xl text-purple-800 name col-span-full border-b\">\n",
      "     Annette Taylor\n",
      "    </h2>\n",
      "    <p class=\"quote col-span-full px-5 py-5 text-center text-gray-500\">\n",
      "     \"Grass-roots explicit strategy\"\n",
      "    </p>\n",
      "    <div class=\"grid grid-cols-9\">\n",
      "     <i class=\"bi bi-envelope-fill text-purple-800\">\n",
      "     </i>\n",
      "     <p class=\"email col-span-8\">\n",
      "      jeremy60@middleton.com\n",
      "     </p>\n",
      "     <i class=\"bi bi-telephone-fill text-purple-800\">\n",
      "     </i>\n",
      "     <p class=\"phone col-span-8\">\n",
      "      070-245-2765x0640\n",
      "     </p>\n",
      "    </div>\n",
      "    <div class=\"address grid grid-cols-9\">\n",
      "     <i class=\"bi bi-geo-fill text-purple-800\">\n",
      "     </i>\n",
      "     <p class=\"col-span-8\">\n",
      "      021 Deborah Place\n",
      "      <br/>\n",
      "      Lake Jacobberg, OH 95483\n",
      "     </p>\n",
      "    </div>\n",
      "   </div>\n",
      "   <div class=\"person border rounded px-3 py-5 grid grid-cols-2 gap-x-3 bg-purple-50 hover:shadow-lg transition duration-500\">\n",
      "    <h2 class=\"text-2xl text-purple-800 name col-span-full border-b\">\n",
      "     Michael Atkinson\n",
      "    </h2>\n",
      "    <p class=\"quote col-span-full px-5 py-5 text-center text-gray-500\">\n",
      "     \"Front-line bandwidth-monitored middleware\"\n",
      "    </p>\n",
      "    <div class=\"grid grid-cols-9\">\n",
      "     <i class=\"bi bi-envelope-fill text-purple-800\">\n",
      "     </i>\n",
      "     <p class=\"email col-span-8\">\n",
      "      vwilkinson@gmail.com\n",
      "     </p>\n",
      "     <i class=\"bi bi-telephone-fill text-purple-800\">\n",
      "     </i>\n",
      "     <p class=\"phone col-span-8\">\n",
      "      8954594745\n",
      "     </p>\n",
      "    </div>\n",
      "    <div class=\"address grid grid-cols-9\">\n",
      "     <i class=\"bi bi-geo-fill text-purple-800\">\n",
      "     </i>\n",
      "     <p class=\"col-span-8\">\n",
      "      887 Hawkins Fork Apt. 056\n",
      "      <br/>\n",
      "      New Davidton, OK 52972\n",
      "     </p>\n",
      "    </div>\n",
      "   </div>\n",
      "   <div class=\"person border rounded px-3 py-5 grid grid-cols-2 gap-x-3 bg-purple-50 hover:shadow-lg transition duration-500\">\n",
      "    <h2 class=\"text-2xl text-purple-800 name col-span-full border-b\">\n",
      "     Jason Miller\n",
      "    </h2>\n",
      "    <p class=\"quote col-span-full px-5 py-5 text-center text-gray-500\">\n",
      "     \"Networked bi-directional archive\"\n",
      "    </p>\n",
      "    <div class=\"grid grid-cols-9\">\n",
      "     <i class=\"bi bi-envelope-fill text-purple-800\">\n",
      "     </i>\n",
      "     <p class=\"email col-span-8\">\n",
      "      xtaylor@christensen-lyons.com\n",
      "     </p>\n",
      "     <i class=\"bi bi-telephone-fill text-purple-800\">\n",
      "     </i>\n",
      "     <p class=\"phone col-span-8\">\n",
      "      186.172.2353x43570\n",
      "     </p>\n",
      "    </div>\n",
      "    <div class=\"address grid grid-cols-9\">\n",
      "     <i class=\"bi bi-geo-fill text-purple-800\">\n",
      "     </i>\n",
      "     <p class=\"col-span-8\">\n",
      "      605 Wallace Bypass Suite 993\n",
      "      <br/>\n",
      "      South Matthew, CA 97404\n",
      "     </p>\n",
      "    </div>\n",
      "   </div>\n",
      "   <div class=\"person border rounded px-3 py-5 grid grid-cols-2 gap-x-3 bg-purple-50 hover:shadow-lg transition duration-500\">\n",
      "    <h2 class=\"text-2xl text-purple-800 name col-span-full border-b\">\n",
      "     Christopher Mills\n",
      "    </h2>\n",
      "    <p class=\"quote col-span-full px-5 py-5 text-center text-gray-500\">\n",
      "     \"Persistent executive frame\"\n",
      "    </p>\n",
      "    <div class=\"grid grid-cols-9\">\n",
      "     <i class=\"bi bi-envelope-fill text-purple-800\">\n",
      "     </i>\n",
      "     <p class=\"email col-span-8\">\n",
      "      xwillis@gmail.com\n",
      "     </p>\n",
      "     <i class=\"bi bi-telephone-fill text-purple-800\">\n",
      "     </i>\n",
      "     <p class=\"phone col-span-8\">\n",
      "      464-378-8235x83897\n",
      "     </p>\n",
      "    </div>\n",
      "    <div class=\"address grid grid-cols-9\">\n",
      "     <i class=\"bi bi-geo-fill text-purple-800\">\n",
      "     </i>\n",
      "     <p class=\"col-span-8\">\n",
      "      9394 Gill Inlet Suite 716\n",
      "      <br/>\n",
      "      South Dwaynebury, IL 59456\n",
      "     </p>\n",
      "    </div>\n",
      "   </div>\n",
      "   <div class=\"person border rounded px-3 py-5 grid grid-cols-2 gap-x-3 bg-purple-50 hover:shadow-lg transition duration-500\">\n",
      "    <h2 class=\"text-2xl text-purple-800 name col-span-full border-b\">\n",
      "     Joseph Garza\n",
      "    </h2>\n",
      "    <p class=\"quote col-span-full px-5 py-5 text-center text-gray-500\">\n",
      "     \"Cross-group encompassing capacity\"\n",
      "    </p>\n",
      "    <div class=\"grid grid-cols-9\">\n",
      "     <i class=\"bi bi-envelope-fill text-purple-800\">\n",
      "     </i>\n",
      "     <p class=\"email col-span-8\">\n",
      "      coxvincent@martin.biz\n",
      "     </p>\n",
      "     <i class=\"bi bi-telephone-fill text-purple-800\">\n",
      "     </i>\n",
      "     <p class=\"phone col-span-8\">\n",
      "      (411)674-7689x81669\n",
      "     </p>\n",
      "    </div>\n",
      "    <div class=\"address grid grid-cols-9\">\n",
      "     <i class=\"bi bi-geo-fill text-purple-800\">\n",
      "     </i>\n",
      "     <p class=\"col-span-8\">\n",
      "      9120 David Rue\n",
      "      <br/>\n",
      "      South Daniel, WA 75480\n",
      "     </p>\n",
      "    </div>\n",
      "   </div>\n",
      "   <div class=\"person border rounded px-3 py-5 grid grid-cols-2 gap-x-3 bg-purple-50 hover:shadow-lg transition duration-500\">\n",
      "    <h2 class=\"text-2xl text-purple-800 name col-span-full border-b\">\n",
      "     Barbara Harrell\n",
      "    </h2>\n",
      "    <p class=\"quote col-span-full px-5 py-5 text-center text-gray-500\">\n",
      "     \"Multi-lateral zero tolerance pricing structure\"\n",
      "    </p>\n",
      "    <div class=\"grid grid-cols-9\">\n",
      "     <i class=\"bi bi-envelope-fill text-purple-800\">\n",
      "     </i>\n",
      "     <p class=\"email col-span-8\">\n",
      "      akennedy@gonzalez.com\n",
      "     </p>\n",
      "     <i class=\"bi bi-telephone-fill text-purple-800\">\n",
      "     </i>\n",
      "     <p class=\"phone col-span-8\">\n",
      "      233-206-7976\n",
      "     </p>\n",
      "    </div>\n",
      "    <div class=\"address grid grid-cols-9\">\n",
      "     <i class=\"bi bi-geo-fill text-purple-800\">\n",
      "     </i>\n",
      "     <p class=\"col-span-8\">\n",
      "      086 Le Ridges\n",
      "      <br/>\n",
      "      Sanchezfort, PA 97034\n",
      "     </p>\n",
      "    </div>\n",
      "   </div>\n",
      "  </div>\n",
      " </body>\n",
      "</html>\n"
     ]
    }
   ],
   "source": [
    "print(soup.prettify())"
   ]
  },
  {
   "cell_type": "code",
   "execution_count": 18,
   "metadata": {},
   "outputs": [
    {
     "data": {
      "text/plain": [
       "[<div class=\"person border rounded px-3 py-5 grid grid-cols-2 gap-x-3 bg-purple-50 hover:shadow-lg transition duration-500\">\n",
       " <h2 class=\"text-2xl text-purple-800 name col-span-full border-b\">Alicia Boyd</h2>\n",
       " <p class=\"quote col-span-full px-5 py-5 text-center text-gray-500\">\n",
       "             \"Self-enabling neutral model\"\n",
       "         </p>\n",
       " <div class=\"grid grid-cols-9\">\n",
       " <i class=\"bi bi-envelope-fill text-purple-800\"></i>\n",
       " <p class=\"email col-span-8\">huangkevin@hotmail.com</p>\n",
       " <i class=\"bi bi-telephone-fill text-purple-800\"></i>\n",
       " <p class=\"phone col-span-8\">090.767.3956</p>\n",
       " </div>\n",
       " <div class=\"address grid grid-cols-9\">\n",
       " <i class=\"bi bi-geo-fill text-purple-800\"></i>\n",
       " <p class=\"col-span-8\">\n",
       "                 58172 Arias Extension <br/>\n",
       "                 South Randy, KY 34607\n",
       "             </p>\n",
       " </div>\n",
       " </div>,\n",
       " <div class=\"person border rounded px-3 py-5 grid grid-cols-2 gap-x-3 bg-purple-50 hover:shadow-lg transition duration-500\">\n",
       " <h2 class=\"text-2xl text-purple-800 name col-span-full border-b\">Russell Mitchell</h2>\n",
       " <p class=\"quote col-span-full px-5 py-5 text-center text-gray-500\">\n",
       "             \"Ergonomic grid-enabled capacity\"\n",
       "         </p>\n",
       " <div class=\"grid grid-cols-9\">\n",
       " <i class=\"bi bi-envelope-fill text-purple-800\"></i>\n",
       " <p class=\"email col-span-8\">caitlinfields@francis.com</p>\n",
       " <i class=\"bi bi-telephone-fill text-purple-800\"></i>\n",
       " <p class=\"phone col-span-8\">+1-615-412-4880</p>\n",
       " </div>\n",
       " <div class=\"address grid grid-cols-9\">\n",
       " <i class=\"bi bi-geo-fill text-purple-800\"></i>\n",
       " <p class=\"col-span-8\">\n",
       "                 373 Carolyn Ports <br/>\n",
       "                 Sandrashire, NH 74201\n",
       "             </p>\n",
       " </div>\n",
       " </div>,\n",
       " <div class=\"person border rounded px-3 py-5 grid grid-cols-2 gap-x-3 bg-purple-50 hover:shadow-lg transition duration-500\">\n",
       " <h2 class=\"text-2xl text-purple-800 name col-span-full border-b\">Juan Adams</h2>\n",
       " <p class=\"quote col-span-full px-5 py-5 text-center text-gray-500\">\n",
       "             \"Multi-tiered leadingedge protocol\"\n",
       "         </p>\n",
       " <div class=\"grid grid-cols-9\">\n",
       " <i class=\"bi bi-envelope-fill text-purple-800\"></i>\n",
       " <p class=\"email col-span-8\">belldana@phelps-kirk.com</p>\n",
       " <i class=\"bi bi-telephone-fill text-purple-800\"></i>\n",
       " <p class=\"phone col-span-8\">(093)127-1374x7525</p>\n",
       " </div>\n",
       " <div class=\"address grid grid-cols-9\">\n",
       " <i class=\"bi bi-geo-fill text-purple-800\"></i>\n",
       " <p class=\"col-span-8\">\n",
       "                 047 Rhonda Walk Apt. 117 <br/>\n",
       "                 Popemouth, IA 96348\n",
       "             </p>\n",
       " </div>\n",
       " </div>,\n",
       " <div class=\"person border rounded px-3 py-5 grid grid-cols-2 gap-x-3 bg-purple-50 hover:shadow-lg transition duration-500\">\n",
       " <h2 class=\"text-2xl text-purple-800 name col-span-full border-b\">Ronald Blevins</h2>\n",
       " <p class=\"quote col-span-full px-5 py-5 text-center text-gray-500\">\n",
       "             \"Extended non-volatile ability\"\n",
       "         </p>\n",
       " <div class=\"grid grid-cols-9\">\n",
       " <i class=\"bi bi-envelope-fill text-purple-800\"></i>\n",
       " <p class=\"email col-span-8\">michael35@hotmail.com</p>\n",
       " <i class=\"bi bi-telephone-fill text-purple-800\"></i>\n",
       " <p class=\"phone col-span-8\">+1-816-785-2365x69413</p>\n",
       " </div>\n",
       " <div class=\"address grid grid-cols-9\">\n",
       " <i class=\"bi bi-geo-fill text-purple-800\"></i>\n",
       " <p class=\"col-span-8\">\n",
       "                 2314 Nicole Road <br/>\n",
       "                 North Julieberg, GA 19816\n",
       "             </p>\n",
       " </div>\n",
       " </div>,\n",
       " <div class=\"person border rounded px-3 py-5 grid grid-cols-2 gap-x-3 bg-purple-50 hover:shadow-lg transition duration-500\">\n",
       " <h2 class=\"text-2xl text-purple-800 name col-span-full border-b\">Annette Taylor</h2>\n",
       " <p class=\"quote col-span-full px-5 py-5 text-center text-gray-500\">\n",
       "             \"Grass-roots explicit strategy\"\n",
       "         </p>\n",
       " <div class=\"grid grid-cols-9\">\n",
       " <i class=\"bi bi-envelope-fill text-purple-800\"></i>\n",
       " <p class=\"email col-span-8\">jeremy60@middleton.com</p>\n",
       " <i class=\"bi bi-telephone-fill text-purple-800\"></i>\n",
       " <p class=\"phone col-span-8\">070-245-2765x0640</p>\n",
       " </div>\n",
       " <div class=\"address grid grid-cols-9\">\n",
       " <i class=\"bi bi-geo-fill text-purple-800\"></i>\n",
       " <p class=\"col-span-8\">\n",
       "                 021 Deborah Place <br/>\n",
       "                 Lake Jacobberg, OH 95483\n",
       "             </p>\n",
       " </div>\n",
       " </div>,\n",
       " <div class=\"person border rounded px-3 py-5 grid grid-cols-2 gap-x-3 bg-purple-50 hover:shadow-lg transition duration-500\">\n",
       " <h2 class=\"text-2xl text-purple-800 name col-span-full border-b\">Michael Atkinson</h2>\n",
       " <p class=\"quote col-span-full px-5 py-5 text-center text-gray-500\">\n",
       "             \"Front-line bandwidth-monitored middleware\"\n",
       "         </p>\n",
       " <div class=\"grid grid-cols-9\">\n",
       " <i class=\"bi bi-envelope-fill text-purple-800\"></i>\n",
       " <p class=\"email col-span-8\">vwilkinson@gmail.com</p>\n",
       " <i class=\"bi bi-telephone-fill text-purple-800\"></i>\n",
       " <p class=\"phone col-span-8\">8954594745</p>\n",
       " </div>\n",
       " <div class=\"address grid grid-cols-9\">\n",
       " <i class=\"bi bi-geo-fill text-purple-800\"></i>\n",
       " <p class=\"col-span-8\">\n",
       "                 887 Hawkins Fork Apt. 056 <br/>\n",
       "                 New Davidton, OK 52972\n",
       "             </p>\n",
       " </div>\n",
       " </div>,\n",
       " <div class=\"person border rounded px-3 py-5 grid grid-cols-2 gap-x-3 bg-purple-50 hover:shadow-lg transition duration-500\">\n",
       " <h2 class=\"text-2xl text-purple-800 name col-span-full border-b\">Jason Miller</h2>\n",
       " <p class=\"quote col-span-full px-5 py-5 text-center text-gray-500\">\n",
       "             \"Networked bi-directional archive\"\n",
       "         </p>\n",
       " <div class=\"grid grid-cols-9\">\n",
       " <i class=\"bi bi-envelope-fill text-purple-800\"></i>\n",
       " <p class=\"email col-span-8\">xtaylor@christensen-lyons.com</p>\n",
       " <i class=\"bi bi-telephone-fill text-purple-800\"></i>\n",
       " <p class=\"phone col-span-8\">186.172.2353x43570</p>\n",
       " </div>\n",
       " <div class=\"address grid grid-cols-9\">\n",
       " <i class=\"bi bi-geo-fill text-purple-800\"></i>\n",
       " <p class=\"col-span-8\">\n",
       "                 605 Wallace Bypass Suite 993 <br/>\n",
       "                 South Matthew, CA 97404\n",
       "             </p>\n",
       " </div>\n",
       " </div>,\n",
       " <div class=\"person border rounded px-3 py-5 grid grid-cols-2 gap-x-3 bg-purple-50 hover:shadow-lg transition duration-500\">\n",
       " <h2 class=\"text-2xl text-purple-800 name col-span-full border-b\">Christopher Mills</h2>\n",
       " <p class=\"quote col-span-full px-5 py-5 text-center text-gray-500\">\n",
       "             \"Persistent executive frame\"\n",
       "         </p>\n",
       " <div class=\"grid grid-cols-9\">\n",
       " <i class=\"bi bi-envelope-fill text-purple-800\"></i>\n",
       " <p class=\"email col-span-8\">xwillis@gmail.com</p>\n",
       " <i class=\"bi bi-telephone-fill text-purple-800\"></i>\n",
       " <p class=\"phone col-span-8\">464-378-8235x83897</p>\n",
       " </div>\n",
       " <div class=\"address grid grid-cols-9\">\n",
       " <i class=\"bi bi-geo-fill text-purple-800\"></i>\n",
       " <p class=\"col-span-8\">\n",
       "                 9394 Gill Inlet Suite 716 <br/>\n",
       "                 South Dwaynebury, IL 59456\n",
       "             </p>\n",
       " </div>\n",
       " </div>,\n",
       " <div class=\"person border rounded px-3 py-5 grid grid-cols-2 gap-x-3 bg-purple-50 hover:shadow-lg transition duration-500\">\n",
       " <h2 class=\"text-2xl text-purple-800 name col-span-full border-b\">Joseph Garza</h2>\n",
       " <p class=\"quote col-span-full px-5 py-5 text-center text-gray-500\">\n",
       "             \"Cross-group encompassing capacity\"\n",
       "         </p>\n",
       " <div class=\"grid grid-cols-9\">\n",
       " <i class=\"bi bi-envelope-fill text-purple-800\"></i>\n",
       " <p class=\"email col-span-8\">coxvincent@martin.biz</p>\n",
       " <i class=\"bi bi-telephone-fill text-purple-800\"></i>\n",
       " <p class=\"phone col-span-8\">(411)674-7689x81669</p>\n",
       " </div>\n",
       " <div class=\"address grid grid-cols-9\">\n",
       " <i class=\"bi bi-geo-fill text-purple-800\"></i>\n",
       " <p class=\"col-span-8\">\n",
       "                 9120 David Rue <br/>\n",
       "                 South Daniel, WA 75480\n",
       "             </p>\n",
       " </div>\n",
       " </div>,\n",
       " <div class=\"person border rounded px-3 py-5 grid grid-cols-2 gap-x-3 bg-purple-50 hover:shadow-lg transition duration-500\">\n",
       " <h2 class=\"text-2xl text-purple-800 name col-span-full border-b\">Barbara Harrell</h2>\n",
       " <p class=\"quote col-span-full px-5 py-5 text-center text-gray-500\">\n",
       "             \"Multi-lateral zero tolerance pricing structure\"\n",
       "         </p>\n",
       " <div class=\"grid grid-cols-9\">\n",
       " <i class=\"bi bi-envelope-fill text-purple-800\"></i>\n",
       " <p class=\"email col-span-8\">akennedy@gonzalez.com</p>\n",
       " <i class=\"bi bi-telephone-fill text-purple-800\"></i>\n",
       " <p class=\"phone col-span-8\">233-206-7976</p>\n",
       " </div>\n",
       " <div class=\"address grid grid-cols-9\">\n",
       " <i class=\"bi bi-geo-fill text-purple-800\"></i>\n",
       " <p class=\"col-span-8\">\n",
       "                 086 Le Ridges <br/>\n",
       "                 Sanchezfort, PA 97034\n",
       "             </p>\n",
       " </div>\n",
       " </div>]"
      ]
     },
     "execution_count": 18,
     "metadata": {},
     "output_type": "execute_result"
    }
   ],
   "source": [
    "cards = soup.select(\".person\")\n",
    "cards"
   ]
  },
  {
   "cell_type": "code",
   "execution_count": 19,
   "metadata": {},
   "outputs": [
    {
     "data": {
      "text/plain": [
       "<div class=\"person border rounded px-3 py-5 grid grid-cols-2 gap-x-3 bg-purple-50 hover:shadow-lg transition duration-500\">\n",
       "<h2 class=\"text-2xl text-purple-800 name col-span-full border-b\">Alicia Boyd</h2>\n",
       "<p class=\"quote col-span-full px-5 py-5 text-center text-gray-500\">\n",
       "            \"Self-enabling neutral model\"\n",
       "        </p>\n",
       "<div class=\"grid grid-cols-9\">\n",
       "<i class=\"bi bi-envelope-fill text-purple-800\"></i>\n",
       "<p class=\"email col-span-8\">huangkevin@hotmail.com</p>\n",
       "<i class=\"bi bi-telephone-fill text-purple-800\"></i>\n",
       "<p class=\"phone col-span-8\">090.767.3956</p>\n",
       "</div>\n",
       "<div class=\"address grid grid-cols-9\">\n",
       "<i class=\"bi bi-geo-fill text-purple-800\"></i>\n",
       "<p class=\"col-span-8\">\n",
       "                58172 Arias Extension <br/>\n",
       "                South Randy, KY 34607\n",
       "            </p>\n",
       "</div>\n",
       "</div>"
      ]
     },
     "execution_count": 19,
     "metadata": {},
     "output_type": "execute_result"
    }
   ],
   "source": [
    "card = cards[0]\n",
    "card"
   ]
  },
  {
   "cell_type": "code",
   "execution_count": 20,
   "metadata": {},
   "outputs": [
    {
     "data": {
      "text/plain": [
       "'Alicia Boyd'"
      ]
     },
     "execution_count": 20,
     "metadata": {},
     "output_type": "execute_result"
    }
   ],
   "source": [
    "name = card.h2.text\n",
    "name"
   ]
  },
  {
   "cell_type": "code",
   "execution_count": 21,
   "metadata": {},
   "outputs": [
    {
     "data": {
      "text/plain": [
       "'\"Self-enabling neutral model\"'"
      ]
     },
     "execution_count": 21,
     "metadata": {},
     "output_type": "execute_result"
    }
   ],
   "source": [
    "quote = card.p.text.strip()\n",
    "quote"
   ]
  },
  {
   "cell_type": "code",
   "execution_count": 22,
   "metadata": {},
   "outputs": [
    {
     "data": {
      "text/plain": [
       "'huangkevin@hotmail.com'"
      ]
     },
     "execution_count": 22,
     "metadata": {},
     "output_type": "execute_result"
    }
   ],
   "source": [
    "email = card.find_all('p')[1].text\n",
    "email"
   ]
  },
  {
   "cell_type": "code",
   "execution_count": 23,
   "metadata": {},
   "outputs": [
    {
     "data": {
      "text/plain": [
       "'090.767.3956'"
      ]
     },
     "execution_count": 23,
     "metadata": {},
     "output_type": "execute_result"
    }
   ],
   "source": [
    "phone = card.find_all('p')[2].text\n",
    "phone"
   ]
  },
  {
   "cell_type": "code",
   "execution_count": 24,
   "metadata": {},
   "outputs": [],
   "source": [
    "# address = card.find_all('p')[3].text.strip()\n",
    "# address"
   ]
  },
  {
   "cell_type": "code",
   "execution_count": 25,
   "metadata": {},
   "outputs": [
    {
     "data": {
      "text/plain": [
       "'58172 Arias ExtensionSouth Randy, KY 34607'"
      ]
     },
     "execution_count": 25,
     "metadata": {},
     "output_type": "execute_result"
    }
   ],
   "source": [
    "import re\n",
    "address = card.find_all('p')[3].text.strip()\n",
    "address = re.sub(r\"\\s{2,}\", \"\", address)\n",
    "\n",
    "address"
   ]
  },
  {
   "cell_type": "code",
   "execution_count": 26,
   "metadata": {},
   "outputs": [
    {
     "data": {
      "text/plain": [
       "[<p class=\"quote col-span-full px-5 py-5 text-center text-gray-500\">\n",
       "             \"Self-enabling neutral model\"\n",
       "         </p>,\n",
       " <p class=\"email col-span-8\">huangkevin@hotmail.com</p>,\n",
       " <p class=\"phone col-span-8\">090.767.3956</p>,\n",
       " <p class=\"col-span-8\">\n",
       "                 58172 Arias Extension <br/>\n",
       "                 South Randy, KY 34607\n",
       "             </p>]"
      ]
     },
     "execution_count": 26,
     "metadata": {},
     "output_type": "execute_result"
    }
   ],
   "source": [
    "card.find_all('p')"
   ]
  },
  {
   "cell_type": "code",
   "execution_count": 27,
   "metadata": {},
   "outputs": [],
   "source": [
    "def parse_person(card):\n",
    "    name = card.h2.text\n",
    "    quote = card.p.text.strip()\n",
    "    email = card.find_all('p')[1].text\n",
    "    phone = card.find_all('p')[2].text\n",
    "    address = card.find_all('p')[3].text.strip()\n",
    "    address = re.sub(r\"\\s{2,}\", \"\", address)\n",
    "    \n",
    "    return {\n",
    "        'name': name, 'quote': quote, 'email': email,\n",
    "        'phone': phone,\n",
    "        'address': address\n",
    "    }"
   ]
  },
  {
   "cell_type": "code",
   "execution_count": 28,
   "metadata": {},
   "outputs": [
    {
     "data": {
      "text/plain": [
       "{'name': 'Alicia Boyd',\n",
       " 'quote': '\"Self-enabling neutral model\"',\n",
       " 'email': 'huangkevin@hotmail.com',\n",
       " 'phone': '090.767.3956',\n",
       " 'address': '58172 Arias ExtensionSouth Randy, KY 34607'}"
      ]
     },
     "execution_count": 28,
     "metadata": {},
     "output_type": "execute_result"
    }
   ],
   "source": [
    "parse_person(card)"
   ]
  },
  {
   "cell_type": "code",
   "execution_count": 29,
   "metadata": {},
   "outputs": [
    {
     "data": {
      "text/html": [
       "<div>\n",
       "<style scoped>\n",
       "    .dataframe tbody tr th:only-of-type {\n",
       "        vertical-align: middle;\n",
       "    }\n",
       "\n",
       "    .dataframe tbody tr th {\n",
       "        vertical-align: top;\n",
       "    }\n",
       "\n",
       "    .dataframe thead th {\n",
       "        text-align: right;\n",
       "    }\n",
       "</style>\n",
       "<table border=\"1\" class=\"dataframe\">\n",
       "  <thead>\n",
       "    <tr style=\"text-align: right;\">\n",
       "      <th></th>\n",
       "      <th>name</th>\n",
       "      <th>quote</th>\n",
       "      <th>email</th>\n",
       "      <th>phone</th>\n",
       "      <th>address</th>\n",
       "    </tr>\n",
       "  </thead>\n",
       "  <tbody>\n",
       "    <tr>\n",
       "      <th>0</th>\n",
       "      <td>Alicia Boyd</td>\n",
       "      <td>\"Self-enabling neutral model\"</td>\n",
       "      <td>huangkevin@hotmail.com</td>\n",
       "      <td>090.767.3956</td>\n",
       "      <td>58172 Arias ExtensionSouth Randy, KY 34607</td>\n",
       "    </tr>\n",
       "    <tr>\n",
       "      <th>1</th>\n",
       "      <td>Russell Mitchell</td>\n",
       "      <td>\"Ergonomic grid-enabled capacity\"</td>\n",
       "      <td>caitlinfields@francis.com</td>\n",
       "      <td>+1-615-412-4880</td>\n",
       "      <td>373 Carolyn PortsSandrashire, NH 74201</td>\n",
       "    </tr>\n",
       "    <tr>\n",
       "      <th>2</th>\n",
       "      <td>Juan Adams</td>\n",
       "      <td>\"Multi-tiered leadingedge protocol\"</td>\n",
       "      <td>belldana@phelps-kirk.com</td>\n",
       "      <td>(093)127-1374x7525</td>\n",
       "      <td>047 Rhonda Walk Apt. 117Popemouth, IA 96348</td>\n",
       "    </tr>\n",
       "    <tr>\n",
       "      <th>3</th>\n",
       "      <td>Ronald Blevins</td>\n",
       "      <td>\"Extended non-volatile ability\"</td>\n",
       "      <td>michael35@hotmail.com</td>\n",
       "      <td>+1-816-785-2365x69413</td>\n",
       "      <td>2314 Nicole RoadNorth Julieberg, GA 19816</td>\n",
       "    </tr>\n",
       "    <tr>\n",
       "      <th>4</th>\n",
       "      <td>Annette Taylor</td>\n",
       "      <td>\"Grass-roots explicit strategy\"</td>\n",
       "      <td>jeremy60@middleton.com</td>\n",
       "      <td>070-245-2765x0640</td>\n",
       "      <td>021 Deborah PlaceLake Jacobberg, OH 95483</td>\n",
       "    </tr>\n",
       "    <tr>\n",
       "      <th>5</th>\n",
       "      <td>Michael Atkinson</td>\n",
       "      <td>\"Front-line bandwidth-monitored middleware\"</td>\n",
       "      <td>vwilkinson@gmail.com</td>\n",
       "      <td>8954594745</td>\n",
       "      <td>887 Hawkins Fork Apt. 056New Davidton, OK 52972</td>\n",
       "    </tr>\n",
       "    <tr>\n",
       "      <th>6</th>\n",
       "      <td>Jason Miller</td>\n",
       "      <td>\"Networked bi-directional archive\"</td>\n",
       "      <td>xtaylor@christensen-lyons.com</td>\n",
       "      <td>186.172.2353x43570</td>\n",
       "      <td>605 Wallace Bypass Suite 993South Matthew, CA ...</td>\n",
       "    </tr>\n",
       "    <tr>\n",
       "      <th>7</th>\n",
       "      <td>Christopher Mills</td>\n",
       "      <td>\"Persistent executive frame\"</td>\n",
       "      <td>xwillis@gmail.com</td>\n",
       "      <td>464-378-8235x83897</td>\n",
       "      <td>9394 Gill Inlet Suite 716South Dwaynebury, IL ...</td>\n",
       "    </tr>\n",
       "    <tr>\n",
       "      <th>8</th>\n",
       "      <td>Joseph Garza</td>\n",
       "      <td>\"Cross-group encompassing capacity\"</td>\n",
       "      <td>coxvincent@martin.biz</td>\n",
       "      <td>(411)674-7689x81669</td>\n",
       "      <td>9120 David RueSouth Daniel, WA 75480</td>\n",
       "    </tr>\n",
       "    <tr>\n",
       "      <th>9</th>\n",
       "      <td>Barbara Harrell</td>\n",
       "      <td>\"Multi-lateral zero tolerance pricing structure\"</td>\n",
       "      <td>akennedy@gonzalez.com</td>\n",
       "      <td>233-206-7976</td>\n",
       "      <td>086 Le RidgesSanchezfort, PA 97034</td>\n",
       "    </tr>\n",
       "  </tbody>\n",
       "</table>\n",
       "</div>"
      ],
      "text/plain": [
       "                name                                             quote  \\\n",
       "0        Alicia Boyd                     \"Self-enabling neutral model\"   \n",
       "1   Russell Mitchell                 \"Ergonomic grid-enabled capacity\"   \n",
       "2         Juan Adams               \"Multi-tiered leadingedge protocol\"   \n",
       "3     Ronald Blevins                   \"Extended non-volatile ability\"   \n",
       "4     Annette Taylor                   \"Grass-roots explicit strategy\"   \n",
       "5   Michael Atkinson       \"Front-line bandwidth-monitored middleware\"   \n",
       "6       Jason Miller                \"Networked bi-directional archive\"   \n",
       "7  Christopher Mills                      \"Persistent executive frame\"   \n",
       "8       Joseph Garza               \"Cross-group encompassing capacity\"   \n",
       "9    Barbara Harrell  \"Multi-lateral zero tolerance pricing structure\"   \n",
       "\n",
       "                           email                  phone  \\\n",
       "0         huangkevin@hotmail.com           090.767.3956   \n",
       "1      caitlinfields@francis.com        +1-615-412-4880   \n",
       "2       belldana@phelps-kirk.com     (093)127-1374x7525   \n",
       "3          michael35@hotmail.com  +1-816-785-2365x69413   \n",
       "4         jeremy60@middleton.com      070-245-2765x0640   \n",
       "5           vwilkinson@gmail.com             8954594745   \n",
       "6  xtaylor@christensen-lyons.com     186.172.2353x43570   \n",
       "7              xwillis@gmail.com     464-378-8235x83897   \n",
       "8          coxvincent@martin.biz    (411)674-7689x81669   \n",
       "9          akennedy@gonzalez.com           233-206-7976   \n",
       "\n",
       "                                             address  \n",
       "0         58172 Arias ExtensionSouth Randy, KY 34607  \n",
       "1             373 Carolyn PortsSandrashire, NH 74201  \n",
       "2        047 Rhonda Walk Apt. 117Popemouth, IA 96348  \n",
       "3          2314 Nicole RoadNorth Julieberg, GA 19816  \n",
       "4          021 Deborah PlaceLake Jacobberg, OH 95483  \n",
       "5    887 Hawkins Fork Apt. 056New Davidton, OK 52972  \n",
       "6  605 Wallace Bypass Suite 993South Matthew, CA ...  \n",
       "7  9394 Gill Inlet Suite 716South Dwaynebury, IL ...  \n",
       "8               9120 David RueSouth Daniel, WA 75480  \n",
       "9                 086 Le RidgesSanchezfort, PA 97034  "
      ]
     },
     "execution_count": 29,
     "metadata": {},
     "output_type": "execute_result"
    }
   ],
   "source": [
    "# loop through all the persons\n",
    "pd.DataFrame([parse_person(card) for card in cards])"
   ]
  },
  {
   "cell_type": "markdown",
   "metadata": {},
   "source": [
    "## Web Scraping Etiquitte\n",
    "\n",
    "- respect the `robots.txt` file if present\n",
    "\n",
    "    * [Wikipedia: Robots exclusion standard](https://en.wikipedia.org/wiki/Robots_exclusion_standard)\n",
    "    * [robotstxt.org](http://www.robotstxt.org/robotstxt.html)\n",
    "    * [codeup's robots.txt](https://codeup.com/robots.txt)\n",
    "\n",
    "- use a descriptive user agent\n",
    "\n",
    "    ```python\n",
    "    requests.get('http://example.com', headers={'user-agent': 'codeup data science germain cohort'})\n",
    "    ```"
   ]
  },
  {
   "cell_type": "markdown",
   "metadata": {},
   "source": [
    "## Exercises\n",
    "\n",
    "#### Codeup Blog Articles\n",
    "\n",
    "Visit Codeup's Blog(http://codeup.com/blog/) and record the urls for at least 5 distinct blog posts. For each post, you should scrape at least the post's title and content.\n",
    "\n",
    "Encapsulate your work in a function named get_blog_articles that will return a list of dictionaries, with each dictionary representing one article. The shape of each dictionary should look like this:"
   ]
  },
  {
   "cell_type": "code",
   "execution_count": 30,
   "metadata": {},
   "outputs": [],
   "source": [
    "response = requests.get('https://codeup.com/blog/', headers={'user-agent': 'Codeup DS Hopper'})\n",
    "soup = BeautifulSoup(response.text)"
   ]
  },
  {
   "cell_type": "code",
   "execution_count": 31,
   "metadata": {},
   "outputs": [],
   "source": [
    "# print(codeup.prettify)"
   ]
  },
  {
   "cell_type": "code",
   "execution_count": null,
   "metadata": {},
   "outputs": [],
   "source": [
    "<h2 class=\"entry-title\"><a href=\"https://codeup.com/codeup-news/codeup-start-dates-for-march-2022/\">Codeup Start Dates for March 2022</a></h2>"
   ]
  },
  {
   "cell_type": "code",
   "execution_count": 110,
   "metadata": {},
   "outputs": [],
   "source": [
    "articles = soup.find_all('h2', class_ = 'entry-title')\n",
    "# articles"
   ]
  },
  {
   "cell_type": "code",
   "execution_count": 70,
   "metadata": {},
   "outputs": [
    {
     "data": {
      "text/plain": [
       "<h2 class=\"entry-title\"><a href=\"https://codeup.com/codeup-news/codeup-start-dates-for-march-2022/\">Codeup Start Dates for March 2022</a></h2>"
      ]
     },
     "execution_count": 70,
     "metadata": {},
     "output_type": "execute_result"
    }
   ],
   "source": [
    "articles[0]"
   ]
  },
  {
   "cell_type": "code",
   "execution_count": 71,
   "metadata": {},
   "outputs": [
    {
     "data": {
      "text/plain": [
       "<h2 class=\"entry-title\"><a href=\"https://codeup.com/codeup-news/codeup-start-dates-for-march-2022/\">Codeup Start Dates for March 2022</a></h2>"
      ]
     },
     "execution_count": 71,
     "metadata": {},
     "output_type": "execute_result"
    }
   ],
   "source": [
    "article = articles[0]\n",
    "article"
   ]
  },
  {
   "cell_type": "code",
   "execution_count": 72,
   "metadata": {},
   "outputs": [
    {
     "data": {
      "text/plain": [
       "'Codeup Start Dates for March 2022'"
      ]
     },
     "execution_count": 72,
     "metadata": {},
     "output_type": "execute_result"
    }
   ],
   "source": [
    "title = article.text\n",
    "title"
   ]
  },
  {
   "cell_type": "code",
   "execution_count": 73,
   "metadata": {
    "scrolled": true
   },
   "outputs": [
    {
     "data": {
      "text/plain": [
       "<h2 class=\"entry-title\"><a href=\"https://codeup.com/codeup-news/codeup-start-dates-for-march-2022/\">Codeup Start Dates for March 2022</a></h2>"
      ]
     },
     "execution_count": 73,
     "metadata": {},
     "output_type": "execute_result"
    }
   ],
   "source": [
    "article"
   ]
  },
  {
   "cell_type": "code",
   "execution_count": 109,
   "metadata": {},
   "outputs": [
    {
     "data": {
      "text/plain": [
       "'https://codeup.com/codeup-news/codeup-start-dates-for-march-2022/'"
      ]
     },
     "execution_count": 109,
     "metadata": {},
     "output_type": "execute_result"
    }
   ],
   "source": [
    "link = article.a.attrs['href']\n",
    "link"
   ]
  },
  {
   "cell_type": "code",
   "execution_count": 150,
   "metadata": {},
   "outputs": [],
   "source": [
    "article_response = requests.get(link, headers={'user-agent': 'Codeup DS Hopper'})\n",
    "article_soup = BeautifulSoup(article_response.text)\n",
    "# article_soup"
   ]
  },
  {
   "cell_type": "code",
   "execution_count": 145,
   "metadata": {},
   "outputs": [],
   "source": [
    "article_content = [p.text for p in article_soup.find_all('p')]"
   ]
  },
  {
   "cell_type": "code",
   "execution_count": 149,
   "metadata": {},
   "outputs": [
    {
     "data": {
      "text/plain": [
       "['Jan 26, 2022 | Codeup News',\n",
       " 'As we approach the end of January we wanted to look forward to our next start dates for all of our current programs.',\n",
       " 'Full Stack Web Development is the first program we built and also our most popular. You’ve asked and we listened! Our next Web Development cohort will start on 3/7/2022 and is ENTIRELY VIRTUAL! THESE SEATS WILL GO FAST!',\n",
       " 'As one of the most in-demand jobs in the country, software and web development is the tech career with the newest jobs. In the U.S., there’s:',\n",
       " '\\xa0',\n",
       " 'Our first new Data Science class of 2022 starts Monday 3/22/2022 at our downtown campus at the Vogue building.',\n",
       " 'Why consider pivoting careers to Data Science?',\n",
       " 'The supply of data scientists remains painfully low compared to the outrageous demand. YOU can help close the gap while launching a fulfilling, secure, and high-paying career – one of the very best in the country!',\n",
       " 'Employers are scrambling to find talent due to a lack of qualified applicants. YOU can help fill the gap while future-proofing your skillset. Have the flexibility, security, and salary that you’ve always wanted in a career.',\n",
       " 'Are you ready to launch your career in tech? Apply today so our admissions team can save your seat and get your name on the list. Our application can be found here.\\xa0',\n",
       " 'Want to experience Codeup early? Join one of our workshops to get an intro to a specific coding language, learn about our financing options, or maybe even code yourself a resume! All of our events can be located here.\\xa0',\n",
       " 'We can’t wait to help you launch your career in tech!',\n",
       " '',\n",
       " '',\n",
       " '',\n",
       " 'Submit your email address to gain access to more information about our programs, financial aid, and benefits. We may even send you some free swag!',\n",
       " '(210) 802–7289',\n",
       " 'Why Codeup? Financial Aid Options Student Reviews Employers Refund PolicyFAQsCareersMedia Kit',\n",
       " 'Full Stack Web Development Data ScienceIT / Systems Engineering Free Networking Course']"
      ]
     },
     "execution_count": 149,
     "metadata": {},
     "output_type": "execute_result"
    }
   ],
   "source": [
    "article_content"
   ]
  },
  {
   "cell_type": "code",
   "execution_count": null,
   "metadata": {},
   "outputs": [],
   "source": []
  },
  {
   "cell_type": "code",
   "execution_count": null,
   "metadata": {},
   "outputs": [],
   "source": []
  },
  {
   "cell_type": "code",
   "execution_count": null,
   "metadata": {},
   "outputs": [],
   "source": []
  },
  {
   "cell_type": "markdown",
   "metadata": {},
   "source": [
    "## the below is returning the same \"content\" for every title"
   ]
  },
  {
   "cell_type": "code",
   "execution_count": 78,
   "metadata": {},
   "outputs": [
    {
     "data": {
      "text/plain": [
       "<div class=\"post-content\"><div class=\"post-content-inner\"><p>As we approach the end of January we wanted to look forward to our next start dates for all of our current programs....</p>\n",
       "</div></div>"
      ]
     },
     "execution_count": 78,
     "metadata": {},
     "output_type": "execute_result"
    }
   ],
   "source": [
    "# # for content:\n",
    "# summaries = soup.find_all('div',class_=\"post-content\")\n",
    "# summaries[0]"
   ]
  },
  {
   "cell_type": "code",
   "execution_count": 84,
   "metadata": {
    "scrolled": true
   },
   "outputs": [
    {
     "data": {
      "text/plain": [
       "'As we approach the end of January we wanted to look forward to our next start dates for all of our current programs....'"
      ]
     },
     "execution_count": 84,
     "metadata": {},
     "output_type": "execute_result"
    }
   ],
   "source": [
    "# summary = summaries[0].text.strip()\n",
    "# summary"
   ]
  },
  {
   "cell_type": "code",
   "execution_count": 151,
   "metadata": {},
   "outputs": [],
   "source": [
    "def get_blog_articles(article):\n",
    "    response = requests.get('https://codeup.com/blog/', headers={'user-agent': 'Codeup DS Hopper'})\n",
    "    soup = BeautifulSoup(response.text)\n",
    "    articles = soup.find_all('h2', class_ = 'entry-title')\n",
    "    title = article.text\n",
    "    link = article.a.attrs['href']\n",
    "    article_response = requests.get(link, headers={'user-agent': 'Codeup DS Hopper'})\n",
    "    article_soup = BeautifulSoup(article_response.text)\n",
    "    article_content = [p.text for p in article_soup.find_all('p')]\n",
    "\n",
    "    \n",
    "    return {\n",
    "        'title': title, 'article_content': article_content\n",
    "    }"
   ]
  },
  {
   "cell_type": "code",
   "execution_count": 153,
   "metadata": {},
   "outputs": [],
   "source": [
    "codeup_blog_posts = pd.DataFrame([get_blog_articles(article) for article in articles])"
   ]
  },
  {
   "cell_type": "code",
   "execution_count": 154,
   "metadata": {},
   "outputs": [
    {
     "data": {
      "text/html": [
       "<div>\n",
       "<style scoped>\n",
       "    .dataframe tbody tr th:only-of-type {\n",
       "        vertical-align: middle;\n",
       "    }\n",
       "\n",
       "    .dataframe tbody tr th {\n",
       "        vertical-align: top;\n",
       "    }\n",
       "\n",
       "    .dataframe thead th {\n",
       "        text-align: right;\n",
       "    }\n",
       "</style>\n",
       "<table border=\"1\" class=\"dataframe\">\n",
       "  <thead>\n",
       "    <tr style=\"text-align: right;\">\n",
       "      <th></th>\n",
       "      <th>title</th>\n",
       "      <th>article_content</th>\n",
       "    </tr>\n",
       "  </thead>\n",
       "  <tbody>\n",
       "    <tr>\n",
       "      <th>0</th>\n",
       "      <td>Codeup Start Dates for March 2022</td>\n",
       "      <td>[Jan 26, 2022 | Codeup News, As we approach th...</td>\n",
       "    </tr>\n",
       "    <tr>\n",
       "      <th>1</th>\n",
       "      <td>VET TEC Funding Now Available For Dallas Veterans</td>\n",
       "      <td>[Jan 7, 2022 | Codeup News, Dallas Newsletter,...</td>\n",
       "    </tr>\n",
       "    <tr>\n",
       "      <th>2</th>\n",
       "      <td>Dallas Campus Re-opens With New Grant Partner</td>\n",
       "      <td>[Dec 30, 2021 | Codeup News, Featured, We are ...</td>\n",
       "    </tr>\n",
       "    <tr>\n",
       "      <th>3</th>\n",
       "      <td>Codeup Dallas Open House</td>\n",
       "      <td>[Nov 30, 2021 | Dallas Newsletter, Events, Com...</td>\n",
       "    </tr>\n",
       "    <tr>\n",
       "      <th>4</th>\n",
       "      <td>Codeup’s Placement Team Continues Setting Records</td>\n",
       "      <td>[Nov 19, 2021 | Codeup News, Employers, Who ex...</td>\n",
       "    </tr>\n",
       "    <tr>\n",
       "      <th>5</th>\n",
       "      <td>IT Certifications 101: Why They Matter, and Wh...</td>\n",
       "      <td>[Nov 18, 2021 | IT Training, Tips for Prospect...</td>\n",
       "    </tr>\n",
       "    <tr>\n",
       "      <th>6</th>\n",
       "      <td>A rise in cyber attacks means opportunities fo...</td>\n",
       "      <td>[Nov 17, 2021 | Cybersecurity, In the last few...</td>\n",
       "    </tr>\n",
       "    <tr>\n",
       "      <th>7</th>\n",
       "      <td>Use your GI Bill® benefits to Land a Job in Tech</td>\n",
       "      <td>[Nov 4, 2021 | Codeup News, Tips for Prospecti...</td>\n",
       "    </tr>\n",
       "    <tr>\n",
       "      <th>8</th>\n",
       "      <td>Which program is right for me: Cyber Security ...</td>\n",
       "      <td>[Oct 28, 2021 | IT Training, Tips for Prospect...</td>\n",
       "    </tr>\n",
       "    <tr>\n",
       "      <th>9</th>\n",
       "      <td>What the Heck is System Engineering?</td>\n",
       "      <td>[Oct 21, 2021 | IT Training, Tips for Prospect...</td>\n",
       "    </tr>\n",
       "    <tr>\n",
       "      <th>10</th>\n",
       "      <td>From Speech Pathology to Business Intelligence</td>\n",
       "      <td>[Oct 18, 2021 | Alumni Stories, Before Codeup,...</td>\n",
       "    </tr>\n",
       "    <tr>\n",
       "      <th>11</th>\n",
       "      <td>Boris – Behind the Billboards</td>\n",
       "      <td>[Oct 3, 2021 | Behind the Billboards, \\n, , , ...</td>\n",
       "    </tr>\n",
       "    <tr>\n",
       "      <th>12</th>\n",
       "      <td>Is Codeup the Best Bootcamp in San Antonio…or ...</td>\n",
       "      <td>[Sep 16, 2021 | Codeup News, Featured, Looking...</td>\n",
       "    </tr>\n",
       "    <tr>\n",
       "      <th>13</th>\n",
       "      <td>Codeup Launches First Podcast: Hire Tech</td>\n",
       "      <td>[Aug 25, 2021 | Codeup News, Featured, Any pod...</td>\n",
       "    </tr>\n",
       "    <tr>\n",
       "      <th>14</th>\n",
       "      <td>Why Should I Become a System Administrator?</td>\n",
       "      <td>[Aug 23, 2021 | IT Training, Tips for Prospect...</td>\n",
       "    </tr>\n",
       "    <tr>\n",
       "      <th>15</th>\n",
       "      <td>Announcing our Candidacy for Accreditation!</td>\n",
       "      <td>[Jun 30, 2021 | Codeup News, Did you know that...</td>\n",
       "    </tr>\n",
       "    <tr>\n",
       "      <th>16</th>\n",
       "      <td>Codeup Takes Over More of the Historic Vogue B...</td>\n",
       "      <td>[Jun 21, 2021 | Codeup News, Featured, Codeup ...</td>\n",
       "    </tr>\n",
       "    <tr>\n",
       "      <th>17</th>\n",
       "      <td>Inclusion at Codeup During Pride Month (and Al...</td>\n",
       "      <td>[Jun 4, 2021 | Codeup News, Happy Pride Month!...</td>\n",
       "    </tr>\n",
       "  </tbody>\n",
       "</table>\n",
       "</div>"
      ],
      "text/plain": [
       "                                                title  \\\n",
       "0                   Codeup Start Dates for March 2022   \n",
       "1   VET TEC Funding Now Available For Dallas Veterans   \n",
       "2       Dallas Campus Re-opens With New Grant Partner   \n",
       "3                            Codeup Dallas Open House   \n",
       "4   Codeup’s Placement Team Continues Setting Records   \n",
       "5   IT Certifications 101: Why They Matter, and Wh...   \n",
       "6   A rise in cyber attacks means opportunities fo...   \n",
       "7    Use your GI Bill® benefits to Land a Job in Tech   \n",
       "8   Which program is right for me: Cyber Security ...   \n",
       "9                What the Heck is System Engineering?   \n",
       "10     From Speech Pathology to Business Intelligence   \n",
       "11                      Boris – Behind the Billboards   \n",
       "12  Is Codeup the Best Bootcamp in San Antonio…or ...   \n",
       "13           Codeup Launches First Podcast: Hire Tech   \n",
       "14        Why Should I Become a System Administrator?   \n",
       "15        Announcing our Candidacy for Accreditation!   \n",
       "16  Codeup Takes Over More of the Historic Vogue B...   \n",
       "17  Inclusion at Codeup During Pride Month (and Al...   \n",
       "\n",
       "                                      article_content  \n",
       "0   [Jan 26, 2022 | Codeup News, As we approach th...  \n",
       "1   [Jan 7, 2022 | Codeup News, Dallas Newsletter,...  \n",
       "2   [Dec 30, 2021 | Codeup News, Featured, We are ...  \n",
       "3   [Nov 30, 2021 | Dallas Newsletter, Events, Com...  \n",
       "4   [Nov 19, 2021 | Codeup News, Employers, Who ex...  \n",
       "5   [Nov 18, 2021 | IT Training, Tips for Prospect...  \n",
       "6   [Nov 17, 2021 | Cybersecurity, In the last few...  \n",
       "7   [Nov 4, 2021 | Codeup News, Tips for Prospecti...  \n",
       "8   [Oct 28, 2021 | IT Training, Tips for Prospect...  \n",
       "9   [Oct 21, 2021 | IT Training, Tips for Prospect...  \n",
       "10  [Oct 18, 2021 | Alumni Stories, Before Codeup,...  \n",
       "11  [Oct 3, 2021 | Behind the Billboards, \\n, , , ...  \n",
       "12  [Sep 16, 2021 | Codeup News, Featured, Looking...  \n",
       "13  [Aug 25, 2021 | Codeup News, Featured, Any pod...  \n",
       "14  [Aug 23, 2021 | IT Training, Tips for Prospect...  \n",
       "15  [Jun 30, 2021 | Codeup News, Did you know that...  \n",
       "16  [Jun 21, 2021 | Codeup News, Featured, Codeup ...  \n",
       "17  [Jun 4, 2021 | Codeup News, Happy Pride Month!...  "
      ]
     },
     "execution_count": 154,
     "metadata": {},
     "output_type": "execute_result"
    }
   ],
   "source": [
    "codeup_blog_posts"
   ]
  },
  {
   "cell_type": "code",
   "execution_count": 155,
   "metadata": {},
   "outputs": [
    {
     "data": {
      "text/plain": [
       "['Jan 26, 2022 | Codeup News',\n",
       " 'As we approach the end of January we wanted to look forward to our next start dates for all of our current programs.',\n",
       " 'Full Stack Web Development is the first program we built and also our most popular. You’ve asked and we listened! Our next Web Development cohort will start on 3/7/2022 and is ENTIRELY VIRTUAL! THESE SEATS WILL GO FAST!',\n",
       " 'As one of the most in-demand jobs in the country, software and web development is the tech career with the newest jobs. In the U.S., there’s:',\n",
       " '\\xa0',\n",
       " 'Our first new Data Science class of 2022 starts Monday 3/22/2022 at our downtown campus at the Vogue building.',\n",
       " 'Why consider pivoting careers to Data Science?',\n",
       " 'The supply of data scientists remains painfully low compared to the outrageous demand. YOU can help close the gap while launching a fulfilling, secure, and high-paying career – one of the very best in the country!',\n",
       " 'Employers are scrambling to find talent due to a lack of qualified applicants. YOU can help fill the gap while future-proofing your skillset. Have the flexibility, security, and salary that you’ve always wanted in a career.',\n",
       " 'Are you ready to launch your career in tech? Apply today so our admissions team can save your seat and get your name on the list. Our application can be found here.\\xa0',\n",
       " 'Want to experience Codeup early? Join one of our workshops to get an intro to a specific coding language, learn about our financing options, or maybe even code yourself a resume! All of our events can be located here.\\xa0',\n",
       " 'We can’t wait to help you launch your career in tech!',\n",
       " '',\n",
       " '',\n",
       " '',\n",
       " 'Submit your email address to gain access to more information about our programs, financial aid, and benefits. We may even send you some free swag!',\n",
       " '(210) 802–7289',\n",
       " 'Why Codeup? Financial Aid Options Student Reviews Employers Refund PolicyFAQsCareersMedia Kit',\n",
       " 'Full Stack Web Development Data ScienceIT / Systems Engineering Free Networking Course']"
      ]
     },
     "execution_count": 155,
     "metadata": {},
     "output_type": "execute_result"
    }
   ],
   "source": [
    "codeup_blog_posts.article_content[0]"
   ]
  },
  {
   "cell_type": "markdown",
   "metadata": {},
   "source": [
    "### Cracked it : )"
   ]
  },
  {
   "cell_type": "markdown",
   "metadata": {},
   "source": [
    "# News Articles\n",
    "\n",
    "We will now be scraping text data from inshorts, a website that provides a brief overview of many different topics.\n",
    "\n",
    "Write a function that scrapes the news articles for the following topics:\n",
    "\n",
    "- Business\n",
    "- Sports\n",
    "- Technology\n",
    "- Entertainment\n",
    "\n",
    "The end product of this should be a function named get_news_articles that returns a list of dictionaries, where each dictionary has this shape:\n",
    "\n",
    "\n",
    "`\n",
    "{\n",
    "    'title': 'The article title',\n",
    "    'content': 'The article content',\n",
    "    'category': 'business' # for example\n",
    "}\n",
    "`"
   ]
  },
  {
   "cell_type": "code",
   "execution_count": 189,
   "metadata": {},
   "outputs": [],
   "source": [
    "base_url = 'https://inshorts.com'\n",
    "section_links = [\"/en/read/business\",\"/en/read/sports\",\"/en/read/technology\",\"/en/read/entertainment\"]\n",
    "response = requests.get(base_url + '/en/read', headers={'user-agent': 'ds_student'})\n",
    "soup = BeautifulSoup(response.text)\n"
   ]
  },
  {
   "cell_type": "code",
   "execution_count": 190,
   "metadata": {},
   "outputs": [
    {
     "data": {
      "text/plain": [
       "<Response [200]>"
      ]
     },
     "execution_count": 190,
     "metadata": {},
     "output_type": "execute_result"
    }
   ],
   "source": [
    "response"
   ]
  },
  {
   "cell_type": "code",
   "execution_count": 191,
   "metadata": {},
   "outputs": [
    {
     "data": {
      "text/plain": [
       "[<li class=\"active-category selected\">All News</li>,\n",
       " <li class=\"active-category\">India</li>,\n",
       " <li class=\"active-category\">Business</li>,\n",
       " <li class=\"active-category\">Sports</li>,\n",
       " <li class=\"active-category\">World</li>,\n",
       " <li class=\"active-category\">Politics</li>,\n",
       " <li class=\"active-category\">Technology</li>,\n",
       " <li class=\"active-category\">Startup</li>,\n",
       " <li class=\"active-category\">Entertainment</li>,\n",
       " <li class=\"active-category\">Miscellaneous</li>,\n",
       " <li class=\"active-category\">Hatke</li>,\n",
       " <li class=\"active-category\">Science</li>,\n",
       " <li class=\"active-category\">Automobile</li>]"
      ]
     },
     "execution_count": 191,
     "metadata": {},
     "output_type": "execute_result"
    }
   ],
   "source": [
    "soup.find_all(class_ = 'active-category')"
   ]
  },
  {
   "cell_type": "code",
   "execution_count": 192,
   "metadata": {},
   "outputs": [],
   "source": [
    "temp = soup.find_all('ul')"
   ]
  },
  {
   "cell_type": "code",
   "execution_count": 214,
   "metadata": {
    "scrolled": true
   },
   "outputs": [
    {
     "data": {
      "text/plain": [
       "{'class': ['category-list']}"
      ]
     },
     "execution_count": 214,
     "metadata": {},
     "output_type": "execute_result"
    }
   ],
   "source": [
    "soup.ul.attrs"
   ]
  },
  {
   "cell_type": "code",
   "execution_count": 219,
   "metadata": {},
   "outputs": [],
   "source": [
    "temp2 = soup.ul.find_all('a')"
   ]
  },
  {
   "cell_type": "code",
   "execution_count": 220,
   "metadata": {},
   "outputs": [
    {
     "data": {
      "text/plain": [
       "[<a href=\"/en/read\" onclick=\"track_GA_Mixpanel({'hitType': 'event', 'category': 'LinkToAllNews', 'action': 'clicked', 'label': 'RedirectedToAllNews' });\"> <li class=\"active-category selected\">All News</li> </a>,\n",
       " <a href=\"/en/read/national\" onclick=\"track_GA_Mixpanel({'hitType': 'event', 'category': 'LinkToIndiaNews', 'action': 'clicked', 'label': 'RedirectedToIndiaNews' });\"> <li class=\"active-category\">India</li> </a>,\n",
       " <a href=\"/en/read/business\" onclick=\"track_GA_Mixpanel({'hitType': 'event', 'category': 'LinkToBusinessNews', 'action': 'clicked', 'label':  'RedirectedToBusinessNews' });\"> <li class=\"active-category\">Business</li> </a>,\n",
       " <a href=\"/en/read/sports\" onclick=\"track_GA_Mixpanel({'hitType': 'event', 'category': 'LinkTosportsNews', 'action': 'clicked', 'label': 'RedirectedToSportsNews' });\"> <li class=\"active-category\">Sports</li> </a>,\n",
       " <a href=\"/en/read/world\" onclick=\"track_GA_Mixpanel({'hitType': 'event', 'category': 'LinkToworldNews', 'action': 'clicked', 'label': 'RedirectedToworldNews' });\"> <li class=\"active-category\">World</li> </a>,\n",
       " <a href=\"/en/read/politics\" onclick=\"track_GA_Mixpanel({'hitType': 'event', 'category': 'LinkToworldNews', 'action': 'clicked',   'label': 'RedirectedToworldNews' });\"> <li class=\"active-category\">Politics</li> </a>,\n",
       " <a href=\"/en/read/technology\" onclick=\"track_GA_Mixpanel({'hitType': 'event', 'category': 'LinkTotechnologyNews', 'action': 'clicked', 'label': 'RedirectedTotechnologyNews' });\"> <li class=\"active-category\">Technology</li> </a>,\n",
       " <a href=\"/en/read/startup\" onclick=\"track_GA_Mixpanel({'hitType': 'event', 'category': 'LinkTostartupNews', 'action': 'clicked', 'label': 'RedirectedTostartupNews' });\"> <li class=\"active-category\">Startup</li> </a>,\n",
       " <a href=\"/en/read/entertainment\" onclick=\"track_GA_Mixpanel({'hitType': 'event', 'category': 'LinkToEntertainmentNews', 'action': 'clicked', 'label': 'RedirectedToEntertainmentNews' });\"> <li class=\"active-category\">Entertainment</li> </a>,\n",
       " <a href=\"/en/read/miscellaneous\" onclick=\"track_GA_Mixpanel({'hitType': 'event', 'category': 'LinkToMiscellaneousNews', 'action': 'clicked', 'label': 'RedirectedToMiscellaneousNews' });\"> <li class=\"active-category\">Miscellaneous</li> </a>,\n",
       " <a href=\"/en/read/hatke\" onclick=\"track_GA_Mixpanel({'hitType': 'event', 'category': 'LinkTohatkeNews', 'action': 'clicked', 'label': 'RedirectedTohatkeNews' });\"> <li class=\"active-category\">Hatke</li> </a>,\n",
       " <a href=\"/en/read/science\" onclick=\"track_GA_Mixpanel({'hitType': 'event', 'category': 'LinkToscienceNews', 'action': 'clicked', 'label': 'RedirectedToscienceNews' });\"> <li class=\"active-category\">Science</li> </a>,\n",
       " <a href=\"/en/read/automobile\" onclick=\"track_GA_Mixpanel({'hitType': 'event', 'category': 'LinkToautomobileNews', 'action': 'clicked', 'label': 'RedirectedToautomobileNews' });\"> <li class=\"active-category\">Automobile</li> </a>]"
      ]
     },
     "execution_count": 220,
     "metadata": {},
     "output_type": "execute_result"
    }
   ],
   "source": [
    "temp2"
   ]
  },
  {
   "cell_type": "code",
   "execution_count": 221,
   "metadata": {
    "scrolled": true
   },
   "outputs": [
    {
     "data": {
      "text/plain": [
       "<a href=\"/en/read/business\" onclick=\"track_GA_Mixpanel({'hitType': 'event', 'category': 'LinkToBusinessNews', 'action': 'clicked', 'label':  'RedirectedToBusinessNews' });\"> <li class=\"active-category\">Business</li> </a>"
      ]
     },
     "execution_count": 221,
     "metadata": {},
     "output_type": "execute_result"
    }
   ],
   "source": [
    "temp2[2]"
   ]
  },
  {
   "cell_type": "code",
   "execution_count": 228,
   "metadata": {},
   "outputs": [],
   "source": [
    "temp3 = soup.ul.find_all('a')"
   ]
  },
  {
   "cell_type": "code",
   "execution_count": null,
   "metadata": {},
   "outputs": [],
   "source": []
  },
  {
   "cell_type": "code",
   "execution_count": 232,
   "metadata": {
    "scrolled": true
   },
   "outputs": [
    {
     "data": {
      "text/plain": [
       "[<a href=\"/en/read\" onclick=\"track_GA_Mixpanel({'hitType': 'event', 'category': 'LinkToAllNews', 'action': 'clicked', 'label': 'RedirectedToAllNews' });\"> <li class=\"active-category selected\">All News</li> </a>,\n",
       " <a href=\"/en/read/national\" onclick=\"track_GA_Mixpanel({'hitType': 'event', 'category': 'LinkToIndiaNews', 'action': 'clicked', 'label': 'RedirectedToIndiaNews' });\"> <li class=\"active-category\">India</li> </a>,\n",
       " <a href=\"/en/read/business\" onclick=\"track_GA_Mixpanel({'hitType': 'event', 'category': 'LinkToBusinessNews', 'action': 'clicked', 'label':  'RedirectedToBusinessNews' });\"> <li class=\"active-category\">Business</li> </a>,\n",
       " <a href=\"/en/read/sports\" onclick=\"track_GA_Mixpanel({'hitType': 'event', 'category': 'LinkTosportsNews', 'action': 'clicked', 'label': 'RedirectedToSportsNews' });\"> <li class=\"active-category\">Sports</li> </a>,\n",
       " <a href=\"/en/read/world\" onclick=\"track_GA_Mixpanel({'hitType': 'event', 'category': 'LinkToworldNews', 'action': 'clicked', 'label': 'RedirectedToworldNews' });\"> <li class=\"active-category\">World</li> </a>,\n",
       " <a href=\"/en/read/politics\" onclick=\"track_GA_Mixpanel({'hitType': 'event', 'category': 'LinkToworldNews', 'action': 'clicked',   'label': 'RedirectedToworldNews' });\"> <li class=\"active-category\">Politics</li> </a>,\n",
       " <a href=\"/en/read/technology\" onclick=\"track_GA_Mixpanel({'hitType': 'event', 'category': 'LinkTotechnologyNews', 'action': 'clicked', 'label': 'RedirectedTotechnologyNews' });\"> <li class=\"active-category\">Technology</li> </a>,\n",
       " <a href=\"/en/read/startup\" onclick=\"track_GA_Mixpanel({'hitType': 'event', 'category': 'LinkTostartupNews', 'action': 'clicked', 'label': 'RedirectedTostartupNews' });\"> <li class=\"active-category\">Startup</li> </a>,\n",
       " <a href=\"/en/read/entertainment\" onclick=\"track_GA_Mixpanel({'hitType': 'event', 'category': 'LinkToEntertainmentNews', 'action': 'clicked', 'label': 'RedirectedToEntertainmentNews' });\"> <li class=\"active-category\">Entertainment</li> </a>,\n",
       " <a href=\"/en/read/miscellaneous\" onclick=\"track_GA_Mixpanel({'hitType': 'event', 'category': 'LinkToMiscellaneousNews', 'action': 'clicked', 'label': 'RedirectedToMiscellaneousNews' });\"> <li class=\"active-category\">Miscellaneous</li> </a>,\n",
       " <a href=\"/en/read/hatke\" onclick=\"track_GA_Mixpanel({'hitType': 'event', 'category': 'LinkTohatkeNews', 'action': 'clicked', 'label': 'RedirectedTohatkeNews' });\"> <li class=\"active-category\">Hatke</li> </a>,\n",
       " <a href=\"/en/read/science\" onclick=\"track_GA_Mixpanel({'hitType': 'event', 'category': 'LinkToscienceNews', 'action': 'clicked', 'label': 'RedirectedToscienceNews' });\"> <li class=\"active-category\">Science</li> </a>,\n",
       " <a href=\"/en/read/automobile\" onclick=\"track_GA_Mixpanel({'hitType': 'event', 'category': 'LinkToautomobileNews', 'action': 'clicked', 'label': 'RedirectedToautomobileNews' });\"> <li class=\"active-category\">Automobile</li> </a>]"
      ]
     },
     "execution_count": 232,
     "metadata": {},
     "output_type": "execute_result"
    }
   ],
   "source": [
    "temp3"
   ]
  },
  {
   "cell_type": "markdown",
   "metadata": {},
   "source": [
    "### might need to come back to this and try an easier approach--for example, just break down the section page instead of trying to access through the main page"
   ]
  },
  {
   "cell_type": "code",
   "execution_count": null,
   "metadata": {},
   "outputs": [],
   "source": []
  }
 ],
 "metadata": {
  "interpreter": {
   "hash": "38cca0c38332a56087b24af0bc80247f4fced29cb4f7f437d91dc159adec9c4e"
  },
  "kernelspec": {
   "display_name": "Python 3",
   "language": "python",
   "name": "python3"
  },
  "language_info": {
   "codemirror_mode": {
    "name": "ipython",
    "version": 3
   },
   "file_extension": ".py",
   "mimetype": "text/x-python",
   "name": "python",
   "nbconvert_exporter": "python",
   "pygments_lexer": "ipython3",
   "version": "3.8.8"
  }
 },
 "nbformat": 4,
 "nbformat_minor": 4
}
