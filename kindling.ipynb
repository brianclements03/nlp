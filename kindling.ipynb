{
 "cells": [
  {
   "cell_type": "markdown",
   "id": "9283fa46",
   "metadata": {},
   "source": [
    "# Meet Regular Expressions\n",
    "\n",
    "## What?\n",
    "- Regular expressions (called regexes or regex patterns) are a tiny language for dealing with text and character patterns.\n",
    "- With RegEx patterns we can:\n",
    "    - Does this string match a pattern?\n",
    "    - Is there a match for the pattern anywhere in the string?\n",
    "    - Modify + split strings in various ways\n",
    "    \n",
    "re library functions\n",
    "- `re.search` scans through a string, looking for any location where the RE matches.\n",
    "- `re.findall` Finds all substrings where the RE matches; returns a list.\n",
    "- `re.split` splits a string on a given regex pattern, removing that pattern. The result is a list of a strings.\n",
    "- `re.sub` allows us to match a regex and substitute in a new substring for the match.\n",
    "\n",
    "\n",
    "## So What?\n",
    "- Power + precision\n",
    "    - Cost is learning something new and potentially unfamiliar.\n",
    "    - Payoff is a language that works with any other programming language to operate on text and character patterns.\n",
    "- Regular Expressions are cross platform and available in many programming languages and environments:\n",
    "    - Command line tools (Linux, Windows, Mac, etc...)\n",
    "    - Python\n",
    "    - SQL flavors offer RegEx\n",
    "    - Java (Scala/Clojure)\n",
    "    - Other languages like Julia, Ruby, PHP, C#, etc...\n",
    "    - Like SQL, there are differences between some of the different RegEx implementations, but if you know your RegEx, you can bring value in many environments.\n",
    "\n",
    "## When is Regex the right tool?\n",
    "- if you can solve the problem with built in string methods\n",
    "- if you need more capability than the built in methods\n",
    "- if you're parsing HTML, JSON, or XL, use a tool built for those formats\n",
    "\n",
    "## Now What?\n",
    "- We'll start simple by writing regex patterns to match literal characters.\n",
    "- Then we will introduce metacharacters, that have special meaning and functionality.\n",
    "- \n",
    "\n",
    "## Key Concepts\n",
    "- The RegEx metacharacters `. ^ $ * + ? { } [ ] \\ | ( )` have special meanings. \n",
    "- Square brackets create a \"character class\". \n",
    "    - Character classes allow us to specify many OR operations\n",
    "    - For example, `r\"[aeiou]\"` matches any lowercase vowel character. Identical to `r\"a|e|i|o|u\"`\n",
    "    - `r\"[a-z]\"` matches lowercase a through z.\n",
    "- Metacharacters are not active inside of the character class square brackets `[]`\n",
    "- Outside of the character class `[]`, if you need to match a metacharacter character literally, you will need to put a `\\` in front of that character. `r\"\\+\"` will match the literal `+` character.\n",
    "- RegEx has characters for special sequences:\n",
    "    - `\\d` matches any decimal. Is equivalent to `[0-9]`\n",
    "    - `\\D` matches any non-digit character and is equivalent to `[^0-9]`. \n",
    "    - `\\s` matches any white space like ` `, tab, soft return, new line etc...\n",
    "    - `\\w` matches any alphanumeric character and underscore. Equivalent to `[0-9a-zA-Z_]`\n",
    "    - `\\W` matches any non-alphanumeric character. Equivalent to `[^a-zA-Z0-9_]`\n",
    "- `.` Matches any character\n",
    "- Repetition:\n",
    "    - `*` matches zero or more of the previous pattern\n",
    "    - `+` matches 1 or more of the previous pattern\n",
    "- `?` after a pattern means that pattern is optional\n",
    "- Not - [^abc] matches anything but\n",
    "- Anchors\n",
    "    - `^` start\n",
    "    - `$` end\n",
    "    - `\\b` word boundary\n",
    "- Groups\n",
    "    - `(a)`\n",
    "\n",
    "## How Deep Does RegEx go?\n",
    "- For challenging strings to match, like email addresses, recommend using pre-built RegEx specifications like  the HTML specification at https://html.spec.whatwg.org/multipage/forms.html#valid-e-mail-address\n",
    "- With known, good, and proven RegEx patterns like these, you don't need to reinvent things.\n",
    "- ```r\"^[a-zA-Z0-9.!#$%&'*+/=?^_`{|}~-]+@[a-zA-Z0-9](?:[a-zA-Z0-9-]{0,61}[a-zA-Z0-9])?(?:\\.[a-zA-Z0-9](?:[a-zA-Z0-9-]{0,61}[a-zA-Z0-9])?)*$\"```"
   ]
  },
  {
   "cell_type": "code",
   "execution_count": 1,
   "id": "fdb0df63",
   "metadata": {},
   "outputs": [],
   "source": [
    "import re"
   ]
  },
  {
   "cell_type": "markdown",
   "id": "37b0cde5",
   "metadata": {},
   "source": [
    "re.#tab here to see all your options"
   ]
  },
  {
   "cell_type": "markdown",
   "id": "935082af",
   "metadata": {},
   "source": [
    "### Patterns to Match Literals \n",
    "> Crawl before you walk"
   ]
  },
  {
   "cell_type": "code",
   "execution_count": 3,
   "id": "f795d9a2",
   "metadata": {
    "scrolled": true
   },
   "outputs": [
    {
     "data": {
      "text/plain": [
       "'Two households, both alike in dignity, In fair Verona, where we lay our scene, From ancient grudge break to new mutiny, Where civil blood makes civil hands unclean.'"
      ]
     },
     "execution_count": 3,
     "metadata": {},
     "output_type": "execute_result"
    }
   ],
   "source": [
    "string = \"Two households, both alike in dignity, In fair Verona, where we lay our scene, From ancient grudge break to new mutiny, Where civil blood makes civil hands unclean.\"\n",
    "string"
   ]
  },
  {
   "cell_type": "code",
   "execution_count": 5,
   "id": "ddfcd68e",
   "metadata": {},
   "outputs": [
    {
     "data": {
      "text/plain": [
       "<re.Match object; span=(47, 53), match='Verona'>"
      ]
     },
     "execution_count": 5,
     "metadata": {},
     "output_type": "execute_result"
    }
   ],
   "source": [
    "# We can search for a literal match of the string Verona\n",
    "# re.search(r\"pattern\",\"our subject\")\n",
    "x = re.search(r\"Verona\", string)\n",
    "x\n",
    "# returns a 'match' object"
   ]
  },
  {
   "cell_type": "code",
   "execution_count": 6,
   "id": "34c0736d",
   "metadata": {},
   "outputs": [
    {
     "data": {
      "text/plain": [
       "'Verona'"
      ]
     },
     "execution_count": 6,
     "metadata": {},
     "output_type": "execute_result"
    }
   ],
   "source": [
    "# the span returned is the index. \n",
    "# Consider if we were to splice the string using the span bounds\n",
    "string[47:53]"
   ]
  },
  {
   "cell_type": "code",
   "execution_count": 7,
   "id": "755f59ae",
   "metadata": {},
   "outputs": [
    {
     "data": {
      "text/plain": [
       "<re.Match object; span=(39, 53), match='In fair Verona'>"
      ]
     },
     "execution_count": 7,
     "metadata": {},
     "output_type": "execute_result"
    }
   ],
   "source": [
    "re.search(r\"In fair Verona\", string)"
   ]
  },
  {
   "cell_type": "code",
   "execution_count": 8,
   "id": "cfe97a67",
   "metadata": {},
   "outputs": [],
   "source": [
    "# The string \"Leonardo DiCaprio\" is not here, so re.search returns None\n",
    "re.search(r\"Leonardo DiCaprio\", string)"
   ]
  },
  {
   "cell_type": "code",
   "execution_count": 10,
   "id": "8ccd03c4",
   "metadata": {},
   "outputs": [
    {
     "data": {
      "text/plain": [
       "<re.Match object; span=(126, 131), match='civil'>"
      ]
     },
     "execution_count": 10,
     "metadata": {},
     "output_type": "execute_result"
    }
   ],
   "source": [
    "# re.search returns the first match and only the first match\n",
    "re.search(r\"civil\", string)"
   ]
  },
  {
   "cell_type": "code",
   "execution_count": 11,
   "id": "80942b16",
   "metadata": {},
   "outputs": [
    {
     "data": {
      "text/plain": [
       "['civil', 'civil']"
      ]
     },
     "execution_count": 11,
     "metadata": {},
     "output_type": "execute_result"
    }
   ],
   "source": [
    "# .findall returns all matches\n",
    "re.findall(r\"civil\", string)"
   ]
  },
  {
   "cell_type": "code",
   "execution_count": 12,
   "id": "4f81eb50",
   "metadata": {},
   "outputs": [
    {
     "data": {
      "text/plain": [
       "[]"
      ]
     },
     "execution_count": 12,
     "metadata": {},
     "output_type": "execute_result"
    }
   ],
   "source": [
    "# empty set for no matches with .findall\n",
    "re.findall(r\"Claire Danes\", string)"
   ]
  },
  {
   "cell_type": "code",
   "execution_count": 13,
   "id": "672c8b72",
   "metadata": {},
   "outputs": [
    {
     "data": {
      "text/plain": [
       "<re.Match object; span=(0, 3), match='Two'>"
      ]
     },
     "execution_count": 13,
     "metadata": {},
     "output_type": "execute_result"
    }
   ],
   "source": [
    "re.search(r\"Two\", string)"
   ]
  },
  {
   "cell_type": "code",
   "execution_count": 15,
   "id": "d6e9c4f4",
   "metadata": {},
   "outputs": [],
   "source": [
    "# Are computers particular on specifics?\n",
    "re.search(r\"two\", string)\n",
    "# lower case 'two' isn't found"
   ]
  },
  {
   "cell_type": "code",
   "execution_count": 17,
   "id": "a58afdde",
   "metadata": {
    "scrolled": true
   },
   "outputs": [
    {
     "data": {
      "text/plain": [
       "<re.Match object; span=(0, 3), match='Two'>"
      ]
     },
     "execution_count": 17,
     "metadata": {},
     "output_type": "execute_result"
    }
   ],
   "source": [
    "# The re.IGNORECASE flag does exactly that\n",
    "re.search(r\"two\", string, re.IGNORECASE)\n",
    "# plan on using IGNORECASE frequently"
   ]
  },
  {
   "cell_type": "code",
   "execution_count": 18,
   "id": "1bf1e3c4",
   "metadata": {},
   "outputs": [
    {
     "data": {
      "text/plain": [
       "<re.Match object; span=(0, 1), match='a'>"
      ]
     },
     "execution_count": 18,
     "metadata": {},
     "output_type": "execute_result"
    }
   ],
   "source": [
    "re.search(r\"A\",\"aaaaaaa\", re.IGNORECASE)"
   ]
  },
  {
   "cell_type": "code",
   "execution_count": 19,
   "id": "654d0737",
   "metadata": {},
   "outputs": [
    {
     "data": {
      "text/plain": [
       "<re.Match object; span=(0, 5), match='aaaaa'>"
      ]
     },
     "execution_count": 19,
     "metadata": {},
     "output_type": "execute_result"
    }
   ],
   "source": [
    "re.search(r\"Aaaaa\",\"aaaaaaa\", re.IGNORECASE)"
   ]
  },
  {
   "cell_type": "markdown",
   "id": "857d51d1",
   "metadata": {},
   "source": [
    "## Using `|` for a logical OR to open opportunities\n",
    "- We can use `|` with literal characters or other regular expression patterns"
   ]
  },
  {
   "cell_type": "code",
   "execution_count": 20,
   "id": "971d7d94",
   "metadata": {},
   "outputs": [
    {
     "data": {
      "text/plain": [
       "['grey', 'gray', 'gray', 'grey']"
      ]
     },
     "execution_count": 20,
     "metadata": {},
     "output_type": "execute_result"
    }
   ],
   "source": [
    "# OR\n",
    "# Findall returns all matches \n",
    "re.findall(r\"gray|grey\", \"I can't remember if you spell grey gray or gray like grey!\")"
   ]
  },
  {
   "cell_type": "code",
   "execution_count": 21,
   "id": "47b73648",
   "metadata": {},
   "outputs": [
    {
     "data": {
      "text/plain": [
       "<re.Match object; span=(12, 17), match='apple'>"
      ]
     },
     "execution_count": 21,
     "metadata": {},
     "output_type": "execute_result"
    }
   ],
   "source": [
    "# The .search method matches only the first match\n",
    "re.search(r\"orange|apple\", \"I like both apples and oranges\")"
   ]
  },
  {
   "cell_type": "code",
   "execution_count": 22,
   "id": "19dc9e16",
   "metadata": {},
   "outputs": [
    {
     "data": {
      "text/plain": [
       "['this', 'that']"
      ]
     },
     "execution_count": 22,
     "metadata": {},
     "output_type": "execute_result"
    }
   ],
   "source": [
    "re.findall(r\"this|that\", \"this that and the other\")"
   ]
  },
  {
   "cell_type": "code",
   "execution_count": 23,
   "id": "a33c092c",
   "metadata": {},
   "outputs": [
    {
     "data": {
      "text/plain": [
       "<re.Match object; span=(1, 2), match='a'>"
      ]
     },
     "execution_count": 23,
     "metadata": {},
     "output_type": "execute_result"
    }
   ],
   "source": [
    "# has a vowel, anywhere\n",
    "re.search(r\"a|e|i|o|u\", \"banana\", re.IGNORECASE)"
   ]
  },
  {
   "cell_type": "code",
   "execution_count": 76,
   "id": "0f85f7ea",
   "metadata": {},
   "outputs": [
    {
     "data": {
      "text/plain": [
       "['a', 'a', 'a']"
      ]
     },
     "execution_count": 76,
     "metadata": {},
     "output_type": "execute_result"
    }
   ],
   "source": [
    "re.findall(r\"[aeiou]\", \"banana\", re.IGNORECASE)"
   ]
  },
  {
   "cell_type": "code",
   "execution_count": 24,
   "id": "368f4588",
   "metadata": {},
   "outputs": [
    {
     "data": {
      "text/plain": [
       "['a', 'a', 'a']"
      ]
     },
     "execution_count": 24,
     "metadata": {},
     "output_type": "execute_result"
    }
   ],
   "source": [
    "# has a vowel, anywhere\n",
    "re.findall(r\"a|e|i|o|u\", \"banana\", re.IGNORECASE)"
   ]
  },
  {
   "cell_type": "code",
   "execution_count": 29,
   "id": "ce0523dd",
   "metadata": {},
   "outputs": [
    {
     "data": {
      "text/plain": [
       "<re.Match object; span=(0, 10), match='bananarama'>"
      ]
     },
     "execution_count": 29,
     "metadata": {},
     "output_type": "execute_result"
    }
   ],
   "source": [
    "# carot is 'starts-with'\n",
    "# . is any character\n",
    "# * is zero or more\n",
    "re.search(r\"^b.*\", \"bananarama\")"
   ]
  },
  {
   "cell_type": "code",
   "execution_count": 30,
   "id": "60dd3b86",
   "metadata": {},
   "outputs": [
    {
     "data": {
      "text/plain": [
       "<re.Match object; span=(0, 17), match='bananarama pajama'>"
      ]
     },
     "execution_count": 30,
     "metadata": {},
     "output_type": "execute_result"
    }
   ],
   "source": [
    "# the * is \"greedy\"--finds the largest possible match\n",
    "re.search(r\"^b.*\", \"bananarama pajama\")"
   ]
  },
  {
   "cell_type": "code",
   "execution_count": 78,
   "id": "3379664f",
   "metadata": {},
   "outputs": [
    {
     "data": {
      "text/plain": [
       "<re.Match object; span=(0, 10), match='bananarama'>"
      ]
     },
     "execution_count": 78,
     "metadata": {},
     "output_type": "execute_result"
    }
   ],
   "source": [
    "# Match 'b' then one or more alphanumerics for a word\n",
    "# \\w means alphanumeric\n",
    "# + means 1 or more letters\n",
    "# when the pattern hits the \" \" before pajama, we're done\n",
    "re.search(r\"^b\\w+\", \"bananarama pajama\")"
   ]
  },
  {
   "cell_type": "code",
   "execution_count": 80,
   "id": "90216af4",
   "metadata": {},
   "outputs": [
    {
     "data": {
      "text/plain": [
       "<re.Match object; span=(6, 10), match='bana'>"
      ]
     },
     "execution_count": 80,
     "metadata": {},
     "output_type": "execute_result"
    }
   ],
   "source": [
    "# match b fallowed by 3 of any character\n",
    "re.search(r\"b.{3}\", 'hello bananarama pajama')"
   ]
  },
  {
   "cell_type": "code",
   "execution_count": 31,
   "id": "7ee8c016",
   "metadata": {},
   "outputs": [
    {
     "data": {
      "text/plain": [
       "<re.Match object; span=(0, 2), match='ba'>"
      ]
     },
     "execution_count": 31,
     "metadata": {},
     "output_type": "execute_result"
    }
   ],
   "source": [
    "# the * is \"greedy\"--finds the largest possible match\n",
    "re.search(r\"^b.\", \"bananarama pajama\")\n",
    "# here we only got 'ba'"
   ]
  },
  {
   "cell_type": "code",
   "execution_count": 87,
   "id": "670cce65",
   "metadata": {},
   "outputs": [
    {
     "data": {
      "text/plain": [
       "<re.Match object; span=(0, 5), match='stuff'>"
      ]
     },
     "execution_count": 87,
     "metadata": {},
     "output_type": "execute_result"
    }
   ],
   "source": [
    "# only letters not letters/numbers/_\n",
    "re.search(r\"[a-zA-Z]*\", 'stuff and things and 123')"
   ]
  },
  {
   "cell_type": "code",
   "execution_count": 84,
   "id": "515ab757",
   "metadata": {},
   "outputs": [
    {
     "data": {
      "text/plain": [
       "['', '', '', 'stuff', '', 'and', '', 'things', '', 'and', '', '', '', '', '']"
      ]
     },
     "execution_count": 84,
     "metadata": {},
     "output_type": "execute_result"
    }
   ],
   "source": [
    "re.findall(r\"[a-zA-Z]*\", '42 stuff and things and 123')"
   ]
  },
  {
   "cell_type": "code",
   "execution_count": 86,
   "id": "2c680084",
   "metadata": {},
   "outputs": [
    {
     "data": {
      "text/plain": [
       "['stuff', 'a', 'nd', 'things', 'and']"
      ]
     },
     "execution_count": 86,
     "metadata": {},
     "output_type": "execute_result"
    }
   ],
   "source": [
    "# the [a-z]+ is finding any and all sequences that are only [a-zA-Z]\n",
    "re.findall(r\"[a-zA-Z]+\", '42 stuff a*****nd things and 123')"
   ]
  },
  {
   "cell_type": "code",
   "execution_count": 36,
   "id": "9b5e9a44",
   "metadata": {},
   "outputs": [
    {
     "data": {
      "text/plain": [
       "<re.Match object; span=(6, 8), match='ba'>"
      ]
     },
     "execution_count": 36,
     "metadata": {},
     "output_type": "execute_result"
    }
   ],
   "source": [
    "# the * is \"greedy\"--finds the largest possible match\n",
    "re.search(r\"b.\", \"hello bananarama pajama\")\n",
    "# with the '^' we got nothing\n",
    "# without the '^', we got 'ba'"
   ]
  },
  {
   "cell_type": "code",
   "execution_count": 42,
   "id": "25a3a7cf",
   "metadata": {},
   "outputs": [],
   "source": [
    "# add a space to NOT get pajama\n",
    "# re.findall(r\"[^b]\", \"hello bananarama pajama\")\n",
    "# to return everything except 'b'"
   ]
  },
  {
   "cell_type": "code",
   "execution_count": 44,
   "id": "1b55bcb9",
   "metadata": {},
   "outputs": [
    {
     "data": {
      "text/plain": [
       "<re.Match object; span=(0, 10), match='bananarama'>"
      ]
     },
     "execution_count": 44,
     "metadata": {},
     "output_type": "execute_result"
    }
   ],
   "source": [
    "# starts with\n",
    "# anything\n",
    "# ends with\n",
    "re.search(r\"^b.*rama\", 'bananarama pajama')"
   ]
  },
  {
   "cell_type": "code",
   "execution_count": 47,
   "id": "a8fc2775",
   "metadata": {},
   "outputs": [
    {
     "data": {
      "text/plain": [
       "<re.Match object; span=(0, 17), match='bananarama pajama'>"
      ]
     },
     "execution_count": 47,
     "metadata": {},
     "output_type": "execute_result"
    }
   ],
   "source": [
    "# starts with\n",
    "# anything\n",
    "# ends with\n",
    "re.search(r\".*jama$\", 'bananarama pajama')"
   ]
  },
  {
   "cell_type": "code",
   "execution_count": 49,
   "id": "319e6245",
   "metadata": {},
   "outputs": [
    {
     "data": {
      "text/plain": [
       "<re.Match object; span=(0, 10), match='bananarama'>"
      ]
     },
     "execution_count": 49,
     "metadata": {},
     "output_type": "execute_result"
    }
   ],
   "source": [
    "# starts with\n",
    "# anything\n",
    "# ends with\n",
    "re.search(r\".*rama\", 'bananarama pajama')"
   ]
  },
  {
   "cell_type": "code",
   "execution_count": 50,
   "id": "0300071b",
   "metadata": {},
   "outputs": [
    {
     "data": {
      "text/plain": [
       "<re.Match object; span=(0, 1), match='a'>"
      ]
     },
     "execution_count": 50,
     "metadata": {},
     "output_type": "execute_result"
    }
   ],
   "source": [
    "# \\w matches [a-zA-Z0-9]\n",
    "re.search(r\"\\w\", \"abc123\")"
   ]
  },
  {
   "cell_type": "code",
   "execution_count": 51,
   "id": "43038a0b",
   "metadata": {},
   "outputs": [
    {
     "data": {
      "text/plain": [
       "<re.Match object; span=(0, 3), match='abc'>"
      ]
     },
     "execution_count": 51,
     "metadata": {},
     "output_type": "execute_result"
    }
   ],
   "source": [
    "# \\w matches [a-zA-Z0-9]\n",
    "re.search(r\"\\w\\w\\w\", \"abc123\")"
   ]
  },
  {
   "cell_type": "code",
   "execution_count": 52,
   "id": "cd5f3e3b",
   "metadata": {},
   "outputs": [
    {
     "data": {
      "text/plain": [
       "<re.Match object; span=(0, 6), match='abc123'>"
      ]
     },
     "execution_count": 52,
     "metadata": {},
     "output_type": "execute_result"
    }
   ],
   "source": [
    "# \\w matches [a-zA-Z0-9]\n",
    "re.search(r\"\\w\\w\\w\\w\\w\\w\", \"abc123\")"
   ]
  },
  {
   "cell_type": "code",
   "execution_count": 53,
   "id": "6469bdf3",
   "metadata": {},
   "outputs": [],
   "source": [
    "# seven \\w will match seven of any [a-zA-Z0-9]\n",
    "re.search(r\"\\w\\w\\w\\w\\w\\w\\w\", \"abc123\")\n",
    "#returns nothing"
   ]
  },
  {
   "cell_type": "code",
   "execution_count": 54,
   "id": "738aa9d7",
   "metadata": {},
   "outputs": [
    {
     "data": {
      "text/plain": [
       "<re.Match object; span=(0, 6), match='abc123'>"
      ]
     },
     "execution_count": 54,
     "metadata": {},
     "output_type": "execute_result"
    }
   ],
   "source": [
    "# \\w matches [a-zA-Z0-9]\n",
    "re.search(r\"\\w*\", \"abc123\")"
   ]
  },
  {
   "cell_type": "code",
   "execution_count": 55,
   "id": "36eee3cd",
   "metadata": {},
   "outputs": [
    {
     "data": {
      "text/plain": [
       "<re.Match object; span=(0, 3), match='abc'>"
      ]
     },
     "execution_count": 55,
     "metadata": {},
     "output_type": "execute_result"
    }
   ],
   "source": [
    "# \\w matches [a-zA-Z0-9]\n",
    "re.search(r\"\\w{3}\", \"abc123\")"
   ]
  },
  {
   "cell_type": "code",
   "execution_count": 90,
   "id": "a0436371",
   "metadata": {},
   "outputs": [
    {
     "data": {
      "text/plain": [
       "<re.Match object; span=(0, 6), match='abc123'>"
      ]
     },
     "execution_count": 90,
     "metadata": {},
     "output_type": "execute_result"
    }
   ],
   "source": [
    "# \\w matches [a-zA-Z0-9]\n",
    "re.search(r\"\\w{2,6}\", \"abc123def456\")\n",
    "# bc the {2,6} is in abc123..."
   ]
  },
  {
   "cell_type": "code",
   "execution_count": 58,
   "id": "502536d6",
   "metadata": {},
   "outputs": [
    {
     "data": {
      "text/plain": [
       "<re.Match object; span=(0, 6), match='abc123'>"
      ]
     },
     "execution_count": 58,
     "metadata": {},
     "output_type": "execute_result"
    }
   ],
   "source": [
    "# {n,}\n",
    "re.search(r\"\\w{1,}\", \"abc123 is thee place to be\")"
   ]
  },
  {
   "cell_type": "code",
   "execution_count": 64,
   "id": "5ebbdaa7",
   "metadata": {},
   "outputs": [
    {
     "data": {
      "text/plain": [
       "['abc123', 'is', 'the', 'place', 'to', 'be', 'banana', 'ramapa', 'jama']"
      ]
     },
     "execution_count": 64,
     "metadata": {},
     "output_type": "execute_result"
    }
   ],
   "source": [
    "# {n,}\n",
    "re.findall(r\"\\w{1,6}\", \"abc123 is the place to be bananaramapajama\")"
   ]
  },
  {
   "cell_type": "code",
   "execution_count": 65,
   "id": "da3457b4",
   "metadata": {},
   "outputs": [
    {
     "data": {
      "text/plain": [
       "['abc123 ', 'is ', 'the ', 'place ', 'to ', 'be ']"
      ]
     },
     "execution_count": 65,
     "metadata": {},
     "output_type": "execute_result"
    }
   ],
   "source": [
    "# {n,} matches n or more times\n",
    "# space after the 1-6 alpha \\w matches\n",
    "re.findall(r\"\\w{1,6} \", \"abc123 is the place to be bananaramapajama\")"
   ]
  },
  {
   "cell_type": "code",
   "execution_count": 62,
   "id": "e9dcedbb",
   "metadata": {},
   "outputs": [
    {
     "data": {
      "text/plain": [
       "['abc123', 'is', 'theeeeeeee', 'place', 'to', 'be']"
      ]
     },
     "execution_count": 62,
     "metadata": {},
     "output_type": "execute_result"
    }
   ],
   "source": [
    "# {n,}\n",
    "re.findall(r\"\\w{1,}\", \"abc123 is the place to be\")"
   ]
  },
  {
   "cell_type": "code",
   "execution_count": 61,
   "id": "c89fed1a",
   "metadata": {
    "scrolled": true
   },
   "outputs": [
    {
     "data": {
      "text/plain": [
       "['abc123', 'is', 'thee', 'place', 'to', 'be']"
      ]
     },
     "execution_count": 61,
     "metadata": {},
     "output_type": "execute_result"
    }
   ],
   "source": [
    "# r\"\\w+\" is the same as r\"w{1,}\n",
    "re.findall(r\"\\w+\", \"abc123 is thee place to be\")"
   ]
  },
  {
   "cell_type": "code",
   "execution_count": 69,
   "id": "4deb5b5b",
   "metadata": {},
   "outputs": [
    {
     "data": {
      "text/plain": [
       "<re.Match object; span=(0, 8), match='226-3232'>"
      ]
     },
     "execution_count": 69,
     "metadata": {},
     "output_type": "execute_result"
    }
   ],
   "source": [
    "# the '.' says to find one of anything\n",
    "# 3 digits then a single any character and then 4 digits\n",
    "re.search(r\"[0-9]{3}.[0-9]{4}\", \"226-3232\")"
   ]
  },
  {
   "cell_type": "code",
   "execution_count": 70,
   "id": "33625478",
   "metadata": {},
   "outputs": [
    {
     "data": {
      "text/plain": [
       "<re.Match object; span=(0, 8), match='226.3232'>"
      ]
     },
     "execution_count": 70,
     "metadata": {},
     "output_type": "execute_result"
    }
   ],
   "source": [
    "#\n",
    "re.search(r\"[0-9]{3}.[0-9]{4}\", \"226.3232\")"
   ]
  },
  {
   "cell_type": "code",
   "execution_count": 93,
   "id": "10b53e59",
   "metadata": {},
   "outputs": [
    {
     "data": {
      "text/plain": [
       "<re.Match object; span=(0, 7), match='2263232'>"
      ]
     },
     "execution_count": 93,
     "metadata": {},
     "output_type": "execute_result"
    }
   ],
   "source": [
    "# it fell apart here....\n",
    "# but, what if the delimiter is optional?\n",
    "# question mark metacharacter means the thing to the left of the ? is optional\n",
    "# re.search(r\"[0-9]{3}.[0-9]{4}\", \"2263232\")\n",
    "# versus:\n",
    "re.search(r\"[0-9]{3}.?[0-9]{4}\", \"2263232\")"
   ]
  },
  {
   "cell_type": "code",
   "execution_count": 75,
   "id": "9d93c416",
   "metadata": {},
   "outputs": [
    {
     "data": {
      "text/plain": [
       "<re.Match object; span=(0, 12), match='226-----3232'>"
      ]
     },
     "execution_count": 75,
     "metadata": {},
     "output_type": "execute_result"
    }
   ],
   "source": [
    "# it fell apart here....\n",
    "# but, what if the delimiter is optional? or multiples?\n",
    "# question mark metacharacter means the thing to the left of the ? is optional\n",
    "# the star is multiple repeats\n",
    "re.search(r\"[0-9]{3}.*[0-9]{4}\", \"226-----3232\")"
   ]
  },
  {
   "cell_type": "markdown",
   "id": "95a06a11",
   "metadata": {},
   "source": [
    "## Using a RegEx pattern to split a string\n",
    "- The `re.split` method returns a list of strings\n",
    "- The matching substring is removed\n",
    "- We can split on any regex pattern, not only character literals"
   ]
  },
  {
   "cell_type": "code",
   "execution_count": 94,
   "id": "52eb3737",
   "metadata": {},
   "outputs": [
    {
     "data": {
      "text/plain": [
       "['210', '226', '3232']"
      ]
     },
     "execution_count": 94,
     "metadata": {},
     "output_type": "execute_result"
    }
   ],
   "source": [
    "# base python:\n",
    "\"210-226-3232\".split('-')"
   ]
  },
  {
   "cell_type": "code",
   "execution_count": 95,
   "id": "62abee0c",
   "metadata": {},
   "outputs": [
    {
     "data": {
      "text/plain": [
       "['210', '226', '3232']"
      ]
     },
     "execution_count": 95,
     "metadata": {},
     "output_type": "execute_result"
    }
   ],
   "source": [
    "# Split the phone number on the\n",
    "re.split(r\"-\", \"210-226-3232\")"
   ]
  },
  {
   "cell_type": "code",
   "execution_count": 97,
   "id": "2b94a1b3",
   "metadata": {},
   "outputs": [
    {
     "data": {
      "text/plain": [
       "['210', '226', '3232']"
      ]
     },
     "execution_count": 97,
     "metadata": {},
     "output_type": "execute_result"
    }
   ],
   "source": [
    "# More power/options with regex, when base python can't be used\n",
    "re.split(r\"-| \", \"210 226-3232\")"
   ]
  },
  {
   "cell_type": "code",
   "execution_count": 98,
   "id": "d9a51e9e",
   "metadata": {
    "scrolled": true
   },
   "outputs": [
    {
     "data": {
      "text/plain": [
       "['this', 'that', 'and', 'the', 'other']"
      ]
     },
     "execution_count": 98,
     "metadata": {},
     "output_type": "execute_result"
    }
   ],
   "source": [
    "# Splits the string on the space character\n",
    "# The \\ is necessary\n",
    "re.split(r\" \", \"this that and the other\")"
   ]
  },
  {
   "cell_type": "code",
   "execution_count": 99,
   "id": "7d20cf95",
   "metadata": {},
   "outputs": [
    {
     "data": {
      "text/plain": [
       "\"Harry_Belafonte_-_Jump_In_the_Line.mp3,Willie_Mae_'Big_Mama'_Thornton_-_Hound_Dog.mp3,Tina_Turner_-_Proud_Mary.mp3,Prince_-_Purple_Rain.mp3\""
      ]
     },
     "execution_count": 99,
     "metadata": {},
     "output_type": "execute_result"
    }
   ],
   "source": [
    "# Parse these songs into a dataframe containing 2 columns: artist_name and song_name\n",
    "# Hint: break the string into an array of strings that hold each song/artist record\n",
    "songs = \"Harry_Belafonte_-_Jump_In_the_Line.mp3,Willie_Mae_'Big_Mama'_Thornton_-_Hound_Dog.mp3,Tina_Turner_-_Proud_Mary.mp3,Prince_-_Purple_Rain.mp3\"\n",
    "songs\n",
    "# probably split on a comma first, then on _-_ (hint for exercise)\n",
    "# re.method(pattern, subject_string, re.IGNORECASE or other)"
   ]
  },
  {
   "cell_type": "markdown",
   "id": "f5636e9d",
   "metadata": {},
   "source": [
    "## [Character Classes]\n",
    "- Square brackets make character classes \n",
    "- Character classes provide OR behavior\n",
    "- In a character classe, `^` works as a \"None of\" operator\n",
    "- Metacharacters match their literal character when inside of square brackets for a character class"
   ]
  },
  {
   "cell_type": "code",
   "execution_count": 100,
   "id": "adae9f5b",
   "metadata": {},
   "outputs": [
    {
     "data": {
      "text/plain": [
       "<re.Match object; span=(1, 2), match='a'>"
      ]
     },
     "execution_count": 100,
     "metadata": {},
     "output_type": "execute_result"
    }
   ],
   "source": [
    "# has a vowel, anywhere\n",
    "\n",
    "re.search(r\"[aeiou]\", \"banana\", re.IGNORECASE)"
   ]
  },
  {
   "cell_type": "code",
   "execution_count": 101,
   "id": "65d0890d",
   "metadata": {},
   "outputs": [
    {
     "data": {
      "text/plain": [
       "['gray', 'grey']"
      ]
     },
     "execution_count": 101,
     "metadata": {},
     "output_type": "execute_result"
    }
   ],
   "source": [
    "# The parentheses around \n",
    "re.findall(r\"gr[ae]y\", \"Some people spell gray like grey\")"
   ]
  },
  {
   "cell_type": "code",
   "execution_count": 102,
   "id": "0cd12b75",
   "metadata": {},
   "outputs": [
    {
     "data": {
      "text/plain": [
       "<re.Match object; span=(1, 2), match='a'>"
      ]
     },
     "execution_count": 102,
     "metadata": {},
     "output_type": "execute_result"
    }
   ],
   "source": [
    "# has a vowel, anywhere\n",
    "\n",
    "re.search(r\"a|e|i|o|u\", \"banana\", re.IGNORECASE)"
   ]
  },
  {
   "cell_type": "code",
   "execution_count": 104,
   "id": "7773e51f",
   "metadata": {},
   "outputs": [
    {
     "data": {
      "text/plain": [
       "<re.Match object; span=(0, 1), match='a'>"
      ]
     },
     "execution_count": 104,
     "metadata": {},
     "output_type": "execute_result"
    }
   ],
   "source": [
    "# search a single vowel\n",
    "re.search(r\"^[aeiou]{1}$\", \"a\", re.IGNORECASE)"
   ]
  },
  {
   "cell_type": "code",
   "execution_count": 105,
   "id": "27690cab",
   "metadata": {},
   "outputs": [],
   "source": [
    "# not multiple\n",
    "re.search(r\"^[aeiou]{1}$\", \"ae\", re.IGNORECASE)"
   ]
  },
  {
   "cell_type": "code",
   "execution_count": 103,
   "id": "8da31325",
   "metadata": {},
   "outputs": [],
   "source": [
    "# Is a vowel\n",
    "\n",
    "assert bool(re.search(r\"^[aeiou]{1}$\", \"a\", re.IGNORECASE)) == True\n",
    "assert bool(re.search(r\"^[aeiou]{1}$\", \"aaaa\", re.IGNORECASE)) == False"
   ]
  },
  {
   "cell_type": "code",
   "execution_count": 106,
   "id": "20a89121",
   "metadata": {},
   "outputs": [
    {
     "data": {
      "text/plain": [
       "<re.Match object; span=(0, 7), match='aaeeeaa'>"
      ]
     },
     "execution_count": 106,
     "metadata": {},
     "output_type": "execute_result"
    }
   ],
   "source": [
    "# is only vowels\n",
    "\n",
    "re.search(r\"^[aeiou]*$\", \"aaeeeaa\")"
   ]
  },
  {
   "cell_type": "code",
   "execution_count": 107,
   "id": "f9c8080d",
   "metadata": {},
   "outputs": [
    {
     "data": {
      "text/plain": [
       "<re.Match object; span=(4, 5), match='q'>"
      ]
     },
     "execution_count": 107,
     "metadata": {},
     "output_type": "execute_result"
    }
   ],
   "source": [
    "# has a p or q, anywhere\n",
    "re.search(r\"p|q\", \"albuquerque\", re.IGNORECASE)"
   ]
  },
  {
   "cell_type": "code",
   "execution_count": 108,
   "id": "f6bc7a67",
   "metadata": {},
   "outputs": [
    {
     "data": {
      "text/plain": [
       "<re.Match object; span=(4, 5), match='q'>"
      ]
     },
     "execution_count": 108,
     "metadata": {},
     "output_type": "execute_result"
    }
   ],
   "source": [
    "# has a p or q, anywhere\n",
    "re.search(r\"[pq]\", \"albuquerque\", re.IGNORECASE)"
   ]
  },
  {
   "cell_type": "code",
   "execution_count": 109,
   "id": "83c9d632",
   "metadata": {},
   "outputs": [
    {
     "data": {
      "text/plain": [
       "<re.Match object; span=(0, 1), match='q'>"
      ]
     },
     "execution_count": 109,
     "metadata": {},
     "output_type": "execute_result"
    }
   ],
   "source": [
    "# is p or q\n",
    "re.search(r\"^[pq]{1}$\", \"q\", re.IGNORECASE)"
   ]
  },
  {
   "cell_type": "code",
   "execution_count": 113,
   "id": "0019da43",
   "metadata": {},
   "outputs": [
    {
     "data": {
      "text/plain": [
       "<re.Match object; span=(0, 17), match='pqpqpqpPQQQQQQQQp'>"
      ]
     },
     "execution_count": 113,
     "metadata": {},
     "output_type": "execute_result"
    }
   ],
   "source": [
    "# is only ps and qs\n",
    "re.search(r\"^[pqPQ]*$\", \"pqpqpqpPQQQQQQQQp\")"
   ]
  },
  {
   "cell_type": "code",
   "execution_count": 114,
   "id": "0c52b102",
   "metadata": {},
   "outputs": [],
   "source": [
    "re.search(r\"^[pq]*$\", \"b3qwpeop\")"
   ]
  },
  {
   "cell_type": "code",
   "execution_count": 115,
   "id": "111cc9f3",
   "metadata": {},
   "outputs": [],
   "source": [
    "# is only Ps and Qs\n",
    "assert bool(re.search(r\"^[pqPQ]*$\", \"pqpqpqpPQQQQQQQQp\")) == True\n",
    "assert bool(re.search(r\"^[pq]*$\", \"b3qwpeop\")) == False"
   ]
  },
  {
   "cell_type": "code",
   "execution_count": null,
   "id": "438a286a",
   "metadata": {},
   "outputs": [],
   "source": []
  },
  {
   "cell_type": "code",
   "execution_count": 116,
   "id": "b44277a2",
   "metadata": {},
   "outputs": [
    {
     "data": {
      "text/plain": [
       "['civil blood', 'civil hands']"
      ]
     },
     "execution_count": 116,
     "metadata": {},
     "output_type": "execute_result"
    }
   ],
   "source": [
    "string = \"Two households, both alike in dignity, In fair Verona, where we lay our scene, From ancient grudge break to new mutiny, Where civil blood makes civil hands unclean.\"\n",
    "string\n",
    "\n",
    "re.findall(r\"civil\\s.{5}\", string)\n"
   ]
  },
  {
   "cell_type": "code",
   "execution_count": 117,
   "id": "36828c7b",
   "metadata": {},
   "outputs": [
    {
     "data": {
      "text/plain": [
       "['civil blood', 'civil hands']"
      ]
     },
     "execution_count": 117,
     "metadata": {},
     "output_type": "execute_result"
    }
   ],
   "source": [
    "string = \"Two households, both alike in dignity, In fair Verona, where we lay our scene, From ancient grudge break to new mutiny, Where civil blood makes civil hands unclean.\"\n",
    "string\n",
    "\n",
    "re.findall(r\"civil\\s[a-z]+\", string)\n"
   ]
  },
  {
   "cell_type": "markdown",
   "id": "b345d70f",
   "metadata": {},
   "source": [
    "## Repetition characters and Special Sequences\n",
    "> Walk before you run"
   ]
  },
  {
   "cell_type": "code",
   "execution_count": null,
   "id": "c5f4d090",
   "metadata": {},
   "outputs": [],
   "source": []
  }
 ],
 "metadata": {
  "kernelspec": {
   "display_name": "Python 3",
   "language": "python",
   "name": "python3"
  },
  "language_info": {
   "codemirror_mode": {
    "name": "ipython",
    "version": 3
   },
   "file_extension": ".py",
   "mimetype": "text/x-python",
   "name": "python",
   "nbconvert_exporter": "python",
   "pygments_lexer": "ipython3",
   "version": "3.8.8"
  }
 },
 "nbformat": 4,
 "nbformat_minor": 5
}
