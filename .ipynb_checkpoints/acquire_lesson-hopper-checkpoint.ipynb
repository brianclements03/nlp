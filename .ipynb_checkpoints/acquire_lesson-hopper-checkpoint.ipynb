{
 "cells": [
  {
   "cell_type": "markdown",
   "metadata": {},
   "source": [
    "# Data Acquisition with Web Scraping"
   ]
  },
  {
   "cell_type": "code",
   "execution_count": 1,
   "metadata": {},
   "outputs": [],
   "source": [
    "import requests\n",
    "from bs4 import BeautifulSoup\n",
    "import pandas as pd\n",
    "import os"
   ]
  },
  {
   "cell_type": "markdown",
   "metadata": {},
   "source": [
    "`$ pip install beautifulsoup4`"
   ]
  },
  {
   "cell_type": "markdown",
   "metadata": {},
   "source": [
    "## Soup Methods\n",
    "\n",
    "- `soup.select('.class')`: to get all the elements with class `class`\n",
    "- `soup.select_one('.class')`: to get the first element with class `class`\n",
    "- `soup.h2`: to get the first `h2` element\n",
    "- `soup.find_all('h2')`: to get all the elements with tag name of `h2`\n",
    "- `soup('h2')` : same as `find_all` method above\n",
    "- `soup.find('h2')`: finds the first matching element"
   ]
  },
  {
   "cell_type": "markdown",
   "metadata": {},
   "source": [
    "First make the request. The response is a bunch of html."
   ]
  },
  {
   "cell_type": "code",
   "execution_count": 2,
   "metadata": {},
   "outputs": [],
   "source": [
    "response = requests.get('https://web-scraping-demo.zgulde.net/news')\n",
    "html = response.text\n",
    "# html"
   ]
  },
  {
   "cell_type": "markdown",
   "metadata": {},
   "source": [
    "We can make more sense of that html with the beautiful soup library."
   ]
  },
  {
   "cell_type": "code",
   "execution_count": 3,
   "metadata": {},
   "outputs": [
    {
     "name": "stdout",
     "output_type": "stream",
     "text": [
      "<!DOCTYPE html>\n",
      "<html lang=\"en\">\n",
      " <head>\n",
      "  <meta charset=\"utf-8\"/>\n",
      "  <meta content=\"IE=edge\" http-equiv=\"X-UA-Compatible\"/>\n",
      "  <meta content=\"width=device-width, initial-scale=1.0\" name=\"viewport\"/>\n",
      "  <title>\n",
      "   News Example Page\n",
      "  </title>\n",
      "  <link href=\"https://unpkg.com/tailwindcss@^2/dist/tailwind.min.css\" rel=\"stylesheet\"/>\n",
      "  <link href=\"https://cdn.jsdelivr.net/npm/bootstrap-icons@1.4.1/font/bootstrap-icons.css\" rel=\"stylesheet\"/>\n",
      " </head>\n",
      " <body class=\"mx-auto max-w-screen-lg pb-32\">\n",
      "  <h1 class=\"my-5 text-4xl text-center\">\n",
      "   News!\n",
      "  </h1>\n",
      "  <div class=\"my-5 text-red-800 px-5 py-3 bg-red-100 font-bold\">\n",
      "   <p>\n",
      "    <i class=\"bi bi-exclamation-circle text-xl\">\n",
      "    </i>\n",
      "    All data on this page is strictly for demonstration purposes and fake.\n",
      "   </p>\n",
      "  </div>\n",
      "  <div class=\"grid gap-y-12\">\n",
      "   <div class=\"grid grid-cols-4 gap-x-4 border rounded pr-3 bg-green-50 hover:shadow-lg transition duration-500\">\n",
      "    <img src=\"/static/placeholder.png\"/>\n",
      "    <div class=\"col-span-3 space-y-3 py-3\">\n",
      "     <h2 class=\"text-2xl text-green-900\">\n",
      "      security fine southern\n",
      "     </h2>\n",
      "     <div class=\"grid grid-cols-2 italic\">\n",
      "      <p>\n",
      "       2013-04-19\n",
      "      </p>\n",
      "      <p class=\"text-right\">\n",
      "       By Michael Lindsey\n",
      "      </p>\n",
      "     </div>\n",
      "     <p>\n",
      "      On spend watch station south. Care need note politics possible both class. Health word ready thought discuss.\n",
      "Write major lot imagine. Stop debate hair key about between happy. Nature group third song section process organization strong. Minute major there well serious girl.\n",
      "     </p>\n",
      "    </div>\n",
      "   </div>\n",
      "   <div class=\"grid grid-cols-4 gap-x-4 border rounded pr-3 bg-green-50 hover:shadow-lg transition duration-500\">\n",
      "    <img src=\"/static/placeholder.png\"/>\n",
      "    <div class=\"col-span-3 space-y-3 py-3\">\n",
      "     <h2 class=\"text-2xl text-green-900\">\n",
      "      challenge pressure move\n",
      "     </h2>\n",
      "     <div class=\"grid grid-cols-2 italic\">\n",
      "      <p>\n",
      "       1987-06-03\n",
      "      </p>\n",
      "      <p class=\"text-right\">\n",
      "       By Spencer Waller\n",
      "      </p>\n",
      "     </div>\n",
      "     <p>\n",
      "      Decide could finally throughout thing debate law. Fund effort various should fact service with. Deep speech despite learn positive stop.\n",
      "Myself run society read. Many start try number young.\n",
      "     </p>\n",
      "    </div>\n",
      "   </div>\n",
      "   <div class=\"grid grid-cols-4 gap-x-4 border rounded pr-3 bg-green-50 hover:shadow-lg transition duration-500\">\n",
      "    <img src=\"/static/placeholder.png\"/>\n",
      "    <div class=\"col-span-3 space-y-3 py-3\">\n",
      "     <h2 class=\"text-2xl text-green-900\">\n",
      "      option happen himself\n",
      "     </h2>\n",
      "     <div class=\"grid grid-cols-2 italic\">\n",
      "      <p>\n",
      "       1984-11-06\n",
      "      </p>\n",
      "      <p class=\"text-right\">\n",
      "       By Brandon Ellis\n",
      "      </p>\n",
      "     </div>\n",
      "     <p>\n",
      "      Mission reduce camera. Social religious responsibility a mouth one pretty.\n",
      "Reach rest reveal create pay road simple. Design society house right.\n",
      "     </p>\n",
      "    </div>\n",
      "   </div>\n",
      "   <div class=\"grid grid-cols-4 gap-x-4 border rounded pr-3 bg-green-50 hover:shadow-lg transition duration-500\">\n",
      "    <img src=\"/static/placeholder.png\"/>\n",
      "    <div class=\"col-span-3 space-y-3 py-3\">\n",
      "     <h2 class=\"text-2xl text-green-900\">\n",
      "      little democratic popular\n",
      "     </h2>\n",
      "     <div class=\"grid grid-cols-2 italic\">\n",
      "      <p>\n",
      "       2003-11-08\n",
      "      </p>\n",
      "      <p class=\"text-right\">\n",
      "       By Angela Ewing\n",
      "      </p>\n",
      "     </div>\n",
      "     <p>\n",
      "      Dog ok space yeah. Among certainly including.\n",
      "Already project person deep ten home. How and assume inside. Sure speak way level party. Trip economic follow assume learn already.\n",
      "     </p>\n",
      "    </div>\n",
      "   </div>\n",
      "   <div class=\"grid grid-cols-4 gap-x-4 border rounded pr-3 bg-green-50 hover:shadow-lg transition duration-500\">\n",
      "    <img src=\"/static/placeholder.png\"/>\n",
      "    <div class=\"col-span-3 space-y-3 py-3\">\n",
      "     <h2 class=\"text-2xl text-green-900\">\n",
      "      score help before\n",
      "     </h2>\n",
      "     <div class=\"grid grid-cols-2 italic\">\n",
      "      <p>\n",
      "       2022-01-27\n",
      "      </p>\n",
      "      <p class=\"text-right\">\n",
      "       By Jay Johnson\n",
      "      </p>\n",
      "     </div>\n",
      "     <p>\n",
      "      Within any enter cut play sit clearly as. Whether small travel along last campaign.\n",
      "Race manager here pass. Company case particularly like appear see.\n",
      "     </p>\n",
      "    </div>\n",
      "   </div>\n",
      "   <div class=\"grid grid-cols-4 gap-x-4 border rounded pr-3 bg-green-50 hover:shadow-lg transition duration-500\">\n",
      "    <img src=\"/static/placeholder.png\"/>\n",
      "    <div class=\"col-span-3 space-y-3 py-3\">\n",
      "     <h2 class=\"text-2xl text-green-900\">\n",
      "      under certainly style\n",
      "     </h2>\n",
      "     <div class=\"grid grid-cols-2 italic\">\n",
      "      <p>\n",
      "       2016-06-14\n",
      "      </p>\n",
      "      <p class=\"text-right\">\n",
      "       By Michael Mitchell\n",
      "      </p>\n",
      "     </div>\n",
      "     <p>\n",
      "      Commercial interest company. Fast national green use total. Particularly Mr involve increase.\n",
      "Seem within senior do. Quickly American with send.\n",
      "     </p>\n",
      "    </div>\n",
      "   </div>\n",
      "   <div class=\"grid grid-cols-4 gap-x-4 border rounded pr-3 bg-green-50 hover:shadow-lg transition duration-500\">\n",
      "    <img src=\"/static/placeholder.png\"/>\n",
      "    <div class=\"col-span-3 space-y-3 py-3\">\n",
      "     <h2 class=\"text-2xl text-green-900\">\n",
      "      reduce up black\n",
      "     </h2>\n",
      "     <div class=\"grid grid-cols-2 italic\">\n",
      "      <p>\n",
      "       1971-09-28\n",
      "      </p>\n",
      "      <p class=\"text-right\">\n",
      "       By Mark Blevins\n",
      "      </p>\n",
      "     </div>\n",
      "     <p>\n",
      "      Answer argue social voice.\n",
      "Trip worker bill focus measure pattern detail floor. Congress standard who property moment year.\n",
      "     </p>\n",
      "    </div>\n",
      "   </div>\n",
      "   <div class=\"grid grid-cols-4 gap-x-4 border rounded pr-3 bg-green-50 hover:shadow-lg transition duration-500\">\n",
      "    <img src=\"/static/placeholder.png\"/>\n",
      "    <div class=\"col-span-3 space-y-3 py-3\">\n",
      "     <h2 class=\"text-2xl text-green-900\">\n",
      "      stand team suddenly\n",
      "     </h2>\n",
      "     <div class=\"grid grid-cols-2 italic\">\n",
      "      <p>\n",
      "       1971-02-19\n",
      "      </p>\n",
      "      <p class=\"text-right\">\n",
      "       By Julie Walker\n",
      "      </p>\n",
      "     </div>\n",
      "     <p>\n",
      "      Top industry easy whole name report. Floor trip party daughter. Suggest live son economy.\n",
      "Small move over prepare marriage sport admit outside. Five air too support.\n",
      "     </p>\n",
      "    </div>\n",
      "   </div>\n",
      "   <div class=\"grid grid-cols-4 gap-x-4 border rounded pr-3 bg-green-50 hover:shadow-lg transition duration-500\">\n",
      "    <img src=\"/static/placeholder.png\"/>\n",
      "    <div class=\"col-span-3 space-y-3 py-3\">\n",
      "     <h2 class=\"text-2xl text-green-900\">\n",
      "      worry our side\n",
      "     </h2>\n",
      "     <div class=\"grid grid-cols-2 italic\">\n",
      "      <p>\n",
      "       1979-07-22\n",
      "      </p>\n",
      "      <p class=\"text-right\">\n",
      "       By Stacey Ortiz\n",
      "      </p>\n",
      "     </div>\n",
      "     <p>\n",
      "      Baby gun relate morning threat as. Material travel should level statement customer. Moment much owner especially yes hair.\n",
      "Old final walk space case break great. Let attorney indicate public resource senior meeting. One collection local matter like send.\n",
      "     </p>\n",
      "    </div>\n",
      "   </div>\n",
      "   <div class=\"grid grid-cols-4 gap-x-4 border rounded pr-3 bg-green-50 hover:shadow-lg transition duration-500\">\n",
      "    <img src=\"/static/placeholder.png\"/>\n",
      "    <div class=\"col-span-3 space-y-3 py-3\">\n",
      "     <h2 class=\"text-2xl text-green-900\">\n",
      "      candidate customer until\n",
      "     </h2>\n",
      "     <div class=\"grid grid-cols-2 italic\">\n",
      "      <p>\n",
      "       1983-03-11\n",
      "      </p>\n",
      "      <p class=\"text-right\">\n",
      "       By Cory White\n",
      "      </p>\n",
      "     </div>\n",
      "     <p>\n",
      "      Everybody some analysis do arm stand about. Reach case something sister range attack increase. Nearly partner color.\n",
      "Fight painting nature through house election prevent training. Almost situation notice write. No everything help perhaps. Without enter anyone.\n",
      "     </p>\n",
      "    </div>\n",
      "   </div>\n",
      "   <div class=\"grid grid-cols-4 gap-x-4 border rounded pr-3 bg-green-50 hover:shadow-lg transition duration-500\">\n",
      "    <img src=\"/static/placeholder.png\"/>\n",
      "    <div class=\"col-span-3 space-y-3 py-3\">\n",
      "     <h2 class=\"text-2xl text-green-900\">\n",
      "      moment character red\n",
      "     </h2>\n",
      "     <div class=\"grid grid-cols-2 italic\">\n",
      "      <p>\n",
      "       1989-12-19\n",
      "      </p>\n",
      "      <p class=\"text-right\">\n",
      "       By Allison Williams\n",
      "      </p>\n",
      "     </div>\n",
      "     <p>\n",
      "      Maybe similar your three. End least issue along. Catch process surface action stand.\n",
      "Politics interview western peace. Great medical suffer everyone their radio. Drive pay fly life up.\n",
      "     </p>\n",
      "    </div>\n",
      "   </div>\n",
      "   <div class=\"grid grid-cols-4 gap-x-4 border rounded pr-3 bg-green-50 hover:shadow-lg transition duration-500\">\n",
      "    <img src=\"/static/placeholder.png\"/>\n",
      "    <div class=\"col-span-3 space-y-3 py-3\">\n",
      "     <h2 class=\"text-2xl text-green-900\">\n",
      "      artist cost us\n",
      "     </h2>\n",
      "     <div class=\"grid grid-cols-2 italic\">\n",
      "      <p>\n",
      "       1996-11-04\n",
      "      </p>\n",
      "      <p class=\"text-right\">\n",
      "       By Adam Gonzales\n",
      "      </p>\n",
      "     </div>\n",
      "     <p>\n",
      "      Court relate can away including.\n",
      "Reflect many foreign usually southern. Expert natural arrive thus trip cultural. Today soon sister bit who.\n",
      "     </p>\n",
      "    </div>\n",
      "   </div>\n",
      "  </div>\n",
      " </body>\n",
      "</html>\n"
     ]
    }
   ],
   "source": [
    "soup = BeautifulSoup(html)\n",
    "print(soup.prettify())"
   ]
  },
  {
   "cell_type": "markdown",
   "metadata": {},
   "source": [
    "From here we can switch between the browser and python and try out different ways of getting different parts of the html document.\n",
    "\n",
    "We can leverage Google Chrome's developer tools by right clicking and choosing \"Inspect\". We can then use this html document inspector to help us with our web scraping."
   ]
  },
  {
   "cell_type": "code",
   "execution_count": 4,
   "metadata": {},
   "outputs": [],
   "source": [
    "# Use beautifulsoup methods to extract necessary content from an article"
   ]
  },
  {
   "cell_type": "code",
   "execution_count": 5,
   "metadata": {},
   "outputs": [],
   "source": [
    "articles = soup.select('.grid-cols-4')\n",
    "# articles"
   ]
  },
  {
   "cell_type": "code",
   "execution_count": 6,
   "metadata": {},
   "outputs": [
    {
     "data": {
      "text/plain": [
       "<div class=\"grid grid-cols-4 gap-x-4 border rounded pr-3 bg-green-50 hover:shadow-lg transition duration-500\">\n",
       "<img src=\"/static/placeholder.png\"/>\n",
       "<div class=\"col-span-3 space-y-3 py-3\">\n",
       "<h2 class=\"text-2xl text-green-900\">security fine southern</h2>\n",
       "<div class=\"grid grid-cols-2 italic\">\n",
       "<p> 2013-04-19 </p>\n",
       "<p class=\"text-right\">By Michael Lindsey </p>\n",
       "</div>\n",
       "<p>On spend watch station south. Care need note politics possible both class. Health word ready thought discuss.\n",
       "Write major lot imagine. Stop debate hair key about between happy. Nature group third song section process organization strong. Minute major there well serious girl.</p>\n",
       "</div>\n",
       "</div>"
      ]
     },
     "execution_count": 6,
     "metadata": {},
     "output_type": "execute_result"
    }
   ],
   "source": [
    "article = articles[0]\n",
    "article"
   ]
  },
  {
   "cell_type": "code",
   "execution_count": 7,
   "metadata": {},
   "outputs": [
    {
     "data": {
      "text/plain": [
       "'security fine southern'"
      ]
     },
     "execution_count": 7,
     "metadata": {},
     "output_type": "execute_result"
    }
   ],
   "source": [
    "# soupmethod.tagname.text\n",
    "headline = article.h2.text\n",
    "headline"
   ]
  },
  {
   "cell_type": "code",
   "execution_count": 8,
   "metadata": {},
   "outputs": [
    {
     "data": {
      "text/plain": [
       "'2013-04-19'"
      ]
     },
     "execution_count": 8,
     "metadata": {},
     "output_type": "execute_result"
    }
   ],
   "source": [
    "# get the date\n",
    "# there was some white space that we stripped out\n",
    "date = article.p.text.strip()\n",
    "date"
   ]
  },
  {
   "cell_type": "code",
   "execution_count": 9,
   "metadata": {},
   "outputs": [
    {
     "data": {
      "text/plain": [
       "'Michael Lindsey'"
      ]
     },
     "execution_count": 9,
     "metadata": {},
     "output_type": "execute_result"
    }
   ],
   "source": [
    "article.select('.text-right')[0].text.strip()[3:]"
   ]
  },
  {
   "cell_type": "code",
   "execution_count": 10,
   "metadata": {},
   "outputs": [
    {
     "data": {
      "text/plain": [
       "'Michael Lindsey'"
      ]
     },
     "execution_count": 10,
     "metadata": {},
     "output_type": "execute_result"
    }
   ],
   "source": [
    "# the dot before text is a notation to use before selecting the class and is required\n",
    "author = article.select('.text-right')[0].text.strip()[3:]\n",
    "author"
   ]
  },
  {
   "cell_type": "code",
   "execution_count": 11,
   "metadata": {},
   "outputs": [
    {
     "data": {
      "text/plain": [
       "'On spend watch station south. Care need note politics possible both class. Health word ready thought discuss.\\nWrite major lot imagine. Stop debate hair key about between happy. Nature group third song section process organization strong. Minute major there well serious girl.'"
      ]
     },
     "execution_count": 11,
     "metadata": {},
     "output_type": "execute_result"
    }
   ],
   "source": [
    "# getting the actual content\n",
    "content = article.select('p')[-1].text\n",
    "content"
   ]
  },
  {
   "cell_type": "markdown",
   "metadata": {},
   "source": [
    "Bringing it all together: Make a function"
   ]
  },
  {
   "cell_type": "code",
   "execution_count": 12,
   "metadata": {},
   "outputs": [],
   "source": [
    "def parse_news(article):\n",
    "    headline = article.h2.text\n",
    "    date = article.p.text.strip()\n",
    "    author = article.select('.text-right')[0].text.strip()[3:]\n",
    "    content = article.select('p')[-1].text\n",
    "    \n",
    "    return {\n",
    "        'headline': headline, 'date': date, 'author': author,\n",
    "        'content': content\n",
    "    }"
   ]
  },
  {
   "cell_type": "code",
   "execution_count": 13,
   "metadata": {},
   "outputs": [
    {
     "data": {
      "text/plain": [
       "{'headline': 'security fine southern',\n",
       " 'date': '2013-04-19',\n",
       " 'author': 'Michael Lindsey',\n",
       " 'content': 'On spend watch station south. Care need note politics possible both class. Health word ready thought discuss.\\nWrite major lot imagine. Stop debate hair key about between happy. Nature group third song section process organization strong. Minute major there well serious girl.'}"
      ]
     },
     "execution_count": 13,
     "metadata": {},
     "output_type": "execute_result"
    }
   ],
   "source": [
    "\n",
    "parse_news(article)"
   ]
  },
  {
   "cell_type": "code",
   "execution_count": 14,
   "metadata": {
    "scrolled": true
   },
   "outputs": [],
   "source": [
    "# loop through all the articles\n",
    "# [parse_news(article) for article in articles]"
   ]
  },
  {
   "cell_type": "code",
   "execution_count": 15,
   "metadata": {},
   "outputs": [
    {
     "data": {
      "text/html": [
       "<div>\n",
       "<style scoped>\n",
       "    .dataframe tbody tr th:only-of-type {\n",
       "        vertical-align: middle;\n",
       "    }\n",
       "\n",
       "    .dataframe tbody tr th {\n",
       "        vertical-align: top;\n",
       "    }\n",
       "\n",
       "    .dataframe thead th {\n",
       "        text-align: right;\n",
       "    }\n",
       "</style>\n",
       "<table border=\"1\" class=\"dataframe\">\n",
       "  <thead>\n",
       "    <tr style=\"text-align: right;\">\n",
       "      <th></th>\n",
       "      <th>headline</th>\n",
       "      <th>date</th>\n",
       "      <th>author</th>\n",
       "      <th>content</th>\n",
       "    </tr>\n",
       "  </thead>\n",
       "  <tbody>\n",
       "    <tr>\n",
       "      <th>0</th>\n",
       "      <td>security fine southern</td>\n",
       "      <td>2013-04-19</td>\n",
       "      <td>Michael Lindsey</td>\n",
       "      <td>On spend watch station south. Care need note p...</td>\n",
       "    </tr>\n",
       "    <tr>\n",
       "      <th>1</th>\n",
       "      <td>challenge pressure move</td>\n",
       "      <td>1987-06-03</td>\n",
       "      <td>Spencer Waller</td>\n",
       "      <td>Decide could finally throughout thing debate l...</td>\n",
       "    </tr>\n",
       "    <tr>\n",
       "      <th>2</th>\n",
       "      <td>option happen himself</td>\n",
       "      <td>1984-11-06</td>\n",
       "      <td>Brandon Ellis</td>\n",
       "      <td>Mission reduce camera. Social religious respon...</td>\n",
       "    </tr>\n",
       "    <tr>\n",
       "      <th>3</th>\n",
       "      <td>little democratic popular</td>\n",
       "      <td>2003-11-08</td>\n",
       "      <td>Angela Ewing</td>\n",
       "      <td>Dog ok space yeah. Among certainly including.\\...</td>\n",
       "    </tr>\n",
       "    <tr>\n",
       "      <th>4</th>\n",
       "      <td>score help before</td>\n",
       "      <td>2022-01-27</td>\n",
       "      <td>Jay Johnson</td>\n",
       "      <td>Within any enter cut play sit clearly as. Whet...</td>\n",
       "    </tr>\n",
       "    <tr>\n",
       "      <th>5</th>\n",
       "      <td>under certainly style</td>\n",
       "      <td>2016-06-14</td>\n",
       "      <td>Michael Mitchell</td>\n",
       "      <td>Commercial interest company. Fast national gre...</td>\n",
       "    </tr>\n",
       "    <tr>\n",
       "      <th>6</th>\n",
       "      <td>reduce up black</td>\n",
       "      <td>1971-09-28</td>\n",
       "      <td>Mark Blevins</td>\n",
       "      <td>Answer argue social voice.\\nTrip worker bill f...</td>\n",
       "    </tr>\n",
       "    <tr>\n",
       "      <th>7</th>\n",
       "      <td>stand team suddenly</td>\n",
       "      <td>1971-02-19</td>\n",
       "      <td>Julie Walker</td>\n",
       "      <td>Top industry easy whole name report. Floor tri...</td>\n",
       "    </tr>\n",
       "    <tr>\n",
       "      <th>8</th>\n",
       "      <td>worry our side</td>\n",
       "      <td>1979-07-22</td>\n",
       "      <td>Stacey Ortiz</td>\n",
       "      <td>Baby gun relate morning threat as. Material tr...</td>\n",
       "    </tr>\n",
       "    <tr>\n",
       "      <th>9</th>\n",
       "      <td>candidate customer until</td>\n",
       "      <td>1983-03-11</td>\n",
       "      <td>Cory White</td>\n",
       "      <td>Everybody some analysis do arm stand about. Re...</td>\n",
       "    </tr>\n",
       "    <tr>\n",
       "      <th>10</th>\n",
       "      <td>moment character red</td>\n",
       "      <td>1989-12-19</td>\n",
       "      <td>Allison Williams</td>\n",
       "      <td>Maybe similar your three. End least issue alon...</td>\n",
       "    </tr>\n",
       "    <tr>\n",
       "      <th>11</th>\n",
       "      <td>artist cost us</td>\n",
       "      <td>1996-11-04</td>\n",
       "      <td>Adam Gonzales</td>\n",
       "      <td>Court relate can away including.\\nReflect many...</td>\n",
       "    </tr>\n",
       "  </tbody>\n",
       "</table>\n",
       "</div>"
      ],
      "text/plain": [
       "                     headline        date            author  \\\n",
       "0      security fine southern  2013-04-19   Michael Lindsey   \n",
       "1     challenge pressure move  1987-06-03    Spencer Waller   \n",
       "2       option happen himself  1984-11-06     Brandon Ellis   \n",
       "3   little democratic popular  2003-11-08      Angela Ewing   \n",
       "4           score help before  2022-01-27       Jay Johnson   \n",
       "5       under certainly style  2016-06-14  Michael Mitchell   \n",
       "6             reduce up black  1971-09-28      Mark Blevins   \n",
       "7         stand team suddenly  1971-02-19      Julie Walker   \n",
       "8              worry our side  1979-07-22      Stacey Ortiz   \n",
       "9    candidate customer until  1983-03-11        Cory White   \n",
       "10       moment character red  1989-12-19  Allison Williams   \n",
       "11             artist cost us  1996-11-04     Adam Gonzales   \n",
       "\n",
       "                                              content  \n",
       "0   On spend watch station south. Care need note p...  \n",
       "1   Decide could finally throughout thing debate l...  \n",
       "2   Mission reduce camera. Social religious respon...  \n",
       "3   Dog ok space yeah. Among certainly including.\\...  \n",
       "4   Within any enter cut play sit clearly as. Whet...  \n",
       "5   Commercial interest company. Fast national gre...  \n",
       "6   Answer argue social voice.\\nTrip worker bill f...  \n",
       "7   Top industry easy whole name report. Floor tri...  \n",
       "8   Baby gun relate morning threat as. Material tr...  \n",
       "9   Everybody some analysis do arm stand about. Re...  \n",
       "10  Maybe similar your three. End least issue alon...  \n",
       "11  Court relate can away including.\\nReflect many...  "
      ]
     },
     "execution_count": 15,
     "metadata": {},
     "output_type": "execute_result"
    }
   ],
   "source": [
    "# loop through all the articles\n",
    "pd.DataFrame([parse_news(article) for article in articles])"
   ]
  },
  {
   "cell_type": "markdown",
   "metadata": {},
   "source": [
    "## Scraping People"
   ]
  },
  {
   "cell_type": "code",
   "execution_count": 16,
   "metadata": {},
   "outputs": [],
   "source": [
    "response = requests.get('https://web-scraping-demo.zgulde.net/people', headers={'user-agent': 'Codeup DS Hoppper'})\n",
    "soup = BeautifulSoup(response.text)"
   ]
  },
  {
   "cell_type": "code",
   "execution_count": 17,
   "metadata": {},
   "outputs": [
    {
     "name": "stdout",
     "output_type": "stream",
     "text": [
      "<!DOCTYPE html>\n",
      "<html lang=\"en\">\n",
      " <head>\n",
      "  <meta charset=\"utf-8\"/>\n",
      "  <meta content=\"IE=edge\" http-equiv=\"X-UA-Compatible\"/>\n",
      "  <meta content=\"width=device-width, initial-scale=1.0\" name=\"viewport\"/>\n",
      "  <title>\n",
      "   Example People Page\n",
      "  </title>\n",
      "  <link href=\"https://unpkg.com/tailwindcss@^2/dist/tailwind.min.css\" rel=\"stylesheet\"/>\n",
      "  <link href=\"https://cdn.jsdelivr.net/npm/bootstrap-icons@1.4.1/font/bootstrap-icons.css\" rel=\"stylesheet\"/>\n",
      " </head>\n",
      " <body class=\"mx-auto max-w-screen-lg pb-32\">\n",
      "  <h1 class=\"my-5 text-4xl text-center\">\n",
      "   People\n",
      "  </h1>\n",
      "  <div class=\"my-5 text-red-800 px-5 py-3 bg-red-100 font-bold\">\n",
      "   <p>\n",
      "    <i class=\"bi bi-exclamation-circle text-xl\">\n",
      "    </i>\n",
      "    All data on this page is strictly for demonstration purposes and fake.\n",
      "   </p>\n",
      "  </div>\n",
      "  <div class=\"grid grid-cols-2 gap-x-12 gap-y-16\" id=\"people\">\n",
      "   <div class=\"person border rounded px-3 py-5 grid grid-cols-2 gap-x-3 bg-purple-50 hover:shadow-lg transition duration-500\">\n",
      "    <h2 class=\"text-2xl text-purple-800 name col-span-full border-b\">\n",
      "     Andrew Moore\n",
      "    </h2>\n",
      "    <p class=\"quote col-span-full px-5 py-5 text-center text-gray-500\">\n",
      "     \"Down-sized object-oriented moderator\"\n",
      "    </p>\n",
      "    <div class=\"grid grid-cols-9\">\n",
      "     <i class=\"bi bi-envelope-fill text-purple-800\">\n",
      "     </i>\n",
      "     <p class=\"email col-span-8\">\n",
      "      zroberts@wiley.net\n",
      "     </p>\n",
      "     <i class=\"bi bi-telephone-fill text-purple-800\">\n",
      "     </i>\n",
      "     <p class=\"phone col-span-8\">\n",
      "      001-098-027-7795x94100\n",
      "     </p>\n",
      "    </div>\n",
      "    <div class=\"address grid grid-cols-9\">\n",
      "     <i class=\"bi bi-geo-fill text-purple-800\">\n",
      "     </i>\n",
      "     <p class=\"col-span-8\">\n",
      "      38041 Dawson Shoals\n",
      "      <br/>\n",
      "      Riveraton, NH 41221\n",
      "     </p>\n",
      "    </div>\n",
      "   </div>\n",
      "   <div class=\"person border rounded px-3 py-5 grid grid-cols-2 gap-x-3 bg-purple-50 hover:shadow-lg transition duration-500\">\n",
      "    <h2 class=\"text-2xl text-purple-800 name col-span-full border-b\">\n",
      "     Ashley Robinson\n",
      "    </h2>\n",
      "    <p class=\"quote col-span-full px-5 py-5 text-center text-gray-500\">\n",
      "     \"De-engineered object-oriented process improvement\"\n",
      "    </p>\n",
      "    <div class=\"grid grid-cols-9\">\n",
      "     <i class=\"bi bi-envelope-fill text-purple-800\">\n",
      "     </i>\n",
      "     <p class=\"email col-span-8\">\n",
      "      alexandra50@hotmail.com\n",
      "     </p>\n",
      "     <i class=\"bi bi-telephone-fill text-purple-800\">\n",
      "     </i>\n",
      "     <p class=\"phone col-span-8\">\n",
      "      250.734.4739x5861\n",
      "     </p>\n",
      "    </div>\n",
      "    <div class=\"address grid grid-cols-9\">\n",
      "     <i class=\"bi bi-geo-fill text-purple-800\">\n",
      "     </i>\n",
      "     <p class=\"col-span-8\">\n",
      "      5194 Timothy Path Apt. 254\n",
      "      <br/>\n",
      "      Mccallhaven, MO 71865\n",
      "     </p>\n",
      "    </div>\n",
      "   </div>\n",
      "   <div class=\"person border rounded px-3 py-5 grid grid-cols-2 gap-x-3 bg-purple-50 hover:shadow-lg transition duration-500\">\n",
      "    <h2 class=\"text-2xl text-purple-800 name col-span-full border-b\">\n",
      "     Casey Lawrence\n",
      "    </h2>\n",
      "    <p class=\"quote col-span-full px-5 py-5 text-center text-gray-500\">\n",
      "     \"Re-contextualized disintermediate application\"\n",
      "    </p>\n",
      "    <div class=\"grid grid-cols-9\">\n",
      "     <i class=\"bi bi-envelope-fill text-purple-800\">\n",
      "     </i>\n",
      "     <p class=\"email col-span-8\">\n",
      "      kwalker@parsons.com\n",
      "     </p>\n",
      "     <i class=\"bi bi-telephone-fill text-purple-800\">\n",
      "     </i>\n",
      "     <p class=\"phone col-span-8\">\n",
      "      438.773.8967\n",
      "     </p>\n",
      "    </div>\n",
      "    <div class=\"address grid grid-cols-9\">\n",
      "     <i class=\"bi bi-geo-fill text-purple-800\">\n",
      "     </i>\n",
      "     <p class=\"col-span-8\">\n",
      "      73062 Ross Lakes Suite 322\n",
      "      <br/>\n",
      "      Lindseyhaven, SC 89183\n",
      "     </p>\n",
      "    </div>\n",
      "   </div>\n",
      "   <div class=\"person border rounded px-3 py-5 grid grid-cols-2 gap-x-3 bg-purple-50 hover:shadow-lg transition duration-500\">\n",
      "    <h2 class=\"text-2xl text-purple-800 name col-span-full border-b\">\n",
      "     Tammy Burnett\n",
      "    </h2>\n",
      "    <p class=\"quote col-span-full px-5 py-5 text-center text-gray-500\">\n",
      "     \"Synergistic client-driven installation\"\n",
      "    </p>\n",
      "    <div class=\"grid grid-cols-9\">\n",
      "     <i class=\"bi bi-envelope-fill text-purple-800\">\n",
      "     </i>\n",
      "     <p class=\"email col-span-8\">\n",
      "      wrightmelanie@hotmail.com\n",
      "     </p>\n",
      "     <i class=\"bi bi-telephone-fill text-purple-800\">\n",
      "     </i>\n",
      "     <p class=\"phone col-span-8\">\n",
      "      5718147101\n",
      "     </p>\n",
      "    </div>\n",
      "    <div class=\"address grid grid-cols-9\">\n",
      "     <i class=\"bi bi-geo-fill text-purple-800\">\n",
      "     </i>\n",
      "     <p class=\"col-span-8\">\n",
      "      558 Bauer Via\n",
      "      <br/>\n",
      "      South Dianeshire, CA 44238\n",
      "     </p>\n",
      "    </div>\n",
      "   </div>\n",
      "   <div class=\"person border rounded px-3 py-5 grid grid-cols-2 gap-x-3 bg-purple-50 hover:shadow-lg transition duration-500\">\n",
      "    <h2 class=\"text-2xl text-purple-800 name col-span-full border-b\">\n",
      "     Charles Farmer\n",
      "    </h2>\n",
      "    <p class=\"quote col-span-full px-5 py-5 text-center text-gray-500\">\n",
      "     \"Enterprise-wide eco-centric migration\"\n",
      "    </p>\n",
      "    <div class=\"grid grid-cols-9\">\n",
      "     <i class=\"bi bi-envelope-fill text-purple-800\">\n",
      "     </i>\n",
      "     <p class=\"email col-span-8\">\n",
      "      zwells@sanders.com\n",
      "     </p>\n",
      "     <i class=\"bi bi-telephone-fill text-purple-800\">\n",
      "     </i>\n",
      "     <p class=\"phone col-span-8\">\n",
      "      +1-325-027-4192\n",
      "     </p>\n",
      "    </div>\n",
      "    <div class=\"address grid grid-cols-9\">\n",
      "     <i class=\"bi bi-geo-fill text-purple-800\">\n",
      "     </i>\n",
      "     <p class=\"col-span-8\">\n",
      "      34829 Jamie Trace\n",
      "      <br/>\n",
      "      South Justin, SC 70782\n",
      "     </p>\n",
      "    </div>\n",
      "   </div>\n",
      "   <div class=\"person border rounded px-3 py-5 grid grid-cols-2 gap-x-3 bg-purple-50 hover:shadow-lg transition duration-500\">\n",
      "    <h2 class=\"text-2xl text-purple-800 name col-span-full border-b\">\n",
      "     Heather Lynch\n",
      "    </h2>\n",
      "    <p class=\"quote col-span-full px-5 py-5 text-center text-gray-500\">\n",
      "     \"Re-contextualized cohesive forecast\"\n",
      "    </p>\n",
      "    <div class=\"grid grid-cols-9\">\n",
      "     <i class=\"bi bi-envelope-fill text-purple-800\">\n",
      "     </i>\n",
      "     <p class=\"email col-span-8\">\n",
      "      rgarcia@yahoo.com\n",
      "     </p>\n",
      "     <i class=\"bi bi-telephone-fill text-purple-800\">\n",
      "     </i>\n",
      "     <p class=\"phone col-span-8\">\n",
      "      9627196987\n",
      "     </p>\n",
      "    </div>\n",
      "    <div class=\"address grid grid-cols-9\">\n",
      "     <i class=\"bi bi-geo-fill text-purple-800\">\n",
      "     </i>\n",
      "     <p class=\"col-span-8\">\n",
      "      72877 Frost Spring\n",
      "      <br/>\n",
      "      Shawnmouth, DE 18056\n",
      "     </p>\n",
      "    </div>\n",
      "   </div>\n",
      "   <div class=\"person border rounded px-3 py-5 grid grid-cols-2 gap-x-3 bg-purple-50 hover:shadow-lg transition duration-500\">\n",
      "    <h2 class=\"text-2xl text-purple-800 name col-span-full border-b\">\n",
      "     Mary Peterson\n",
      "    </h2>\n",
      "    <p class=\"quote col-span-full px-5 py-5 text-center text-gray-500\">\n",
      "     \"Customizable 4thgeneration throughput\"\n",
      "    </p>\n",
      "    <div class=\"grid grid-cols-9\">\n",
      "     <i class=\"bi bi-envelope-fill text-purple-800\">\n",
      "     </i>\n",
      "     <p class=\"email col-span-8\">\n",
      "      jennifercuevas@collier-hogan.com\n",
      "     </p>\n",
      "     <i class=\"bi bi-telephone-fill text-purple-800\">\n",
      "     </i>\n",
      "     <p class=\"phone col-span-8\">\n",
      "      (657)582-0996x02985\n",
      "     </p>\n",
      "    </div>\n",
      "    <div class=\"address grid grid-cols-9\">\n",
      "     <i class=\"bi bi-geo-fill text-purple-800\">\n",
      "     </i>\n",
      "     <p class=\"col-span-8\">\n",
      "      7786 Brandon Landing\n",
      "      <br/>\n",
      "      East Jennifer, IN 19540\n",
      "     </p>\n",
      "    </div>\n",
      "   </div>\n",
      "   <div class=\"person border rounded px-3 py-5 grid grid-cols-2 gap-x-3 bg-purple-50 hover:shadow-lg transition duration-500\">\n",
      "    <h2 class=\"text-2xl text-purple-800 name col-span-full border-b\">\n",
      "     Linda Murray\n",
      "    </h2>\n",
      "    <p class=\"quote col-span-full px-5 py-5 text-center text-gray-500\">\n",
      "     \"De-engineered bandwidth-monitored installation\"\n",
      "    </p>\n",
      "    <div class=\"grid grid-cols-9\">\n",
      "     <i class=\"bi bi-envelope-fill text-purple-800\">\n",
      "     </i>\n",
      "     <p class=\"email col-span-8\">\n",
      "      romanmarcus@gmail.com\n",
      "     </p>\n",
      "     <i class=\"bi bi-telephone-fill text-purple-800\">\n",
      "     </i>\n",
      "     <p class=\"phone col-span-8\">\n",
      "      857.989.0351x4733\n",
      "     </p>\n",
      "    </div>\n",
      "    <div class=\"address grid grid-cols-9\">\n",
      "     <i class=\"bi bi-geo-fill text-purple-800\">\n",
      "     </i>\n",
      "     <p class=\"col-span-8\">\n",
      "      18799 Schroeder Locks\n",
      "      <br/>\n",
      "      Port Paula, OK 55336\n",
      "     </p>\n",
      "    </div>\n",
      "   </div>\n",
      "   <div class=\"person border rounded px-3 py-5 grid grid-cols-2 gap-x-3 bg-purple-50 hover:shadow-lg transition duration-500\">\n",
      "    <h2 class=\"text-2xl text-purple-800 name col-span-full border-b\">\n",
      "     Erica Rogers\n",
      "    </h2>\n",
      "    <p class=\"quote col-span-full px-5 py-5 text-center text-gray-500\">\n",
      "     \"Stand-alone maximized algorithm\"\n",
      "    </p>\n",
      "    <div class=\"grid grid-cols-9\">\n",
      "     <i class=\"bi bi-envelope-fill text-purple-800\">\n",
      "     </i>\n",
      "     <p class=\"email col-span-8\">\n",
      "      nicolelittle@hotmail.com\n",
      "     </p>\n",
      "     <i class=\"bi bi-telephone-fill text-purple-800\">\n",
      "     </i>\n",
      "     <p class=\"phone col-span-8\">\n",
      "      (648)719-4877\n",
      "     </p>\n",
      "    </div>\n",
      "    <div class=\"address grid grid-cols-9\">\n",
      "     <i class=\"bi bi-geo-fill text-purple-800\">\n",
      "     </i>\n",
      "     <p class=\"col-span-8\">\n",
      "      34992 Matthew Center Suite 080\n",
      "      <br/>\n",
      "      Kelleyfurt, OR 84868\n",
      "     </p>\n",
      "    </div>\n",
      "   </div>\n",
      "   <div class=\"person border rounded px-3 py-5 grid grid-cols-2 gap-x-3 bg-purple-50 hover:shadow-lg transition duration-500\">\n",
      "    <h2 class=\"text-2xl text-purple-800 name col-span-full border-b\">\n",
      "     Jeremy Lee\n",
      "    </h2>\n",
      "    <p class=\"quote col-span-full px-5 py-5 text-center text-gray-500\">\n",
      "     \"Enhanced 24hour Local Area Network\"\n",
      "    </p>\n",
      "    <div class=\"grid grid-cols-9\">\n",
      "     <i class=\"bi bi-envelope-fill text-purple-800\">\n",
      "     </i>\n",
      "     <p class=\"email col-span-8\">\n",
      "      mclark@west.org\n",
      "     </p>\n",
      "     <i class=\"bi bi-telephone-fill text-purple-800\">\n",
      "     </i>\n",
      "     <p class=\"phone col-span-8\">\n",
      "      556-220-0114x86437\n",
      "     </p>\n",
      "    </div>\n",
      "    <div class=\"address grid grid-cols-9\">\n",
      "     <i class=\"bi bi-geo-fill text-purple-800\">\n",
      "     </i>\n",
      "     <p class=\"col-span-8\">\n",
      "      802 Benjamin Port\n",
      "      <br/>\n",
      "      Stephanieberg, KY 59602\n",
      "     </p>\n",
      "    </div>\n",
      "   </div>\n",
      "  </div>\n",
      " </body>\n",
      "</html>\n"
     ]
    }
   ],
   "source": [
    "print(soup.prettify())"
   ]
  },
  {
   "cell_type": "code",
   "execution_count": 18,
   "metadata": {},
   "outputs": [
    {
     "data": {
      "text/plain": [
       "[<div class=\"person border rounded px-3 py-5 grid grid-cols-2 gap-x-3 bg-purple-50 hover:shadow-lg transition duration-500\">\n",
       " <h2 class=\"text-2xl text-purple-800 name col-span-full border-b\">Andrew Moore</h2>\n",
       " <p class=\"quote col-span-full px-5 py-5 text-center text-gray-500\">\n",
       "             \"Down-sized object-oriented moderator\"\n",
       "         </p>\n",
       " <div class=\"grid grid-cols-9\">\n",
       " <i class=\"bi bi-envelope-fill text-purple-800\"></i>\n",
       " <p class=\"email col-span-8\">zroberts@wiley.net</p>\n",
       " <i class=\"bi bi-telephone-fill text-purple-800\"></i>\n",
       " <p class=\"phone col-span-8\">001-098-027-7795x94100</p>\n",
       " </div>\n",
       " <div class=\"address grid grid-cols-9\">\n",
       " <i class=\"bi bi-geo-fill text-purple-800\"></i>\n",
       " <p class=\"col-span-8\">\n",
       "                 38041 Dawson Shoals <br/>\n",
       "                 Riveraton, NH 41221\n",
       "             </p>\n",
       " </div>\n",
       " </div>,\n",
       " <div class=\"person border rounded px-3 py-5 grid grid-cols-2 gap-x-3 bg-purple-50 hover:shadow-lg transition duration-500\">\n",
       " <h2 class=\"text-2xl text-purple-800 name col-span-full border-b\">Ashley Robinson</h2>\n",
       " <p class=\"quote col-span-full px-5 py-5 text-center text-gray-500\">\n",
       "             \"De-engineered object-oriented process improvement\"\n",
       "         </p>\n",
       " <div class=\"grid grid-cols-9\">\n",
       " <i class=\"bi bi-envelope-fill text-purple-800\"></i>\n",
       " <p class=\"email col-span-8\">alexandra50@hotmail.com</p>\n",
       " <i class=\"bi bi-telephone-fill text-purple-800\"></i>\n",
       " <p class=\"phone col-span-8\">250.734.4739x5861</p>\n",
       " </div>\n",
       " <div class=\"address grid grid-cols-9\">\n",
       " <i class=\"bi bi-geo-fill text-purple-800\"></i>\n",
       " <p class=\"col-span-8\">\n",
       "                 5194 Timothy Path Apt. 254 <br/>\n",
       "                 Mccallhaven, MO 71865\n",
       "             </p>\n",
       " </div>\n",
       " </div>,\n",
       " <div class=\"person border rounded px-3 py-5 grid grid-cols-2 gap-x-3 bg-purple-50 hover:shadow-lg transition duration-500\">\n",
       " <h2 class=\"text-2xl text-purple-800 name col-span-full border-b\">Casey Lawrence</h2>\n",
       " <p class=\"quote col-span-full px-5 py-5 text-center text-gray-500\">\n",
       "             \"Re-contextualized disintermediate application\"\n",
       "         </p>\n",
       " <div class=\"grid grid-cols-9\">\n",
       " <i class=\"bi bi-envelope-fill text-purple-800\"></i>\n",
       " <p class=\"email col-span-8\">kwalker@parsons.com</p>\n",
       " <i class=\"bi bi-telephone-fill text-purple-800\"></i>\n",
       " <p class=\"phone col-span-8\">438.773.8967</p>\n",
       " </div>\n",
       " <div class=\"address grid grid-cols-9\">\n",
       " <i class=\"bi bi-geo-fill text-purple-800\"></i>\n",
       " <p class=\"col-span-8\">\n",
       "                 73062 Ross Lakes Suite 322 <br/>\n",
       "                 Lindseyhaven, SC 89183\n",
       "             </p>\n",
       " </div>\n",
       " </div>,\n",
       " <div class=\"person border rounded px-3 py-5 grid grid-cols-2 gap-x-3 bg-purple-50 hover:shadow-lg transition duration-500\">\n",
       " <h2 class=\"text-2xl text-purple-800 name col-span-full border-b\">Tammy Burnett</h2>\n",
       " <p class=\"quote col-span-full px-5 py-5 text-center text-gray-500\">\n",
       "             \"Synergistic client-driven installation\"\n",
       "         </p>\n",
       " <div class=\"grid grid-cols-9\">\n",
       " <i class=\"bi bi-envelope-fill text-purple-800\"></i>\n",
       " <p class=\"email col-span-8\">wrightmelanie@hotmail.com</p>\n",
       " <i class=\"bi bi-telephone-fill text-purple-800\"></i>\n",
       " <p class=\"phone col-span-8\">5718147101</p>\n",
       " </div>\n",
       " <div class=\"address grid grid-cols-9\">\n",
       " <i class=\"bi bi-geo-fill text-purple-800\"></i>\n",
       " <p class=\"col-span-8\">\n",
       "                 558 Bauer Via <br/>\n",
       "                 South Dianeshire, CA 44238\n",
       "             </p>\n",
       " </div>\n",
       " </div>,\n",
       " <div class=\"person border rounded px-3 py-5 grid grid-cols-2 gap-x-3 bg-purple-50 hover:shadow-lg transition duration-500\">\n",
       " <h2 class=\"text-2xl text-purple-800 name col-span-full border-b\">Charles Farmer</h2>\n",
       " <p class=\"quote col-span-full px-5 py-5 text-center text-gray-500\">\n",
       "             \"Enterprise-wide eco-centric migration\"\n",
       "         </p>\n",
       " <div class=\"grid grid-cols-9\">\n",
       " <i class=\"bi bi-envelope-fill text-purple-800\"></i>\n",
       " <p class=\"email col-span-8\">zwells@sanders.com</p>\n",
       " <i class=\"bi bi-telephone-fill text-purple-800\"></i>\n",
       " <p class=\"phone col-span-8\">+1-325-027-4192</p>\n",
       " </div>\n",
       " <div class=\"address grid grid-cols-9\">\n",
       " <i class=\"bi bi-geo-fill text-purple-800\"></i>\n",
       " <p class=\"col-span-8\">\n",
       "                 34829 Jamie Trace <br/>\n",
       "                 South Justin, SC 70782\n",
       "             </p>\n",
       " </div>\n",
       " </div>,\n",
       " <div class=\"person border rounded px-3 py-5 grid grid-cols-2 gap-x-3 bg-purple-50 hover:shadow-lg transition duration-500\">\n",
       " <h2 class=\"text-2xl text-purple-800 name col-span-full border-b\">Heather Lynch</h2>\n",
       " <p class=\"quote col-span-full px-5 py-5 text-center text-gray-500\">\n",
       "             \"Re-contextualized cohesive forecast\"\n",
       "         </p>\n",
       " <div class=\"grid grid-cols-9\">\n",
       " <i class=\"bi bi-envelope-fill text-purple-800\"></i>\n",
       " <p class=\"email col-span-8\">rgarcia@yahoo.com</p>\n",
       " <i class=\"bi bi-telephone-fill text-purple-800\"></i>\n",
       " <p class=\"phone col-span-8\">9627196987</p>\n",
       " </div>\n",
       " <div class=\"address grid grid-cols-9\">\n",
       " <i class=\"bi bi-geo-fill text-purple-800\"></i>\n",
       " <p class=\"col-span-8\">\n",
       "                 72877 Frost Spring <br/>\n",
       "                 Shawnmouth, DE 18056\n",
       "             </p>\n",
       " </div>\n",
       " </div>,\n",
       " <div class=\"person border rounded px-3 py-5 grid grid-cols-2 gap-x-3 bg-purple-50 hover:shadow-lg transition duration-500\">\n",
       " <h2 class=\"text-2xl text-purple-800 name col-span-full border-b\">Mary Peterson</h2>\n",
       " <p class=\"quote col-span-full px-5 py-5 text-center text-gray-500\">\n",
       "             \"Customizable 4thgeneration throughput\"\n",
       "         </p>\n",
       " <div class=\"grid grid-cols-9\">\n",
       " <i class=\"bi bi-envelope-fill text-purple-800\"></i>\n",
       " <p class=\"email col-span-8\">jennifercuevas@collier-hogan.com</p>\n",
       " <i class=\"bi bi-telephone-fill text-purple-800\"></i>\n",
       " <p class=\"phone col-span-8\">(657)582-0996x02985</p>\n",
       " </div>\n",
       " <div class=\"address grid grid-cols-9\">\n",
       " <i class=\"bi bi-geo-fill text-purple-800\"></i>\n",
       " <p class=\"col-span-8\">\n",
       "                 7786 Brandon Landing <br/>\n",
       "                 East Jennifer, IN 19540\n",
       "             </p>\n",
       " </div>\n",
       " </div>,\n",
       " <div class=\"person border rounded px-3 py-5 grid grid-cols-2 gap-x-3 bg-purple-50 hover:shadow-lg transition duration-500\">\n",
       " <h2 class=\"text-2xl text-purple-800 name col-span-full border-b\">Linda Murray</h2>\n",
       " <p class=\"quote col-span-full px-5 py-5 text-center text-gray-500\">\n",
       "             \"De-engineered bandwidth-monitored installation\"\n",
       "         </p>\n",
       " <div class=\"grid grid-cols-9\">\n",
       " <i class=\"bi bi-envelope-fill text-purple-800\"></i>\n",
       " <p class=\"email col-span-8\">romanmarcus@gmail.com</p>\n",
       " <i class=\"bi bi-telephone-fill text-purple-800\"></i>\n",
       " <p class=\"phone col-span-8\">857.989.0351x4733</p>\n",
       " </div>\n",
       " <div class=\"address grid grid-cols-9\">\n",
       " <i class=\"bi bi-geo-fill text-purple-800\"></i>\n",
       " <p class=\"col-span-8\">\n",
       "                 18799 Schroeder Locks <br/>\n",
       "                 Port Paula, OK 55336\n",
       "             </p>\n",
       " </div>\n",
       " </div>,\n",
       " <div class=\"person border rounded px-3 py-5 grid grid-cols-2 gap-x-3 bg-purple-50 hover:shadow-lg transition duration-500\">\n",
       " <h2 class=\"text-2xl text-purple-800 name col-span-full border-b\">Erica Rogers</h2>\n",
       " <p class=\"quote col-span-full px-5 py-5 text-center text-gray-500\">\n",
       "             \"Stand-alone maximized algorithm\"\n",
       "         </p>\n",
       " <div class=\"grid grid-cols-9\">\n",
       " <i class=\"bi bi-envelope-fill text-purple-800\"></i>\n",
       " <p class=\"email col-span-8\">nicolelittle@hotmail.com</p>\n",
       " <i class=\"bi bi-telephone-fill text-purple-800\"></i>\n",
       " <p class=\"phone col-span-8\">(648)719-4877</p>\n",
       " </div>\n",
       " <div class=\"address grid grid-cols-9\">\n",
       " <i class=\"bi bi-geo-fill text-purple-800\"></i>\n",
       " <p class=\"col-span-8\">\n",
       "                 34992 Matthew Center Suite 080 <br/>\n",
       "                 Kelleyfurt, OR 84868\n",
       "             </p>\n",
       " </div>\n",
       " </div>,\n",
       " <div class=\"person border rounded px-3 py-5 grid grid-cols-2 gap-x-3 bg-purple-50 hover:shadow-lg transition duration-500\">\n",
       " <h2 class=\"text-2xl text-purple-800 name col-span-full border-b\">Jeremy Lee</h2>\n",
       " <p class=\"quote col-span-full px-5 py-5 text-center text-gray-500\">\n",
       "             \"Enhanced 24hour Local Area Network\"\n",
       "         </p>\n",
       " <div class=\"grid grid-cols-9\">\n",
       " <i class=\"bi bi-envelope-fill text-purple-800\"></i>\n",
       " <p class=\"email col-span-8\">mclark@west.org</p>\n",
       " <i class=\"bi bi-telephone-fill text-purple-800\"></i>\n",
       " <p class=\"phone col-span-8\">556-220-0114x86437</p>\n",
       " </div>\n",
       " <div class=\"address grid grid-cols-9\">\n",
       " <i class=\"bi bi-geo-fill text-purple-800\"></i>\n",
       " <p class=\"col-span-8\">\n",
       "                 802 Benjamin Port <br/>\n",
       "                 Stephanieberg, KY 59602\n",
       "             </p>\n",
       " </div>\n",
       " </div>]"
      ]
     },
     "execution_count": 18,
     "metadata": {},
     "output_type": "execute_result"
    }
   ],
   "source": [
    "cards = soup.select(\".person\")\n",
    "cards"
   ]
  },
  {
   "cell_type": "code",
   "execution_count": 19,
   "metadata": {},
   "outputs": [
    {
     "data": {
      "text/plain": [
       "<div class=\"person border rounded px-3 py-5 grid grid-cols-2 gap-x-3 bg-purple-50 hover:shadow-lg transition duration-500\">\n",
       "<h2 class=\"text-2xl text-purple-800 name col-span-full border-b\">Andrew Moore</h2>\n",
       "<p class=\"quote col-span-full px-5 py-5 text-center text-gray-500\">\n",
       "            \"Down-sized object-oriented moderator\"\n",
       "        </p>\n",
       "<div class=\"grid grid-cols-9\">\n",
       "<i class=\"bi bi-envelope-fill text-purple-800\"></i>\n",
       "<p class=\"email col-span-8\">zroberts@wiley.net</p>\n",
       "<i class=\"bi bi-telephone-fill text-purple-800\"></i>\n",
       "<p class=\"phone col-span-8\">001-098-027-7795x94100</p>\n",
       "</div>\n",
       "<div class=\"address grid grid-cols-9\">\n",
       "<i class=\"bi bi-geo-fill text-purple-800\"></i>\n",
       "<p class=\"col-span-8\">\n",
       "                38041 Dawson Shoals <br/>\n",
       "                Riveraton, NH 41221\n",
       "            </p>\n",
       "</div>\n",
       "</div>"
      ]
     },
     "execution_count": 19,
     "metadata": {},
     "output_type": "execute_result"
    }
   ],
   "source": [
    "card = cards[0]\n",
    "card"
   ]
  },
  {
   "cell_type": "code",
   "execution_count": 20,
   "metadata": {},
   "outputs": [
    {
     "data": {
      "text/plain": [
       "'Andrew Moore'"
      ]
     },
     "execution_count": 20,
     "metadata": {},
     "output_type": "execute_result"
    }
   ],
   "source": [
    "name = card.h2.text\n",
    "name"
   ]
  },
  {
   "cell_type": "code",
   "execution_count": 21,
   "metadata": {},
   "outputs": [
    {
     "data": {
      "text/plain": [
       "'\"Down-sized object-oriented moderator\"'"
      ]
     },
     "execution_count": 21,
     "metadata": {},
     "output_type": "execute_result"
    }
   ],
   "source": [
    "quote = card.p.text.strip()\n",
    "quote"
   ]
  },
  {
   "cell_type": "code",
   "execution_count": 22,
   "metadata": {},
   "outputs": [
    {
     "data": {
      "text/plain": [
       "'zroberts@wiley.net'"
      ]
     },
     "execution_count": 22,
     "metadata": {},
     "output_type": "execute_result"
    }
   ],
   "source": [
    "email = card.find_all('p')[1].text\n",
    "email"
   ]
  },
  {
   "cell_type": "code",
   "execution_count": 23,
   "metadata": {},
   "outputs": [
    {
     "data": {
      "text/plain": [
       "'001-098-027-7795x94100'"
      ]
     },
     "execution_count": 23,
     "metadata": {},
     "output_type": "execute_result"
    }
   ],
   "source": [
    "phone = card.find_all('p')[2].text\n",
    "phone"
   ]
  },
  {
   "cell_type": "code",
   "execution_count": 24,
   "metadata": {},
   "outputs": [],
   "source": [
    "# address = card.find_all('p')[3].text.strip()\n",
    "# address"
   ]
  },
  {
   "cell_type": "code",
   "execution_count": 25,
   "metadata": {},
   "outputs": [
    {
     "data": {
      "text/plain": [
       "'38041 Dawson ShoalsRiveraton, NH 41221'"
      ]
     },
     "execution_count": 25,
     "metadata": {},
     "output_type": "execute_result"
    }
   ],
   "source": [
    "import re\n",
    "address = card.find_all('p')[3].text.strip()\n",
    "address = re.sub(r\"\\s{2,}\", \"\", address)\n",
    "\n",
    "address"
   ]
  },
  {
   "cell_type": "code",
   "execution_count": 26,
   "metadata": {},
   "outputs": [
    {
     "data": {
      "text/plain": [
       "[<p class=\"quote col-span-full px-5 py-5 text-center text-gray-500\">\n",
       "             \"Down-sized object-oriented moderator\"\n",
       "         </p>,\n",
       " <p class=\"email col-span-8\">zroberts@wiley.net</p>,\n",
       " <p class=\"phone col-span-8\">001-098-027-7795x94100</p>,\n",
       " <p class=\"col-span-8\">\n",
       "                 38041 Dawson Shoals <br/>\n",
       "                 Riveraton, NH 41221\n",
       "             </p>]"
      ]
     },
     "execution_count": 26,
     "metadata": {},
     "output_type": "execute_result"
    }
   ],
   "source": [
    "card.find_all('p')"
   ]
  },
  {
   "cell_type": "code",
   "execution_count": 27,
   "metadata": {},
   "outputs": [],
   "source": [
    "def parse_person(card):\n",
    "    name = card.h2.text\n",
    "    quote = card.p.text.strip()\n",
    "    email = card.find_all('p')[1].text\n",
    "    phone = card.find_all('p')[2].text\n",
    "    address = card.find_all('p')[3].text.strip()\n",
    "    address = re.sub(r\"\\s{2,}\", \"\", address)\n",
    "    \n",
    "    return {\n",
    "        'name': name, 'quote': quote, 'email': email,\n",
    "        'phone': phone,\n",
    "        'address': address\n",
    "    }"
   ]
  },
  {
   "cell_type": "code",
   "execution_count": 28,
   "metadata": {},
   "outputs": [
    {
     "data": {
      "text/plain": [
       "{'name': 'Andrew Moore',\n",
       " 'quote': '\"Down-sized object-oriented moderator\"',\n",
       " 'email': 'zroberts@wiley.net',\n",
       " 'phone': '001-098-027-7795x94100',\n",
       " 'address': '38041 Dawson ShoalsRiveraton, NH 41221'}"
      ]
     },
     "execution_count": 28,
     "metadata": {},
     "output_type": "execute_result"
    }
   ],
   "source": [
    "parse_person(card)"
   ]
  },
  {
   "cell_type": "code",
   "execution_count": 29,
   "metadata": {},
   "outputs": [
    {
     "data": {
      "text/html": [
       "<div>\n",
       "<style scoped>\n",
       "    .dataframe tbody tr th:only-of-type {\n",
       "        vertical-align: middle;\n",
       "    }\n",
       "\n",
       "    .dataframe tbody tr th {\n",
       "        vertical-align: top;\n",
       "    }\n",
       "\n",
       "    .dataframe thead th {\n",
       "        text-align: right;\n",
       "    }\n",
       "</style>\n",
       "<table border=\"1\" class=\"dataframe\">\n",
       "  <thead>\n",
       "    <tr style=\"text-align: right;\">\n",
       "      <th></th>\n",
       "      <th>name</th>\n",
       "      <th>quote</th>\n",
       "      <th>email</th>\n",
       "      <th>phone</th>\n",
       "      <th>address</th>\n",
       "    </tr>\n",
       "  </thead>\n",
       "  <tbody>\n",
       "    <tr>\n",
       "      <th>0</th>\n",
       "      <td>Andrew Moore</td>\n",
       "      <td>\"Down-sized object-oriented moderator\"</td>\n",
       "      <td>zroberts@wiley.net</td>\n",
       "      <td>001-098-027-7795x94100</td>\n",
       "      <td>38041 Dawson ShoalsRiveraton, NH 41221</td>\n",
       "    </tr>\n",
       "    <tr>\n",
       "      <th>1</th>\n",
       "      <td>Ashley Robinson</td>\n",
       "      <td>\"De-engineered object-oriented process improve...</td>\n",
       "      <td>alexandra50@hotmail.com</td>\n",
       "      <td>250.734.4739x5861</td>\n",
       "      <td>5194 Timothy Path Apt. 254Mccallhaven, MO 71865</td>\n",
       "    </tr>\n",
       "    <tr>\n",
       "      <th>2</th>\n",
       "      <td>Casey Lawrence</td>\n",
       "      <td>\"Re-contextualized disintermediate application\"</td>\n",
       "      <td>kwalker@parsons.com</td>\n",
       "      <td>438.773.8967</td>\n",
       "      <td>73062 Ross Lakes Suite 322Lindseyhaven, SC 89183</td>\n",
       "    </tr>\n",
       "    <tr>\n",
       "      <th>3</th>\n",
       "      <td>Tammy Burnett</td>\n",
       "      <td>\"Synergistic client-driven installation\"</td>\n",
       "      <td>wrightmelanie@hotmail.com</td>\n",
       "      <td>5718147101</td>\n",
       "      <td>558 Bauer ViaSouth Dianeshire, CA 44238</td>\n",
       "    </tr>\n",
       "    <tr>\n",
       "      <th>4</th>\n",
       "      <td>Charles Farmer</td>\n",
       "      <td>\"Enterprise-wide eco-centric migration\"</td>\n",
       "      <td>zwells@sanders.com</td>\n",
       "      <td>+1-325-027-4192</td>\n",
       "      <td>34829 Jamie TraceSouth Justin, SC 70782</td>\n",
       "    </tr>\n",
       "    <tr>\n",
       "      <th>5</th>\n",
       "      <td>Heather Lynch</td>\n",
       "      <td>\"Re-contextualized cohesive forecast\"</td>\n",
       "      <td>rgarcia@yahoo.com</td>\n",
       "      <td>9627196987</td>\n",
       "      <td>72877 Frost SpringShawnmouth, DE 18056</td>\n",
       "    </tr>\n",
       "    <tr>\n",
       "      <th>6</th>\n",
       "      <td>Mary Peterson</td>\n",
       "      <td>\"Customizable 4thgeneration throughput\"</td>\n",
       "      <td>jennifercuevas@collier-hogan.com</td>\n",
       "      <td>(657)582-0996x02985</td>\n",
       "      <td>7786 Brandon LandingEast Jennifer, IN 19540</td>\n",
       "    </tr>\n",
       "    <tr>\n",
       "      <th>7</th>\n",
       "      <td>Linda Murray</td>\n",
       "      <td>\"De-engineered bandwidth-monitored installation\"</td>\n",
       "      <td>romanmarcus@gmail.com</td>\n",
       "      <td>857.989.0351x4733</td>\n",
       "      <td>18799 Schroeder LocksPort Paula, OK 55336</td>\n",
       "    </tr>\n",
       "    <tr>\n",
       "      <th>8</th>\n",
       "      <td>Erica Rogers</td>\n",
       "      <td>\"Stand-alone maximized algorithm\"</td>\n",
       "      <td>nicolelittle@hotmail.com</td>\n",
       "      <td>(648)719-4877</td>\n",
       "      <td>34992 Matthew Center Suite 080Kelleyfurt, OR 8...</td>\n",
       "    </tr>\n",
       "    <tr>\n",
       "      <th>9</th>\n",
       "      <td>Jeremy Lee</td>\n",
       "      <td>\"Enhanced 24hour Local Area Network\"</td>\n",
       "      <td>mclark@west.org</td>\n",
       "      <td>556-220-0114x86437</td>\n",
       "      <td>802 Benjamin PortStephanieberg, KY 59602</td>\n",
       "    </tr>\n",
       "  </tbody>\n",
       "</table>\n",
       "</div>"
      ],
      "text/plain": [
       "              name                                              quote  \\\n",
       "0     Andrew Moore             \"Down-sized object-oriented moderator\"   \n",
       "1  Ashley Robinson  \"De-engineered object-oriented process improve...   \n",
       "2   Casey Lawrence    \"Re-contextualized disintermediate application\"   \n",
       "3    Tammy Burnett           \"Synergistic client-driven installation\"   \n",
       "4   Charles Farmer            \"Enterprise-wide eco-centric migration\"   \n",
       "5    Heather Lynch              \"Re-contextualized cohesive forecast\"   \n",
       "6    Mary Peterson            \"Customizable 4thgeneration throughput\"   \n",
       "7     Linda Murray   \"De-engineered bandwidth-monitored installation\"   \n",
       "8     Erica Rogers                  \"Stand-alone maximized algorithm\"   \n",
       "9       Jeremy Lee               \"Enhanced 24hour Local Area Network\"   \n",
       "\n",
       "                              email                   phone  \\\n",
       "0                zroberts@wiley.net  001-098-027-7795x94100   \n",
       "1           alexandra50@hotmail.com       250.734.4739x5861   \n",
       "2               kwalker@parsons.com            438.773.8967   \n",
       "3         wrightmelanie@hotmail.com              5718147101   \n",
       "4                zwells@sanders.com         +1-325-027-4192   \n",
       "5                 rgarcia@yahoo.com              9627196987   \n",
       "6  jennifercuevas@collier-hogan.com     (657)582-0996x02985   \n",
       "7             romanmarcus@gmail.com       857.989.0351x4733   \n",
       "8          nicolelittle@hotmail.com           (648)719-4877   \n",
       "9                   mclark@west.org      556-220-0114x86437   \n",
       "\n",
       "                                             address  \n",
       "0             38041 Dawson ShoalsRiveraton, NH 41221  \n",
       "1    5194 Timothy Path Apt. 254Mccallhaven, MO 71865  \n",
       "2   73062 Ross Lakes Suite 322Lindseyhaven, SC 89183  \n",
       "3            558 Bauer ViaSouth Dianeshire, CA 44238  \n",
       "4            34829 Jamie TraceSouth Justin, SC 70782  \n",
       "5             72877 Frost SpringShawnmouth, DE 18056  \n",
       "6        7786 Brandon LandingEast Jennifer, IN 19540  \n",
       "7          18799 Schroeder LocksPort Paula, OK 55336  \n",
       "8  34992 Matthew Center Suite 080Kelleyfurt, OR 8...  \n",
       "9           802 Benjamin PortStephanieberg, KY 59602  "
      ]
     },
     "execution_count": 29,
     "metadata": {},
     "output_type": "execute_result"
    }
   ],
   "source": [
    "# loop through all the persons\n",
    "pd.DataFrame([parse_person(card) for card in cards])"
   ]
  },
  {
   "cell_type": "markdown",
   "metadata": {},
   "source": [
    "## Web Scraping Etiquitte\n",
    "\n",
    "- respect the `robots.txt` file if present\n",
    "\n",
    "    * [Wikipedia: Robots exclusion standard](https://en.wikipedia.org/wiki/Robots_exclusion_standard)\n",
    "    * [robotstxt.org](http://www.robotstxt.org/robotstxt.html)\n",
    "    * [codeup's robots.txt](https://codeup.com/robots.txt)\n",
    "\n",
    "- use a descriptive user agent\n",
    "\n",
    "    ```python\n",
    "    requests.get('http://example.com', headers={'user-agent': 'codeup data science germain cohort'})\n",
    "    ```"
   ]
  },
  {
   "cell_type": "markdown",
   "metadata": {},
   "source": [
    "## Exercises\n",
    "\n",
    "#### Codeup Blog Articles\n",
    "\n",
    "Visit Codeup's Blog(http://codeup.com/blog/) and record the urls for at least 5 distinct blog posts. For each post, you should scrape at least the post's title and content.\n",
    "\n",
    "Encapsulate your work in a function named get_blog_articles that will return a list of dictionaries, with each dictionary representing one article. The shape of each dictionary should look like this:"
   ]
  },
  {
   "cell_type": "code",
   "execution_count": 30,
   "metadata": {},
   "outputs": [],
   "source": [
    "response = requests.get('https://codeup.com/blog/', headers={'user-agent': 'Codeup DS Hopper'})\n",
    "soup = BeautifulSoup(response.text)"
   ]
  },
  {
   "cell_type": "code",
   "execution_count": 31,
   "metadata": {},
   "outputs": [],
   "source": [
    "# print(codeup.prettify)"
   ]
  },
  {
   "cell_type": "code",
   "execution_count": 32,
   "metadata": {},
   "outputs": [],
   "source": [
    "# <h2 class=\"entry-title\"><a href=\"https://codeup.com/codeup-news/codeup-start-dates-for-march-2022/\">Codeup Start Dates for March 2022</a></h2>"
   ]
  },
  {
   "cell_type": "code",
   "execution_count": 33,
   "metadata": {},
   "outputs": [
    {
     "data": {
      "text/plain": [
       "[<h2 class=\"entry-title\"><a href=\"https://codeup.com/codeup-news/codeup-start-dates-for-march-2022/\">Codeup Start Dates for March 2022</a></h2>,\n",
       " <h2 class=\"entry-title\"><a href=\"https://codeup.com/codeup-news/vet-tec-funding-dallas/\">VET TEC Funding Now Available For Dallas Veterans</a></h2>,\n",
       " <h2 class=\"entry-title\"><a href=\"https://codeup.com/codeup-news/dallas-campus-re-opens-with-new-grant-partner/\">Dallas Campus Re-opens With New Grant Partner</a></h2>,\n",
       " <h2 class=\"entry-title\"><a href=\"https://codeup.com/dallas-newsletter/codeup-dallas-open-house/\">Codeup Dallas Open House</a></h2>,\n",
       " <h2 class=\"entry-title\"><a href=\"https://codeup.com/codeup-news/codeups-placement-team-continues-setting-records/\">Codeup’s Placement Team Continues Setting Records</a></h2>,\n",
       " <h2 class=\"entry-title\"><a href=\"https://codeup.com/it-training/it-certifications-101/\">IT Certifications 101: Why They Matter, and Why They Don’t</a></h2>,\n",
       " <h2 class=\"entry-title\"><a href=\"https://codeup.com/cybersecurity/a-rise-in-cyber-attacks-means-opportunities-for-veterans-in-san-antonio/\">A rise in cyber attacks means opportunities for veterans in San Antonio</a></h2>,\n",
       " <h2 class=\"entry-title\"><a href=\"https://codeup.com/codeup-news/use-your-gi-bill-benefits-to-land-a-job-in-tech/\">Use your GI Bill® benefits to Land a Job in Tech</a></h2>,\n",
       " <h2 class=\"entry-title\"><a href=\"https://codeup.com/tips-for-prospective-students/which-program-is-right-for-me-cyber-security-or-systems-engineering/\">Which program is right for me: Cyber Security or Systems Engineering?</a></h2>,\n",
       " <h2 class=\"entry-title\"><a href=\"https://codeup.com/it-training/what-the-heck-is-system-engineering/\">What the Heck is System Engineering?</a></h2>,\n",
       " <h2 class=\"entry-title\"><a href=\"https://codeup.com/alumni-stories/from-speech-pathology-to-business-intelligence/\">From Speech Pathology to Business Intelligence</a></h2>,\n",
       " <h2 class=\"entry-title\"><a href=\"https://codeup.com/behind-the-billboards/boris-behind-the-billboards/\">Boris – Behind the Billboards</a></h2>,\n",
       " <h2 class=\"entry-title\"><a href=\"https://codeup.com/codeup-news/is-codeup-the-best-bootcamp-in-san-antonio-or-the-world/\">Is Codeup the Best Bootcamp in San Antonio…or the World?</a></h2>,\n",
       " <h2 class=\"entry-title\"><a href=\"https://codeup.com/codeup-news/codeup-launches-first-podcast-hire-tech/\">Codeup Launches First Podcast: Hire Tech</a></h2>,\n",
       " <h2 class=\"entry-title\"><a href=\"https://codeup.com/tips-for-prospective-students/why-should-i-become-a-system-administrator/\">Why Should I Become a System Administrator?</a></h2>,\n",
       " <h2 class=\"entry-title\"><a href=\"https://codeup.com/codeup-news/codeup-candidate-for-accreditation/\">Announcing our Candidacy for Accreditation!</a></h2>,\n",
       " <h2 class=\"entry-title\"><a href=\"https://codeup.com/codeup-news/codeup-takes-over-more-of-the-historic-vogue-building/\">Codeup Takes Over More of the Historic Vogue Building</a></h2>,\n",
       " <h2 class=\"entry-title\"><a href=\"https://codeup.com/codeup-news/inclusion-at-codeup-during-pride-month-and-always/\">Inclusion at Codeup During Pride Month (and Always)</a></h2>]"
      ]
     },
     "execution_count": 33,
     "metadata": {},
     "output_type": "execute_result"
    }
   ],
   "source": [
    "articles = soup.find_all('h2', class_ = 'entry-title')\n",
    "articles"
   ]
  },
  {
   "cell_type": "code",
   "execution_count": 34,
   "metadata": {},
   "outputs": [
    {
     "data": {
      "text/plain": [
       "<h2 class=\"entry-title\"><a href=\"https://codeup.com/codeup-news/codeup-start-dates-for-march-2022/\">Codeup Start Dates for March 2022</a></h2>"
      ]
     },
     "execution_count": 34,
     "metadata": {},
     "output_type": "execute_result"
    }
   ],
   "source": [
    "articles[0]"
   ]
  },
  {
   "cell_type": "code",
   "execution_count": 35,
   "metadata": {},
   "outputs": [
    {
     "data": {
      "text/plain": [
       "<h2 class=\"entry-title\"><a href=\"https://codeup.com/codeup-news/codeup-start-dates-for-march-2022/\">Codeup Start Dates for March 2022</a></h2>"
      ]
     },
     "execution_count": 35,
     "metadata": {},
     "output_type": "execute_result"
    }
   ],
   "source": [
    "article = articles[0]\n",
    "article"
   ]
  },
  {
   "cell_type": "code",
   "execution_count": 36,
   "metadata": {},
   "outputs": [
    {
     "data": {
      "text/plain": [
       "'Codeup Start Dates for March 2022'"
      ]
     },
     "execution_count": 36,
     "metadata": {},
     "output_type": "execute_result"
    }
   ],
   "source": [
    "title = article.text\n",
    "title"
   ]
  },
  {
   "cell_type": "code",
   "execution_count": 37,
   "metadata": {
    "scrolled": true
   },
   "outputs": [
    {
     "data": {
      "text/plain": [
       "<h2 class=\"entry-title\"><a href=\"https://codeup.com/codeup-news/codeup-start-dates-for-march-2022/\">Codeup Start Dates for March 2022</a></h2>"
      ]
     },
     "execution_count": 37,
     "metadata": {},
     "output_type": "execute_result"
    }
   ],
   "source": [
    "article"
   ]
  },
  {
   "cell_type": "code",
   "execution_count": 38,
   "metadata": {},
   "outputs": [
    {
     "data": {
      "text/plain": [
       "'https://codeup.com/codeup-news/codeup-start-dates-for-march-2022/'"
      ]
     },
     "execution_count": 38,
     "metadata": {},
     "output_type": "execute_result"
    }
   ],
   "source": [
    "link = article.a.attrs['href']\n",
    "link"
   ]
  },
  {
   "cell_type": "code",
   "execution_count": 39,
   "metadata": {},
   "outputs": [],
   "source": [
    "def get_links():\n",
    "    link_list = []\n",
    "    response = requests.get('https://codeup.com/blog/', headers={'user-agent': 'Codeup DS Hopper'})\n",
    "    soup = BeautifulSoup(response.text)\n",
    "    articles = soup.find_all('h2', class_ = 'entry-title')\n",
    "    for article in articles:\n",
    "        link = article.a.attrs['href']\n",
    "        link_list.append(link)\n",
    "    return link_list"
   ]
  },
  {
   "cell_type": "code",
   "execution_count": 40,
   "metadata": {},
   "outputs": [],
   "source": [
    "def get_link(article):\n",
    "    link = article.a.attrs['href']\n",
    "    return link"
   ]
  },
  {
   "cell_type": "code",
   "execution_count": 41,
   "metadata": {},
   "outputs": [
    {
     "data": {
      "text/plain": [
       "'https://codeup.com/codeup-news/codeup-start-dates-for-march-2022/'"
      ]
     },
     "execution_count": 41,
     "metadata": {},
     "output_type": "execute_result"
    }
   ],
   "source": [
    "get_link(article)"
   ]
  },
  {
   "cell_type": "code",
   "execution_count": 42,
   "metadata": {},
   "outputs": [
    {
     "data": {
      "text/plain": [
       "['https://codeup.com/codeup-news/codeup-start-dates-for-march-2022/',\n",
       " 'https://codeup.com/codeup-news/vet-tec-funding-dallas/',\n",
       " 'https://codeup.com/codeup-news/dallas-campus-re-opens-with-new-grant-partner/',\n",
       " 'https://codeup.com/dallas-newsletter/codeup-dallas-open-house/',\n",
       " 'https://codeup.com/codeup-news/codeups-placement-team-continues-setting-records/',\n",
       " 'https://codeup.com/it-training/it-certifications-101/',\n",
       " 'https://codeup.com/cybersecurity/a-rise-in-cyber-attacks-means-opportunities-for-veterans-in-san-antonio/',\n",
       " 'https://codeup.com/codeup-news/use-your-gi-bill-benefits-to-land-a-job-in-tech/',\n",
       " 'https://codeup.com/tips-for-prospective-students/which-program-is-right-for-me-cyber-security-or-systems-engineering/',\n",
       " 'https://codeup.com/it-training/what-the-heck-is-system-engineering/',\n",
       " 'https://codeup.com/alumni-stories/from-speech-pathology-to-business-intelligence/',\n",
       " 'https://codeup.com/behind-the-billboards/boris-behind-the-billboards/',\n",
       " 'https://codeup.com/codeup-news/is-codeup-the-best-bootcamp-in-san-antonio-or-the-world/',\n",
       " 'https://codeup.com/codeup-news/codeup-launches-first-podcast-hire-tech/',\n",
       " 'https://codeup.com/tips-for-prospective-students/why-should-i-become-a-system-administrator/',\n",
       " 'https://codeup.com/codeup-news/codeup-candidate-for-accreditation/',\n",
       " 'https://codeup.com/codeup-news/codeup-takes-over-more-of-the-historic-vogue-building/',\n",
       " 'https://codeup.com/codeup-news/inclusion-at-codeup-during-pride-month-and-always/']"
      ]
     },
     "execution_count": 42,
     "metadata": {},
     "output_type": "execute_result"
    }
   ],
   "source": [
    "temp_list = get_links()\n",
    "temp_list"
   ]
  },
  {
   "cell_type": "code",
   "execution_count": 97,
   "metadata": {},
   "outputs": [],
   "source": [
    "article_response = requests.get(link, headers={'user-agent': 'Codeup DS Hopper'})\n",
    "article_soup = BeautifulSoup(article_response.text)\n",
    "# article_soup"
   ]
  },
  {
   "cell_type": "code",
   "execution_count": 98,
   "metadata": {},
   "outputs": [],
   "source": [
    "article_content = [p.text for p in article_soup.find_all('p')]"
   ]
  },
  {
   "cell_type": "code",
   "execution_count": 99,
   "metadata": {},
   "outputs": [
    {
     "data": {
      "text/plain": [
       "['Jan 26, 2022 | Codeup News',\n",
       " 'As we approach the end of January we wanted to look forward to our next start dates for all of our current programs.',\n",
       " 'Full Stack Web Development is the first program we built and also our most popular. You’ve asked and we listened! Our next Web Development cohort will start on 3/7/2022 and is ENTIRELY VIRTUAL! THESE SEATS WILL GO FAST!',\n",
       " 'As one of the most in-demand jobs in the country, software and web development is the tech career with the newest jobs. In the U.S., there’s:',\n",
       " '\\xa0',\n",
       " 'Our first new Data Science class of 2022 starts Monday 3/22/2022 at our downtown campus at the Vogue building.',\n",
       " 'Why consider pivoting careers to Data Science?',\n",
       " 'The supply of data scientists remains painfully low compared to the outrageous demand. YOU can help close the gap while launching a fulfilling, secure, and high-paying career – one of the very best in the country!',\n",
       " 'Employers are scrambling to find talent due to a lack of qualified applicants. YOU can help fill the gap while future-proofing your skillset. Have the flexibility, security, and salary that you’ve always wanted in a career.',\n",
       " 'Are you ready to launch your career in tech? Apply today so our admissions team can save your seat and get your name on the list. Our application can be found here.\\xa0',\n",
       " 'Want to experience Codeup early? Join one of our workshops to get an intro to a specific coding language, learn about our financing options, or maybe even code yourself a resume! All of our events can be located here.\\xa0',\n",
       " 'We can’t wait to help you launch your career in tech!',\n",
       " '',\n",
       " '',\n",
       " '',\n",
       " 'Submit your email address to gain access to more information about our programs, financial aid, and benefits. We may even send you some free swag!',\n",
       " '(210) 802–7289',\n",
       " 'Why Codeup? Financial Aid Options Student Reviews Employers Refund PolicyFAQsCareersMedia Kit',\n",
       " 'Full Stack Web Development Data ScienceIT / Systems Engineering Free Networking Course']"
      ]
     },
     "execution_count": 99,
     "metadata": {},
     "output_type": "execute_result"
    }
   ],
   "source": [
    "article_content"
   ]
  },
  {
   "cell_type": "code",
   "execution_count": 105,
   "metadata": {},
   "outputs": [
    {
     "data": {
      "text/plain": [
       "'Codeup Start Dates for March 2022'"
      ]
     },
     "execution_count": 105,
     "metadata": {},
     "output_type": "execute_result"
    }
   ],
   "source": [
    "article_soup.find('h1',class_='entry-title').text"
   ]
  },
  {
   "cell_type": "code",
   "execution_count": 112,
   "metadata": {},
   "outputs": [
    {
     "data": {
      "text/plain": [
       "'Codeup Start Dates for March 2022'"
      ]
     },
     "execution_count": 112,
     "metadata": {},
     "output_type": "execute_result"
    }
   ],
   "source": [
    "title = article_soup.find('h1',class_='entry-title').text\n",
    "title"
   ]
  },
  {
   "cell_type": "code",
   "execution_count": 106,
   "metadata": {},
   "outputs": [
    {
     "data": {
      "text/plain": [
       "'Jan 26, 2022'"
      ]
     },
     "execution_count": 106,
     "metadata": {},
     "output_type": "execute_result"
    }
   ],
   "source": [
    "article_soup.find('span',class_='published').text"
   ]
  },
  {
   "cell_type": "code",
   "execution_count": 113,
   "metadata": {},
   "outputs": [
    {
     "data": {
      "text/plain": [
       "'Jan 26, 2022'"
      ]
     },
     "execution_count": 113,
     "metadata": {},
     "output_type": "execute_result"
    }
   ],
   "source": [
    "date_published = article_soup.find('span',class_='published').text\n",
    "date_published"
   ]
  },
  {
   "cell_type": "code",
   "execution_count": 111,
   "metadata": {},
   "outputs": [
    {
     "data": {
      "text/plain": [
       "'As we approach the end of January we wanted to look forward to our next start dates for all of our current programs.\\nFull Stack Web Development – 3/7/22\\nFull Stack Web Development is the first program we built and also our most popular. You’ve asked and we listened! Our next Web Development cohort will start on 3/7/2022 and is ENTIRELY VIRTUAL! THESE SEATS WILL GO FAST!\\nAs one of the most in-demand jobs in the country, software and web development is the tech career with the newest jobs. In the U.S., there’s:\\n\\n1.5 million developer jobs*\\n250,000 of them remain open\\na high growth rate of 13%*\\n\\n\\xa0\\nData Science – 3/22/22\\nOur first new Data Science class of 2022 starts Monday 3/22/2022 at our downtown campus at the Vogue building.\\nWhy consider pivoting careers to Data Science?\\n\\n#1 job in America from 2016-2020 (Glassdoor*)\\n650% increase in data science positions since 2012\\nNearly 12 million new jobs between 2019 and 2029\\n31% ten-year growth rate\\n\\nThe supply of data scientists remains painfully low compared to the outrageous demand. YOU can help close the gap while launching a fulfilling, secure, and high-paying career – one of the very best in the country!\\nEmployers are scrambling to find talent due to a lack of qualified applicants. YOU can help fill the gap while future-proofing your skillset. Have the flexibility, security, and salary that you’ve always wanted in a career.\\nAre you ready to launch your career in tech? Apply today so our admissions team can save your seat and get your name on the list. Our application can be found here.\\xa0\\nWant to experience Codeup early? Join one of our workshops to get an intro to a specific coding language, learn about our financing options, or maybe even code yourself a resume! All of our events can be located here.\\xa0\\nWe can’t wait to help you launch your career in tech!'"
      ]
     },
     "execution_count": 111,
     "metadata": {},
     "output_type": "execute_result"
    }
   ],
   "source": [
    "article_soup.find('div',class_='entry-content').text.strip()"
   ]
  },
  {
   "cell_type": "code",
   "execution_count": 114,
   "metadata": {},
   "outputs": [
    {
     "data": {
      "text/plain": [
       "'As we approach the end of January we wanted to look forward to our next start dates for all of our current programs.\\nFull Stack Web Development – 3/7/22\\nFull Stack Web Development is the first program we built and also our most popular. You’ve asked and we listened! Our next Web Development cohort will start on 3/7/2022 and is ENTIRELY VIRTUAL! THESE SEATS WILL GO FAST!\\nAs one of the most in-demand jobs in the country, software and web development is the tech career with the newest jobs. In the U.S., there’s:\\n\\n1.5 million developer jobs*\\n250,000 of them remain open\\na high growth rate of 13%*\\n\\n\\xa0\\nData Science – 3/22/22\\nOur first new Data Science class of 2022 starts Monday 3/22/2022 at our downtown campus at the Vogue building.\\nWhy consider pivoting careers to Data Science?\\n\\n#1 job in America from 2016-2020 (Glassdoor*)\\n650% increase in data science positions since 2012\\nNearly 12 million new jobs between 2019 and 2029\\n31% ten-year growth rate\\n\\nThe supply of data scientists remains painfully low compared to the outrageous demand. YOU can help close the gap while launching a fulfilling, secure, and high-paying career – one of the very best in the country!\\nEmployers are scrambling to find talent due to a lack of qualified applicants. YOU can help fill the gap while future-proofing your skillset. Have the flexibility, security, and salary that you’ve always wanted in a career.\\nAre you ready to launch your career in tech? Apply today so our admissions team can save your seat and get your name on the list. Our application can be found here.\\xa0\\nWant to experience Codeup early? Join one of our workshops to get an intro to a specific coding language, learn about our financing options, or maybe even code yourself a resume! All of our events can be located here.\\xa0\\nWe can’t wait to help you launch your career in tech!'"
      ]
     },
     "execution_count": 114,
     "metadata": {},
     "output_type": "execute_result"
    }
   ],
   "source": [
    "content = article_soup.find('div',class_='entry-content').text.strip()\n",
    "content"
   ]
  },
  {
   "cell_type": "code",
   "execution_count": null,
   "metadata": {},
   "outputs": [],
   "source": []
  },
  {
   "cell_type": "code",
   "execution_count": 46,
   "metadata": {},
   "outputs": [],
   "source": [
    "# # for content:\n",
    "# summaries = soup.find_all('div',class_=\"post-content\")\n",
    "# summaries[0]"
   ]
  },
  {
   "cell_type": "code",
   "execution_count": 47,
   "metadata": {
    "scrolled": true
   },
   "outputs": [],
   "source": [
    "# summary = summaries[0].text.strip()\n",
    "# summary"
   ]
  },
  {
   "cell_type": "code",
   "execution_count": 48,
   "metadata": {},
   "outputs": [],
   "source": [
    "# def get_blog_articles(article):\n",
    "#     response = requests.get('https://codeup.com/blog/', headers={'user-agent': 'Codeup DS Hopper'})\n",
    "#     soup = BeautifulSoup(response.text)\n",
    "#     articles = soup.find_all('h2', class_ = 'entry-title')\n",
    "#     title = article.text\n",
    "#     link = article.a.attrs['href']\n",
    "#     article_response = requests.get(link, headers={'user-agent': 'Codeup DS Hopper'})\n",
    "#     article_soup = BeautifulSoup(article_response.text)\n",
    "#     article_content = [p.text for p in article_soup.find_all('p')]\n",
    "\n",
    "#     return {\n",
    "#         'title': title, 'article_content': article_content\n",
    "#     }\n",
    "\n",
    "\n",
    "# codeup_blog_posts = pd.DataFrame([get_blog_articles(article) for article in articles])\n",
    "\n",
    "\n",
    "\n",
    "### this was the original, working function i created before making it more \n",
    "### complicated with the link function and writing to json\n"
   ]
  },
  {
   "cell_type": "code",
   "execution_count": 118,
   "metadata": {},
   "outputs": [],
   "source": [
    "# tinker in this cell but not the next\n",
    "\n",
    "def get_blog_articles():\n",
    "    filename = 'codeup_blog_articles.json'\n",
    "    if os.path.isfile(filename):\n",
    "        return pd.read_json(filename)\n",
    "    \n",
    "    else:\n",
    "        article_list=[]\n",
    "        response = requests.get('https://codeup.com/blog/', headers={'user-agent': 'Codeup DS Hopper'})\n",
    "        soup = BeautifulSoup(response.text)\n",
    "        articles = soup.find_all('h2', class_ = 'entry-title')\n",
    "        for article in articles:\n",
    "            link = get_link(article)\n",
    "            article_response = requests.get(link, headers={'user-agent': 'Codeup DS Hopper'})\n",
    "            article_soup = BeautifulSoup(article_response.text)\n",
    "            title = article_soup.find('h1',class_='entry-title').text\n",
    "            date_published = article_soup.find('span',class_='published').text\n",
    "            article_content = article_soup.find('div',class_='entry-content').text.strip()\n",
    "\n",
    "            article = {\n",
    "                'title': title, \n",
    "                'date_published': date_published,\n",
    "                'article_content': article_content\n",
    "            }\n",
    "            article_list.append(article)\n",
    "        df = pd.DataFrame(article_list)\n",
    "        df.to_json('codeup_blog_articles.json')\n",
    "    return df\n",
    "\n",
    "\n",
    "# this is the CURRENT, FUNCTIONING iteration of the function\n"
   ]
  },
  {
   "cell_type": "code",
   "execution_count": 121,
   "metadata": {},
   "outputs": [],
   "source": [
    "# def get_blog_articles():\n",
    "#     filename = 'codeup_blog_articles.json'\n",
    "#     if os.path.isfile(filename):\n",
    "#         return pd.read_json(filename)\n",
    "    \n",
    "#     else:\n",
    "#         article_list=[]\n",
    "#         response = requests.get('https://codeup.com/blog/', headers={'user-agent': 'Codeup DS Hopper'})\n",
    "#         soup = BeautifulSoup(response.text)\n",
    "#         articles = soup.find_all('h2', class_ = 'entry-title')\n",
    "#         for article in articles:\n",
    "#             title = article.text\n",
    "#             link = get_link(article)\n",
    "#             article_response = requests.get(link, headers={'user-agent': 'Codeup DS Hopper'})\n",
    "#             article_soup = BeautifulSoup(article_response.text)\n",
    "#             article_content = [p.text for p in article_soup.find_all('p')]\n",
    "\n",
    "#             article = {\n",
    "#                 'title': title, 'article_content': article_content\n",
    "#             }\n",
    "#             article_list.append(article)\n",
    "#         df = pd.DataFrame(article_list)\n",
    "#         df.to_json('codeup_blog_articles.json')\n",
    "#     return df\n",
    "\n",
    "\n",
    "# # this was the PREVIOUS iteration"
   ]
  },
  {
   "cell_type": "code",
   "execution_count": 120,
   "metadata": {},
   "outputs": [
    {
     "data": {
      "text/html": [
       "<div>\n",
       "<style scoped>\n",
       "    .dataframe tbody tr th:only-of-type {\n",
       "        vertical-align: middle;\n",
       "    }\n",
       "\n",
       "    .dataframe tbody tr th {\n",
       "        vertical-align: top;\n",
       "    }\n",
       "\n",
       "    .dataframe thead th {\n",
       "        text-align: right;\n",
       "    }\n",
       "</style>\n",
       "<table border=\"1\" class=\"dataframe\">\n",
       "  <thead>\n",
       "    <tr style=\"text-align: right;\">\n",
       "      <th></th>\n",
       "      <th>title</th>\n",
       "      <th>date_published</th>\n",
       "      <th>article_content</th>\n",
       "    </tr>\n",
       "  </thead>\n",
       "  <tbody>\n",
       "    <tr>\n",
       "      <th>0</th>\n",
       "      <td>Codeup Start Dates for March 2022</td>\n",
       "      <td>Jan 26, 2022</td>\n",
       "      <td>As we approach the end of January we wanted to...</td>\n",
       "    </tr>\n",
       "    <tr>\n",
       "      <th>1</th>\n",
       "      <td>VET TEC Funding Now Available For Dallas Veterans</td>\n",
       "      <td>Jan 7, 2022</td>\n",
       "      <td>We are so happy to announce that VET TEC benef...</td>\n",
       "    </tr>\n",
       "    <tr>\n",
       "      <th>2</th>\n",
       "      <td>Dallas Campus Re-opens With New Grant Partner</td>\n",
       "      <td>Dec 30, 2021</td>\n",
       "      <td>We are happy to announce that our Dallas campu...</td>\n",
       "    </tr>\n",
       "    <tr>\n",
       "      <th>3</th>\n",
       "      <td>Codeup Dallas Open House</td>\n",
       "      <td>Nov 30, 2021</td>\n",
       "      <td>Come join us for the re-opening of our Dallas ...</td>\n",
       "    </tr>\n",
       "    <tr>\n",
       "      <th>4</th>\n",
       "      <td>Codeup’s Placement Team Continues Setting Records</td>\n",
       "      <td>Nov 19, 2021</td>\n",
       "      <td>Our Placement Team is simply defined as a grou...</td>\n",
       "    </tr>\n",
       "    <tr>\n",
       "      <th>5</th>\n",
       "      <td>IT Certifications 101: Why They Matter, and Wh...</td>\n",
       "      <td>Nov 18, 2021</td>\n",
       "      <td>AWS, Google, Azure, Red Hat, CompTIA…these are...</td>\n",
       "    </tr>\n",
       "    <tr>\n",
       "      <th>6</th>\n",
       "      <td>A rise in cyber attacks means opportunities fo...</td>\n",
       "      <td>Nov 17, 2021</td>\n",
       "      <td>In the last few months, the US has experienced...</td>\n",
       "    </tr>\n",
       "    <tr>\n",
       "      <th>7</th>\n",
       "      <td>Use your GI Bill® benefits to Land a Job in Tech</td>\n",
       "      <td>Nov 4, 2021</td>\n",
       "      <td>As the end of military service gets closer, ma...</td>\n",
       "    </tr>\n",
       "    <tr>\n",
       "      <th>8</th>\n",
       "      <td>Which program is right for me: Cyber Security ...</td>\n",
       "      <td>Oct 28, 2021</td>\n",
       "      <td>What IT Career should I choose?\\nIf you’re thi...</td>\n",
       "    </tr>\n",
       "    <tr>\n",
       "      <th>9</th>\n",
       "      <td>What the Heck is System Engineering?</td>\n",
       "      <td>Oct 21, 2021</td>\n",
       "      <td>Codeup offers a 13-week training program: Syst...</td>\n",
       "    </tr>\n",
       "    <tr>\n",
       "      <th>10</th>\n",
       "      <td>From Speech Pathology to Business Intelligence</td>\n",
       "      <td>Oct 18, 2021</td>\n",
       "      <td>By: Alicia Gonzalez\\nBefore Codeup, I was a ho...</td>\n",
       "    </tr>\n",
       "    <tr>\n",
       "      <th>11</th>\n",
       "      <td>Boris – Behind the Billboards</td>\n",
       "      <td>Oct 3, 2021</td>\n",
       "      <td></td>\n",
       "    </tr>\n",
       "    <tr>\n",
       "      <th>12</th>\n",
       "      <td>Is Codeup the Best Bootcamp in San Antonio…or ...</td>\n",
       "      <td>Sep 16, 2021</td>\n",
       "      <td>Looking for the best data science bootcamp in ...</td>\n",
       "    </tr>\n",
       "    <tr>\n",
       "      <th>13</th>\n",
       "      <td>Codeup Launches First Podcast: Hire Tech</td>\n",
       "      <td>Aug 25, 2021</td>\n",
       "      <td>Any podcast enthusiasts out there? We are plea...</td>\n",
       "    </tr>\n",
       "    <tr>\n",
       "      <th>14</th>\n",
       "      <td>Why Should I Become a System Administrator?</td>\n",
       "      <td>Aug 23, 2021</td>\n",
       "      <td>With so many tech careers in demand, why choos...</td>\n",
       "    </tr>\n",
       "    <tr>\n",
       "      <th>15</th>\n",
       "      <td>Announcing our Candidacy for Accreditation!</td>\n",
       "      <td>Jun 30, 2021</td>\n",
       "      <td>Did you know that even though we’re an indepen...</td>\n",
       "    </tr>\n",
       "    <tr>\n",
       "      <th>16</th>\n",
       "      <td>Codeup Takes Over More of the Historic Vogue B...</td>\n",
       "      <td>Jun 21, 2021</td>\n",
       "      <td>Codeup is moving into another floor of our His...</td>\n",
       "    </tr>\n",
       "    <tr>\n",
       "      <th>17</th>\n",
       "      <td>Inclusion at Codeup During Pride Month (and Al...</td>\n",
       "      <td>Jun 4, 2021</td>\n",
       "      <td>Happy Pride Month! Pride Month is a dedicated ...</td>\n",
       "    </tr>\n",
       "  </tbody>\n",
       "</table>\n",
       "</div>"
      ],
      "text/plain": [
       "                                                title date_published  \\\n",
       "0                   Codeup Start Dates for March 2022   Jan 26, 2022   \n",
       "1   VET TEC Funding Now Available For Dallas Veterans    Jan 7, 2022   \n",
       "2       Dallas Campus Re-opens With New Grant Partner   Dec 30, 2021   \n",
       "3                            Codeup Dallas Open House   Nov 30, 2021   \n",
       "4   Codeup’s Placement Team Continues Setting Records   Nov 19, 2021   \n",
       "5   IT Certifications 101: Why They Matter, and Wh...   Nov 18, 2021   \n",
       "6   A rise in cyber attacks means opportunities fo...   Nov 17, 2021   \n",
       "7    Use your GI Bill® benefits to Land a Job in Tech    Nov 4, 2021   \n",
       "8   Which program is right for me: Cyber Security ...   Oct 28, 2021   \n",
       "9                What the Heck is System Engineering?   Oct 21, 2021   \n",
       "10     From Speech Pathology to Business Intelligence   Oct 18, 2021   \n",
       "11                      Boris – Behind the Billboards    Oct 3, 2021   \n",
       "12  Is Codeup the Best Bootcamp in San Antonio…or ...   Sep 16, 2021   \n",
       "13           Codeup Launches First Podcast: Hire Tech   Aug 25, 2021   \n",
       "14        Why Should I Become a System Administrator?   Aug 23, 2021   \n",
       "15        Announcing our Candidacy for Accreditation!   Jun 30, 2021   \n",
       "16  Codeup Takes Over More of the Historic Vogue B...   Jun 21, 2021   \n",
       "17  Inclusion at Codeup During Pride Month (and Al...    Jun 4, 2021   \n",
       "\n",
       "                                      article_content  \n",
       "0   As we approach the end of January we wanted to...  \n",
       "1   We are so happy to announce that VET TEC benef...  \n",
       "2   We are happy to announce that our Dallas campu...  \n",
       "3   Come join us for the re-opening of our Dallas ...  \n",
       "4   Our Placement Team is simply defined as a grou...  \n",
       "5   AWS, Google, Azure, Red Hat, CompTIA…these are...  \n",
       "6   In the last few months, the US has experienced...  \n",
       "7   As the end of military service gets closer, ma...  \n",
       "8   What IT Career should I choose?\\nIf you’re thi...  \n",
       "9   Codeup offers a 13-week training program: Syst...  \n",
       "10  By: Alicia Gonzalez\\nBefore Codeup, I was a ho...  \n",
       "11                                                     \n",
       "12  Looking for the best data science bootcamp in ...  \n",
       "13  Any podcast enthusiasts out there? We are plea...  \n",
       "14  With so many tech careers in demand, why choos...  \n",
       "15  Did you know that even though we’re an indepen...  \n",
       "16  Codeup is moving into another floor of our His...  \n",
       "17  Happy Pride Month! Pride Month is a dedicated ...  "
      ]
     },
     "execution_count": 120,
     "metadata": {},
     "output_type": "execute_result"
    }
   ],
   "source": [
    "codeup_blog_posts = get_blog_articles()\n",
    "codeup_blog_posts"
   ]
  },
  {
   "cell_type": "code",
   "execution_count": 52,
   "metadata": {},
   "outputs": [],
   "source": [
    "# codeup_blog_posts = pd.DataFrame([get_blog_articles(article) for article in articles])\n"
   ]
  },
  {
   "cell_type": "code",
   "execution_count": 53,
   "metadata": {},
   "outputs": [],
   "source": [
    "# codeup_blog_posts = \n",
    "# codeup_blog_posts"
   ]
  },
  {
   "cell_type": "code",
   "execution_count": 54,
   "metadata": {},
   "outputs": [],
   "source": [
    "# codeup_blog_posts.article_content[0]"
   ]
  },
  {
   "cell_type": "markdown",
   "metadata": {},
   "source": [
    "### Cracked it : )"
   ]
  },
  {
   "cell_type": "markdown",
   "metadata": {},
   "source": [
    "# Inshort News Articles\n",
    "\n",
    "We will now be scraping text data from inshorts, a website that provides a brief overview of many different topics.\n",
    "\n",
    "Write a function that scrapes the news articles for the following topics:\n",
    "\n",
    "- Business\n",
    "- Sports\n",
    "- Technology\n",
    "- Entertainment\n",
    "\n",
    "The end product of this should be a function named get_news_articles that returns a list of dictionaries, where each dictionary has this shape:\n",
    "\n",
    "\n",
    "`\n",
    "{\n",
    "    'title': 'The article title',\n",
    "    'content': 'The article content',\n",
    "    'category': 'business' # for example\n",
    "}\n",
    "`"
   ]
  },
  {
   "cell_type": "code",
   "execution_count": 55,
   "metadata": {},
   "outputs": [],
   "source": [
    "# beginning this scraping with just the business section\n",
    "base_url = 'https://inshorts.com/en/read/'\n",
    "response = requests.get(base_url + 'business', headers={'user-agent':'ds_student'})\n",
    "soup = BeautifulSoup(response.text)"
   ]
  },
  {
   "cell_type": "code",
   "execution_count": 56,
   "metadata": {},
   "outputs": [],
   "source": [
    "cards = soup.select('.news-card')"
   ]
  },
  {
   "cell_type": "code",
   "execution_count": 57,
   "metadata": {},
   "outputs": [],
   "source": [
    "card = cards[0]"
   ]
  },
  {
   "cell_type": "code",
   "execution_count": 58,
   "metadata": {},
   "outputs": [],
   "source": [
    "title = card.find('span',itemprop='headline').text"
   ]
  },
  {
   "cell_type": "code",
   "execution_count": 59,
   "metadata": {},
   "outputs": [
    {
     "data": {
      "text/plain": [
       "'RBI cancels licence of Maha-based Independence Co-operative Bank'"
      ]
     },
     "execution_count": 59,
     "metadata": {},
     "output_type": "execute_result"
    }
   ],
   "source": [
    "title"
   ]
  },
  {
   "cell_type": "code",
   "execution_count": 60,
   "metadata": {},
   "outputs": [
    {
     "data": {
      "text/plain": [
       "'Shalini Ojha'"
      ]
     },
     "execution_count": 60,
     "metadata": {},
     "output_type": "execute_result"
    }
   ],
   "source": [
    "card.find('span', class_=\"author\").text"
   ]
  },
  {
   "cell_type": "code",
   "execution_count": 61,
   "metadata": {},
   "outputs": [
    {
     "data": {
      "text/plain": [
       "'Shalini Ojha'"
      ]
     },
     "execution_count": 61,
     "metadata": {},
     "output_type": "execute_result"
    }
   ],
   "source": [
    "author = card.find('span', class_=\"author\").text\n",
    "author"
   ]
  },
  {
   "cell_type": "code",
   "execution_count": 62,
   "metadata": {},
   "outputs": [
    {
     "data": {
      "text/plain": [
       "\"RBI has cancelled licence of Maharashtra-based Independence Co-operative Bank, citing inadequate capital. It will cease to carry on banking operations from the close of business on February 3. In the present situation, the bank won't be able to pay its depositors in full, RBI said. It added that the bank didn't comply with multiple sections of Banking Regulation Act, 1949. \""
      ]
     },
     "execution_count": 62,
     "metadata": {},
     "output_type": "execute_result"
    }
   ],
   "source": [
    "card.find('div', itemprop=\"articleBody\").text"
   ]
  },
  {
   "cell_type": "code",
   "execution_count": 63,
   "metadata": {},
   "outputs": [
    {
     "data": {
      "text/plain": [
       "\"RBI has cancelled licence of Maharashtra-based Independence Co-operative Bank, citing inadequate capital. It will cease to carry on banking operations from the close of business on February 3. In the present situation, the bank won't be able to pay its depositors in full, RBI said. It added that the bank didn't comply with multiple sections of Banking Regulation Act, 1949. \""
      ]
     },
     "execution_count": 63,
     "metadata": {},
     "output_type": "execute_result"
    }
   ],
   "source": [
    "content = card.find('div', itemprop=\"articleBody\").text\n",
    "content"
   ]
  },
  {
   "cell_type": "code",
   "execution_count": 90,
   "metadata": {},
   "outputs": [],
   "source": [
    "## was trying to arrive at a variable that would be either/or depending on the \n",
    "## (mis)spelling of the 'clas=date' tag\n",
    "# variable = 'clas=\"date\"'\n",
    "# card.find('span',variable.strip()).text"
   ]
  },
  {
   "cell_type": "code",
   "execution_count": 80,
   "metadata": {},
   "outputs": [
    {
     "data": {
      "text/plain": [
       "'03 Feb 2022,Thursday'"
      ]
     },
     "execution_count": 80,
     "metadata": {},
     "output_type": "execute_result"
    }
   ],
   "source": [
    "date_published = card.find('span', clas=\"date\").text\n",
    "date_published"
   ]
  },
  {
   "cell_type": "markdown",
   "metadata": {},
   "source": [
    "#### OK this is looking great, time to build a function for it:"
   ]
  },
  {
   "cell_type": "code",
   "execution_count": 95,
   "metadata": {},
   "outputs": [],
   "source": [
    "def get_news_articles():\n",
    "    filename = 'inshort_news_articles.json'\n",
    "    if os.path.isfile(filename):\n",
    "        return pd.read_json(filename)\n",
    "    else:\n",
    "        base_url = 'https://inshorts.com/en/read/'\n",
    "        sections = [\"business\",\"sports\",\"technology\",\"entertainment\"]\n",
    "        articles = []\n",
    "        for section in sections:\n",
    "            response = requests.get(base_url + section, headers={'user-agent': 'ds_student'})\n",
    "            soup = BeautifulSoup(response.text)\n",
    "            cards = soup.select('.news-card')\n",
    "            for card in cards:\n",
    "                title = card.find('span',itemprop='headline').text\n",
    "                author = card.find('span', class_=\"author\").text\n",
    "                content = card.find('div', itemprop=\"articleBody\").text\n",
    "                date_published = card.find('span', clas=\"date\").text\n",
    "                article = ({'section': section, \n",
    "                            'title': title, \n",
    "                            'author': author, \n",
    "                            'content': content,\n",
    "                            'date_published': date_published})\n",
    "                articles.append(article)\n",
    "        df = pd.DataFrame(articles)\n",
    "        df.to_json('inshort_news_articles.json')\n",
    "    return df"
   ]
  },
  {
   "cell_type": "markdown",
   "metadata": {},
   "source": [
    "### Consider passing a 'caching' argument so that you can bypass the existing json if you need to (without having to delete it in the directory)"
   ]
  },
  {
   "cell_type": "code",
   "execution_count": 96,
   "metadata": {},
   "outputs": [
    {
     "data": {
      "text/html": [
       "<div>\n",
       "<style scoped>\n",
       "    .dataframe tbody tr th:only-of-type {\n",
       "        vertical-align: middle;\n",
       "    }\n",
       "\n",
       "    .dataframe tbody tr th {\n",
       "        vertical-align: top;\n",
       "    }\n",
       "\n",
       "    .dataframe thead th {\n",
       "        text-align: right;\n",
       "    }\n",
       "</style>\n",
       "<table border=\"1\" class=\"dataframe\">\n",
       "  <thead>\n",
       "    <tr style=\"text-align: right;\">\n",
       "      <th></th>\n",
       "      <th>section</th>\n",
       "      <th>title</th>\n",
       "      <th>author</th>\n",
       "      <th>content</th>\n",
       "      <th>date_published</th>\n",
       "    </tr>\n",
       "  </thead>\n",
       "  <tbody>\n",
       "    <tr>\n",
       "      <th>0</th>\n",
       "      <td>business</td>\n",
       "      <td>RBI cancels licence of Maha-based Independence...</td>\n",
       "      <td>Shalini Ojha</td>\n",
       "      <td>RBI has cancelled licence of Maharashtra-based...</td>\n",
       "      <td>03 Feb 2022,Thursday</td>\n",
       "    </tr>\n",
       "    <tr>\n",
       "      <th>1</th>\n",
       "      <td>business</td>\n",
       "      <td>Boost to EVs a big step: Windmill Capital</td>\n",
       "      <td>Roshan Gupta</td>\n",
       "      <td>Increased use of EVs in public transport, spec...</td>\n",
       "      <td>03 Feb 2022,Thursday</td>\n",
       "    </tr>\n",
       "    <tr>\n",
       "      <th>2</th>\n",
       "      <td>business</td>\n",
       "      <td>Tesla co-worker used N-word, threw a hot tool ...</td>\n",
       "      <td>Kiran Khatri</td>\n",
       "      <td>A former Tesla worker has filed a lawsuit agai...</td>\n",
       "      <td>03 Feb 2022,Thursday</td>\n",
       "    </tr>\n",
       "    <tr>\n",
       "      <th>3</th>\n",
       "      <td>business</td>\n",
       "      <td>Mark Zuckerberg risks losing $24 billion wealt...</td>\n",
       "      <td>Kiran Khatri</td>\n",
       "      <td>Mark Zuckerberg risks losing $24 billion from ...</td>\n",
       "      <td>03 Feb 2022,Thursday</td>\n",
       "    </tr>\n",
       "    <tr>\n",
       "      <th>4</th>\n",
       "      <td>business</td>\n",
       "      <td>Why did Facebook's parent company Meta lose $2...</td>\n",
       "      <td>Pragya Swastik</td>\n",
       "      <td>Facebook parent Meta's shares fell over 20% ea...</td>\n",
       "      <td>03 Feb 2022,Thursday</td>\n",
       "    </tr>\n",
       "    <tr>\n",
       "      <th>...</th>\n",
       "      <td>...</td>\n",
       "      <td>...</td>\n",
       "      <td>...</td>\n",
       "      <td>...</td>\n",
       "      <td>...</td>\n",
       "    </tr>\n",
       "    <tr>\n",
       "      <th>94</th>\n",
       "      <td>entertainment</td>\n",
       "      <td>Light candle, pray for me; let's heal together...</td>\n",
       "      <td>Ria Kapoor</td>\n",
       "      <td>Singer Tom Parker who was reportedly diagnosed...</td>\n",
       "      <td>03 Feb 2022,Thursday</td>\n",
       "    </tr>\n",
       "    <tr>\n",
       "      <th>95</th>\n",
       "      <td>entertainment</td>\n",
       "      <td>Tejasswi winning Bigg Boss because of Naagin i...</td>\n",
       "      <td>Kriti Kambiri</td>\n",
       "      <td>Actor Karan Kundrra has said that claims of hi...</td>\n",
       "      <td>03 Feb 2022,Thursday</td>\n",
       "    </tr>\n",
       "    <tr>\n",
       "      <th>96</th>\n",
       "      <td>entertainment</td>\n",
       "      <td>Greatest blessing: Riteish wishes Genelia on 1...</td>\n",
       "      <td>Mahima Kharbanda</td>\n",
       "      <td>Actor Riteish Deshmukh on Thursday marked his ...</td>\n",
       "      <td>03 Feb 2022,Thursday</td>\n",
       "    </tr>\n",
       "    <tr>\n",
       "      <th>97</th>\n",
       "      <td>entertainment</td>\n",
       "      <td>Priyanka to star opposite Anthony Mackie in ac...</td>\n",
       "      <td>Kriti Kambiri</td>\n",
       "      <td>Actress Priyanka Chopra will be starring oppos...</td>\n",
       "      <td>03 Feb 2022,Thursday</td>\n",
       "    </tr>\n",
       "    <tr>\n",
       "      <th>98</th>\n",
       "      <td>entertainment</td>\n",
       "      <td>Cheslie hid her 'high-functioning' depression:...</td>\n",
       "      <td>Ria Kapoor</td>\n",
       "      <td>Miss USA 2019 winner Cheslie Kryst's mother, A...</td>\n",
       "      <td>03 Feb 2022,Thursday</td>\n",
       "    </tr>\n",
       "  </tbody>\n",
       "</table>\n",
       "<p>99 rows × 5 columns</p>\n",
       "</div>"
      ],
      "text/plain": [
       "          section                                              title  \\\n",
       "0        business  RBI cancels licence of Maha-based Independence...   \n",
       "1        business          Boost to EVs a big step: Windmill Capital   \n",
       "2        business  Tesla co-worker used N-word, threw a hot tool ...   \n",
       "3        business  Mark Zuckerberg risks losing $24 billion wealt...   \n",
       "4        business  Why did Facebook's parent company Meta lose $2...   \n",
       "..            ...                                                ...   \n",
       "94  entertainment  Light candle, pray for me; let's heal together...   \n",
       "95  entertainment  Tejasswi winning Bigg Boss because of Naagin i...   \n",
       "96  entertainment  Greatest blessing: Riteish wishes Genelia on 1...   \n",
       "97  entertainment  Priyanka to star opposite Anthony Mackie in ac...   \n",
       "98  entertainment  Cheslie hid her 'high-functioning' depression:...   \n",
       "\n",
       "              author                                            content  \\\n",
       "0       Shalini Ojha  RBI has cancelled licence of Maharashtra-based...   \n",
       "1       Roshan Gupta  Increased use of EVs in public transport, spec...   \n",
       "2       Kiran Khatri  A former Tesla worker has filed a lawsuit agai...   \n",
       "3       Kiran Khatri  Mark Zuckerberg risks losing $24 billion from ...   \n",
       "4     Pragya Swastik  Facebook parent Meta's shares fell over 20% ea...   \n",
       "..               ...                                                ...   \n",
       "94        Ria Kapoor  Singer Tom Parker who was reportedly diagnosed...   \n",
       "95     Kriti Kambiri  Actor Karan Kundrra has said that claims of hi...   \n",
       "96  Mahima Kharbanda  Actor Riteish Deshmukh on Thursday marked his ...   \n",
       "97     Kriti Kambiri  Actress Priyanka Chopra will be starring oppos...   \n",
       "98        Ria Kapoor  Miss USA 2019 winner Cheslie Kryst's mother, A...   \n",
       "\n",
       "          date_published  \n",
       "0   03 Feb 2022,Thursday  \n",
       "1   03 Feb 2022,Thursday  \n",
       "2   03 Feb 2022,Thursday  \n",
       "3   03 Feb 2022,Thursday  \n",
       "4   03 Feb 2022,Thursday  \n",
       "..                   ...  \n",
       "94  03 Feb 2022,Thursday  \n",
       "95  03 Feb 2022,Thursday  \n",
       "96  03 Feb 2022,Thursday  \n",
       "97  03 Feb 2022,Thursday  \n",
       "98  03 Feb 2022,Thursday  \n",
       "\n",
       "[99 rows x 5 columns]"
      ]
     },
     "execution_count": 96,
     "metadata": {},
     "output_type": "execute_result"
    }
   ],
   "source": [
    "inshort_articles = get_news_articles()\n",
    "inshort_articles"
   ]
  },
  {
   "cell_type": "code",
   "execution_count": null,
   "metadata": {},
   "outputs": [],
   "source": []
  }
 ],
 "metadata": {
  "interpreter": {
   "hash": "38cca0c38332a56087b24af0bc80247f4fced29cb4f7f437d91dc159adec9c4e"
  },
  "kernelspec": {
   "display_name": "Python 3",
   "language": "python",
   "name": "python3"
  },
  "language_info": {
   "codemirror_mode": {
    "name": "ipython",
    "version": 3
   },
   "file_extension": ".py",
   "mimetype": "text/x-python",
   "name": "python",
   "nbconvert_exporter": "python",
   "pygments_lexer": "ipython3",
   "version": "3.8.8"
  }
 },
 "nbformat": 4,
 "nbformat_minor": 4
}
